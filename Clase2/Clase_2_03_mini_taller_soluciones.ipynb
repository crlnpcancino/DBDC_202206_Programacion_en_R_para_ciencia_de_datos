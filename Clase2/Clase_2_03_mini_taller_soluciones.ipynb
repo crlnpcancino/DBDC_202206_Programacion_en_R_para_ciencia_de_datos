{
  "nbformat": 4,
  "nbformat_minor": 0,
  "metadata": {
    "colab": {
      "name": "Clase 2_03_mini_taller_soluciones.ipynb",
      "provenance": [],
      "collapsed_sections": [],
      "include_colab_link": true
    },
    "kernelspec": {
      "name": "ir",
      "display_name": "R"
    }
  },
  "cells": [
    {
      "cell_type": "markdown",
      "metadata": {
        "id": "view-in-github",
        "colab_type": "text"
      },
      "source": [
        "<a href=\"https://colab.research.google.com/github/majorquev/DBDC_202206_Programacion_en_R_para_ciencia_de_datos/blob/main/Clase2/Clase_2_03_mini_taller_soluciones.ipynb\" target=\"_parent\"><img src=\"https://colab.research.google.com/assets/colab-badge.svg\" alt=\"Open In Colab\"/></a>"
      ]
    },
    {
      "cell_type": "markdown",
      "metadata": {
        "id": "x-GJ_euMr-qr"
      },
      "source": [
        "#**Mini taller 1**\n",
        "**Autor:** Miguel Jorquera Viguera <br>\n",
        "**E-mail:** majorquev@gmail.com<br>\n",
        "**Ayudante:** Rodrigo Morales<br>\n",
        "**E-mail ayudante:**  rumorale1@gmail.com<br>"
      ]
    },
    {
      "cell_type": "markdown",
      "metadata": {
        "collapsed": true,
        "id": "EZ0yOlnfm5Zb"
      },
      "source": [
        "\n",
        "Los dataframes corresponden a uno de los objetos más utilizados en R para analizar datos tabulares,\n",
        "por lo que se hace necesario en muchos casos realizar consultas a los datos que contiene un dataframe,\n",
        "(filtros, cruces de tablas, creación de columnas, etc). Por ahora veremos una de las formas más \"primitivas\" para la manipulación de un data.frame.\n",
        "\n",
        "Para ello consideremos el siguiente ejercicio.\n",
        "\n",
        "**Paso 1**\n",
        "Mediante la función rnorm(), genere una muestra aleatoria de 100 datos , con media 21 y desviación estándar 8 (más adelante veremos esto con un poco más de detalle), y guárdela en una variable llamada temp.\n",
        "\n"
      ]
    },
    {
      "cell_type": "code",
      "metadata": {
        "trusted": true,
        "id": "9f6cXmN3m5Zc",
        "colab": {
          "base_uri": "https://localhost:8080/",
          "height": 364
        },
        "outputId": "4a39c514-3f82-41cb-a494-8989f17cf620"
      },
      "source": [
        "# 5.3 Mini taller --------\n",
        "# Paso 1\n",
        "temp <- rnorm(n = 100, mean = 21, sd = 8)\n",
        "temp\n"
      ],
      "execution_count": 1,
      "outputs": [
        {
          "output_type": "display_data",
          "data": {
            "text/html": [
              "<style>\n",
              ".list-inline {list-style: none; margin:0; padding: 0}\n",
              ".list-inline>li {display: inline-block}\n",
              ".list-inline>li:not(:last-child)::after {content: \"\\00b7\"; padding: 0 .5ex}\n",
              "</style>\n",
              "<ol class=list-inline><li>35.2134515002211</li><li>14.9773625244962</li><li>13.7231334366554</li><li>15.8261614670897</li><li>26.0535749841009</li><li>22.3286227940394</li><li>24.0933770790735</li><li>21.7857678719366</li><li>17.4644973068083</li><li>10.8487795472888</li><li>26.0666331790696</li><li>22.7199955879831</li><li>17.2795310769089</li><li>31.0039177818902</li><li>18.7691369664135</li><li>25.9392243213373</li><li>2.50161489533156</li><li>16.1887917826625</li><li>14.8413139323609</li><li>14.2693318132968</li><li>9.53601006618064</li><li>29.6848059887384</li><li>3.0442706581807</li><li>19.9374227881585</li><li>11.0832201113712</li><li>19.2402585763693</li><li>27.950699495254</li><li>18.8234161900516</li><li>21.164429450993</li><li>16.2185429598755</li><li>18.6757749851812</li><li>18.3698401847906</li><li>17.775394131555</li><li>20.279361823306</li><li>3.30203874760517</li><li>15.7485237553124</li><li>17.35433687011</li><li>31.2151140527703</li><li>14.1404191286333</li><li>31.386244195461</li><li>14.2514254106034</li><li>27.2978396672536</li><li>14.0903787404058</li><li>19.2507455515231</li><li>24.3996072369174</li><li>15.6528122506309</li><li>10.1741738756586</li><li>17.3389234214932</li><li>17.7414702919973</li><li>24.5982412623355</li><li>20.6337621311936</li><li>25.4966510045732</li><li>24.467096373476</li><li>15.4945894213357</li><li>16.0651789406309</li><li>8.61574048309049</li><li>12.3802067517462</li><li>27.7071258352909</li><li>37.5161068450156</li><li>24.0773275580096</li><li>33.7831487223013</li><li>15.3756898002174</li><li>9.71009347137928</li><li>22.2712265738333</li><li>27.7758146631181</li><li>34.8383447539733</li><li>27.5363934355131</li><li>12.613402990228</li><li>14.332681599026</li><li>26.8920155912892</li><li>5.72050416283152</li><li>26.6617662400498</li><li>2.56782903591264</li><li>16.2371945544904</li><li>28.5505660664602</li><li>25.2513512868882</li><li>14.7863155253497</li><li>31.9590439192821</li><li>17.215663768224</li><li>27.2030872101559</li><li>21.0678321679446</li><li>11.7505454882992</li><li>6.83217288071853</li><li>37.9833980460136</li><li>29.5187932190572</li><li>19.9851793872666</li><li>32.2038690669031</li><li>23.2284426305579</li><li>10.1747993615696</li><li>31.0363847701749</li><li>10.9171186304337</li><li>25.6458183763498</li><li>17.3565684334401</li><li>38.2566223487753</li><li>10.6231720800898</li><li>27.8139469173391</li><li>32.9796340516276</li><li>20.7451063331306</li><li>28.4055281527368</li><li>25.2325378909205</li></ol>\n"
            ],
            "text/markdown": "1. 35.2134515002211\n2. 14.9773625244962\n3. 13.7231334366554\n4. 15.8261614670897\n5. 26.0535749841009\n6. 22.3286227940394\n7. 24.0933770790735\n8. 21.7857678719366\n9. 17.4644973068083\n10. 10.8487795472888\n11. 26.0666331790696\n12. 22.7199955879831\n13. 17.2795310769089\n14. 31.0039177818902\n15. 18.7691369664135\n16. 25.9392243213373\n17. 2.50161489533156\n18. 16.1887917826625\n19. 14.8413139323609\n20. 14.2693318132968\n21. 9.53601006618064\n22. 29.6848059887384\n23. 3.0442706581807\n24. 19.9374227881585\n25. 11.0832201113712\n26. 19.2402585763693\n27. 27.950699495254\n28. 18.8234161900516\n29. 21.164429450993\n30. 16.2185429598755\n31. 18.6757749851812\n32. 18.3698401847906\n33. 17.775394131555\n34. 20.279361823306\n35. 3.30203874760517\n36. 15.7485237553124\n37. 17.35433687011\n38. 31.2151140527703\n39. 14.1404191286333\n40. 31.386244195461\n41. 14.2514254106034\n42. 27.2978396672536\n43. 14.0903787404058\n44. 19.2507455515231\n45. 24.3996072369174\n46. 15.6528122506309\n47. 10.1741738756586\n48. 17.3389234214932\n49. 17.7414702919973\n50. 24.5982412623355\n51. 20.6337621311936\n52. 25.4966510045732\n53. 24.467096373476\n54. 15.4945894213357\n55. 16.0651789406309\n56. 8.61574048309049\n57. 12.3802067517462\n58. 27.7071258352909\n59. 37.5161068450156\n60. 24.0773275580096\n61. 33.7831487223013\n62. 15.3756898002174\n63. 9.71009347137928\n64. 22.2712265738333\n65. 27.7758146631181\n66. 34.8383447539733\n67. 27.5363934355131\n68. 12.613402990228\n69. 14.332681599026\n70. 26.8920155912892\n71. 5.72050416283152\n72. 26.6617662400498\n73. 2.56782903591264\n74. 16.2371945544904\n75. 28.5505660664602\n76. 25.2513512868882\n77. 14.7863155253497\n78. 31.9590439192821\n79. 17.215663768224\n80. 27.2030872101559\n81. 21.0678321679446\n82. 11.7505454882992\n83. 6.83217288071853\n84. 37.9833980460136\n85. 29.5187932190572\n86. 19.9851793872666\n87. 32.2038690669031\n88. 23.2284426305579\n89. 10.1747993615696\n90. 31.0363847701749\n91. 10.9171186304337\n92. 25.6458183763498\n93. 17.3565684334401\n94. 38.2566223487753\n95. 10.6231720800898\n96. 27.8139469173391\n97. 32.9796340516276\n98. 20.7451063331306\n99. 28.4055281527368\n100. 25.2325378909205\n\n\n",
            "text/latex": "\\begin{enumerate*}\n\\item 35.2134515002211\n\\item 14.9773625244962\n\\item 13.7231334366554\n\\item 15.8261614670897\n\\item 26.0535749841009\n\\item 22.3286227940394\n\\item 24.0933770790735\n\\item 21.7857678719366\n\\item 17.4644973068083\n\\item 10.8487795472888\n\\item 26.0666331790696\n\\item 22.7199955879831\n\\item 17.2795310769089\n\\item 31.0039177818902\n\\item 18.7691369664135\n\\item 25.9392243213373\n\\item 2.50161489533156\n\\item 16.1887917826625\n\\item 14.8413139323609\n\\item 14.2693318132968\n\\item 9.53601006618064\n\\item 29.6848059887384\n\\item 3.0442706581807\n\\item 19.9374227881585\n\\item 11.0832201113712\n\\item 19.2402585763693\n\\item 27.950699495254\n\\item 18.8234161900516\n\\item 21.164429450993\n\\item 16.2185429598755\n\\item 18.6757749851812\n\\item 18.3698401847906\n\\item 17.775394131555\n\\item 20.279361823306\n\\item 3.30203874760517\n\\item 15.7485237553124\n\\item 17.35433687011\n\\item 31.2151140527703\n\\item 14.1404191286333\n\\item 31.386244195461\n\\item 14.2514254106034\n\\item 27.2978396672536\n\\item 14.0903787404058\n\\item 19.2507455515231\n\\item 24.3996072369174\n\\item 15.6528122506309\n\\item 10.1741738756586\n\\item 17.3389234214932\n\\item 17.7414702919973\n\\item 24.5982412623355\n\\item 20.6337621311936\n\\item 25.4966510045732\n\\item 24.467096373476\n\\item 15.4945894213357\n\\item 16.0651789406309\n\\item 8.61574048309049\n\\item 12.3802067517462\n\\item 27.7071258352909\n\\item 37.5161068450156\n\\item 24.0773275580096\n\\item 33.7831487223013\n\\item 15.3756898002174\n\\item 9.71009347137928\n\\item 22.2712265738333\n\\item 27.7758146631181\n\\item 34.8383447539733\n\\item 27.5363934355131\n\\item 12.613402990228\n\\item 14.332681599026\n\\item 26.8920155912892\n\\item 5.72050416283152\n\\item 26.6617662400498\n\\item 2.56782903591264\n\\item 16.2371945544904\n\\item 28.5505660664602\n\\item 25.2513512868882\n\\item 14.7863155253497\n\\item 31.9590439192821\n\\item 17.215663768224\n\\item 27.2030872101559\n\\item 21.0678321679446\n\\item 11.7505454882992\n\\item 6.83217288071853\n\\item 37.9833980460136\n\\item 29.5187932190572\n\\item 19.9851793872666\n\\item 32.2038690669031\n\\item 23.2284426305579\n\\item 10.1747993615696\n\\item 31.0363847701749\n\\item 10.9171186304337\n\\item 25.6458183763498\n\\item 17.3565684334401\n\\item 38.2566223487753\n\\item 10.6231720800898\n\\item 27.8139469173391\n\\item 32.9796340516276\n\\item 20.7451063331306\n\\item 28.4055281527368\n\\item 25.2325378909205\n\\end{enumerate*}\n",
            "text/plain": [
              "  [1] 35.213452 14.977363 13.723133 15.826161 26.053575 22.328623 24.093377\n",
              "  [8] 21.785768 17.464497 10.848780 26.066633 22.719996 17.279531 31.003918\n",
              " [15] 18.769137 25.939224  2.501615 16.188792 14.841314 14.269332  9.536010\n",
              " [22] 29.684806  3.044271 19.937423 11.083220 19.240259 27.950699 18.823416\n",
              " [29] 21.164429 16.218543 18.675775 18.369840 17.775394 20.279362  3.302039\n",
              " [36] 15.748524 17.354337 31.215114 14.140419 31.386244 14.251425 27.297840\n",
              " [43] 14.090379 19.250746 24.399607 15.652812 10.174174 17.338923 17.741470\n",
              " [50] 24.598241 20.633762 25.496651 24.467096 15.494589 16.065179  8.615740\n",
              " [57] 12.380207 27.707126 37.516107 24.077328 33.783149 15.375690  9.710093\n",
              " [64] 22.271227 27.775815 34.838345 27.536393 12.613403 14.332682 26.892016\n",
              " [71]  5.720504 26.661766  2.567829 16.237195 28.550566 25.251351 14.786316\n",
              " [78] 31.959044 17.215664 27.203087 21.067832 11.750545  6.832173 37.983398\n",
              " [85] 29.518793 19.985179 32.203869 23.228443 10.174799 31.036385 10.917119\n",
              " [92] 25.645818 17.356568 38.256622 10.623172 27.813947 32.979634 20.745106\n",
              " [99] 28.405528 25.232538"
            ]
          },
          "metadata": {}
        }
      ]
    },
    {
      "cell_type": "code",
      "metadata": {
        "trusted": true,
        "id": "Y6ILF-Szm5Zg"
      },
      "source": [
        "# Dejar como parámetro el largo del vector temp\n",
        "N <- length(temp)"
      ],
      "execution_count": 2,
      "outputs": []
    },
    {
      "cell_type": "markdown",
      "metadata": {
        "id": "C4MEJWjBm5Zi"
      },
      "source": [
        "**Paso 2**\n",
        "\n",
        "Genere un vector llamado _dia_ del mismo largo que que *temp*, que contenga los días consecutivos de la semana, partiendo del lunes. (utilice la función _rep()_ )"
      ]
    },
    {
      "cell_type": "code",
      "metadata": {
        "trusted": true,
        "id": "1PWK1DPXm5Zj",
        "colab": {
          "base_uri": "https://localhost:8080/",
          "height": 34
        },
        "outputId": "a42cf973-0b81-487c-e037-09b05904188b"
      },
      "source": [
        "# Paso 2\n",
        "#dia <- rep(c(\"L\",\"M\",\"W\",\"J\",\"V\",\"S\",\"D\"), 100 ) repite el vector de largo7, 100 veces. Genera un vector resultante de largo 700\n",
        "dia <- rep(c(\"L\",\"M\",\"W\",\"J\",\"V\",\"S\",\"D\"), length.out = N)\n",
        "length(dia)"
      ],
      "execution_count": 6,
      "outputs": [
        {
          "output_type": "display_data",
          "data": {
            "text/html": [
              "100"
            ],
            "text/markdown": "100",
            "text/latex": "100",
            "text/plain": [
              "[1] 100"
            ]
          },
          "metadata": {}
        }
      ]
    },
    {
      "cell_type": "markdown",
      "metadata": {
        "id": "n1n3ptOIm5Zm"
      },
      "source": [
        "**Paso 3**\n",
        "\n",
        "Genere un vector llamado _est_, del mismo largo que _temp_, que en el primer tercio contenga el valor \"E1\", en el segundo tercio \"E2\", y en el tercer tercio \"E3\". Por ejemplo, si _temp_ tuviese 10 datos, el vector _est_ se vería como \n",
        "\n",
        "\n",
        "<center>  _est_ = (E1,E1,E1,E2,E2,E2,E3,E3,E3,E3) </center>"
      ]
    },
    {
      "cell_type": "code",
      "metadata": {
        "trusted": true,
        "id": "eobMVmXxm5Zn",
        "colab": {
          "base_uri": "https://localhost:8080/",
          "height": 121
        },
        "outputId": "1175b65c-4fac-4d34-b6f1-d30ef0b0466c"
      },
      "source": [
        "# Paso 3\n",
        "est <- rep(c(\"E1\",\"E2\",\"E3\"),times = c(33,33,34))\n",
        "est\n",
        "length(est)"
      ],
      "execution_count": 13,
      "outputs": [
        {
          "output_type": "display_data",
          "data": {
            "text/html": [
              "<style>\n",
              ".list-inline {list-style: none; margin:0; padding: 0}\n",
              ".list-inline>li {display: inline-block}\n",
              ".list-inline>li:not(:last-child)::after {content: \"\\00b7\"; padding: 0 .5ex}\n",
              "</style>\n",
              "<ol class=list-inline><li>'E1'</li><li>'E1'</li><li>'E1'</li><li>'E1'</li><li>'E1'</li><li>'E1'</li><li>'E1'</li><li>'E1'</li><li>'E1'</li><li>'E1'</li><li>'E1'</li><li>'E1'</li><li>'E1'</li><li>'E1'</li><li>'E1'</li><li>'E1'</li><li>'E1'</li><li>'E1'</li><li>'E1'</li><li>'E1'</li><li>'E1'</li><li>'E1'</li><li>'E1'</li><li>'E1'</li><li>'E1'</li><li>'E1'</li><li>'E1'</li><li>'E1'</li><li>'E1'</li><li>'E1'</li><li>'E1'</li><li>'E1'</li><li>'E1'</li><li>'E2'</li><li>'E2'</li><li>'E2'</li><li>'E2'</li><li>'E2'</li><li>'E2'</li><li>'E2'</li><li>'E2'</li><li>'E2'</li><li>'E2'</li><li>'E2'</li><li>'E2'</li><li>'E2'</li><li>'E2'</li><li>'E2'</li><li>'E2'</li><li>'E2'</li><li>'E2'</li><li>'E2'</li><li>'E2'</li><li>'E2'</li><li>'E2'</li><li>'E2'</li><li>'E2'</li><li>'E2'</li><li>'E2'</li><li>'E2'</li><li>'E2'</li><li>'E2'</li><li>'E2'</li><li>'E2'</li><li>'E2'</li><li>'E2'</li><li>'E3'</li><li>'E3'</li><li>'E3'</li><li>'E3'</li><li>'E3'</li><li>'E3'</li><li>'E3'</li><li>'E3'</li><li>'E3'</li><li>'E3'</li><li>'E3'</li><li>'E3'</li><li>'E3'</li><li>'E3'</li><li>'E3'</li><li>'E3'</li><li>'E3'</li><li>'E3'</li><li>'E3'</li><li>'E3'</li><li>'E3'</li><li>'E3'</li><li>'E3'</li><li>'E3'</li><li>'E3'</li><li>'E3'</li><li>'E3'</li><li>'E3'</li><li>'E3'</li><li>'E3'</li><li>'E3'</li><li>'E3'</li><li>'E3'</li><li>'E3'</li></ol>\n"
            ],
            "text/markdown": "1. 'E1'\n2. 'E1'\n3. 'E1'\n4. 'E1'\n5. 'E1'\n6. 'E1'\n7. 'E1'\n8. 'E1'\n9. 'E1'\n10. 'E1'\n11. 'E1'\n12. 'E1'\n13. 'E1'\n14. 'E1'\n15. 'E1'\n16. 'E1'\n17. 'E1'\n18. 'E1'\n19. 'E1'\n20. 'E1'\n21. 'E1'\n22. 'E1'\n23. 'E1'\n24. 'E1'\n25. 'E1'\n26. 'E1'\n27. 'E1'\n28. 'E1'\n29. 'E1'\n30. 'E1'\n31. 'E1'\n32. 'E1'\n33. 'E1'\n34. 'E2'\n35. 'E2'\n36. 'E2'\n37. 'E2'\n38. 'E2'\n39. 'E2'\n40. 'E2'\n41. 'E2'\n42. 'E2'\n43. 'E2'\n44. 'E2'\n45. 'E2'\n46. 'E2'\n47. 'E2'\n48. 'E2'\n49. 'E2'\n50. 'E2'\n51. 'E2'\n52. 'E2'\n53. 'E2'\n54. 'E2'\n55. 'E2'\n56. 'E2'\n57. 'E2'\n58. 'E2'\n59. 'E2'\n60. 'E2'\n61. 'E2'\n62. 'E2'\n63. 'E2'\n64. 'E2'\n65. 'E2'\n66. 'E2'\n67. 'E3'\n68. 'E3'\n69. 'E3'\n70. 'E3'\n71. 'E3'\n72. 'E3'\n73. 'E3'\n74. 'E3'\n75. 'E3'\n76. 'E3'\n77. 'E3'\n78. 'E3'\n79. 'E3'\n80. 'E3'\n81. 'E3'\n82. 'E3'\n83. 'E3'\n84. 'E3'\n85. 'E3'\n86. 'E3'\n87. 'E3'\n88. 'E3'\n89. 'E3'\n90. 'E3'\n91. 'E3'\n92. 'E3'\n93. 'E3'\n94. 'E3'\n95. 'E3'\n96. 'E3'\n97. 'E3'\n98. 'E3'\n99. 'E3'\n100. 'E3'\n\n\n",
            "text/latex": "\\begin{enumerate*}\n\\item 'E1'\n\\item 'E1'\n\\item 'E1'\n\\item 'E1'\n\\item 'E1'\n\\item 'E1'\n\\item 'E1'\n\\item 'E1'\n\\item 'E1'\n\\item 'E1'\n\\item 'E1'\n\\item 'E1'\n\\item 'E1'\n\\item 'E1'\n\\item 'E1'\n\\item 'E1'\n\\item 'E1'\n\\item 'E1'\n\\item 'E1'\n\\item 'E1'\n\\item 'E1'\n\\item 'E1'\n\\item 'E1'\n\\item 'E1'\n\\item 'E1'\n\\item 'E1'\n\\item 'E1'\n\\item 'E1'\n\\item 'E1'\n\\item 'E1'\n\\item 'E1'\n\\item 'E1'\n\\item 'E1'\n\\item 'E2'\n\\item 'E2'\n\\item 'E2'\n\\item 'E2'\n\\item 'E2'\n\\item 'E2'\n\\item 'E2'\n\\item 'E2'\n\\item 'E2'\n\\item 'E2'\n\\item 'E2'\n\\item 'E2'\n\\item 'E2'\n\\item 'E2'\n\\item 'E2'\n\\item 'E2'\n\\item 'E2'\n\\item 'E2'\n\\item 'E2'\n\\item 'E2'\n\\item 'E2'\n\\item 'E2'\n\\item 'E2'\n\\item 'E2'\n\\item 'E2'\n\\item 'E2'\n\\item 'E2'\n\\item 'E2'\n\\item 'E2'\n\\item 'E2'\n\\item 'E2'\n\\item 'E2'\n\\item 'E2'\n\\item 'E3'\n\\item 'E3'\n\\item 'E3'\n\\item 'E3'\n\\item 'E3'\n\\item 'E3'\n\\item 'E3'\n\\item 'E3'\n\\item 'E3'\n\\item 'E3'\n\\item 'E3'\n\\item 'E3'\n\\item 'E3'\n\\item 'E3'\n\\item 'E3'\n\\item 'E3'\n\\item 'E3'\n\\item 'E3'\n\\item 'E3'\n\\item 'E3'\n\\item 'E3'\n\\item 'E3'\n\\item 'E3'\n\\item 'E3'\n\\item 'E3'\n\\item 'E3'\n\\item 'E3'\n\\item 'E3'\n\\item 'E3'\n\\item 'E3'\n\\item 'E3'\n\\item 'E3'\n\\item 'E3'\n\\item 'E3'\n\\end{enumerate*}\n",
            "text/plain": [
              "  [1] \"E1\" \"E1\" \"E1\" \"E1\" \"E1\" \"E1\" \"E1\" \"E1\" \"E1\" \"E1\" \"E1\" \"E1\" \"E1\" \"E1\" \"E1\"\n",
              " [16] \"E1\" \"E1\" \"E1\" \"E1\" \"E1\" \"E1\" \"E1\" \"E1\" \"E1\" \"E1\" \"E1\" \"E1\" \"E1\" \"E1\" \"E1\"\n",
              " [31] \"E1\" \"E1\" \"E1\" \"E2\" \"E2\" \"E2\" \"E2\" \"E2\" \"E2\" \"E2\" \"E2\" \"E2\" \"E2\" \"E2\" \"E2\"\n",
              " [46] \"E2\" \"E2\" \"E2\" \"E2\" \"E2\" \"E2\" \"E2\" \"E2\" \"E2\" \"E2\" \"E2\" \"E2\" \"E2\" \"E2\" \"E2\"\n",
              " [61] \"E2\" \"E2\" \"E2\" \"E2\" \"E2\" \"E2\" \"E3\" \"E3\" \"E3\" \"E3\" \"E3\" \"E3\" \"E3\" \"E3\" \"E3\"\n",
              " [76] \"E3\" \"E3\" \"E3\" \"E3\" \"E3\" \"E3\" \"E3\" \"E3\" \"E3\" \"E3\" \"E3\" \"E3\" \"E3\" \"E3\" \"E3\"\n",
              " [91] \"E3\" \"E3\" \"E3\" \"E3\" \"E3\" \"E3\" \"E3\" \"E3\" \"E3\" \"E3\""
            ]
          },
          "metadata": {}
        },
        {
          "output_type": "display_data",
          "data": {
            "text/html": [
              "100"
            ],
            "text/markdown": "100",
            "text/latex": "100",
            "text/plain": [
              "[1] 100"
            ]
          },
          "metadata": {}
        }
      ]
    },
    {
      "cell_type": "markdown",
      "metadata": {
        "id": "bZZScNwUm5Zp"
      },
      "source": [
        ",**Paso 4**\n",
        "\n",
        "Genere un vector llamado _lluvia_ del mismo largo que _temp_, que sea TRUE en las posiciones en que _temp_ sea menor que 20, y FALSE en caso contrario. ,"
      ]
    },
    {
      "cell_type": "code",
      "metadata": {
        "trusted": true,
        "id": "AbtOs123m5Zq"
      },
      "source": [
        "# Paso 4\n"
      ],
      "execution_count": null,
      "outputs": []
    },
    {
      "cell_type": "markdown",
      "metadata": {
        "id": "i7p8FIdtm5Zs"
      },
      "source": [
        "**Paso 5**\n",
        "\n",
        "Finalmente cree un data frame llamado _precipitaciones_ con las siguientes columnas:<br>\n",
        "\n",
        "*Dia_semana* (con los valores del vector _dia_)<br>\n",
        "*Temperatura* (con los valores del vector _temp_)<br>\n",
        "*Llueve* (con los valores del vector _lluvia_)<br>\n",
        "*Estacion* (con los valores del vector _est_)<br>"
      ]
    },
    {
      "cell_type": "code",
      "metadata": {
        "trusted": true,
        "id": "o-TVm7uum5Zs"
      },
      "source": [
        "# Paso 5\n"
      ],
      "execution_count": null,
      "outputs": []
    },
    {
      "cell_type": "markdown",
      "metadata": {
        "id": "kIjelA5sm5Zx"
      },
      "source": [
        "#### Strings como factores\n",
        "Cuando en R se declara una variable como factor, internamente se codifican sus categorías con valores 0 o 1. Por ejemplo, para las variables _Dia_ y _Estacion_ podemos generar sus matriz de diseño, indicando un 1 si el día (o estación) corresponde a la nueva columna generada, 0 si  no:\n",
        "\n",
        " |Dia |Temperatura    |Llueve| Estacion| | Dia.L|Dia.M|Dia.W|Dia.J|Dia.V|Dia.S|Dia.D|Est.1|Est.2|Est.3|\n",
        " |----|------------   |------|---------| |---   |---  |---  |---  |---  |---  |---  |---  |---  |---  |\n",
        " |L\t  |16.300201      |TRUE  |\tE1     | |1     |0    |0    |0    |0    |0    |0    |1    |0    |0    |\n",
        " |M   |21.042854      |FALSE |\tE1     | |0     |1    |0    |0    |0    |0    |0    |1    |0    |0    |\n",
        " |J\t  |31.256043      |FALSE |\tE3     | |0     |0    |0    |1    |0    |0    |0    |0    |0    |1    |\n",
        " |S\t  |40.083514      |FALSE |\tE3     | |0     |0    |0    |0    |0    |1    |0    |0    |0    |1    |\n",
        " \n",
        " Cuando se quiere generar un resumen de una variable categórica, o cuando se quiere incluir una variable de este tipo en el entrenamiento de un modelo será necesario declarar dicha variable como factor."
      ]
    },
    {
      "cell_type": "code",
      "metadata": {
        "trusted": true,
        "id": "UQN71LvGm5Z-"
      },
      "source": [
        "#podemos volver a coercionar las columnas a clase factor,  con la función as.factor\n"
      ],
      "execution_count": null,
      "outputs": []
    },
    {
      "cell_type": "code",
      "metadata": {
        "trusted": true,
        "id": "5kjmwaOUm5aA"
      },
      "source": [
        "# Un poco de exploración --------------------------------\n",
        "# ¿Cuál es la temperatura promedio cuando llovió?\n",
        "\n",
        "# ¿Cuál es la temperatura promedio cuando NO llovió?\n",
        "\n",
        "\n",
        "\n",
        "#Lo mismo pero sólo de los registros de E1\n",
        "\n"
      ],
      "execution_count": null,
      "outputs": []
    },
    {
      "cell_type": "code",
      "metadata": {
        "trusted": true,
        "id": "TJuAlpPxm5aC"
      },
      "source": [
        "# ¿Qué día era cuando se alcanzó la mínima temperatura?¿y la ,máxima?\n",
        "#La función which.min #o .max . retorna la posición donde se alcanza el min/max de un vector.\n",
        "\n",
        "# opcion 1\n",
        "\n",
        "# opcion 2\n"
      ],
      "execution_count": null,
      "outputs": []
    },
    {
      "cell_type": "code",
      "metadata": {
        "trusted": true,
        "id": "WHf5YnPWm5aF"
      },
      "source": [
        "# Una forma de eliminar registros en vector\n",
        "\n",
        "\n"
      ],
      "execution_count": null,
      "outputs": []
    },
    {
      "cell_type": "code",
      "metadata": {
        "trusted": true,
        "id": "6Vx1ojnAm5aH"
      },
      "source": [
        "# POdemos eliminar los registros de posición 3 y 4\n"
      ],
      "execution_count": null,
      "outputs": []
    },
    {
      "cell_type": "code",
      "metadata": {
        "trusted": true,
        "id": "K9Qv9n_nm5aJ"
      },
      "source": [
        "# Si queremos ver esa misma fila de la tabla precipitaciones.\n",
        "\n",
        "\n",
        "# Se sabe que la Estación E3 falla todos los días domingo, por lo que se quiere eliminar tales registros de la tabla. Elimínelos!\n",
        "\n"
      ],
      "execution_count": null,
      "outputs": []
    },
    {
      "cell_type": "code",
      "metadata": {
        "trusted": true,
        "id": "nuW7ux65m5aL"
      },
      "source": [
        "dim(precipitaciones)"
      ],
      "execution_count": null,
      "outputs": []
    },
    {
      "cell_type": "markdown",
      "metadata": {
        "id": "5fmGF0Qam5aN"
      },
      "source": [
        "## 5.4 Cómo guardar ambiente de trabajo o variables definidas en el\n",
        "\n",
        "### Directorio de trabajo\n",
        "\n",
        "El directorio de trabajo corresponde a la ubicación en el sistema de archivos, desde donde la sesión de R podrá acceder directamente para guardar o cargar datos.\n"
      ]
    },
    {
      "cell_type": "code",
      "metadata": {
        "trusted": true,
        "id": "OfyO5MKOm5aO"
      },
      "source": [
        "# para saber en qué directorio se está trabajando\n"
      ],
      "execution_count": null,
      "outputs": []
    },
    {
      "cell_type": "code",
      "metadata": {
        "trusted": true,
        "id": "fHZIjYhRm5aQ"
      },
      "source": [
        "# para cambiar el directorio de trabajo\n",
        "\n"
      ],
      "execution_count": null,
      "outputs": []
    },
    {
      "cell_type": "markdown",
      "metadata": {
        "id": "_M-D6sgRm5aU"
      },
      "source": [
        "### Formato rds \n",
        "\n",
        "Una manera de guardar variables creadas en el ambiente de la sessión de R, es mediante la utilización del formato *.rds. Este formato permite guardar los objetos declarados y leerlos rápidamente en cualquier otra sesión que se inicie posteriormente. Es últil por ejemplo para guardar en disco modelos entrenados para ser utilizados para predicciones futuras.\n"
      ]
    },
    {
      "cell_type": "code",
      "metadata": {
        "trusted": true,
        "id": "11jJ5B50m5aV"
      },
      "source": [
        "# Función saveRDS() # Guardar\n",
        "# guarde en el directorio actual el dataframe _precipitaciones_\n"
      ],
      "execution_count": null,
      "outputs": []
    },
    {
      "cell_type": "code",
      "metadata": {
        "trusted": true,
        "id": "DixES_Kjm5ah"
      },
      "source": [
        "# readRDS()  Leer, pero ojo que es necesario asignar  a una variable\n"
      ],
      "execution_count": null,
      "outputs": []
    },
    {
      "cell_type": "markdown",
      "metadata": {
        "id": "_4pmC4cBm5as"
      },
      "source": [
        "### Formato RData\n",
        "\n",
        "Cuando se quiere guardar el ambiente de trabajo completo, o bien un mayor número de objetos ya creados, se puede utilizar la función _save_\n"
      ]
    },
    {
      "cell_type": "code",
      "metadata": {
        "trusted": true,
        "id": "M5yFyJ27m5at"
      },
      "source": [
        "# Función save para guardar uno o más objetos del ambiente.\n",
        "\n"
      ],
      "execution_count": null,
      "outputs": []
    },
    {
      "cell_type": "code",
      "metadata": {
        "trusted": true,
        "id": "YDmd1Npmm5ay"
      },
      "source": [
        "# Eventualmente podemos \"cargar \" a sesión, con la función load()\n"
      ],
      "execution_count": null,
      "outputs": []
    }
  ]
}