{
  "nbformat": 4,
  "nbformat_minor": 0,
  "metadata": {
    "colab": {
      "name": "Control_1_v9_pauta.ipynb",
      "provenance": [],
      "collapsed_sections": [],
      "include_colab_link": true
    },
    "kernelspec": {
      "name": "ir",
      "display_name": "R"
    }
  },
  "cells": [
    {
      "cell_type": "markdown",
      "metadata": {
        "id": "view-in-github",
        "colab_type": "text"
      },
      "source": [
        "<a href=\"https://colab.research.google.com/github/majorquev/DBDC_202206_Programacion_en_R_para_ciencia_de_datos/blob/main/Evaluaciones/C1/Control_1_v10_pauta.ipynb\" target=\"_parent\"><img src=\"https://colab.research.google.com/assets/colab-badge.svg\" alt=\"Open In Colab\"/></a>"
      ]
    },
    {
      "cell_type": "markdown",
      "metadata": {
        "id": "SvIjRoDOw-lT"
      },
      "source": [
        "# Control 1: Sintaxis básica y manipulación de objetos simples en R\n"
      ]
    },
    {
      "cell_type": "markdown",
      "metadata": {
        "trusted": true,
        "id": "S4w2AM2-yrW2"
      },
      "source": [
        ""
      ]
    },
    {
      "cell_type": "markdown",
      "metadata": {
        "id": "V8C56DqZyrW2"
      },
      "source": [
        "# Sección 1\n",
        "\n",
        "La siguiente línea de código permite cargar en memoria, un objeto de extensión *.rds que está almacenado en el disco de la máquina en la ruta actual de trabajo.\n",
        "\n",
        "Este archivo contiene la información de los contagios por COVID-19 en nuestsro país, según las cifras oficiales entregadas por el ministerio de salud actualizadas al 08 de julio del 2019. En el archivo encontrará, para cada mes, el total de casos diarios desglosados según:\n",
        "   * 'casos_nuevos_con_sintomas': casos nuevos con síntomas del día.\n",
        "   * 'casos_totales' : casos acumulados a la fecha.\n",
        "   * 'casos_recuperados': casos recuperados acumulados a la fecha.\n",
        "   * 'fallecidos': casos fallecidos acumulados.\n",
        "   * 'casos_activos': casos activos a la fecha.\n",
        "   * 'casos_nuevos_sin_sintomas': casos asintomáticos del día.\n",
        "   * 'casos_nuevos_totales': suma de  casos asintomáticos más casos con síntomas del día.\n",
        " \n",
        " Si bien no será utilizados en este trabajo, también econtrán nuevos registros de acuerdo a los últimos cambios en la metodología de conteo. Para más info pueden referirse al siguiente link:\n",
        " https://github.com/MinCiencia/Datos-COVID19/tree/master/output/producto5\n",
        " \n",
        "   * 'casos_activos_por_fd'\n",
        "   * 'casos_activos_por_fis'\n",
        "   * 'casos_recuperados_por_fis'\n",
        "   * 'casos_recuperados_por_fd' \n",
        "   * 'casos_confirmados_recuperados'\n",
        "   * 'casos_activos_confirmados'\n",
        "   * 'casos_probables_acumulados'\n",
        "   * 'casos_activos_probables'\n",
        "\n"
      ]
    },
    {
      "cell_type": "code",
      "metadata": {
        "trusted": true,
        "id": "EIcOaJN9yrW3"
      },
      "source": [
        "# Carga de casos\n",
        "casos <- readRDS(\"covid_2022.rds\")"
      ],
      "execution_count": null,
      "outputs": []
    },
    {
      "cell_type": "code",
      "source": [
        "names(casos)"
      ],
      "metadata": {
        "colab": {
          "base_uri": "https://localhost:8080/",
          "height": 32
        },
        "id": "XAU8PZQMCzd-",
        "outputId": "05f48e7c-8f5d-493b-e494-8782ed19bd4c"
      },
      "execution_count": null,
      "outputs": [
        {
          "output_type": "display_data",
          "data": {
            "text/html": [
              "<style>\n",
              ".list-inline {list-style: none; margin:0; padding: 0}\n",
              ".list-inline>li {display: inline-block}\n",
              ".list-inline>li:not(:last-child)::after {content: \"\\00b7\"; padding: 0 .5ex}\n",
              "</style>\n",
              "<ol class=list-inline><li>'ene'</li><li>'feb'</li><li>'mar'</li><li>'abr'</li></ol>\n"
            ],
            "text/markdown": "1. 'ene'\n2. 'feb'\n3. 'mar'\n4. 'abr'\n\n\n",
            "text/latex": "\\begin{enumerate*}\n\\item 'ene'\n\\item 'feb'\n\\item 'mar'\n\\item 'abr'\n\\end{enumerate*}\n",
            "text/plain": [
              "[1] \"ene\" \"feb\" \"mar\" \"abr\""
            ]
          },
          "metadata": {}
        }
      ]
    },
    {
      "cell_type": "markdown",
      "metadata": {
        "id": "mA2dxeK6yrW9"
      },
      "source": [
        "## Pregunta 1.1\n",
        "\n",
        "**1a) (1pt)** ¿Qué clase de objetos es `casos`? <br>\n",
        "**1b) (1pt)** ¿Cuántos elementos posee este objeto?<br>\n",
        "**1c) (1pt)** ¿Cuáles son los nombres de este objeto?<br>\n",
        "**1d) (2pt)** ¿Qué clase de objeto está almacenado en sl _slot_ correspondiente al mes de marzo (\"mar\") y cuántos elementos posee?<br>\n",
        "**1e) (2pt)** Para el mes de marzo, ¿a qué clase de objeto corresponde `casos_totales` y cuántos elementos posee?\n",
        "\n",
        "\n",
        "\n"
      ]
    },
    {
      "cell_type": "code",
      "metadata": {
        "trusted": true,
        "id": "cAV1etTgyrW-",
        "colab": {
          "base_uri": "https://localhost:8080/",
          "height": 197
        },
        "outputId": "7ddec5c9-9542-4f5c-b516-6113950e5f34"
      },
      "source": [
        "# P1.1\n",
        "## Respusta \n",
        "#a) ---------------------------------------------------------------------\n",
        "class(casos) # es una lista\n",
        "\n",
        "#b) ---------------------------------------------------------------------\n",
        "length(casos) # 5 elementos\n",
        "\n",
        "#c) ---------------------------------------------------------------------\n",
        "names(casos) # \"mar\", \"abr\" , \"may\" ,  \"jun\" y \"jul\"\n",
        "\n",
        "#d) ---------------------------------------------------------------------\n",
        "class(casos$mar); length(casos$mar);names(casos$mar)# es una lista con 15 elementos, saber: 'casos_nuevos_con_sintomas' 'casos_totales' 'casos_recuperados' 'fallecidos' 'casos_activos' 'casos_nuevos_sin_sintomas' 'casos_nuevos_totales' 'casos_activos_por_fd' 'casos_activos_por_fis' 'casos_recuperados_por_fis' 'casos_recuperados_por_fd' 'casos_confirmados_recuperados' 'casos_activos_confirmados' 'casos_probables_acumulados' 'casos_activos_probables'\n",
        "\n",
        "#e) ---------------------------------------------------------------------\n",
        "class(casos$mar$casos_totales); dim(casos$mar$casos_totales) # es un data.frame con 31 filas  y 2 colum\n"
      ],
      "execution_count": null,
      "outputs": [
        {
          "output_type": "display_data",
          "data": {
            "text/html": [
              "'list'"
            ],
            "text/markdown": "'list'",
            "text/latex": "'list'",
            "text/plain": [
              "[1] \"list\""
            ]
          },
          "metadata": {}
        },
        {
          "output_type": "display_data",
          "data": {
            "text/html": [
              "4"
            ],
            "text/markdown": "4",
            "text/latex": "4",
            "text/plain": [
              "[1] 4"
            ]
          },
          "metadata": {}
        },
        {
          "output_type": "display_data",
          "data": {
            "text/html": [
              "<style>\n",
              ".list-inline {list-style: none; margin:0; padding: 0}\n",
              ".list-inline>li {display: inline-block}\n",
              ".list-inline>li:not(:last-child)::after {content: \"\\00b7\"; padding: 0 .5ex}\n",
              "</style>\n",
              "<ol class=list-inline><li>'ene'</li><li>'feb'</li><li>'mar'</li><li>'abr'</li></ol>\n"
            ],
            "text/markdown": "1. 'ene'\n2. 'feb'\n3. 'mar'\n4. 'abr'\n\n\n",
            "text/latex": "\\begin{enumerate*}\n\\item 'ene'\n\\item 'feb'\n\\item 'mar'\n\\item 'abr'\n\\end{enumerate*}\n",
            "text/plain": [
              "[1] \"ene\" \"feb\" \"mar\" \"abr\""
            ]
          },
          "metadata": {}
        },
        {
          "output_type": "display_data",
          "data": {
            "text/html": [
              "'list'"
            ],
            "text/markdown": "'list'",
            "text/latex": "'list'",
            "text/plain": [
              "[1] \"list\""
            ]
          },
          "metadata": {}
        },
        {
          "output_type": "display_data",
          "data": {
            "text/html": [
              "21"
            ],
            "text/markdown": "21",
            "text/latex": "21",
            "text/plain": [
              "[1] 21"
            ]
          },
          "metadata": {}
        },
        {
          "output_type": "display_data",
          "data": {
            "text/html": [
              "<style>\n",
              ".list-inline {list-style: none; margin:0; padding: 0}\n",
              ".list-inline>li {display: inline-block}\n",
              ".list-inline>li:not(:last-child)::after {content: \"\\00b7\"; padding: 0 .5ex}\n",
              "</style>\n",
              "<ol class=list-inline><li>'casos_activos'</li><li>'casos_activos_confirmados'</li><li>'casos_activos_por_fd'</li><li>'casos_activos_por_fis'</li><li>'casos_activos_probables'</li><li>'casos_con_sospecha_de_reinfeccion'</li><li>'casos_confirmados_por_antigeno'</li><li>'casos_confirmados_recuperados'</li><li>'casos_nuevos_con_sintomas'</li><li>'casos_nuevos_confirmados_por_antigeno'</li><li>'casos_nuevos_sin_notificar'</li><li>'casos_nuevos_sin_sintomas'</li><li>'casos_nuevos_totales'</li><li>'casos_probables_acumulados'</li><li>'casos_recuperados'</li><li>'casos_recuperados_por_fd'</li><li>'casos_recuperados_por_fis'</li><li>'casos_totales'</li><li>'fallecidos'</li><li>'fallecidos_confirmados_totales'</li><li>'fallecidos_sospechosos_probables_u_otros_totales'</li></ol>\n"
            ],
            "text/markdown": "1. 'casos_activos'\n2. 'casos_activos_confirmados'\n3. 'casos_activos_por_fd'\n4. 'casos_activos_por_fis'\n5. 'casos_activos_probables'\n6. 'casos_con_sospecha_de_reinfeccion'\n7. 'casos_confirmados_por_antigeno'\n8. 'casos_confirmados_recuperados'\n9. 'casos_nuevos_con_sintomas'\n10. 'casos_nuevos_confirmados_por_antigeno'\n11. 'casos_nuevos_sin_notificar'\n12. 'casos_nuevos_sin_sintomas'\n13. 'casos_nuevos_totales'\n14. 'casos_probables_acumulados'\n15. 'casos_recuperados'\n16. 'casos_recuperados_por_fd'\n17. 'casos_recuperados_por_fis'\n18. 'casos_totales'\n19. 'fallecidos'\n20. 'fallecidos_confirmados_totales'\n21. 'fallecidos_sospechosos_probables_u_otros_totales'\n\n\n",
            "text/latex": "\\begin{enumerate*}\n\\item 'casos\\_activos'\n\\item 'casos\\_activos\\_confirmados'\n\\item 'casos\\_activos\\_por\\_fd'\n\\item 'casos\\_activos\\_por\\_fis'\n\\item 'casos\\_activos\\_probables'\n\\item 'casos\\_con\\_sospecha\\_de\\_reinfeccion'\n\\item 'casos\\_confirmados\\_por\\_antigeno'\n\\item 'casos\\_confirmados\\_recuperados'\n\\item 'casos\\_nuevos\\_con\\_sintomas'\n\\item 'casos\\_nuevos\\_confirmados\\_por\\_antigeno'\n\\item 'casos\\_nuevos\\_sin\\_notificar'\n\\item 'casos\\_nuevos\\_sin\\_sintomas'\n\\item 'casos\\_nuevos\\_totales'\n\\item 'casos\\_probables\\_acumulados'\n\\item 'casos\\_recuperados'\n\\item 'casos\\_recuperados\\_por\\_fd'\n\\item 'casos\\_recuperados\\_por\\_fis'\n\\item 'casos\\_totales'\n\\item 'fallecidos'\n\\item 'fallecidos\\_confirmados\\_totales'\n\\item 'fallecidos\\_sospechosos\\_probables\\_u\\_otros\\_totales'\n\\end{enumerate*}\n",
            "text/plain": [
              " [1] \"casos_activos\"                                   \n",
              " [2] \"casos_activos_confirmados\"                       \n",
              " [3] \"casos_activos_por_fd\"                            \n",
              " [4] \"casos_activos_por_fis\"                           \n",
              " [5] \"casos_activos_probables\"                         \n",
              " [6] \"casos_con_sospecha_de_reinfeccion\"               \n",
              " [7] \"casos_confirmados_por_antigeno\"                  \n",
              " [8] \"casos_confirmados_recuperados\"                   \n",
              " [9] \"casos_nuevos_con_sintomas\"                       \n",
              "[10] \"casos_nuevos_confirmados_por_antigeno\"           \n",
              "[11] \"casos_nuevos_sin_notificar\"                      \n",
              "[12] \"casos_nuevos_sin_sintomas\"                       \n",
              "[13] \"casos_nuevos_totales\"                            \n",
              "[14] \"casos_probables_acumulados\"                      \n",
              "[15] \"casos_recuperados\"                               \n",
              "[16] \"casos_recuperados_por_fd\"                        \n",
              "[17] \"casos_recuperados_por_fis\"                       \n",
              "[18] \"casos_totales\"                                   \n",
              "[19] \"fallecidos\"                                      \n",
              "[20] \"fallecidos_confirmados_totales\"                  \n",
              "[21] \"fallecidos_sospechosos_probables_u_otros_totales\""
            ]
          },
          "metadata": {}
        },
        {
          "output_type": "display_data",
          "data": {
            "text/html": [
              "'data.frame'"
            ],
            "text/markdown": "'data.frame'",
            "text/latex": "'data.frame'",
            "text/plain": [
              "[1] \"data.frame\""
            ]
          },
          "metadata": {}
        },
        {
          "output_type": "display_data",
          "data": {
            "text/html": [
              "<style>\n",
              ".list-inline {list-style: none; margin:0; padding: 0}\n",
              ".list-inline>li {display: inline-block}\n",
              ".list-inline>li:not(:last-child)::after {content: \"\\00b7\"; padding: 0 .5ex}\n",
              "</style>\n",
              "<ol class=list-inline><li>31</li><li>2</li></ol>\n"
            ],
            "text/markdown": "1. 31\n2. 2\n\n\n",
            "text/latex": "\\begin{enumerate*}\n\\item 31\n\\item 2\n\\end{enumerate*}\n",
            "text/plain": [
              "[1] 31  2"
            ]
          },
          "metadata": {}
        }
      ]
    },
    {
      "cell_type": "markdown",
      "metadata": {
        "id": "ZVn0kUr4yrXA"
      },
      "source": [
        "## Pregunta 1.2\n",
        "\n",
        "**2a) (2pts)** ¿Cuántos casos activos existían al 25 de marzo? (indique claramente la expresión de R para obtener el valor solicitado) .<br>\n",
        "**2b) (1pts)** Genere cuatro nuevas variables llamadas `totales_enero`,`totales_febrero` , `totales_marzo` y  `totales_abril`, que contengan los dataframes correspondientes al slot `casos_totales` del mes respectivo, (por ejemplo, la variable `totales_marzo` debe contener una dataframe de dimensión $31\\times2$.<br>\n",
        "**2c) (2pts)** Para cada dataframe del paso anterior, genere una nueva columna llamada `mes`, que repita el nombre del mes correspondiente por cada fila.<br>\n",
        "**2d) (3pts)** En cada data.frame, agregue una nueva columna llamada `casos_diarios` que contanga la información correspontiende al total de casos nuevos diarios(`casos_nuevos_totales`).\n"
      ]
    },
    {
      "cell_type": "code",
      "metadata": {
        "trusted": true,
        "id": "of36hDlhyrXB",
        "colab": {
          "base_uri": "https://localhost:8080/",
          "height": 34
        },
        "outputId": "2df14cf6-46c0-4ad8-f431-9c2f4db5bb3d"
      },
      "source": [
        "# P1.2\n",
        "## Respusta \n",
        "#a) ---------------------------------------------------------------------\n",
        "casos$mar$casos_activos$total[casos$mar$casos_activos$dia_del_mes == 25] # 1pt por acceder al data.frame, 1pt por filtrar el dia correctamente.\n",
        "# Existían 35824 casos.\n",
        "\n"
      ],
      "execution_count": null,
      "outputs": [
        {
          "output_type": "display_data",
          "data": {
            "text/html": [
              "35824"
            ],
            "text/markdown": "35824",
            "text/latex": "35824",
            "text/plain": [
              "[1] 35824"
            ]
          },
          "metadata": {}
        }
      ]
    },
    {
      "cell_type": "code",
      "metadata": {
        "trusted": true,
        "id": "5FzZngEsyrXF"
      },
      "source": [
        "#b) ---------------------------------------------------------------------\n",
        "totales_enero <- casos$ene$casos_totales\n",
        "totales_febrero <- casos$feb$casos_totales\n",
        "totales_marzo  <- casos$mar$casos_totales\n",
        "totales_abril  <- casos$abr$casos_totales\n",
        "\n",
        "#c) ---------------------------------------------------------------------\n",
        "# 1 pt por crear el vector con el mes  más 1 pt por asignarlo al data.frame\n",
        "\n",
        "#Opción 1\n",
        "totales_enero$mes <- \"enero\"\n",
        "totales_febrero$mes <- \"febrero\"\n",
        "totales_marzo$mes <- \"marzo\"\n",
        "totales_abril$mes <- \"abril\"\n",
        "\n"
      ],
      "execution_count": null,
      "outputs": []
    },
    {
      "cell_type": "code",
      "metadata": {
        "trusted": true,
        "id": "Fby9Cjk4yrXI",
        "colab": {
          "base_uri": "https://localhost:8080/",
          "height": 1000
        },
        "outputId": "3ec1174d-3f24-450d-9d49-3956ccf360b6"
      },
      "source": [
        "#Opción 2\n",
        "totales_marzo$mes <- rep(\"marzo\",length(totales_marzo$dia_del_mes)) \n",
        "\n",
        "#d) ---------------------------------------------------------------------\n",
        "\n",
        "totales_enero$casos_diarios  <- casos$ene$casos_nuevos_totales$total\n",
        "totales_febrero$casos_diarios <- casos$feb$casos_nuevos_totales$total\n",
        "totales_marzo$casos_diarios <- casos$mar$casos_nuevos_totales$total\n",
        "totales_abril$casos_diarios <- casos$abr$casos_nuevos_totales$total\n",
        "\n",
        "totales_marzo\n"
      ],
      "execution_count": null,
      "outputs": [
        {
          "output_type": "display_data",
          "data": {
            "text/html": [
              "<table class=\"dataframe\">\n",
              "<caption>A data.frame: 31 × 4</caption>\n",
              "<thead>\n",
              "\t<tr><th scope=col>dia_del_mes</th><th scope=col>total</th><th scope=col>mes</th><th scope=col>casos_diarios</th></tr>\n",
              "\t<tr><th scope=col>&lt;dbl&gt;</th><th scope=col>&lt;dbl&gt;</th><th scope=col>&lt;chr&gt;</th><th scope=col>&lt;dbl&gt;</th></tr>\n",
              "</thead>\n",
              "<tbody>\n",
              "\t<tr><td> 1</td><td>3076291</td><td>marzo</td><td>13928</td></tr>\n",
              "\t<tr><td> 2</td><td>3098110</td><td>marzo</td><td>20400</td></tr>\n",
              "\t<tr><td> 3</td><td>3122802</td><td>marzo</td><td>23395</td></tr>\n",
              "\t<tr><td> 4</td><td>3147434</td><td>marzo</td><td>23132</td></tr>\n",
              "\t<tr><td> 5</td><td>3168335</td><td>marzo</td><td>20503</td></tr>\n",
              "\t<tr><td> 6</td><td>3188448</td><td>marzo</td><td>19353</td></tr>\n",
              "\t<tr><td> 7</td><td>3202562</td><td>marzo</td><td>13820</td></tr>\n",
              "\t<tr><td> 8</td><td>3214326</td><td>marzo</td><td>10815</td></tr>\n",
              "\t<tr><td> 9</td><td>3230793</td><td>marzo</td><td>16341</td></tr>\n",
              "\t<tr><td>10</td><td>3249890</td><td>marzo</td><td>18995</td></tr>\n",
              "\t<tr><td>11</td><td>3269062</td><td>marzo</td><td>18326</td></tr>\n",
              "\t<tr><td>12</td><td>3286476</td><td>marzo</td><td>17371</td></tr>\n",
              "\t<tr><td>13</td><td>3301747</td><td>marzo</td><td>15136</td></tr>\n",
              "\t<tr><td>14</td><td>3313242</td><td>marzo</td><td>10650</td></tr>\n",
              "\t<tr><td>15</td><td>3323324</td><td>marzo</td><td> 8716</td></tr>\n",
              "\t<tr><td>16</td><td>3336614</td><td>marzo</td><td>12566</td></tr>\n",
              "\t<tr><td>17</td><td>3353259</td><td>marzo</td><td>15735</td></tr>\n",
              "\t<tr><td>18</td><td>3368704</td><td>marzo</td><td>14525</td></tr>\n",
              "\t<tr><td>19</td><td>3381681</td><td>marzo</td><td>12357</td></tr>\n",
              "\t<tr><td>20</td><td>3392978</td><td>marzo</td><td>10472</td></tr>\n",
              "\t<tr><td>21</td><td>3401145</td><td>marzo</td><td> 7555</td></tr>\n",
              "\t<tr><td>22</td><td>3406540</td><td>marzo</td><td> 5045</td></tr>\n",
              "\t<tr><td>23</td><td>3415989</td><td>marzo</td><td> 8025</td></tr>\n",
              "\t<tr><td>24</td><td>3426147</td><td>marzo</td><td> 9414</td></tr>\n",
              "\t<tr><td>25</td><td>3434908</td><td>marzo</td><td> 8247</td></tr>\n",
              "\t<tr><td>26</td><td>3443018</td><td>marzo</td><td> 7448</td></tr>\n",
              "\t<tr><td>27</td><td>3450094</td><td>marzo</td><td> 6480</td></tr>\n",
              "\t<tr><td>28</td><td>3455060</td><td>marzo</td><td> 4463</td></tr>\n",
              "\t<tr><td>29</td><td>3458499</td><td>marzo</td><td> 3017</td></tr>\n",
              "\t<tr><td>30</td><td>3464425</td><td>marzo</td><td> 5603</td></tr>\n",
              "\t<tr><td>31</td><td>3470936</td><td>marzo</td><td> 6074</td></tr>\n",
              "</tbody>\n",
              "</table>\n"
            ],
            "text/markdown": "\nA data.frame: 31 × 4\n\n| dia_del_mes &lt;dbl&gt; | total &lt;dbl&gt; | mes &lt;chr&gt; | casos_diarios &lt;dbl&gt; |\n|---|---|---|---|\n|  1 | 3076291 | marzo | 13928 |\n|  2 | 3098110 | marzo | 20400 |\n|  3 | 3122802 | marzo | 23395 |\n|  4 | 3147434 | marzo | 23132 |\n|  5 | 3168335 | marzo | 20503 |\n|  6 | 3188448 | marzo | 19353 |\n|  7 | 3202562 | marzo | 13820 |\n|  8 | 3214326 | marzo | 10815 |\n|  9 | 3230793 | marzo | 16341 |\n| 10 | 3249890 | marzo | 18995 |\n| 11 | 3269062 | marzo | 18326 |\n| 12 | 3286476 | marzo | 17371 |\n| 13 | 3301747 | marzo | 15136 |\n| 14 | 3313242 | marzo | 10650 |\n| 15 | 3323324 | marzo |  8716 |\n| 16 | 3336614 | marzo | 12566 |\n| 17 | 3353259 | marzo | 15735 |\n| 18 | 3368704 | marzo | 14525 |\n| 19 | 3381681 | marzo | 12357 |\n| 20 | 3392978 | marzo | 10472 |\n| 21 | 3401145 | marzo |  7555 |\n| 22 | 3406540 | marzo |  5045 |\n| 23 | 3415989 | marzo |  8025 |\n| 24 | 3426147 | marzo |  9414 |\n| 25 | 3434908 | marzo |  8247 |\n| 26 | 3443018 | marzo |  7448 |\n| 27 | 3450094 | marzo |  6480 |\n| 28 | 3455060 | marzo |  4463 |\n| 29 | 3458499 | marzo |  3017 |\n| 30 | 3464425 | marzo |  5603 |\n| 31 | 3470936 | marzo |  6074 |\n\n",
            "text/latex": "A data.frame: 31 × 4\n\\begin{tabular}{llll}\n dia\\_del\\_mes & total & mes & casos\\_diarios\\\\\n <dbl> & <dbl> & <chr> & <dbl>\\\\\n\\hline\n\t  1 & 3076291 & marzo & 13928\\\\\n\t  2 & 3098110 & marzo & 20400\\\\\n\t  3 & 3122802 & marzo & 23395\\\\\n\t  4 & 3147434 & marzo & 23132\\\\\n\t  5 & 3168335 & marzo & 20503\\\\\n\t  6 & 3188448 & marzo & 19353\\\\\n\t  7 & 3202562 & marzo & 13820\\\\\n\t  8 & 3214326 & marzo & 10815\\\\\n\t  9 & 3230793 & marzo & 16341\\\\\n\t 10 & 3249890 & marzo & 18995\\\\\n\t 11 & 3269062 & marzo & 18326\\\\\n\t 12 & 3286476 & marzo & 17371\\\\\n\t 13 & 3301747 & marzo & 15136\\\\\n\t 14 & 3313242 & marzo & 10650\\\\\n\t 15 & 3323324 & marzo &  8716\\\\\n\t 16 & 3336614 & marzo & 12566\\\\\n\t 17 & 3353259 & marzo & 15735\\\\\n\t 18 & 3368704 & marzo & 14525\\\\\n\t 19 & 3381681 & marzo & 12357\\\\\n\t 20 & 3392978 & marzo & 10472\\\\\n\t 21 & 3401145 & marzo &  7555\\\\\n\t 22 & 3406540 & marzo &  5045\\\\\n\t 23 & 3415989 & marzo &  8025\\\\\n\t 24 & 3426147 & marzo &  9414\\\\\n\t 25 & 3434908 & marzo &  8247\\\\\n\t 26 & 3443018 & marzo &  7448\\\\\n\t 27 & 3450094 & marzo &  6480\\\\\n\t 28 & 3455060 & marzo &  4463\\\\\n\t 29 & 3458499 & marzo &  3017\\\\\n\t 30 & 3464425 & marzo &  5603\\\\\n\t 31 & 3470936 & marzo &  6074\\\\\n\\end{tabular}\n",
            "text/plain": [
              "   dia_del_mes total   mes   casos_diarios\n",
              "1   1          3076291 marzo 13928        \n",
              "2   2          3098110 marzo 20400        \n",
              "3   3          3122802 marzo 23395        \n",
              "4   4          3147434 marzo 23132        \n",
              "5   5          3168335 marzo 20503        \n",
              "6   6          3188448 marzo 19353        \n",
              "7   7          3202562 marzo 13820        \n",
              "8   8          3214326 marzo 10815        \n",
              "9   9          3230793 marzo 16341        \n",
              "10 10          3249890 marzo 18995        \n",
              "11 11          3269062 marzo 18326        \n",
              "12 12          3286476 marzo 17371        \n",
              "13 13          3301747 marzo 15136        \n",
              "14 14          3313242 marzo 10650        \n",
              "15 15          3323324 marzo  8716        \n",
              "16 16          3336614 marzo 12566        \n",
              "17 17          3353259 marzo 15735        \n",
              "18 18          3368704 marzo 14525        \n",
              "19 19          3381681 marzo 12357        \n",
              "20 20          3392978 marzo 10472        \n",
              "21 21          3401145 marzo  7555        \n",
              "22 22          3406540 marzo  5045        \n",
              "23 23          3415989 marzo  8025        \n",
              "24 24          3426147 marzo  9414        \n",
              "25 25          3434908 marzo  8247        \n",
              "26 26          3443018 marzo  7448        \n",
              "27 27          3450094 marzo  6480        \n",
              "28 28          3455060 marzo  4463        \n",
              "29 29          3458499 marzo  3017        \n",
              "30 30          3464425 marzo  5603        \n",
              "31 31          3470936 marzo  6074        "
            ]
          },
          "metadata": {}
        }
      ]
    },
    {
      "cell_type": "markdown",
      "metadata": {
        "id": "8tPrWtIRyrXL"
      },
      "source": [
        "## Pregunta 1.3\n",
        "\n",
        "**3a) (1pts)** Con la ayuda de lafunción rbind() , una las filas de las 4 tablas generadas en la pregunta anterior y guarde la tabla resultante en una variable llamada `casos_hist`.<br>\n",
        "**3b) (1pt)** En promedio, ¿Cuántos casos hay diariamente desde el 01 de enero hasta el 22 de abril?<br>\n",
        "**3c) (2pts)** En promedio, ¿Cuántos casos hay diariamente **en cada mes** ?.<br>\n",
        "\n",
        "\n"
      ]
    },
    {
      "cell_type": "code",
      "metadata": {
        "trusted": true,
        "id": "aoM3D3ccyrXO",
        "colab": {
          "base_uri": "https://localhost:8080/"
        },
        "outputId": "20e16b8d-435b-4297-86e2-f74700bb525c"
      },
      "source": [
        "# P1.3\n",
        "## Respusta \n",
        "#a) ---------------------------------------------------------------------\n",
        "casos_hist <- rbind(totales_enero,totales_febrero,totales_marzo,totales_abril)\n",
        "str(casos_hist)"
      ],
      "execution_count": null,
      "outputs": [
        {
          "output_type": "stream",
          "name": "stdout",
          "text": [
            "'data.frame':\t112 obs. of  4 variables:\n",
            " $ dia_del_mes  : num  1 2 3 4 5 6 7 8 9 10 ...\n",
            " $ total        : num  1808398 1810302 1811297 1812348 1814188 ...\n",
            " $ mes          : chr  \"enero\" \"enero\" \"enero\" \"enero\" ...\n",
            " $ casos_diarios: num  1930 1921 1005 1058 1858 ...\n"
          ]
        }
      ]
    },
    {
      "cell_type": "code",
      "metadata": {
        "trusted": true,
        "id": "r7gpybkjyrXT",
        "outputId": "200be39b-d666-4bf0-c565-7b2ce874e6c8",
        "colab": {
          "base_uri": "https://localhost:8080/",
          "height": 102
        }
      },
      "source": [
        "#b) ---------------------------------------------------------------------\n",
        "mean(casos_hist$casos_diarios)# 14537 casos diarios en promedio\n",
        "\n",
        "# también se acepta como valido el total acumulado al último dia dividido por el total de dias transcurridos\n",
        "\n",
        "#c) ---------------------------------------------------------------------\n",
        "#1pt por filtrar correctamente y 1 pt por calcular promedio\n",
        "#prom enero\n",
        "mean(casos_hist$casos_diarios[casos_hist$mes == \"enero\"])\n",
        "#prom febrero\n",
        "mean(casos_hist$casos_diarios[casos_hist$mes == \"febrero\"])\n",
        "#prom marzo\n",
        "mean(casos_hist$casos_diarios[casos_hist$mes == \"marzo\"])\n",
        "#prom abril\n",
        "mean(casos_hist$casos_diarios[casos_hist$mes == \"abril\"])\n"
      ],
      "execution_count": null,
      "outputs": [
        {
          "output_type": "display_data",
          "data": {
            "text/html": [
              "14537.2589285714"
            ],
            "text/markdown": "14537.2589285714",
            "text/latex": "14537.2589285714",
            "text/plain": [
              "[1] 14537.26"
            ]
          },
          "metadata": {}
        },
        {
          "output_type": "display_data",
          "data": {
            "text/html": [
              "10767.4838709677"
            ],
            "text/markdown": "10767.4838709677",
            "text/latex": "10767.4838709677",
            "text/plain": [
              "[1] 10767.48"
            ]
          },
          "metadata": {}
        },
        {
          "output_type": "display_data",
          "data": {
            "text/html": [
              "30089.2142857143"
            ],
            "text/markdown": "30089.2142857143",
            "text/latex": "30089.2142857143",
            "text/plain": [
              "[1] 30089.21"
            ]
          },
          "metadata": {}
        },
        {
          "output_type": "display_data",
          "data": {
            "text/html": [
              "12513.1290322581"
            ],
            "text/markdown": "12513.1290322581",
            "text/latex": "12513.1290322581",
            "text/plain": [
              "[1] 12513.13"
            ]
          },
          "metadata": {}
        },
        {
          "output_type": "display_data",
          "data": {
            "text/html": [
              "2908"
            ],
            "text/markdown": "2908",
            "text/latex": "2908",
            "text/plain": [
              "[1] 2908"
            ]
          },
          "metadata": {}
        }
      ]
    },
    {
      "cell_type": "code",
      "metadata": {
        "trusted": true,
        "id": "VuSk2-AhyrXV"
      },
      "source": [
        ""
      ],
      "execution_count": null,
      "outputs": []
    },
    {
      "cell_type": "markdown",
      "metadata": {
        "id": "bDPDvb7EyrXX"
      },
      "source": [
        "# Sección 2\n",
        "\n",
        "La siguiente celda de código permitirá cargar en su sesión de trabajo los siguientes vectores:\n",
        "* `temp_hombre`: Contiene el registro de la temperatura para una muestra de 650 hombres escogidos al azar.\n",
        "* `temp_hombre`: Contiene el registro de la temperatura para una muestra de 580 mujeres escogidas al azar.\n",
        "\n",
        "\n",
        "En ambos vectores, **los identificadores (id) de cada persona están contenidos en el atributo `names()`** del vector respectivo."
      ]
    },
    {
      "cell_type": "code",
      "metadata": {
        "trusted": true,
        "id": "EuJWMu2XyrXX"
      },
      "source": [
        "temp_h <- readRDS(\"temp_h.rds\")\n",
        "temp_m <- readRDS(\"temp_m.rds\")\n",
        "\n"
      ],
      "execution_count": null,
      "outputs": []
    },
    {
      "cell_type": "code",
      "metadata": {
        "trusted": true,
        "id": "ZqR5bZVpyrXa",
        "outputId": "fb50564b-4afa-4770-d59b-ae0fc7f56b91",
        "colab": {
          "base_uri": "https://localhost:8080/",
          "height": 34
        }
      },
      "source": [
        "class(temp_h)"
      ],
      "execution_count": null,
      "outputs": [
        {
          "output_type": "display_data",
          "data": {
            "text/html": [
              "'numeric'"
            ],
            "text/markdown": "'numeric'",
            "text/latex": "'numeric'",
            "text/plain": [
              "[1] \"numeric\""
            ]
          },
          "metadata": {}
        }
      ]
    },
    {
      "cell_type": "markdown",
      "metadata": {
        "id": "75S5dwvMyrXc"
      },
      "source": [
        "##  Pregunta 2.1\n",
        "\n",
        "**P1) (4pts)** A partir de los dos vectores cargados `temp_h` y `temp_m` ustred deberá crear un data.frame llamado **`casos`** con tres columnas y un total de 1230 filas. Las columnas deben ser las siguientes; una con el id del registro, otra con el género y otra con la temperatura registrada. A modo de ejemplo, a continuación se muestra como debería quedar el data.frame:\n",
        "\n",
        "\n",
        "|id | genero | temperatura|\n",
        "|---|---|---|\n",
        "| h_162 | hombre | 36.8 |\n",
        "| h_140 | hombre | 38.7 |\n",
        "| h_13  | hombre | 36.1 |\n",
        "| $\\vdots$| $\\vdots$ | $\\vdots$|\n",
        "| m_16  | mujer | 39.1 |\n",
        "| m_502 | mujer | 40.1 |\n",
        "| m_189 | mujer | 36.8 |"
      ]
    },
    {
      "cell_type": "code",
      "metadata": {
        "trusted": true,
        "id": "gs9Evl5PyrXc"
      },
      "source": [
        ""
      ],
      "execution_count": null,
      "outputs": []
    },
    {
      "cell_type": "code",
      "metadata": {
        "trusted": true,
        "id": "U6SxM73OyrXe",
        "outputId": "3c393c39-88c4-45e1-9713-1652b72a41b3",
        "colab": {
          "base_uri": "https://localhost:8080/",
          "height": 1000
        }
      },
      "source": [
        "# P2.1. ---------------------------------------------------------------------\n",
        "## Respuesta:\n",
        "\n",
        "# 1pto por unir los nombres\n",
        "ids <- c(names(temp_h),names(temp_m))\n",
        "\n",
        "# 1pto por crear vector con genero\n",
        "gen <- c(\n",
        "     rep(\"hombre\",length(temp_h))\n",
        "    ,rep(\"mujer\",length(temp_m))\n",
        ")\n",
        "\n",
        "# 1pto por unir los vectores\n",
        "tmp <- c(temp_h,temp_m)\n",
        "\n",
        "# 1pto por crear el df.\n",
        "casos <- data.frame(\n",
        "    id = ids,\n",
        "    genero = gen,\n",
        "    temperatura = tmp\n",
        ")\n",
        "\n",
        "\n",
        "casos\n",
        "\n",
        "\n"
      ],
      "execution_count": null,
      "outputs": [
        {
          "output_type": "display_data",
          "data": {
            "text/html": [
              "<table class=\"dataframe\">\n",
              "<caption>A data.frame: 1230 × 3</caption>\n",
              "<thead>\n",
              "\t<tr><th></th><th scope=col>id</th><th scope=col>genero</th><th scope=col>temperatura</th></tr>\n",
              "\t<tr><th></th><th scope=col>&lt;chr&gt;</th><th scope=col>&lt;chr&gt;</th><th scope=col>&lt;dbl&gt;</th></tr>\n",
              "</thead>\n",
              "<tbody>\n",
              "\t<tr><th scope=row>h_377</th><td>h_377</td><td>hombre</td><td>39.32619</td></tr>\n",
              "\t<tr><th scope=row>h_28</th><td>h_28 </td><td>hombre</td><td>36.52849</td></tr>\n",
              "\t<tr><th scope=row>h_20</th><td>h_20 </td><td>hombre</td><td>36.97699</td></tr>\n",
              "\t<tr><th scope=row>h_491</th><td>h_491</td><td>hombre</td><td>39.26491</td></tr>\n",
              "\t<tr><th scope=row>h_403</th><td>h_403</td><td>hombre</td><td>36.19782</td></tr>\n",
              "\t<tr><th scope=row>h_128</th><td>h_128</td><td>hombre</td><td>36.47809</td></tr>\n",
              "\t<tr><th scope=row>h_600</th><td>h_600</td><td>hombre</td><td>35.85077</td></tr>\n",
              "\t<tr><th scope=row>h_402</th><td>h_402</td><td>hombre</td><td>35.77059</td></tr>\n",
              "\t<tr><th scope=row>h_64</th><td>h_64 </td><td>hombre</td><td>38.39027</td></tr>\n",
              "\t<tr><th scope=row>h_473</th><td>h_473</td><td>hombre</td><td>36.94031</td></tr>\n",
              "\t<tr><th scope=row>h_633</th><td>h_633</td><td>hombre</td><td>36.29565</td></tr>\n",
              "\t<tr><th scope=row>h_540</th><td>h_540</td><td>hombre</td><td>38.18633</td></tr>\n",
              "\t<tr><th scope=row>h_429</th><td>h_429</td><td>hombre</td><td>36.05868</td></tr>\n",
              "\t<tr><th scope=row>h_253</th><td>h_253</td><td>hombre</td><td>38.06187</td></tr>\n",
              "\t<tr><th scope=row>h_75</th><td>h_75 </td><td>hombre</td><td>36.95333</td></tr>\n",
              "\t<tr><th scope=row>h_514</th><td>h_514</td><td>hombre</td><td>38.52378</td></tr>\n",
              "\t<tr><th scope=row>h_231</th><td>h_231</td><td>hombre</td><td>35.74277</td></tr>\n",
              "\t<tr><th scope=row>h_16</th><td>h_16 </td><td>hombre</td><td>41.06936</td></tr>\n",
              "\t<tr><th scope=row>h_84</th><td>h_84 </td><td>hombre</td><td>38.62839</td></tr>\n",
              "\t<tr><th scope=row>h_348</th><td>h_348</td><td>hombre</td><td>35.82393</td></tr>\n",
              "\t<tr><th scope=row>h_338</th><td>h_338</td><td>hombre</td><td>35.65520</td></tr>\n",
              "\t<tr><th scope=row>h_60</th><td>h_60 </td><td>hombre</td><td>37.79450</td></tr>\n",
              "\t<tr><th scope=row>h_415</th><td>h_415</td><td>hombre</td><td>38.00586</td></tr>\n",
              "\t<tr><th scope=row>h_344</th><td>h_344</td><td>hombre</td><td>36.71711</td></tr>\n",
              "\t<tr><th scope=row>h_115</th><td>h_115</td><td>hombre</td><td>35.70526</td></tr>\n",
              "\t<tr><th scope=row>h_355</th><td>h_355</td><td>hombre</td><td>35.64720</td></tr>\n",
              "\t<tr><th scope=row>h_523</th><td>h_523</td><td>hombre</td><td>36.39534</td></tr>\n",
              "\t<tr><th scope=row>h_189</th><td>h_189</td><td>hombre</td><td>37.45506</td></tr>\n",
              "\t<tr><th scope=row>h_143</th><td>h_143</td><td>hombre</td><td>37.64950</td></tr>\n",
              "\t<tr><th scope=row>h_468</th><td>h_468</td><td>hombre</td><td>36.89740</td></tr>\n",
              "\t<tr><th scope=row>⋮</th><td>⋮</td><td>⋮</td><td>⋮</td></tr>\n",
              "\t<tr><th scope=row>m_529</th><td>m_529</td><td>mujer</td><td>38.48144</td></tr>\n",
              "\t<tr><th scope=row>m_460</th><td>m_460</td><td>mujer</td><td>36.17130</td></tr>\n",
              "\t<tr><th scope=row>m_374</th><td>m_374</td><td>mujer</td><td>37.56965</td></tr>\n",
              "\t<tr><th scope=row>m_166</th><td>m_166</td><td>mujer</td><td>36.56824</td></tr>\n",
              "\t<tr><th scope=row>m_23</th><td>m_23 </td><td>mujer</td><td>36.22640</td></tr>\n",
              "\t<tr><th scope=row>m_282</th><td>m_282</td><td>mujer</td><td>36.89106</td></tr>\n",
              "\t<tr><th scope=row>m_191</th><td>m_191</td><td>mujer</td><td>36.85213</td></tr>\n",
              "\t<tr><th scope=row>m_567</th><td>m_567</td><td>mujer</td><td>35.66216</td></tr>\n",
              "\t<tr><th scope=row>m_553</th><td>m_553</td><td>mujer</td><td>36.67180</td></tr>\n",
              "\t<tr><th scope=row>m_376</th><td>m_376</td><td>mujer</td><td>36.72666</td></tr>\n",
              "\t<tr><th scope=row>m_7</th><td>m_7  </td><td>mujer</td><td>37.83369</td></tr>\n",
              "\t<tr><th scope=row>m_568</th><td>m_568</td><td>mujer</td><td>36.52582</td></tr>\n",
              "\t<tr><th scope=row>m_194</th><td>m_194</td><td>mujer</td><td>36.75482</td></tr>\n",
              "\t<tr><th scope=row>m_244</th><td>m_244</td><td>mujer</td><td>37.88480</td></tr>\n",
              "\t<tr><th scope=row>m_396</th><td>m_396</td><td>mujer</td><td>37.78936</td></tr>\n",
              "\t<tr><th scope=row>m_278</th><td>m_278</td><td>mujer</td><td>37.15172</td></tr>\n",
              "\t<tr><th scope=row>m_273</th><td>m_273</td><td>mujer</td><td>35.61317</td></tr>\n",
              "\t<tr><th scope=row>m_291</th><td>m_291</td><td>mujer</td><td>38.68882</td></tr>\n",
              "\t<tr><th scope=row>m_438</th><td>m_438</td><td>mujer</td><td>36.87731</td></tr>\n",
              "\t<tr><th scope=row>m_189</th><td>m_189</td><td>mujer</td><td>37.18911</td></tr>\n",
              "\t<tr><th scope=row>m_525</th><td>m_525</td><td>mujer</td><td>38.15172</td></tr>\n",
              "\t<tr><th scope=row>m_145</th><td>m_145</td><td>mujer</td><td>36.41734</td></tr>\n",
              "\t<tr><th scope=row>m_544</th><td>m_544</td><td>mujer</td><td>36.15553</td></tr>\n",
              "\t<tr><th scope=row>m_474</th><td>m_474</td><td>mujer</td><td>37.09358</td></tr>\n",
              "\t<tr><th scope=row>m_55</th><td>m_55 </td><td>mujer</td><td>35.96110</td></tr>\n",
              "\t<tr><th scope=row>m_192</th><td>m_192</td><td>mujer</td><td>39.17966</td></tr>\n",
              "\t<tr><th scope=row>m_436</th><td>m_436</td><td>mujer</td><td>38.47477</td></tr>\n",
              "\t<tr><th scope=row>m_415</th><td>m_415</td><td>mujer</td><td>36.80741</td></tr>\n",
              "\t<tr><th scope=row>m_403</th><td>m_403</td><td>mujer</td><td>37.40099</td></tr>\n",
              "\t<tr><th scope=row>m_452</th><td>m_452</td><td>mujer</td><td>35.69154</td></tr>\n",
              "</tbody>\n",
              "</table>\n"
            ],
            "text/markdown": "\nA data.frame: 1230 × 3\n\n| <!--/--> | id &lt;chr&gt; | genero &lt;chr&gt; | temperatura &lt;dbl&gt; |\n|---|---|---|---|\n| h_377 | h_377 | hombre | 39.32619 |\n| h_28 | h_28  | hombre | 36.52849 |\n| h_20 | h_20  | hombre | 36.97699 |\n| h_491 | h_491 | hombre | 39.26491 |\n| h_403 | h_403 | hombre | 36.19782 |\n| h_128 | h_128 | hombre | 36.47809 |\n| h_600 | h_600 | hombre | 35.85077 |\n| h_402 | h_402 | hombre | 35.77059 |\n| h_64 | h_64  | hombre | 38.39027 |\n| h_473 | h_473 | hombre | 36.94031 |\n| h_633 | h_633 | hombre | 36.29565 |\n| h_540 | h_540 | hombre | 38.18633 |\n| h_429 | h_429 | hombre | 36.05868 |\n| h_253 | h_253 | hombre | 38.06187 |\n| h_75 | h_75  | hombre | 36.95333 |\n| h_514 | h_514 | hombre | 38.52378 |\n| h_231 | h_231 | hombre | 35.74277 |\n| h_16 | h_16  | hombre | 41.06936 |\n| h_84 | h_84  | hombre | 38.62839 |\n| h_348 | h_348 | hombre | 35.82393 |\n| h_338 | h_338 | hombre | 35.65520 |\n| h_60 | h_60  | hombre | 37.79450 |\n| h_415 | h_415 | hombre | 38.00586 |\n| h_344 | h_344 | hombre | 36.71711 |\n| h_115 | h_115 | hombre | 35.70526 |\n| h_355 | h_355 | hombre | 35.64720 |\n| h_523 | h_523 | hombre | 36.39534 |\n| h_189 | h_189 | hombre | 37.45506 |\n| h_143 | h_143 | hombre | 37.64950 |\n| h_468 | h_468 | hombre | 36.89740 |\n| ⋮ | ⋮ | ⋮ | ⋮ |\n| m_529 | m_529 | mujer | 38.48144 |\n| m_460 | m_460 | mujer | 36.17130 |\n| m_374 | m_374 | mujer | 37.56965 |\n| m_166 | m_166 | mujer | 36.56824 |\n| m_23 | m_23  | mujer | 36.22640 |\n| m_282 | m_282 | mujer | 36.89106 |\n| m_191 | m_191 | mujer | 36.85213 |\n| m_567 | m_567 | mujer | 35.66216 |\n| m_553 | m_553 | mujer | 36.67180 |\n| m_376 | m_376 | mujer | 36.72666 |\n| m_7 | m_7   | mujer | 37.83369 |\n| m_568 | m_568 | mujer | 36.52582 |\n| m_194 | m_194 | mujer | 36.75482 |\n| m_244 | m_244 | mujer | 37.88480 |\n| m_396 | m_396 | mujer | 37.78936 |\n| m_278 | m_278 | mujer | 37.15172 |\n| m_273 | m_273 | mujer | 35.61317 |\n| m_291 | m_291 | mujer | 38.68882 |\n| m_438 | m_438 | mujer | 36.87731 |\n| m_189 | m_189 | mujer | 37.18911 |\n| m_525 | m_525 | mujer | 38.15172 |\n| m_145 | m_145 | mujer | 36.41734 |\n| m_544 | m_544 | mujer | 36.15553 |\n| m_474 | m_474 | mujer | 37.09358 |\n| m_55 | m_55  | mujer | 35.96110 |\n| m_192 | m_192 | mujer | 39.17966 |\n| m_436 | m_436 | mujer | 38.47477 |\n| m_415 | m_415 | mujer | 36.80741 |\n| m_403 | m_403 | mujer | 37.40099 |\n| m_452 | m_452 | mujer | 35.69154 |\n\n",
            "text/latex": "A data.frame: 1230 × 3\n\\begin{tabular}{r|lll}\n  & id & genero & temperatura\\\\\n  & <chr> & <chr> & <dbl>\\\\\n\\hline\n\th\\_377 & h\\_377 & hombre & 39.32619\\\\\n\th\\_28 & h\\_28  & hombre & 36.52849\\\\\n\th\\_20 & h\\_20  & hombre & 36.97699\\\\\n\th\\_491 & h\\_491 & hombre & 39.26491\\\\\n\th\\_403 & h\\_403 & hombre & 36.19782\\\\\n\th\\_128 & h\\_128 & hombre & 36.47809\\\\\n\th\\_600 & h\\_600 & hombre & 35.85077\\\\\n\th\\_402 & h\\_402 & hombre & 35.77059\\\\\n\th\\_64 & h\\_64  & hombre & 38.39027\\\\\n\th\\_473 & h\\_473 & hombre & 36.94031\\\\\n\th\\_633 & h\\_633 & hombre & 36.29565\\\\\n\th\\_540 & h\\_540 & hombre & 38.18633\\\\\n\th\\_429 & h\\_429 & hombre & 36.05868\\\\\n\th\\_253 & h\\_253 & hombre & 38.06187\\\\\n\th\\_75 & h\\_75  & hombre & 36.95333\\\\\n\th\\_514 & h\\_514 & hombre & 38.52378\\\\\n\th\\_231 & h\\_231 & hombre & 35.74277\\\\\n\th\\_16 & h\\_16  & hombre & 41.06936\\\\\n\th\\_84 & h\\_84  & hombre & 38.62839\\\\\n\th\\_348 & h\\_348 & hombre & 35.82393\\\\\n\th\\_338 & h\\_338 & hombre & 35.65520\\\\\n\th\\_60 & h\\_60  & hombre & 37.79450\\\\\n\th\\_415 & h\\_415 & hombre & 38.00586\\\\\n\th\\_344 & h\\_344 & hombre & 36.71711\\\\\n\th\\_115 & h\\_115 & hombre & 35.70526\\\\\n\th\\_355 & h\\_355 & hombre & 35.64720\\\\\n\th\\_523 & h\\_523 & hombre & 36.39534\\\\\n\th\\_189 & h\\_189 & hombre & 37.45506\\\\\n\th\\_143 & h\\_143 & hombre & 37.64950\\\\\n\th\\_468 & h\\_468 & hombre & 36.89740\\\\\n\t⋮ & ⋮ & ⋮ & ⋮\\\\\n\tm\\_529 & m\\_529 & mujer & 38.48144\\\\\n\tm\\_460 & m\\_460 & mujer & 36.17130\\\\\n\tm\\_374 & m\\_374 & mujer & 37.56965\\\\\n\tm\\_166 & m\\_166 & mujer & 36.56824\\\\\n\tm\\_23 & m\\_23  & mujer & 36.22640\\\\\n\tm\\_282 & m\\_282 & mujer & 36.89106\\\\\n\tm\\_191 & m\\_191 & mujer & 36.85213\\\\\n\tm\\_567 & m\\_567 & mujer & 35.66216\\\\\n\tm\\_553 & m\\_553 & mujer & 36.67180\\\\\n\tm\\_376 & m\\_376 & mujer & 36.72666\\\\\n\tm\\_7 & m\\_7   & mujer & 37.83369\\\\\n\tm\\_568 & m\\_568 & mujer & 36.52582\\\\\n\tm\\_194 & m\\_194 & mujer & 36.75482\\\\\n\tm\\_244 & m\\_244 & mujer & 37.88480\\\\\n\tm\\_396 & m\\_396 & mujer & 37.78936\\\\\n\tm\\_278 & m\\_278 & mujer & 37.15172\\\\\n\tm\\_273 & m\\_273 & mujer & 35.61317\\\\\n\tm\\_291 & m\\_291 & mujer & 38.68882\\\\\n\tm\\_438 & m\\_438 & mujer & 36.87731\\\\\n\tm\\_189 & m\\_189 & mujer & 37.18911\\\\\n\tm\\_525 & m\\_525 & mujer & 38.15172\\\\\n\tm\\_145 & m\\_145 & mujer & 36.41734\\\\\n\tm\\_544 & m\\_544 & mujer & 36.15553\\\\\n\tm\\_474 & m\\_474 & mujer & 37.09358\\\\\n\tm\\_55 & m\\_55  & mujer & 35.96110\\\\\n\tm\\_192 & m\\_192 & mujer & 39.17966\\\\\n\tm\\_436 & m\\_436 & mujer & 38.47477\\\\\n\tm\\_415 & m\\_415 & mujer & 36.80741\\\\\n\tm\\_403 & m\\_403 & mujer & 37.40099\\\\\n\tm\\_452 & m\\_452 & mujer & 35.69154\\\\\n\\end{tabular}\n",
            "text/plain": [
              "      id    genero temperatura\n",
              "h_377 h_377 hombre 39.32619   \n",
              "h_28  h_28  hombre 36.52849   \n",
              "h_20  h_20  hombre 36.97699   \n",
              "h_491 h_491 hombre 39.26491   \n",
              "h_403 h_403 hombre 36.19782   \n",
              "h_128 h_128 hombre 36.47809   \n",
              "h_600 h_600 hombre 35.85077   \n",
              "h_402 h_402 hombre 35.77059   \n",
              "h_64  h_64  hombre 38.39027   \n",
              "h_473 h_473 hombre 36.94031   \n",
              "h_633 h_633 hombre 36.29565   \n",
              "h_540 h_540 hombre 38.18633   \n",
              "h_429 h_429 hombre 36.05868   \n",
              "h_253 h_253 hombre 38.06187   \n",
              "h_75  h_75  hombre 36.95333   \n",
              "h_514 h_514 hombre 38.52378   \n",
              "h_231 h_231 hombre 35.74277   \n",
              "h_16  h_16  hombre 41.06936   \n",
              "h_84  h_84  hombre 38.62839   \n",
              "h_348 h_348 hombre 35.82393   \n",
              "h_338 h_338 hombre 35.65520   \n",
              "h_60  h_60  hombre 37.79450   \n",
              "h_415 h_415 hombre 38.00586   \n",
              "h_344 h_344 hombre 36.71711   \n",
              "h_115 h_115 hombre 35.70526   \n",
              "h_355 h_355 hombre 35.64720   \n",
              "h_523 h_523 hombre 36.39534   \n",
              "h_189 h_189 hombre 37.45506   \n",
              "h_143 h_143 hombre 37.64950   \n",
              "h_468 h_468 hombre 36.89740   \n",
              "⋮     ⋮     ⋮      ⋮          \n",
              "m_529 m_529 mujer  38.48144   \n",
              "m_460 m_460 mujer  36.17130   \n",
              "m_374 m_374 mujer  37.56965   \n",
              "m_166 m_166 mujer  36.56824   \n",
              "m_23  m_23  mujer  36.22640   \n",
              "m_282 m_282 mujer  36.89106   \n",
              "m_191 m_191 mujer  36.85213   \n",
              "m_567 m_567 mujer  35.66216   \n",
              "m_553 m_553 mujer  36.67180   \n",
              "m_376 m_376 mujer  36.72666   \n",
              "m_7   m_7   mujer  37.83369   \n",
              "m_568 m_568 mujer  36.52582   \n",
              "m_194 m_194 mujer  36.75482   \n",
              "m_244 m_244 mujer  37.88480   \n",
              "m_396 m_396 mujer  37.78936   \n",
              "m_278 m_278 mujer  37.15172   \n",
              "m_273 m_273 mujer  35.61317   \n",
              "m_291 m_291 mujer  38.68882   \n",
              "m_438 m_438 mujer  36.87731   \n",
              "m_189 m_189 mujer  37.18911   \n",
              "m_525 m_525 mujer  38.15172   \n",
              "m_145 m_145 mujer  36.41734   \n",
              "m_544 m_544 mujer  36.15553   \n",
              "m_474 m_474 mujer  37.09358   \n",
              "m_55  m_55  mujer  35.96110   \n",
              "m_192 m_192 mujer  39.17966   \n",
              "m_436 m_436 mujer  38.47477   \n",
              "m_415 m_415 mujer  36.80741   \n",
              "m_403 m_403 mujer  37.40099   \n",
              "m_452 m_452 mujer  35.69154   "
            ]
          },
          "metadata": {}
        }
      ]
    },
    {
      "cell_type": "markdown",
      "metadata": {
        "id": "AHy8RtvryrXg"
      },
      "source": [
        "## Pregunta 2.2\n",
        "\n",
        "Adicionalmente, se cuenta con la información de síntomas presentados por cada presona registrada. Esta información se encuentra disponible en el archivo `sintomas.rds`.\n",
        "\n",
        "**2a) (1pt)** Cargue el archivo `sintomas.rds` en una variable llamada _sintomas_.<br>\n",
        "**2b) (1pt)** ¿Cuál es la clase de este objeto?.<br>\n",
        "**2c) (1pt)** Note que cada fila undica con un 1 si la persona presentó el respectivo síntoma y 0 si no. ¿Qué sintomas presentó la persona ubicada en el registro 450?.<br>\n",
        "**2d) (2pts)** ¿Qué síntomas y qué temperatura presentó la persona con id \"h_537\"?. Si es le es de utilidad puede utilizar la función `rownames()`, la cual permite obtener los nombres (id) de las filas de una matriz.<br>\n",
        "\n"
      ]
    },
    {
      "cell_type": "code",
      "metadata": {
        "trusted": true,
        "id": "AZlCWKXRyrXg",
        "outputId": "ad52ab13-0a29-4a90-d5a2-6c2f26988819",
        "colab": {
          "base_uri": "https://localhost:8080/",
          "height": 337
        }
      },
      "source": [
        "# P2 .2\n",
        "## Respuestas:\n",
        "\n",
        "##a)-------------------------------------------------------\n",
        "sintomas <- readRDS(\"sintomas.rds\")\n",
        "head(sintomas)\n",
        "#b)-------------------------------------------------------\n",
        "class(sintomas) #corresponde a una matriz\n",
        "\n",
        "#c)-------------------------------------------------------\n",
        "sintomas[450,] #38.9 de temp y presentó todos los síntomas\n",
        "\n",
        "#d)-------------------------------------------------------\n",
        "# Respuesta: sólo dolor de peho y 36.7 de temperatura\n",
        "\n",
        "# opción usando rownames (2pt correcto , 1 pto si ponen sintomas[537,] )\n",
        "sintomas[rownames(sintomas) == \"h_537\", ]\n",
        "\n",
        "ind <-which(rownames(sintomas) == \"h_537\")\n",
        "sintomas[ind,]\n",
        "# opción sin usar rownames\n",
        "sintomas[\"h_537\",] # Recordar que se puede acceder por nombre a los elementos de un vector (o matriz)\n"
      ],
      "execution_count": null,
      "outputs": [
        {
          "output_type": "display_data",
          "data": {
            "text/html": [
              "<table class=\"dataframe\">\n",
              "<caption>A matrix: 6 × 5 of type dbl</caption>\n",
              "<thead>\n",
              "\t<tr><th></th><th scope=col>temperatura</th><th scope=col>tiene_tos</th><th scope=col>tiene_dolor_cabeza</th><th scope=col>tiene_perdida_olfato</th><th scope=col>tiene_dolor_pecho</th></tr>\n",
              "</thead>\n",
              "<tbody>\n",
              "\t<tr><th scope=row>h_377</th><td>39.32619</td><td>0</td><td>0</td><td>0</td><td>1</td></tr>\n",
              "\t<tr><th scope=row>h_28</th><td>36.52849</td><td>1</td><td>1</td><td>0</td><td>0</td></tr>\n",
              "\t<tr><th scope=row>h_20</th><td>36.97699</td><td>0</td><td>0</td><td>1</td><td>0</td></tr>\n",
              "\t<tr><th scope=row>h_491</th><td>39.26491</td><td>1</td><td>1</td><td>1</td><td>1</td></tr>\n",
              "\t<tr><th scope=row>h_403</th><td>36.19782</td><td>0</td><td>0</td><td>1</td><td>0</td></tr>\n",
              "\t<tr><th scope=row>h_128</th><td>36.47809</td><td>1</td><td>1</td><td>1</td><td>0</td></tr>\n",
              "</tbody>\n",
              "</table>\n"
            ],
            "text/markdown": "\nA matrix: 6 × 5 of type dbl\n\n| <!--/--> | temperatura | tiene_tos | tiene_dolor_cabeza | tiene_perdida_olfato | tiene_dolor_pecho |\n|---|---|---|---|---|---|\n| h_377 | 39.32619 | 0 | 0 | 0 | 1 |\n| h_28 | 36.52849 | 1 | 1 | 0 | 0 |\n| h_20 | 36.97699 | 0 | 0 | 1 | 0 |\n| h_491 | 39.26491 | 1 | 1 | 1 | 1 |\n| h_403 | 36.19782 | 0 | 0 | 1 | 0 |\n| h_128 | 36.47809 | 1 | 1 | 1 | 0 |\n\n",
            "text/latex": "A matrix: 6 × 5 of type dbl\n\\begin{tabular}{r|lllll}\n  & temperatura & tiene\\_tos & tiene\\_dolor\\_cabeza & tiene\\_perdida\\_olfato & tiene\\_dolor\\_pecho\\\\\n\\hline\n\th\\_377 & 39.32619 & 0 & 0 & 0 & 1\\\\\n\th\\_28 & 36.52849 & 1 & 1 & 0 & 0\\\\\n\th\\_20 & 36.97699 & 0 & 0 & 1 & 0\\\\\n\th\\_491 & 39.26491 & 1 & 1 & 1 & 1\\\\\n\th\\_403 & 36.19782 & 0 & 0 & 1 & 0\\\\\n\th\\_128 & 36.47809 & 1 & 1 & 1 & 0\\\\\n\\end{tabular}\n",
            "text/plain": [
              "      temperatura tiene_tos tiene_dolor_cabeza tiene_perdida_olfato\n",
              "h_377 39.32619    0         0                  0                   \n",
              "h_28  36.52849    1         1                  0                   \n",
              "h_20  36.97699    0         0                  1                   \n",
              "h_491 39.26491    1         1                  1                   \n",
              "h_403 36.19782    0         0                  1                   \n",
              "h_128 36.47809    1         1                  1                   \n",
              "      tiene_dolor_pecho\n",
              "h_377 1                \n",
              "h_28  0                \n",
              "h_20  0                \n",
              "h_491 1                \n",
              "h_403 0                \n",
              "h_128 0                "
            ]
          },
          "metadata": {}
        },
        {
          "output_type": "display_data",
          "data": {
            "text/html": [
              "<style>\n",
              ".list-inline {list-style: none; margin:0; padding: 0}\n",
              ".list-inline>li {display: inline-block}\n",
              ".list-inline>li:not(:last-child)::after {content: \"\\00b7\"; padding: 0 .5ex}\n",
              "</style>\n",
              "<ol class=list-inline><li>'matrix'</li><li>'array'</li></ol>\n"
            ],
            "text/markdown": "1. 'matrix'\n2. 'array'\n\n\n",
            "text/latex": "\\begin{enumerate*}\n\\item 'matrix'\n\\item 'array'\n\\end{enumerate*}\n",
            "text/plain": [
              "[1] \"matrix\" \"array\" "
            ]
          },
          "metadata": {}
        },
        {
          "output_type": "display_data",
          "data": {
            "text/html": [
              "<style>\n",
              ".dl-inline {width: auto; margin:0; padding: 0}\n",
              ".dl-inline>dt, .dl-inline>dd {float: none; width: auto; display: inline-block}\n",
              ".dl-inline>dt::after {content: \":\\0020\"; padding-right: .5ex}\n",
              ".dl-inline>dt:not(:first-of-type) {padding-left: .5ex}\n",
              "</style><dl class=dl-inline><dt>temperatura</dt><dd>38.8517762108217</dd><dt>tiene_tos</dt><dd>1</dd><dt>tiene_dolor_cabeza</dt><dd>1</dd><dt>tiene_perdida_olfato</dt><dd>1</dd><dt>tiene_dolor_pecho</dt><dd>1</dd></dl>\n"
            ],
            "text/markdown": "temperatura\n:   38.8517762108217tiene_tos\n:   1tiene_dolor_cabeza\n:   1tiene_perdida_olfato\n:   1tiene_dolor_pecho\n:   1\n\n",
            "text/latex": "\\begin{description*}\n\\item[temperatura] 38.8517762108217\n\\item[tiene\\textbackslash{}\\_tos] 1\n\\item[tiene\\textbackslash{}\\_dolor\\textbackslash{}\\_cabeza] 1\n\\item[tiene\\textbackslash{}\\_perdida\\textbackslash{}\\_olfato] 1\n\\item[tiene\\textbackslash{}\\_dolor\\textbackslash{}\\_pecho] 1\n\\end{description*}\n",
            "text/plain": [
              "         temperatura            tiene_tos   tiene_dolor_cabeza \n",
              "            38.85178              1.00000              1.00000 \n",
              "tiene_perdida_olfato    tiene_dolor_pecho \n",
              "             1.00000              1.00000 "
            ]
          },
          "metadata": {}
        },
        {
          "output_type": "display_data",
          "data": {
            "text/html": [
              "<style>\n",
              ".dl-inline {width: auto; margin:0; padding: 0}\n",
              ".dl-inline>dt, .dl-inline>dd {float: none; width: auto; display: inline-block}\n",
              ".dl-inline>dt::after {content: \":\\0020\"; padding-right: .5ex}\n",
              ".dl-inline>dt:not(:first-of-type) {padding-left: .5ex}\n",
              "</style><dl class=dl-inline><dt>temperatura</dt><dd>36.6998022307605</dd><dt>tiene_tos</dt><dd>0</dd><dt>tiene_dolor_cabeza</dt><dd>0</dd><dt>tiene_perdida_olfato</dt><dd>0</dd><dt>tiene_dolor_pecho</dt><dd>1</dd></dl>\n"
            ],
            "text/markdown": "temperatura\n:   36.6998022307605tiene_tos\n:   0tiene_dolor_cabeza\n:   0tiene_perdida_olfato\n:   0tiene_dolor_pecho\n:   1\n\n",
            "text/latex": "\\begin{description*}\n\\item[temperatura] 36.6998022307605\n\\item[tiene\\textbackslash{}\\_tos] 0\n\\item[tiene\\textbackslash{}\\_dolor\\textbackslash{}\\_cabeza] 0\n\\item[tiene\\textbackslash{}\\_perdida\\textbackslash{}\\_olfato] 0\n\\item[tiene\\textbackslash{}\\_dolor\\textbackslash{}\\_pecho] 1\n\\end{description*}\n",
            "text/plain": [
              "         temperatura            tiene_tos   tiene_dolor_cabeza \n",
              "             36.6998               0.0000               0.0000 \n",
              "tiene_perdida_olfato    tiene_dolor_pecho \n",
              "              0.0000               1.0000 "
            ]
          },
          "metadata": {}
        },
        {
          "output_type": "display_data",
          "data": {
            "text/html": [
              "<style>\n",
              ".dl-inline {width: auto; margin:0; padding: 0}\n",
              ".dl-inline>dt, .dl-inline>dd {float: none; width: auto; display: inline-block}\n",
              ".dl-inline>dt::after {content: \":\\0020\"; padding-right: .5ex}\n",
              ".dl-inline>dt:not(:first-of-type) {padding-left: .5ex}\n",
              "</style><dl class=dl-inline><dt>temperatura</dt><dd>36.6998022307605</dd><dt>tiene_tos</dt><dd>0</dd><dt>tiene_dolor_cabeza</dt><dd>0</dd><dt>tiene_perdida_olfato</dt><dd>0</dd><dt>tiene_dolor_pecho</dt><dd>1</dd></dl>\n"
            ],
            "text/markdown": "temperatura\n:   36.6998022307605tiene_tos\n:   0tiene_dolor_cabeza\n:   0tiene_perdida_olfato\n:   0tiene_dolor_pecho\n:   1\n\n",
            "text/latex": "\\begin{description*}\n\\item[temperatura] 36.6998022307605\n\\item[tiene\\textbackslash{}\\_tos] 0\n\\item[tiene\\textbackslash{}\\_dolor\\textbackslash{}\\_cabeza] 0\n\\item[tiene\\textbackslash{}\\_perdida\\textbackslash{}\\_olfato] 0\n\\item[tiene\\textbackslash{}\\_dolor\\textbackslash{}\\_pecho] 1\n\\end{description*}\n",
            "text/plain": [
              "         temperatura            tiene_tos   tiene_dolor_cabeza \n",
              "             36.6998               0.0000               0.0000 \n",
              "tiene_perdida_olfato    tiene_dolor_pecho \n",
              "              0.0000               1.0000 "
            ]
          },
          "metadata": {}
        },
        {
          "output_type": "display_data",
          "data": {
            "text/html": [
              "<style>\n",
              ".dl-inline {width: auto; margin:0; padding: 0}\n",
              ".dl-inline>dt, .dl-inline>dd {float: none; width: auto; display: inline-block}\n",
              ".dl-inline>dt::after {content: \":\\0020\"; padding-right: .5ex}\n",
              ".dl-inline>dt:not(:first-of-type) {padding-left: .5ex}\n",
              "</style><dl class=dl-inline><dt>temperatura</dt><dd>36.6998022307605</dd><dt>tiene_tos</dt><dd>0</dd><dt>tiene_dolor_cabeza</dt><dd>0</dd><dt>tiene_perdida_olfato</dt><dd>0</dd><dt>tiene_dolor_pecho</dt><dd>1</dd></dl>\n"
            ],
            "text/markdown": "temperatura\n:   36.6998022307605tiene_tos\n:   0tiene_dolor_cabeza\n:   0tiene_perdida_olfato\n:   0tiene_dolor_pecho\n:   1\n\n",
            "text/latex": "\\begin{description*}\n\\item[temperatura] 36.6998022307605\n\\item[tiene\\textbackslash{}\\_tos] 0\n\\item[tiene\\textbackslash{}\\_dolor\\textbackslash{}\\_cabeza] 0\n\\item[tiene\\textbackslash{}\\_perdida\\textbackslash{}\\_olfato] 0\n\\item[tiene\\textbackslash{}\\_dolor\\textbackslash{}\\_pecho] 1\n\\end{description*}\n",
            "text/plain": [
              "         temperatura            tiene_tos   tiene_dolor_cabeza \n",
              "             36.6998               0.0000               0.0000 \n",
              "tiene_perdida_olfato    tiene_dolor_pecho \n",
              "              0.0000               1.0000 "
            ]
          },
          "metadata": {}
        }
      ]
    },
    {
      "cell_type": "markdown",
      "metadata": {
        "id": "6eU55V_ZyrXj"
      },
      "source": [
        "## Nota de utilidad\n",
        "\n",
        "Ya sea trabajando con un vector, matriz, data.frame o lista, es posible omitir la selección de alguna(s) de sus posiciones (filas/columnas o slots). Esto se puede llevar a cabo de diversas maneras, por ejemplo:"
      ]
    },
    {
      "cell_type": "code",
      "metadata": {
        "trusted": true,
        "id": "9evO4C2HyrXj"
      },
      "source": [
        "# Primero creamos un vector, una matriz, un data.frame  y una lista \n",
        "\n",
        "vec <- c(v1 = 1, v2 = 2, v3 = 3,v4 = 4)\n",
        "mat <- cbind(c(1,1),c(2,2),c(3,3),c(4,4) ) ; rownames(mat) <- c(\"f1\",\"f2\"); colnames(mat) <- c(\"c1\",\"c2\",\"c3\",\"c4\")\n",
        "dat <- as.data.frame(mat)\n",
        "lis <- list(s1 = c(1,1), s2 = c(2,2), s3 = c(3,3) , s4 = c(4,4))"
      ],
      "execution_count": null,
      "outputs": []
    },
    {
      "cell_type": "markdown",
      "metadata": {
        "id": "3exMDryiyrXl"
      },
      "source": [
        "### Omisión por posición"
      ]
    },
    {
      "cell_type": "code",
      "metadata": {
        "trusted": true,
        "id": "yu3IVwakyrXm",
        "outputId": "6a1e9c16-72c1-4e22-9100-62d14c5e70b3"
      },
      "source": [
        "#Si queremos omitir el primer y tercer elmento del vector y la lista\n",
        "vec[-c(1,3)]\n",
        "lis[-c(1,3)]\n",
        "\n",
        "# Misma idea si queremos omitir columnas de una matriz (o data.frame)\n",
        "mat[,-c(1,3)]\n",
        "dat[,-c(1,3)]\n",
        "\n"
      ],
      "execution_count": null,
      "outputs": [
        {
          "output_type": "display_data",
          "data": {
            "text/plain": [
              "v2 v4 \n",
              " 2  4 "
            ],
            "text/latex": "\\begin{description*}\n\\item[v2] 2\n\\item[v4] 4\n\\end{description*}\n",
            "text/markdown": "v2\n:   2v4\n:   4\n\n",
            "text/html": [
              "<dl class=dl-horizontal>\n",
              "\t<dt>v2</dt>\n",
              "\t\t<dd>2</dd>\n",
              "\t<dt>v4</dt>\n",
              "\t\t<dd>4</dd>\n",
              "</dl>\n"
            ]
          },
          "metadata": {
            "tags": []
          }
        },
        {
          "output_type": "display_data",
          "data": {
            "text/plain": [
              "$s2\n",
              "[1] 2 2\n",
              "\n",
              "$s4\n",
              "[1] 4 4\n"
            ],
            "text/latex": "\\begin{description}\n\\item[\\$s2] \\begin{enumerate*}\n\\item 2\n\\item 2\n\\end{enumerate*}\n\n\\item[\\$s4] \\begin{enumerate*}\n\\item 4\n\\item 4\n\\end{enumerate*}\n\n\\end{description}\n",
            "text/markdown": "$s2\n:   1. 2\n2. 2\n\n\n\n$s4\n:   1. 4\n2. 4\n\n\n\n\n\n",
            "text/html": [
              "<dl>\n",
              "\t<dt>$s2</dt>\n",
              "\t\t<dd><ol class=list-inline>\n",
              "\t<li>2</li>\n",
              "\t<li>2</li>\n",
              "</ol>\n",
              "</dd>\n",
              "\t<dt>$s4</dt>\n",
              "\t\t<dd><ol class=list-inline>\n",
              "\t<li>4</li>\n",
              "\t<li>4</li>\n",
              "</ol>\n",
              "</dd>\n",
              "</dl>\n"
            ]
          },
          "metadata": {
            "tags": []
          }
        },
        {
          "output_type": "display_data",
          "data": {
            "text/plain": [
              "   c2 c4\n",
              "f1 2  4 \n",
              "f2 2  4 "
            ],
            "text/latex": "A matrix: 2 x 2 of type dbl\n\\begin{tabular}{r|ll}\n  & c2 & c4\\\\\n\\hline\n\tf1 & 2 & 4\\\\\n\tf2 & 2 & 4\\\\\n\\end{tabular}\n",
            "text/markdown": "\nA matrix: 2 x 2 of type dbl\n\n| <!--/--> | c2 | c4 |\n|---|---|---|\n| f1 | 2 | 4 |\n| f2 | 2 | 4 |\n\n",
            "text/html": [
              "<table>\n",
              "<caption>A matrix: 2 x 2 of type dbl</caption>\n",
              "<thead>\n",
              "\t<tr><th></th><th scope=col>c2</th><th scope=col>c4</th></tr>\n",
              "</thead>\n",
              "<tbody>\n",
              "\t<tr><th scope=row>f1</th><td>2</td><td>4</td></tr>\n",
              "\t<tr><th scope=row>f2</th><td>2</td><td>4</td></tr>\n",
              "</tbody>\n",
              "</table>\n"
            ]
          },
          "metadata": {
            "tags": []
          }
        },
        {
          "output_type": "display_data",
          "data": {
            "text/plain": [
              "   c2 c4\n",
              "f1 2  4 \n",
              "f2 2  4 "
            ],
            "text/latex": "A data.frame: 2 x 2\n\\begin{tabular}{r|ll}\n  & c2 & c4\\\\\n  & <dbl> & <dbl>\\\\\n\\hline\n\tf1 & 2 & 4\\\\\n\tf2 & 2 & 4\\\\\n\\end{tabular}\n",
            "text/markdown": "\nA data.frame: 2 x 2\n\n| <!--/--> | c2 &lt;dbl&gt; | c4 &lt;dbl&gt; |\n|---|---|---|\n| f1 | 2 | 4 |\n| f2 | 2 | 4 |\n\n",
            "text/html": [
              "<table>\n",
              "<caption>A data.frame: 2 x 2</caption>\n",
              "<thead>\n",
              "\t<tr><th></th><th scope=col>c2</th><th scope=col>c4</th></tr>\n",
              "\t<tr><th></th><th scope=col>&lt;dbl&gt;</th><th scope=col>&lt;dbl&gt;</th></tr>\n",
              "</thead>\n",
              "<tbody>\n",
              "\t<tr><th scope=row>f1</th><td>2</td><td>4</td></tr>\n",
              "\t<tr><th scope=row>f2</th><td>2</td><td>4</td></tr>\n",
              "</tbody>\n",
              "</table>\n"
            ]
          },
          "metadata": {
            "tags": []
          }
        }
      ]
    },
    {
      "cell_type": "markdown",
      "metadata": {
        "id": "mV62LbVJyrXo"
      },
      "source": [
        "### Omisión por nombres"
      ]
    },
    {
      "cell_type": "code",
      "metadata": {
        "trusted": true,
        "id": "UsYeHdUbyrXo",
        "outputId": "0379514d-8613-4475-e9eb-257dd7780875"
      },
      "source": [
        "# Por ahora tendremos que ubicar las posiciones de los nombres deseados.\n",
        "\n",
        "pos_vec <- which(names(vec) %in% c(\"v1\",\"v3\"))\n",
        "pos_lis <- which(names(lis) %in% c(\"s1\",\"s3\"))\n",
        "pos_mat <- which(colnames(mat) %in% c(\"c1\",\"c3\"))\n",
        "pos_dat <- which(names(dat) %in% c(\"c1\",\"c3\"))\n",
        "\n",
        "vec[-pos_vec]\n",
        "lis[-pos_lis]\n",
        "\n",
        "# Misma idea si queremos omitir columnas de una matriz (o data.frame)\n",
        "mat[,-pos_mat]\n",
        "dat[,-pos_dat]\n"
      ],
      "execution_count": null,
      "outputs": [
        {
          "output_type": "display_data",
          "data": {
            "text/plain": [
              "v2 v4 \n",
              " 2  4 "
            ],
            "text/latex": "\\begin{description*}\n\\item[v2] 2\n\\item[v4] 4\n\\end{description*}\n",
            "text/markdown": "v2\n:   2v4\n:   4\n\n",
            "text/html": [
              "<dl class=dl-horizontal>\n",
              "\t<dt>v2</dt>\n",
              "\t\t<dd>2</dd>\n",
              "\t<dt>v4</dt>\n",
              "\t\t<dd>4</dd>\n",
              "</dl>\n"
            ]
          },
          "metadata": {
            "tags": []
          }
        },
        {
          "output_type": "display_data",
          "data": {
            "text/plain": [
              "$s2\n",
              "[1] 2 2\n",
              "\n",
              "$s4\n",
              "[1] 4 4\n"
            ],
            "text/latex": "\\begin{description}\n\\item[\\$s2] \\begin{enumerate*}\n\\item 2\n\\item 2\n\\end{enumerate*}\n\n\\item[\\$s4] \\begin{enumerate*}\n\\item 4\n\\item 4\n\\end{enumerate*}\n\n\\end{description}\n",
            "text/markdown": "$s2\n:   1. 2\n2. 2\n\n\n\n$s4\n:   1. 4\n2. 4\n\n\n\n\n\n",
            "text/html": [
              "<dl>\n",
              "\t<dt>$s2</dt>\n",
              "\t\t<dd><ol class=list-inline>\n",
              "\t<li>2</li>\n",
              "\t<li>2</li>\n",
              "</ol>\n",
              "</dd>\n",
              "\t<dt>$s4</dt>\n",
              "\t\t<dd><ol class=list-inline>\n",
              "\t<li>4</li>\n",
              "\t<li>4</li>\n",
              "</ol>\n",
              "</dd>\n",
              "</dl>\n"
            ]
          },
          "metadata": {
            "tags": []
          }
        },
        {
          "output_type": "display_data",
          "data": {
            "text/plain": [
              "   c2 c4\n",
              "f1 2  4 \n",
              "f2 2  4 "
            ],
            "text/latex": "A matrix: 2 x 2 of type dbl\n\\begin{tabular}{r|ll}\n  & c2 & c4\\\\\n\\hline\n\tf1 & 2 & 4\\\\\n\tf2 & 2 & 4\\\\\n\\end{tabular}\n",
            "text/markdown": "\nA matrix: 2 x 2 of type dbl\n\n| <!--/--> | c2 | c4 |\n|---|---|---|\n| f1 | 2 | 4 |\n| f2 | 2 | 4 |\n\n",
            "text/html": [
              "<table>\n",
              "<caption>A matrix: 2 x 2 of type dbl</caption>\n",
              "<thead>\n",
              "\t<tr><th></th><th scope=col>c2</th><th scope=col>c4</th></tr>\n",
              "</thead>\n",
              "<tbody>\n",
              "\t<tr><th scope=row>f1</th><td>2</td><td>4</td></tr>\n",
              "\t<tr><th scope=row>f2</th><td>2</td><td>4</td></tr>\n",
              "</tbody>\n",
              "</table>\n"
            ]
          },
          "metadata": {
            "tags": []
          }
        },
        {
          "output_type": "display_data",
          "data": {
            "text/plain": [
              "   c2 c4\n",
              "f1 2  4 \n",
              "f2 2  4 "
            ],
            "text/latex": "A data.frame: 2 x 2\n\\begin{tabular}{r|ll}\n  & c2 & c4\\\\\n  & <dbl> & <dbl>\\\\\n\\hline\n\tf1 & 2 & 4\\\\\n\tf2 & 2 & 4\\\\\n\\end{tabular}\n",
            "text/markdown": "\nA data.frame: 2 x 2\n\n| <!--/--> | c2 &lt;dbl&gt; | c4 &lt;dbl&gt; |\n|---|---|---|\n| f1 | 2 | 4 |\n| f2 | 2 | 4 |\n\n",
            "text/html": [
              "<table>\n",
              "<caption>A data.frame: 2 x 2</caption>\n",
              "<thead>\n",
              "\t<tr><th></th><th scope=col>c2</th><th scope=col>c4</th></tr>\n",
              "\t<tr><th></th><th scope=col>&lt;dbl&gt;</th><th scope=col>&lt;dbl&gt;</th></tr>\n",
              "</thead>\n",
              "<tbody>\n",
              "\t<tr><th scope=row>f1</th><td>2</td><td>4</td></tr>\n",
              "\t<tr><th scope=row>f2</th><td>2</td><td>4</td></tr>\n",
              "</tbody>\n",
              "</table>\n"
            ]
          },
          "metadata": {
            "tags": []
          }
        }
      ]
    },
    {
      "cell_type": "markdown",
      "metadata": {
        "id": "itjmP-ieyrXq"
      },
      "source": [
        "Más adelante veremos otras alternivas, como por ejemplo, utilizando funciones del package `dplyr`."
      ]
    },
    {
      "cell_type": "markdown",
      "metadata": {
        "id": "ui2Zv7VSyrXq"
      },
      "source": [
        "## Pregunta 2.3\n",
        "\n",
        "Con la ayuda (deberá consultar la documentación de ser necesario) de las funciones `rowSums()` y `colSums()`, identifique lo siguiente.\n",
        "\n",
        "  **3a) (3pt)** ¿Cuántos registros presentaron exactamente los 4 síntomas?<br>\n",
        "  **3b) (1pt)** ¿Cúantas personas presentaron tos?<br>\n",
        "  **3c) (2pt)** ¿Cuál es el síntoma más frecuente?<br>\n",
        "  "
      ]
    },
    {
      "cell_type": "code",
      "metadata": {
        "trusted": true,
        "id": "DiKe5qbuyrXr",
        "outputId": "1f87c783-5f0d-4167-c5ff-5e511e9145af",
        "colab": {
          "base_uri": "https://localhost:8080/",
          "height": 680
        }
      },
      "source": [
        "# P3\n",
        "##Respuestas:\n",
        "\n",
        "#a)-------------------------------------------------------\n",
        "# 1pt por aplicar rowSums() omitiendo temperatura\n",
        "# tambien es válido rowSums(sintomas[,-1])\n",
        "total_sintomas <- rowSums(sintomas[,c(\"tiene_tos\",\"tiene_dolor_cabeza\",\"tiene_perdida_olfato\",\"tiene_dolor_pecho\")])\n",
        "total_sintomas"
      ],
      "execution_count": null,
      "outputs": [
        {
          "output_type": "display_data",
          "data": {
            "text/html": [
              "<style>\n",
              ".dl-inline {width: auto; margin:0; padding: 0}\n",
              ".dl-inline>dt, .dl-inline>dd {float: none; width: auto; display: inline-block}\n",
              ".dl-inline>dt::after {content: \":\\0020\"; padding-right: .5ex}\n",
              ".dl-inline>dt:not(:first-of-type) {padding-left: .5ex}\n",
              "</style><dl class=dl-inline><dt>h_377</dt><dd>1</dd><dt>h_28</dt><dd>2</dd><dt>h_20</dt><dd>1</dd><dt>h_491</dt><dd>4</dd><dt>h_403</dt><dd>1</dd><dt>h_128</dt><dd>3</dd><dt>h_600</dt><dd>0</dd><dt>h_402</dt><dd>2</dd><dt>h_64</dt><dd>4</dd><dt>h_473</dt><dd>0</dd><dt>h_633</dt><dd>2</dd><dt>h_540</dt><dd>4</dd><dt>h_429</dt><dd>0</dd><dt>h_253</dt><dd>2</dd><dt>h_75</dt><dd>1</dd><dt>h_514</dt><dd>2</dd><dt>h_231</dt><dd>2</dd><dt>h_16</dt><dd>4</dd><dt>h_84</dt><dd>2</dd><dt>h_348</dt><dd>0</dd><dt>h_338</dt><dd>0</dd><dt>h_60</dt><dd>3</dd><dt>h_415</dt><dd>3</dd><dt>h_344</dt><dd>2</dd><dt>h_115</dt><dd>3</dd><dt>h_355</dt><dd>1</dd><dt>h_523</dt><dd>2</dd><dt>h_189</dt><dd>2</dd><dt>h_143</dt><dd>4</dd><dt>h_468</dt><dd>2</dd><dt>h_370</dt><dd>4</dd><dt>h_142</dt><dd>3</dd><dt>h_611</dt><dd>2</dd><dt>h_626</dt><dd>3</dd><dt>h_585</dt><dd>1</dd><dt>h_78</dt><dd>4</dd><dt>h_65</dt><dd>2</dd><dt>h_226</dt><dd>1</dd><dt>h_537</dt><dd>1</dd><dt>h_285</dt><dd>0</dd><dt>h_194</dt><dd>2</dd><dt>h_177</dt><dd>3</dd><dt>h_54</dt><dd>4</dd><dt>h_609</dt><dd>4</dd><dt>h_580</dt><dd>2</dd><dt>h_239</dt><dd>1</dd><dt>h_157</dt><dd>4</dd><dt>h_181</dt><dd>3</dd><dt>h_155</dt><dd>3</dd><dt>h_472</dt><dd>3</dd><dt>h_590</dt><dd>3</dd><dt>h_110</dt><dd>1</dd><dt>h_327</dt><dd>3</dd><dt>h_68</dt><dd>2</dd><dt>h_485</dt><dd>0</dd><dt>h_107</dt><dd>3</dd><dt>h_643</dt><dd>1</dd><dt>h_583</dt><dd>4</dd><dt>h_73</dt><dd>3</dd><dt>h_387</dt><dd>2</dd><dt>h_390</dt><dd>4</dd><dt>h_565</dt><dd>4</dd><dt>h_86</dt><dd>2</dd><dt>h_329</dt><dd>4</dd><dt>h_587</dt><dd>3</dd><dt>h_333</dt><dd>4</dd><dt>h_425</dt><dd>0</dd><dt>h_198</dt><dd>3</dd><dt>h_140</dt><dd>0</dd><dt>h_15</dt><dd>2</dd><dt>h_267</dt><dd>0</dd><dt>h_564</dt><dd>4</dd><dt>h_172</dt><dd>1</dd><dt>h_42</dt><dd>1</dd><dt>h_570</dt><dd>1</dd><dt>h_98</dt><dd>2</dd><dt>h_319</dt><dd>2</dd><dt>h_330</dt><dd>3</dd><dt>h_275</dt><dd>3</dd><dt>h_29</dt><dd>2</dd><dt>h_242</dt><dd>1</dd><dt>h_192</dt><dd>4</dd><dt>h_245</dt><dd>2</dd><dt>h_243</dt><dd>1</dd><dt>h_478</dt><dd>2</dd><dt>h_606</dt><dd>0</dd><dt>h_18</dt><dd>0</dd><dt>h_184</dt><dd>0</dd><dt>h_574</dt><dd>4</dd><dt>h_101</dt><dd>0</dd><dt>h_347</dt><dd>0</dd><dt>h_589</dt><dd>3</dd><dt>h_320</dt><dd>3</dd><dt>h_605</dt><dd>0</dd><dt>h_522</dt><dd>3</dd><dt>h_305</dt><dd>3</dd><dt>h_89</dt><dd>1</dd><dt>h_121</dt><dd>1</dd><dt>h_366</dt><dd>3</dd><dt>h_321</dt><dd>1</dd><dt>h_235</dt><dd>2</dd><dt>h_423</dt><dd>1</dd><dt>h_223</dt><dd>0</dd><dt>h_362</dt><dd>1</dd><dt>h_50</dt><dd>1</dd><dt>h_279</dt><dd>3</dd><dt>h_336</dt><dd>1</dd><dt>h_337</dt><dd>1</dd><dt>h_17</dt><dd>4</dd><dt>h_509</dt><dd>4</dd><dt>h_195</dt><dd>2</dd><dt>h_381</dt><dd>1</dd><dt>h_346</dt><dd>0</dd><dt>h_215</dt><dd>3</dd><dt>h_416</dt><dd>2</dd><dt>h_218</dt><dd>3</dd><dt>h_141</dt><dd>1</dd><dt>h_618</dt><dd>0</dd><dt>h_112</dt><dd>3</dd><dt>h_108</dt><dd>2</dd><dt>h_382</dt><dd>3</dd><dt>h_153</dt><dd>1</dd><dt>h_548</dt><dd>2</dd><dt>h_199</dt><dd>3</dd><dt>h_594</dt><dd>3</dd><dt>h_200</dt><dd>4</dd><dt>h_114</dt><dd>3</dd><dt>h_642</dt><dd>3</dd><dt>h_598</dt><dd>4</dd><dt>h_214</dt><dd>4</dd><dt>h_454</dt><dd>0</dd><dt>h_601</dt><dd>2</dd><dt>h_490</dt><dd>2</dd><dt>h_176</dt><dd>3</dd><dt>h_367</dt><dd>2</dd><dt>h_586</dt><dd>4</dd><dt>h_422</dt><dd>2</dd><dt>h_538</dt><dd>0</dd><dt>h_498</dt><dd>1</dd><dt>h_291</dt><dd>2</dd><dt>h_397</dt><dd>3</dd><dt>h_326</dt><dd>1</dd><dt>h_334</dt><dd>4</dd><dt>h_459</dt><dd>4</dd><dt>h_323</dt><dd>1</dd><dt>h_648</dt><dd>0</dd><dt>h_343</dt><dd>1</dd><dt>h_515</dt><dd>0</dd><dt>h_481</dt><dd>1</dd><dt>h_315</dt><dd>3</dd><dt>h_331</dt><dd>0</dd><dt>h_536</dt><dd>4</dd><dt>h_456</dt><dd>3</dd><dt>h_270</dt><dd>3</dd><dt>h_133</dt><dd>1</dd><dt>h_475</dt><dd>1</dd><dt>h_82</dt><dd>1</dd><dt>h_480</dt><dd>2</dd><dt>h_187</dt><dd>4</dd><dt>h_385</dt><dd>1</dd><dt>h_100</dt><dd>0</dd><dt>h_171</dt><dd>3</dd><dt>h_445</dt><dd>3</dd><dt>h_33</dt><dd>2</dd><dt>h_138</dt><dd>1</dd><dt>h_354</dt><dd>4</dd><dt>h_562</dt><dd>3</dd><dt>h_521</dt><dd>3</dd><dt>h_277</dt><dd>2</dd><dt>h_127</dt><dd>2</dd><dt>h_640</dt><dd>4</dd><dt>h_318</dt><dd>2</dd><dt>h_146</dt><dd>1</dd><dt>h_224</dt><dd>1</dd><dt>h_61</dt><dd>2</dd><dt>h_63</dt><dd>0</dd><dt>h_444</dt><dd>4</dd><dt>h_578</dt><dd>2</dd><dt>h_262</dt><dd>2</dd><dt>h_295</dt><dd>4</dd><dt>h_358</dt><dd>4</dd><dt>h_306</dt><dd>4</dd><dt>h_582</dt><dd>2</dd><dt>h_450</dt><dd>3</dd><dt>h_55</dt><dd>0</dd><dt>h_458</dt><dd>1</dd><dt>h_283</dt><dd>3</dd><dt>h_313</dt><dd>4</dd><dt>h_303</dt><dd>2</dd><dt>h_364</dt><dd>4</dd><dt>h_210</dt><dd>0</dd><dt>h_220</dt><dd>2</dd><dt>h_471</dt><dd>0</dd><dt>h_83</dt><dd>4</dd><dt>h_531</dt><dd>1</dd><dt>h_638</dt><dd>4</dd><dt>h_225</dt><dd>3</dd><dt>h_439</dt><dd>4</dd><dt>h_248</dt><dd>3</dd><dt>h_34</dt><dd>1</dd><dt>h_376</dt><dd>⋯</dd><dt>h_602</dt><dd>2</dd><dt>h_405</dt><dd>0</dd><dt>h_149</dt><dd>2</dd><dt>h_351</dt><dd>1</dd><dt>h_412</dt><dd>1</dd><dt>h_307</dt><dd>1</dd><dt>h_314</dt><dd>0</dd><dt>h_203</dt><dd>0</dd><dt>h_154</dt><dd>1</dd><dt>h_24</dt><dd>2</dd><dt>h_228</dt><dd>1</dd><dt>h_463</dt><dd>3</dd><dt>h_179</dt><dd>2</dd><dt>h_85</dt><dd>0</dd><dt>h_527</dt><dd>3</dd><dt>h_255</dt><dd>0</dd><dt>h_131</dt><dd>2</dd><dt>h_388</dt><dd>0</dd><dt>h_91</dt><dd>0</dd><dt>h_517</dt><dd>3</dd><dt>h_457</dt><dd>4</dd><dt>h_159</dt><dd>4</dd><dt>h_411</dt><dd>3</dd><dt>h_126</dt><dd>3</dd><dt>h_529</dt><dd>1</dd><dt>h_549</dt><dd>0</dd><dt>h_588</dt><dd>0</dd><dt>h_604</dt><dd>1</dd><dt>h_132</dt><dd>0</dd><dt>h_408</dt><dd>1</dd><dt>h_424</dt><dd>2</dd><dt>h_216</dt><dd>1</dd><dt>h_398</dt><dd>2</dd><dt>h_418</dt><dd>2</dd><dt>h_488</dt><dd>1</dd><dt>h_525</dt><dd>0</dd><dt>h_166</dt><dd>2</dd><dt>h_10</dt><dd>1</dd><dt>h_500</dt><dd>3</dd><dt>h_259</dt><dd>0</dd><dt>h_5</dt><dd>1</dd><dt>h_8</dt><dd>1</dd><dt>h_66</dt><dd>3</dd><dt>h_43</dt><dd>4</dd><dt>h_446</dt><dd>1</dd><dt>h_383</dt><dd>4</dd><dt>h_339</dt><dd>2</dd><dt>h_289</dt><dd>1</dd><dt>h_67</dt><dd>1</dd><dt>h_316</dt><dd>3</dd><dt>h_244</dt><dd>0</dd><dt>h_610</dt><dd>3</dd><dt>h_147</dt><dd>1</dd><dt>h_26</dt><dd>0</dd><dt>h_443</dt><dd>4</dd><dt>h_174</dt><dd>4</dd><dt>h_579</dt><dd>1</dd><dt>h_145</dt><dd>1</dd><dt>h_105</dt><dd>3</dd><dt>h_264</dt><dd>2</dd><dt>h_603</dt><dd>0</dd><dt>h_232</dt><dd>3</dd><dt>h_111</dt><dd>4</dd><dt>h_6</dt><dd>0</dd><dt>h_241</dt><dd>3</dd><dt>h_512</dt><dd>0</dd><dt>h_372</dt><dd>3</dd><dt>h_118</dt><dd>4</dd><dt>h_72</dt><dd>4</dd><dt>h_77</dt><dd>2</dd><dt>h_608</dt><dd>1</dd><dt>h_46</dt><dd>1</dd><dt>h_19</dt><dd>3</dd><dt>h_384</dt><dd>1</dd><dt>h_535</dt><dd>4</dd><dt>h_448</dt><dd>4</dd><dt>h_254</dt><dd>1</dd><dt>h_47</dt><dd>3</dd><dt>h_414</dt><dd>1</dd><dt>h_553</dt><dd>4</dd><dt>h_455</dt><dd>3</dd><dt>h_297</dt><dd>0</dd><dt>h_621</dt><dd>4</dd><dt>h_497</dt><dd>3</dd><dt>h_496</dt><dd>3</dd><dt>h_461</dt><dd>0</dd><dt>h_300</dt><dd>2</dd><dt>h_477</dt><dd>3</dd><dt>h_406</dt><dd>3</dd><dt>h_69</dt><dd>4</dd><dt>h_566</dt><dd>0</dd><dt>h_44</dt><dd>0</dd><dt>h_96</dt><dd>2</dd><dt>h_395</dt><dd>4</dd><dt>h_508</dt><dd>2</dd><dt>h_32</dt><dd>2</dd><dt>h_288</dt><dd>3</dd><dt>h_201</dt><dd>4</dd><dt>h_274</dt><dd>4</dd><dt>h_639</dt><dd>4</dd><dt>h_284</dt><dd>3</dd><dt>h_278</dt><dd>4</dd><dt>h_222</dt><dd>2</dd><dt>h_251</dt><dd>0</dd><dt>h_613</dt><dd>3</dd><dt>h_209</dt><dd>3</dd><dt>h_261</dt><dd>1</dd><dt>h_124</dt><dd>4</dd><dt>h_193</dt><dd>1</dd><dt>h_109</dt><dd>1</dd><dt>h_280</dt><dd>2</dd><dt>h_70</dt><dd>1</dd><dt>h_71</dt><dd>3</dd><dt>h_649</dt><dd>0</dd><dt>h_576</dt><dd>1</dd><dt>h_158</dt><dd>0</dd><dt>h_430</dt><dd>1</dd><dt>h_139</dt><dd>2</dd><dt>h_22</dt><dd>1</dd><dt>h_616</dt><dd>4</dd><dt>h_361</dt><dd>1</dd><dt>h_161</dt><dd>1</dd><dt>h_542</dt><dd>0</dd><dt>h_48</dt><dd>0</dd><dt>h_9</dt><dd>3</dd><dt>h_206</dt><dd>2</dd><dt>h_615</dt><dd>3</dd><dt>h_511</dt><dd>1</dd><dt>h_380</dt><dd>0</dd><dt>h_3</dt><dd>3</dd><dt>h_197</dt><dd>4</dd><dt>h_213</dt><dd>3</dd><dt>h_559</dt><dd>4</dd><dt>h_250</dt><dd>0</dd><dt>h_7</dt><dd>4</dd><dt>h_205</dt><dd>1</dd><dt>h_287</dt><dd>0</dd><dt>h_635</dt><dd>3</dd><dt>h_462</dt><dd>2</dd><dt>h_637</dt><dd>1</dd><dt>h_12</dt><dd>3</dd><dt>h_116</dt><dd>0</dd><dt>h_352</dt><dd>0</dd><dt>h_103</dt><dd>1</dd><dt>h_493</dt><dd>0</dd><dt>h_185</dt><dd>3</dd><dt>h_168</dt><dd>3</dd><dt>h_392</dt><dd>4</dd><dt>h_81</dt><dd>1</dd><dt>h_190</dt><dd>3</dd><dt>h_568</dt><dd>1</dd><dt>h_173</dt><dd>2</dd><dt>h_208</dt><dd>1</dd><dt>h_501</dt><dd>4</dd><dt>h_240</dt><dd>3</dd><dt>h_4</dt><dd>3</dd><dt>h_597</dt><dd>4</dd><dt>h_11</dt><dd>1</dd><dt>h_49</dt><dd>1</dd><dt>h_237</dt><dd>0</dd><dt>h_322</dt><dd>3</dd><dt>h_614</dt><dd>0</dd><dt>h_440</dt><dd>1</dd><dt>h_409</dt><dd>2</dd><dt>h_188</dt><dd>4</dd><dt>h_466</dt><dd>1</dd><dt>h_21</dt><dd>1</dd><dt>h_464</dt><dd>1</dd><dt>h_14</dt><dd>2</dd><dt>h_36</dt><dd>1</dd><dt>h_148</dt><dd>2</dd><dt>h_325</dt><dd>1</dd><dt>h_340</dt><dd>4</dd><dt>h_607</dt><dd>0</dd><dt>h_467</dt><dd>1</dd><dt>h_634</dt><dd>1</dd><dt>h_528</dt><dd>1</dd><dt>h_230</dt><dd>1</dd><dt>h_622</dt><dd>0</dd><dt>h_465</dt><dd>2</dd><dt>h_391</dt><dd>4</dd><dt>h_396</dt><dd>3</dd><dt>h_335</dt><dd>1</dd><dt>h_487</dt><dd>3</dd><dt>h_35</dt><dd>4</dd><dt>h_400</dt><dd>1</dd><dt>h_309</dt><dd>2</dd><dt>h_37</dt><dd>4</dd><dt>h_227</dt><dd>0</dd><dt>h_545</dt><dd>1</dd><dt>h_196</dt><dd>3</dd><dt>h_125</dt><dd>1</dd><dt>h_584</dt><dd>0</dd><dt>h_431</dt><dd>1</dd><dt>h_427</dt><dd>2</dd><dt>h_30</dt><dd>3</dd><dt>h_119</dt><dd>4</dd><dt>h_332</dt><dd>2</dd><dt>h_489</dt><dd>4</dd><dt>h_104</dt><dd>0</dd></dl>\n"
            ],
            "text/markdown": "h_377\n:   1h_28\n:   2h_20\n:   1h_491\n:   4h_403\n:   1h_128\n:   3h_600\n:   0h_402\n:   2h_64\n:   4h_473\n:   0h_633\n:   2h_540\n:   4h_429\n:   0h_253\n:   2h_75\n:   1h_514\n:   2h_231\n:   2h_16\n:   4h_84\n:   2h_348\n:   0h_338\n:   0h_60\n:   3h_415\n:   3h_344\n:   2h_115\n:   3h_355\n:   1h_523\n:   2h_189\n:   2h_143\n:   4h_468\n:   2h_370\n:   4h_142\n:   3h_611\n:   2h_626\n:   3h_585\n:   1h_78\n:   4h_65\n:   2h_226\n:   1h_537\n:   1h_285\n:   0h_194\n:   2h_177\n:   3h_54\n:   4h_609\n:   4h_580\n:   2h_239\n:   1h_157\n:   4h_181\n:   3h_155\n:   3h_472\n:   3h_590\n:   3h_110\n:   1h_327\n:   3h_68\n:   2h_485\n:   0h_107\n:   3h_643\n:   1h_583\n:   4h_73\n:   3h_387\n:   2h_390\n:   4h_565\n:   4h_86\n:   2h_329\n:   4h_587\n:   3h_333\n:   4h_425\n:   0h_198\n:   3h_140\n:   0h_15\n:   2h_267\n:   0h_564\n:   4h_172\n:   1h_42\n:   1h_570\n:   1h_98\n:   2h_319\n:   2h_330\n:   3h_275\n:   3h_29\n:   2h_242\n:   1h_192\n:   4h_245\n:   2h_243\n:   1h_478\n:   2h_606\n:   0h_18\n:   0h_184\n:   0h_574\n:   4h_101\n:   0h_347\n:   0h_589\n:   3h_320\n:   3h_605\n:   0h_522\n:   3h_305\n:   3h_89\n:   1h_121\n:   1h_366\n:   3h_321\n:   1h_235\n:   2h_423\n:   1h_223\n:   0h_362\n:   1h_50\n:   1h_279\n:   3h_336\n:   1h_337\n:   1h_17\n:   4h_509\n:   4h_195\n:   2h_381\n:   1h_346\n:   0h_215\n:   3h_416\n:   2h_218\n:   3h_141\n:   1h_618\n:   0h_112\n:   3h_108\n:   2h_382\n:   3h_153\n:   1h_548\n:   2h_199\n:   3h_594\n:   3h_200\n:   4h_114\n:   3h_642\n:   3h_598\n:   4h_214\n:   4h_454\n:   0h_601\n:   2h_490\n:   2h_176\n:   3h_367\n:   2h_586\n:   4h_422\n:   2h_538\n:   0h_498\n:   1h_291\n:   2h_397\n:   3h_326\n:   1h_334\n:   4h_459\n:   4h_323\n:   1h_648\n:   0h_343\n:   1h_515\n:   0h_481\n:   1h_315\n:   3h_331\n:   0h_536\n:   4h_456\n:   3h_270\n:   3h_133\n:   1h_475\n:   1h_82\n:   1h_480\n:   2h_187\n:   4h_385\n:   1h_100\n:   0h_171\n:   3h_445\n:   3h_33\n:   2h_138\n:   1h_354\n:   4h_562\n:   3h_521\n:   3h_277\n:   2h_127\n:   2h_640\n:   4h_318\n:   2h_146\n:   1h_224\n:   1h_61\n:   2h_63\n:   0h_444\n:   4h_578\n:   2h_262\n:   2h_295\n:   4h_358\n:   4h_306\n:   4h_582\n:   2h_450\n:   3h_55\n:   0h_458\n:   1h_283\n:   3h_313\n:   4h_303\n:   2h_364\n:   4h_210\n:   0h_220\n:   2h_471\n:   0h_83\n:   4h_531\n:   1h_638\n:   4h_225\n:   3h_439\n:   4h_248\n:   3h_34\n:   1h_376\n:   ⋯h_602\n:   2h_405\n:   0h_149\n:   2h_351\n:   1h_412\n:   1h_307\n:   1h_314\n:   0h_203\n:   0h_154\n:   1h_24\n:   2h_228\n:   1h_463\n:   3h_179\n:   2h_85\n:   0h_527\n:   3h_255\n:   0h_131\n:   2h_388\n:   0h_91\n:   0h_517\n:   3h_457\n:   4h_159\n:   4h_411\n:   3h_126\n:   3h_529\n:   1h_549\n:   0h_588\n:   0h_604\n:   1h_132\n:   0h_408\n:   1h_424\n:   2h_216\n:   1h_398\n:   2h_418\n:   2h_488\n:   1h_525\n:   0h_166\n:   2h_10\n:   1h_500\n:   3h_259\n:   0h_5\n:   1h_8\n:   1h_66\n:   3h_43\n:   4h_446\n:   1h_383\n:   4h_339\n:   2h_289\n:   1h_67\n:   1h_316\n:   3h_244\n:   0h_610\n:   3h_147\n:   1h_26\n:   0h_443\n:   4h_174\n:   4h_579\n:   1h_145\n:   1h_105\n:   3h_264\n:   2h_603\n:   0h_232\n:   3h_111\n:   4h_6\n:   0h_241\n:   3h_512\n:   0h_372\n:   3h_118\n:   4h_72\n:   4h_77\n:   2h_608\n:   1h_46\n:   1h_19\n:   3h_384\n:   1h_535\n:   4h_448\n:   4h_254\n:   1h_47\n:   3h_414\n:   1h_553\n:   4h_455\n:   3h_297\n:   0h_621\n:   4h_497\n:   3h_496\n:   3h_461\n:   0h_300\n:   2h_477\n:   3h_406\n:   3h_69\n:   4h_566\n:   0h_44\n:   0h_96\n:   2h_395\n:   4h_508\n:   2h_32\n:   2h_288\n:   3h_201\n:   4h_274\n:   4h_639\n:   4h_284\n:   3h_278\n:   4h_222\n:   2h_251\n:   0h_613\n:   3h_209\n:   3h_261\n:   1h_124\n:   4h_193\n:   1h_109\n:   1h_280\n:   2h_70\n:   1h_71\n:   3h_649\n:   0h_576\n:   1h_158\n:   0h_430\n:   1h_139\n:   2h_22\n:   1h_616\n:   4h_361\n:   1h_161\n:   1h_542\n:   0h_48\n:   0h_9\n:   3h_206\n:   2h_615\n:   3h_511\n:   1h_380\n:   0h_3\n:   3h_197\n:   4h_213\n:   3h_559\n:   4h_250\n:   0h_7\n:   4h_205\n:   1h_287\n:   0h_635\n:   3h_462\n:   2h_637\n:   1h_12\n:   3h_116\n:   0h_352\n:   0h_103\n:   1h_493\n:   0h_185\n:   3h_168\n:   3h_392\n:   4h_81\n:   1h_190\n:   3h_568\n:   1h_173\n:   2h_208\n:   1h_501\n:   4h_240\n:   3h_4\n:   3h_597\n:   4h_11\n:   1h_49\n:   1h_237\n:   0h_322\n:   3h_614\n:   0h_440\n:   1h_409\n:   2h_188\n:   4h_466\n:   1h_21\n:   1h_464\n:   1h_14\n:   2h_36\n:   1h_148\n:   2h_325\n:   1h_340\n:   4h_607\n:   0h_467\n:   1h_634\n:   1h_528\n:   1h_230\n:   1h_622\n:   0h_465\n:   2h_391\n:   4h_396\n:   3h_335\n:   1h_487\n:   3h_35\n:   4h_400\n:   1h_309\n:   2h_37\n:   4h_227\n:   0h_545\n:   1h_196\n:   3h_125\n:   1h_584\n:   0h_431\n:   1h_427\n:   2h_30\n:   3h_119\n:   4h_332\n:   2h_489\n:   4h_104\n:   0\n\n",
            "text/latex": "\\begin{description*}\n\\item[h\\textbackslash{}\\_377] 1\n\\item[h\\textbackslash{}\\_28] 2\n\\item[h\\textbackslash{}\\_20] 1\n\\item[h\\textbackslash{}\\_491] 4\n\\item[h\\textbackslash{}\\_403] 1\n\\item[h\\textbackslash{}\\_128] 3\n\\item[h\\textbackslash{}\\_600] 0\n\\item[h\\textbackslash{}\\_402] 2\n\\item[h\\textbackslash{}\\_64] 4\n\\item[h\\textbackslash{}\\_473] 0\n\\item[h\\textbackslash{}\\_633] 2\n\\item[h\\textbackslash{}\\_540] 4\n\\item[h\\textbackslash{}\\_429] 0\n\\item[h\\textbackslash{}\\_253] 2\n\\item[h\\textbackslash{}\\_75] 1\n\\item[h\\textbackslash{}\\_514] 2\n\\item[h\\textbackslash{}\\_231] 2\n\\item[h\\textbackslash{}\\_16] 4\n\\item[h\\textbackslash{}\\_84] 2\n\\item[h\\textbackslash{}\\_348] 0\n\\item[h\\textbackslash{}\\_338] 0\n\\item[h\\textbackslash{}\\_60] 3\n\\item[h\\textbackslash{}\\_415] 3\n\\item[h\\textbackslash{}\\_344] 2\n\\item[h\\textbackslash{}\\_115] 3\n\\item[h\\textbackslash{}\\_355] 1\n\\item[h\\textbackslash{}\\_523] 2\n\\item[h\\textbackslash{}\\_189] 2\n\\item[h\\textbackslash{}\\_143] 4\n\\item[h\\textbackslash{}\\_468] 2\n\\item[h\\textbackslash{}\\_370] 4\n\\item[h\\textbackslash{}\\_142] 3\n\\item[h\\textbackslash{}\\_611] 2\n\\item[h\\textbackslash{}\\_626] 3\n\\item[h\\textbackslash{}\\_585] 1\n\\item[h\\textbackslash{}\\_78] 4\n\\item[h\\textbackslash{}\\_65] 2\n\\item[h\\textbackslash{}\\_226] 1\n\\item[h\\textbackslash{}\\_537] 1\n\\item[h\\textbackslash{}\\_285] 0\n\\item[h\\textbackslash{}\\_194] 2\n\\item[h\\textbackslash{}\\_177] 3\n\\item[h\\textbackslash{}\\_54] 4\n\\item[h\\textbackslash{}\\_609] 4\n\\item[h\\textbackslash{}\\_580] 2\n\\item[h\\textbackslash{}\\_239] 1\n\\item[h\\textbackslash{}\\_157] 4\n\\item[h\\textbackslash{}\\_181] 3\n\\item[h\\textbackslash{}\\_155] 3\n\\item[h\\textbackslash{}\\_472] 3\n\\item[h\\textbackslash{}\\_590] 3\n\\item[h\\textbackslash{}\\_110] 1\n\\item[h\\textbackslash{}\\_327] 3\n\\item[h\\textbackslash{}\\_68] 2\n\\item[h\\textbackslash{}\\_485] 0\n\\item[h\\textbackslash{}\\_107] 3\n\\item[h\\textbackslash{}\\_643] 1\n\\item[h\\textbackslash{}\\_583] 4\n\\item[h\\textbackslash{}\\_73] 3\n\\item[h\\textbackslash{}\\_387] 2\n\\item[h\\textbackslash{}\\_390] 4\n\\item[h\\textbackslash{}\\_565] 4\n\\item[h\\textbackslash{}\\_86] 2\n\\item[h\\textbackslash{}\\_329] 4\n\\item[h\\textbackslash{}\\_587] 3\n\\item[h\\textbackslash{}\\_333] 4\n\\item[h\\textbackslash{}\\_425] 0\n\\item[h\\textbackslash{}\\_198] 3\n\\item[h\\textbackslash{}\\_140] 0\n\\item[h\\textbackslash{}\\_15] 2\n\\item[h\\textbackslash{}\\_267] 0\n\\item[h\\textbackslash{}\\_564] 4\n\\item[h\\textbackslash{}\\_172] 1\n\\item[h\\textbackslash{}\\_42] 1\n\\item[h\\textbackslash{}\\_570] 1\n\\item[h\\textbackslash{}\\_98] 2\n\\item[h\\textbackslash{}\\_319] 2\n\\item[h\\textbackslash{}\\_330] 3\n\\item[h\\textbackslash{}\\_275] 3\n\\item[h\\textbackslash{}\\_29] 2\n\\item[h\\textbackslash{}\\_242] 1\n\\item[h\\textbackslash{}\\_192] 4\n\\item[h\\textbackslash{}\\_245] 2\n\\item[h\\textbackslash{}\\_243] 1\n\\item[h\\textbackslash{}\\_478] 2\n\\item[h\\textbackslash{}\\_606] 0\n\\item[h\\textbackslash{}\\_18] 0\n\\item[h\\textbackslash{}\\_184] 0\n\\item[h\\textbackslash{}\\_574] 4\n\\item[h\\textbackslash{}\\_101] 0\n\\item[h\\textbackslash{}\\_347] 0\n\\item[h\\textbackslash{}\\_589] 3\n\\item[h\\textbackslash{}\\_320] 3\n\\item[h\\textbackslash{}\\_605] 0\n\\item[h\\textbackslash{}\\_522] 3\n\\item[h\\textbackslash{}\\_305] 3\n\\item[h\\textbackslash{}\\_89] 1\n\\item[h\\textbackslash{}\\_121] 1\n\\item[h\\textbackslash{}\\_366] 3\n\\item[h\\textbackslash{}\\_321] 1\n\\item[h\\textbackslash{}\\_235] 2\n\\item[h\\textbackslash{}\\_423] 1\n\\item[h\\textbackslash{}\\_223] 0\n\\item[h\\textbackslash{}\\_362] 1\n\\item[h\\textbackslash{}\\_50] 1\n\\item[h\\textbackslash{}\\_279] 3\n\\item[h\\textbackslash{}\\_336] 1\n\\item[h\\textbackslash{}\\_337] 1\n\\item[h\\textbackslash{}\\_17] 4\n\\item[h\\textbackslash{}\\_509] 4\n\\item[h\\textbackslash{}\\_195] 2\n\\item[h\\textbackslash{}\\_381] 1\n\\item[h\\textbackslash{}\\_346] 0\n\\item[h\\textbackslash{}\\_215] 3\n\\item[h\\textbackslash{}\\_416] 2\n\\item[h\\textbackslash{}\\_218] 3\n\\item[h\\textbackslash{}\\_141] 1\n\\item[h\\textbackslash{}\\_618] 0\n\\item[h\\textbackslash{}\\_112] 3\n\\item[h\\textbackslash{}\\_108] 2\n\\item[h\\textbackslash{}\\_382] 3\n\\item[h\\textbackslash{}\\_153] 1\n\\item[h\\textbackslash{}\\_548] 2\n\\item[h\\textbackslash{}\\_199] 3\n\\item[h\\textbackslash{}\\_594] 3\n\\item[h\\textbackslash{}\\_200] 4\n\\item[h\\textbackslash{}\\_114] 3\n\\item[h\\textbackslash{}\\_642] 3\n\\item[h\\textbackslash{}\\_598] 4\n\\item[h\\textbackslash{}\\_214] 4\n\\item[h\\textbackslash{}\\_454] 0\n\\item[h\\textbackslash{}\\_601] 2\n\\item[h\\textbackslash{}\\_490] 2\n\\item[h\\textbackslash{}\\_176] 3\n\\item[h\\textbackslash{}\\_367] 2\n\\item[h\\textbackslash{}\\_586] 4\n\\item[h\\textbackslash{}\\_422] 2\n\\item[h\\textbackslash{}\\_538] 0\n\\item[h\\textbackslash{}\\_498] 1\n\\item[h\\textbackslash{}\\_291] 2\n\\item[h\\textbackslash{}\\_397] 3\n\\item[h\\textbackslash{}\\_326] 1\n\\item[h\\textbackslash{}\\_334] 4\n\\item[h\\textbackslash{}\\_459] 4\n\\item[h\\textbackslash{}\\_323] 1\n\\item[h\\textbackslash{}\\_648] 0\n\\item[h\\textbackslash{}\\_343] 1\n\\item[h\\textbackslash{}\\_515] 0\n\\item[h\\textbackslash{}\\_481] 1\n\\item[h\\textbackslash{}\\_315] 3\n\\item[h\\textbackslash{}\\_331] 0\n\\item[h\\textbackslash{}\\_536] 4\n\\item[h\\textbackslash{}\\_456] 3\n\\item[h\\textbackslash{}\\_270] 3\n\\item[h\\textbackslash{}\\_133] 1\n\\item[h\\textbackslash{}\\_475] 1\n\\item[h\\textbackslash{}\\_82] 1\n\\item[h\\textbackslash{}\\_480] 2\n\\item[h\\textbackslash{}\\_187] 4\n\\item[h\\textbackslash{}\\_385] 1\n\\item[h\\textbackslash{}\\_100] 0\n\\item[h\\textbackslash{}\\_171] 3\n\\item[h\\textbackslash{}\\_445] 3\n\\item[h\\textbackslash{}\\_33] 2\n\\item[h\\textbackslash{}\\_138] 1\n\\item[h\\textbackslash{}\\_354] 4\n\\item[h\\textbackslash{}\\_562] 3\n\\item[h\\textbackslash{}\\_521] 3\n\\item[h\\textbackslash{}\\_277] 2\n\\item[h\\textbackslash{}\\_127] 2\n\\item[h\\textbackslash{}\\_640] 4\n\\item[h\\textbackslash{}\\_318] 2\n\\item[h\\textbackslash{}\\_146] 1\n\\item[h\\textbackslash{}\\_224] 1\n\\item[h\\textbackslash{}\\_61] 2\n\\item[h\\textbackslash{}\\_63] 0\n\\item[h\\textbackslash{}\\_444] 4\n\\item[h\\textbackslash{}\\_578] 2\n\\item[h\\textbackslash{}\\_262] 2\n\\item[h\\textbackslash{}\\_295] 4\n\\item[h\\textbackslash{}\\_358] 4\n\\item[h\\textbackslash{}\\_306] 4\n\\item[h\\textbackslash{}\\_582] 2\n\\item[h\\textbackslash{}\\_450] 3\n\\item[h\\textbackslash{}\\_55] 0\n\\item[h\\textbackslash{}\\_458] 1\n\\item[h\\textbackslash{}\\_283] 3\n\\item[h\\textbackslash{}\\_313] 4\n\\item[h\\textbackslash{}\\_303] 2\n\\item[h\\textbackslash{}\\_364] 4\n\\item[h\\textbackslash{}\\_210] 0\n\\item[h\\textbackslash{}\\_220] 2\n\\item[h\\textbackslash{}\\_471] 0\n\\item[h\\textbackslash{}\\_83] 4\n\\item[h\\textbackslash{}\\_531] 1\n\\item[h\\textbackslash{}\\_638] 4\n\\item[h\\textbackslash{}\\_225] 3\n\\item[h\\textbackslash{}\\_439] 4\n\\item[h\\textbackslash{}\\_248] 3\n\\item[h\\textbackslash{}\\_34] 1\n\\item[h\\textbackslash{}\\_376] ⋯\n\\item[h\\textbackslash{}\\_602] 2\n\\item[h\\textbackslash{}\\_405] 0\n\\item[h\\textbackslash{}\\_149] 2\n\\item[h\\textbackslash{}\\_351] 1\n\\item[h\\textbackslash{}\\_412] 1\n\\item[h\\textbackslash{}\\_307] 1\n\\item[h\\textbackslash{}\\_314] 0\n\\item[h\\textbackslash{}\\_203] 0\n\\item[h\\textbackslash{}\\_154] 1\n\\item[h\\textbackslash{}\\_24] 2\n\\item[h\\textbackslash{}\\_228] 1\n\\item[h\\textbackslash{}\\_463] 3\n\\item[h\\textbackslash{}\\_179] 2\n\\item[h\\textbackslash{}\\_85] 0\n\\item[h\\textbackslash{}\\_527] 3\n\\item[h\\textbackslash{}\\_255] 0\n\\item[h\\textbackslash{}\\_131] 2\n\\item[h\\textbackslash{}\\_388] 0\n\\item[h\\textbackslash{}\\_91] 0\n\\item[h\\textbackslash{}\\_517] 3\n\\item[h\\textbackslash{}\\_457] 4\n\\item[h\\textbackslash{}\\_159] 4\n\\item[h\\textbackslash{}\\_411] 3\n\\item[h\\textbackslash{}\\_126] 3\n\\item[h\\textbackslash{}\\_529] 1\n\\item[h\\textbackslash{}\\_549] 0\n\\item[h\\textbackslash{}\\_588] 0\n\\item[h\\textbackslash{}\\_604] 1\n\\item[h\\textbackslash{}\\_132] 0\n\\item[h\\textbackslash{}\\_408] 1\n\\item[h\\textbackslash{}\\_424] 2\n\\item[h\\textbackslash{}\\_216] 1\n\\item[h\\textbackslash{}\\_398] 2\n\\item[h\\textbackslash{}\\_418] 2\n\\item[h\\textbackslash{}\\_488] 1\n\\item[h\\textbackslash{}\\_525] 0\n\\item[h\\textbackslash{}\\_166] 2\n\\item[h\\textbackslash{}\\_10] 1\n\\item[h\\textbackslash{}\\_500] 3\n\\item[h\\textbackslash{}\\_259] 0\n\\item[h\\textbackslash{}\\_5] 1\n\\item[h\\textbackslash{}\\_8] 1\n\\item[h\\textbackslash{}\\_66] 3\n\\item[h\\textbackslash{}\\_43] 4\n\\item[h\\textbackslash{}\\_446] 1\n\\item[h\\textbackslash{}\\_383] 4\n\\item[h\\textbackslash{}\\_339] 2\n\\item[h\\textbackslash{}\\_289] 1\n\\item[h\\textbackslash{}\\_67] 1\n\\item[h\\textbackslash{}\\_316] 3\n\\item[h\\textbackslash{}\\_244] 0\n\\item[h\\textbackslash{}\\_610] 3\n\\item[h\\textbackslash{}\\_147] 1\n\\item[h\\textbackslash{}\\_26] 0\n\\item[h\\textbackslash{}\\_443] 4\n\\item[h\\textbackslash{}\\_174] 4\n\\item[h\\textbackslash{}\\_579] 1\n\\item[h\\textbackslash{}\\_145] 1\n\\item[h\\textbackslash{}\\_105] 3\n\\item[h\\textbackslash{}\\_264] 2\n\\item[h\\textbackslash{}\\_603] 0\n\\item[h\\textbackslash{}\\_232] 3\n\\item[h\\textbackslash{}\\_111] 4\n\\item[h\\textbackslash{}\\_6] 0\n\\item[h\\textbackslash{}\\_241] 3\n\\item[h\\textbackslash{}\\_512] 0\n\\item[h\\textbackslash{}\\_372] 3\n\\item[h\\textbackslash{}\\_118] 4\n\\item[h\\textbackslash{}\\_72] 4\n\\item[h\\textbackslash{}\\_77] 2\n\\item[h\\textbackslash{}\\_608] 1\n\\item[h\\textbackslash{}\\_46] 1\n\\item[h\\textbackslash{}\\_19] 3\n\\item[h\\textbackslash{}\\_384] 1\n\\item[h\\textbackslash{}\\_535] 4\n\\item[h\\textbackslash{}\\_448] 4\n\\item[h\\textbackslash{}\\_254] 1\n\\item[h\\textbackslash{}\\_47] 3\n\\item[h\\textbackslash{}\\_414] 1\n\\item[h\\textbackslash{}\\_553] 4\n\\item[h\\textbackslash{}\\_455] 3\n\\item[h\\textbackslash{}\\_297] 0\n\\item[h\\textbackslash{}\\_621] 4\n\\item[h\\textbackslash{}\\_497] 3\n\\item[h\\textbackslash{}\\_496] 3\n\\item[h\\textbackslash{}\\_461] 0\n\\item[h\\textbackslash{}\\_300] 2\n\\item[h\\textbackslash{}\\_477] 3\n\\item[h\\textbackslash{}\\_406] 3\n\\item[h\\textbackslash{}\\_69] 4\n\\item[h\\textbackslash{}\\_566] 0\n\\item[h\\textbackslash{}\\_44] 0\n\\item[h\\textbackslash{}\\_96] 2\n\\item[h\\textbackslash{}\\_395] 4\n\\item[h\\textbackslash{}\\_508] 2\n\\item[h\\textbackslash{}\\_32] 2\n\\item[h\\textbackslash{}\\_288] 3\n\\item[h\\textbackslash{}\\_201] 4\n\\item[h\\textbackslash{}\\_274] 4\n\\item[h\\textbackslash{}\\_639] 4\n\\item[h\\textbackslash{}\\_284] 3\n\\item[h\\textbackslash{}\\_278] 4\n\\item[h\\textbackslash{}\\_222] 2\n\\item[h\\textbackslash{}\\_251] 0\n\\item[h\\textbackslash{}\\_613] 3\n\\item[h\\textbackslash{}\\_209] 3\n\\item[h\\textbackslash{}\\_261] 1\n\\item[h\\textbackslash{}\\_124] 4\n\\item[h\\textbackslash{}\\_193] 1\n\\item[h\\textbackslash{}\\_109] 1\n\\item[h\\textbackslash{}\\_280] 2\n\\item[h\\textbackslash{}\\_70] 1\n\\item[h\\textbackslash{}\\_71] 3\n\\item[h\\textbackslash{}\\_649] 0\n\\item[h\\textbackslash{}\\_576] 1\n\\item[h\\textbackslash{}\\_158] 0\n\\item[h\\textbackslash{}\\_430] 1\n\\item[h\\textbackslash{}\\_139] 2\n\\item[h\\textbackslash{}\\_22] 1\n\\item[h\\textbackslash{}\\_616] 4\n\\item[h\\textbackslash{}\\_361] 1\n\\item[h\\textbackslash{}\\_161] 1\n\\item[h\\textbackslash{}\\_542] 0\n\\item[h\\textbackslash{}\\_48] 0\n\\item[h\\textbackslash{}\\_9] 3\n\\item[h\\textbackslash{}\\_206] 2\n\\item[h\\textbackslash{}\\_615] 3\n\\item[h\\textbackslash{}\\_511] 1\n\\item[h\\textbackslash{}\\_380] 0\n\\item[h\\textbackslash{}\\_3] 3\n\\item[h\\textbackslash{}\\_197] 4\n\\item[h\\textbackslash{}\\_213] 3\n\\item[h\\textbackslash{}\\_559] 4\n\\item[h\\textbackslash{}\\_250] 0\n\\item[h\\textbackslash{}\\_7] 4\n\\item[h\\textbackslash{}\\_205] 1\n\\item[h\\textbackslash{}\\_287] 0\n\\item[h\\textbackslash{}\\_635] 3\n\\item[h\\textbackslash{}\\_462] 2\n\\item[h\\textbackslash{}\\_637] 1\n\\item[h\\textbackslash{}\\_12] 3\n\\item[h\\textbackslash{}\\_116] 0\n\\item[h\\textbackslash{}\\_352] 0\n\\item[h\\textbackslash{}\\_103] 1\n\\item[h\\textbackslash{}\\_493] 0\n\\item[h\\textbackslash{}\\_185] 3\n\\item[h\\textbackslash{}\\_168] 3\n\\item[h\\textbackslash{}\\_392] 4\n\\item[h\\textbackslash{}\\_81] 1\n\\item[h\\textbackslash{}\\_190] 3\n\\item[h\\textbackslash{}\\_568] 1\n\\item[h\\textbackslash{}\\_173] 2\n\\item[h\\textbackslash{}\\_208] 1\n\\item[h\\textbackslash{}\\_501] 4\n\\item[h\\textbackslash{}\\_240] 3\n\\item[h\\textbackslash{}\\_4] 3\n\\item[h\\textbackslash{}\\_597] 4\n\\item[h\\textbackslash{}\\_11] 1\n\\item[h\\textbackslash{}\\_49] 1\n\\item[h\\textbackslash{}\\_237] 0\n\\item[h\\textbackslash{}\\_322] 3\n\\item[h\\textbackslash{}\\_614] 0\n\\item[h\\textbackslash{}\\_440] 1\n\\item[h\\textbackslash{}\\_409] 2\n\\item[h\\textbackslash{}\\_188] 4\n\\item[h\\textbackslash{}\\_466] 1\n\\item[h\\textbackslash{}\\_21] 1\n\\item[h\\textbackslash{}\\_464] 1\n\\item[h\\textbackslash{}\\_14] 2\n\\item[h\\textbackslash{}\\_36] 1\n\\item[h\\textbackslash{}\\_148] 2\n\\item[h\\textbackslash{}\\_325] 1\n\\item[h\\textbackslash{}\\_340] 4\n\\item[h\\textbackslash{}\\_607] 0\n\\item[h\\textbackslash{}\\_467] 1\n\\item[h\\textbackslash{}\\_634] 1\n\\item[h\\textbackslash{}\\_528] 1\n\\item[h\\textbackslash{}\\_230] 1\n\\item[h\\textbackslash{}\\_622] 0\n\\item[h\\textbackslash{}\\_465] 2\n\\item[h\\textbackslash{}\\_391] 4\n\\item[h\\textbackslash{}\\_396] 3\n\\item[h\\textbackslash{}\\_335] 1\n\\item[h\\textbackslash{}\\_487] 3\n\\item[h\\textbackslash{}\\_35] 4\n\\item[h\\textbackslash{}\\_400] 1\n\\item[h\\textbackslash{}\\_309] 2\n\\item[h\\textbackslash{}\\_37] 4\n\\item[h\\textbackslash{}\\_227] 0\n\\item[h\\textbackslash{}\\_545] 1\n\\item[h\\textbackslash{}\\_196] 3\n\\item[h\\textbackslash{}\\_125] 1\n\\item[h\\textbackslash{}\\_584] 0\n\\item[h\\textbackslash{}\\_431] 1\n\\item[h\\textbackslash{}\\_427] 2\n\\item[h\\textbackslash{}\\_30] 3\n\\item[h\\textbackslash{}\\_119] 4\n\\item[h\\textbackslash{}\\_332] 2\n\\item[h\\textbackslash{}\\_489] 4\n\\item[h\\textbackslash{}\\_104] 0\n\\end{description*}\n",
            "text/plain": [
              "h_377  h_28  h_20 h_491 h_403 h_128 h_600 h_402  h_64 h_473 h_633 h_540 h_429 \n",
              "    1     2     1     4     1     3     0     2     4     0     2     4     0 \n",
              "h_253  h_75 h_514 h_231  h_16  h_84 h_348 h_338  h_60 h_415 h_344 h_115 h_355 \n",
              "    2     1     2     2     4     2     0     0     3     3     2     3     1 \n",
              "h_523 h_189 h_143 h_468 h_370 h_142 h_611 h_626 h_585  h_78  h_65 h_226 h_537 \n",
              "    2     2     4     2     4     3     2     3     1     4     2     1     1 \n",
              "h_285 h_194 h_177  h_54 h_609 h_580 h_239 h_157 h_181 h_155 h_472 h_590 h_110 \n",
              "    0     2     3     4     4     2     1     4     3     3     3     3     1 \n",
              "h_327  h_68 h_485 h_107 h_643 h_583  h_73 h_387 h_390 h_565  h_86 h_329 h_587 \n",
              "    3     2     0     3     1     4     3     2     4     4     2     4     3 \n",
              "h_333 h_425 h_198 h_140  h_15 h_267 h_564 h_172  h_42 h_570  h_98 h_319 h_330 \n",
              "    4     0     3     0     2     0     4     1     1     1     2     2     3 \n",
              "h_275  h_29 h_242 h_192 h_245 h_243 h_478 h_606  h_18 h_184 h_574 h_101 h_347 \n",
              "    3     2     1     4     2     1     2     0     0     0     4     0     0 \n",
              "h_589 h_320 h_605 h_522 h_305  h_89 h_121 h_366 h_321 h_235 h_423 h_223 h_362 \n",
              "    3     3     0     3     3     1     1     3     1     2     1     0     1 \n",
              " h_50 h_279 h_336 h_337  h_17 h_509 h_195 h_381 h_346 h_215 h_416 h_218 h_141 \n",
              "    1     3     1     1     4     4     2     1     0     3     2     3     1 \n",
              "h_618 h_112 h_108 h_382 h_153 h_548 h_199 h_594 h_200 h_114 h_642 h_598 h_214 \n",
              "    0     3     2     3     1     2     3     3     4     3     3     4     4 \n",
              "h_454 h_601 h_490 h_176 h_367 h_586 h_422 h_538 h_498 h_291 h_397 h_326 h_334 \n",
              "    0     2     2     3     2     4     2     0     1     2     3     1     4 \n",
              "h_459 h_323 h_648 h_343 h_515 h_481 h_315 h_331 h_536 h_456 h_270 h_133 h_475 \n",
              "    4     1     0     1     0     1     3     0     4     3     3     1     1 \n",
              " h_82 h_480 h_187 h_385 h_100 h_171 h_445  h_33 h_138 h_354 h_562 h_521 h_277 \n",
              "    1     2     4     1     0     3     3     2     1     4     3     3     2 \n",
              "h_127 h_640 h_318 h_146 h_224  h_61  h_63 h_444 h_578 h_262 h_295 h_358 h_306 \n",
              "    2     4     2     1     1     2     0     4     2     2     4     4     4 \n",
              "h_582 h_450  h_55 h_458 h_283 h_313 h_303 h_364 h_210 h_220 h_471  h_83 h_531 \n",
              "    2     3     0     1     3     4     2     4     0     2     0     4     1 \n",
              "h_638 h_225 h_439 h_248  h_34 h_376 h_602 h_405 h_149 h_351 h_412 h_307 h_314 \n",
              "    4     3     4     3     1     3     3     4     4     0     1     4     1 \n",
              "h_203 h_154  h_24 h_228 h_463 h_179  h_85 h_527 h_255 h_131 h_388  h_91 h_517 \n",
              "    4     1     4     3     2     1     1     1     4     1     0     3     2 \n",
              "h_457 h_159 h_411 h_126 h_529 h_549 h_588 h_604 h_132 h_408 h_424 h_216 h_398 \n",
              "    3     2     1     1     0     3     2     0     1     4     0     2     3 \n",
              "h_418 h_488 h_525 h_166  h_10 h_500 h_259   h_5   h_8  h_66  h_43 h_446 h_383 \n",
              "    3     4     0     3     0     3     4     4     4     3     3     4     2 \n",
              "h_339 h_289  h_67 h_316 h_244 h_610 h_147  h_26 h_443 h_174 h_579 h_145 h_105 \n",
              "    3     1     3     2     3     2     3     3     0     4     4     2     3 \n",
              "h_264 h_603 h_232 h_111   h_6 h_241 h_512 h_372 h_118  h_72  h_77 h_608  h_46 \n",
              "    0     0     3     3     3     2     2     2     4     4     0     3     3 \n",
              " h_19 h_384 h_535 h_448 h_254  h_47 h_414 h_553 h_455 h_297 h_621 h_497 h_496 \n",
              "    3     2     2     4     4     0     0     2     2     3     2     2     1 \n",
              "h_461 h_300 h_477 h_406  h_69 h_566  h_44  h_96 h_395 h_508  h_32 h_288 h_201 \n",
              "    0     0     1     3     3     1     4     3     4     2     3     1     1 \n",
              "h_274 h_639 h_284 h_278 h_222 h_251 h_613 h_209 h_261 h_124 h_193 h_109 h_280 \n",
              "    2     2     2     0     3     2     4     3     2     1     1     4     4 \n",
              " h_70  h_71 h_649 h_576 h_158 h_430 h_139  h_22 h_616 h_361 h_161 h_542  h_48 \n",
              "    1     2     0     2     3     4     1     4     1     1     0     2     2 \n",
              "  h_9 h_206 h_615 h_511 h_380   h_3 h_197 h_213 h_559 h_250   h_7 h_205 h_287 \n",
              "    2     4     3     1     2     3     3     1     2     1     0     3     4 \n",
              "h_635 h_462 h_637  h_12 h_116 h_352 h_103 h_493 h_185 h_168 h_392  h_81 h_190 \n",
              "    3     4     3     3     3     3     1     1     1     1     1     2     2 \n",
              "h_568 h_173 h_208 h_501 h_240   h_4 h_597  h_11  h_49 h_237 h_322 h_614 h_440 \n",
              "    2     4     0     2     1     2     2     0     1     2     4     2     1 \n",
              "h_409 h_188 h_466  h_21 h_464  h_14  h_36 h_148 h_325 h_340 h_607 h_467 h_634 \n",
              "    0     2     1     0     4     2     3     2     1     2     2     3     3 \n",
              "h_528 h_230 h_622 h_465 h_391 h_396 h_335 h_487  h_35 h_400 h_309  h_37 h_227 \n",
              "    1     0     0     0     3     3     4     4     3     4     1     3     3 \n",
              "h_545 h_196 h_125 h_584 h_431 h_427  h_30 h_119 h_332 h_489 h_104 h_271 h_560 \n",
              "    3     1     3     1     4     3     1     4     1     1     3     4     3 \n",
              " h_62 h_526 h_164 h_419 h_296 h_162 h_301  h_27 h_502 h_342 h_479 h_577 h_102 \n",
              "    4     2     2     3     4     4     2     2     2     2     4     1     1 \n",
              "h_394 h_260 h_441 h_627 h_407 h_360 h_595 h_596  h_53 h_163  h_41 h_510  h_99 \n",
              "    0     4     0     0     1     3     4     3     1     1     2     1     3 \n",
              "h_269  h_76 h_438  h_90 h_349 h_156 h_612 h_258  h_25 h_373 h_217  h_57 h_650 \n",
              "    4     3     3     4     2     4     2     2     4     3     2     3     3 \n",
              "h_256 h_550 h_144 h_106 h_561   h_2  h_94 h_236  h_56 h_413 h_249 h_265 h_495 \n",
              "    3     4     3     2     0     1     2     4     3     1     4     2     1 \n",
              "h_563 h_507 h_420  h_95 h_410 h_539 h_629 h_499 h_442 h_170 h_435 h_592 h_317 \n",
              "    1     3     1     1     3     4     4     3     1     1     2     0     0 \n",
              "h_389 h_286 h_476 h_356  h_52 h_293 h_503 h_123 h_135 h_552  h_13 h_257 h_482 \n",
              "    0     4     1     3     3     1     3     1     3     2     2     0     1 \n",
              "h_636 h_556 h_136 h_504 h_547 h_519 h_617 h_186 h_341 h_369 h_276 h_469 h_350 \n",
              "    1     0     4     3     3     2     0     3     4     4     1     1     4 \n",
              "h_447 h_302 h_401 h_630 h_544 h_524  h_23 h_646 h_484 h_433 h_268 h_572 h_298 \n",
              "    1     3     4     2     1     2     1     3     1     1     2     2     2 \n",
              "h_631 h_543 h_483 h_628 h_294  h_88 h_150 h_452  h_79 h_453 h_417  h_93 h_282 \n",
              "    4     1     3     0     1     4     2     1     3     0     4     2     2 \n",
              "h_632 h_404 h_304 h_263 h_375 h_211 h_460 h_202 h_167 h_247 h_374 h_555 h_345 \n",
              "    3     4     4     4     2     3     4     3     2     3     3     4     2 \n",
              "h_541 h_569  h_40 h_281  h_80 h_532 h_449 h_178 h_134 h_117 h_581 h_492 h_620 \n",
              "    2     4     4     4     4     3     4     1     3     2     3     3     4 \n",
              "h_212 h_365 h_533 h_619 h_520 h_266  h_31 h_644 h_183 h_474  h_97 h_551   h_1 \n",
              "    1     3     3     4     1     2     4     0     1     2     0     2     0 \n",
              "h_311 h_234 h_486 h_310 h_505 h_506 h_204  h_92 h_647 h_379  h_74 h_207 h_328 \n",
              "    3     1     2     2     2     3     4     0     4     1     3     1     1 \n",
              "h_169 h_252  h_59 h_120 h_221  h_51 h_160 h_353 h_516 h_152 h_599 h_494 h_518 \n",
              "    1     1     0     3     1     0     3     3     1     3     3     3     0 \n",
              "h_292 h_357 h_246 h_151 h_437 h_513 h_180 h_436 h_165 h_368 h_470 h_273 h_567 \n",
              "    3     3     4     1     4     0     1     1     2     1     2     0     3 \n",
              "h_399 h_378 h_624 h_530 h_122  h_87 h_451 h_593  h_58 h_129 h_175 h_546 h_428 \n",
              "    2     4     3     3     2     0     2     1     2     0     2     1     3 \n",
              " h_39 h_113 h_290 h_554 h_393 h_623 h_434 h_324 h_557 h_238 h_308 h_432 h_233 \n",
              "    3     0     4     2     4     4     4     0     1     4     1     1     2 \n",
              "h_571 h_591 h_641 h_645 h_359 h_575 h_573 h_312 h_219 h_426  h_38 h_299 h_229 \n",
              "    1     1     4     2     3     4     4     3     3     0     4     1     2 \n",
              "h_130 h_386 h_363 h_182 h_191  h_45 h_137 h_625 h_272 h_558 h_421 h_534 h_371 \n",
              "    2     3     4     3     3     1     2     2     3     4     4     2     2 \n",
              "m_326 m_560  m_98 m_228 m_188  m_26  m_82  m_33 m_315 m_373 m_323  m_75 m_576 \n",
              "    3     2     1     2     1     2     3     2     2     2     3     3     2 \n",
              " m_14 m_437 m_360 m_379 m_390 m_455 m_469 m_547 m_502 m_509 m_221 m_265 m_290 \n",
              "    1     1     2     0     2     1     1     0     1     4     1     3     0 \n",
              "m_336 m_141 m_361 m_505 m_575  m_12 m_442 m_527 m_570 m_160 m_573 m_261 m_115 \n",
              "    1     1     1     1     1     1     4     3     2     4     2     3     3 \n",
              "m_162   m_2 m_377 m_476 m_577  m_84 m_565 m_490 m_580 m_357 m_187 m_240 m_272 \n",
              "    4     0     4     1     4     3     1     0     0     3     1     1     2 \n",
              "m_186  m_19 m_170 m_243 m_181 m_183 m_459 m_314 m_383 m_579 m_304 m_250 m_456 \n",
              "    1     3     3     1     3     2     4     4     2     1     3     3     2 \n",
              "m_345 m_321 m_461 m_413 m_151 m_163 m_465 m_176 m_356 m_370 m_344 m_185 m_463 \n",
              "    2     4     1     1     0     2     1     1     3     1     3     4     3 \n",
              "m_138 m_501 m_391 m_222 m_522  m_50  m_91  m_44   m_6 m_507 m_258  m_57 m_113 \n",
              "    3     1     0     2     4     3     1     1     2     0     0     4     2 \n",
              " m_31 m_182  m_25 m_541 m_530  m_88  m_99 m_526  m_11 m_528 m_475 m_268 m_458 \n",
              "    0     4     3     0     0     2     1     4     2     2     4     4     3 \n",
              "m_334 m_143 m_211 m_269 m_226 m_444 m_342 m_409  m_95  m_30 m_330 m_534 m_118 \n",
              "    1     2     0     1     0     2     0     2     3     1     2     1     1 \n",
              "m_411 m_280   m_8  m_86 m_227 m_255 m_464 m_385 m_241 m_252 m_112 m_281 m_368 \n",
              "    1     4     3     2     2     4     0     4     0     1     4     1     1 \n",
              " m_27 m_322 m_234 m_318 m_299 m_205   m_1 m_421 m_563 m_148 m_511 m_531 m_435 \n",
              "    2     3     3     3     1     4     2     3     1     1     3     1     3 \n",
              "m_279 m_121  m_54 m_100 m_104  m_46 m_157  m_96 m_406 m_424 m_382 m_309  m_61 \n",
              "    1     4     4     2     0     2     3     1     2     0     3     3     3 \n",
              "m_245 m_248 m_312   m_9 m_402 m_540 m_425  m_48 m_492 m_515 m_232  m_78  m_38 \n",
              "    0     1     1     2     3     3     4     1     3     2     2     2     0 \n",
              "m_392 m_335 m_426 m_524 m_533 m_329 m_366  m_63  m_18 m_365 m_493  m_41 m_270 \n",
              "    3     0     1     1     2     1     1     1     3     0     2     1     3 \n",
              "m_352 m_410 m_262 m_439 m_472 m_331 m_167 m_147 m_134 m_347 m_179 m_300  m_13 \n",
              "    4     1     2     0     1     2     1     0     1     1     2     1     0 \n",
              " m_56 m_543  m_60 m_275 m_161  m_85 m_213 m_441 m_328 m_310 m_488   m_4 m_578 \n",
              "    3     1     2     0     1     2     1     3     1     4     4     1     1 \n",
              "m_153  m_34 m_169 m_566  m_40 m_263 m_260 m_165 m_246 m_537 m_388 m_256 m_358 \n",
              "    3     0     4     3     0     0     1     4     2     3     4     1     3 \n",
              "m_351 m_434 m_117 m_355 m_123 m_196 m_367 m_489 m_359 m_116 m_419 m_303  m_16 \n",
              "    2     0     2     2     1     2     2     3     1     2     3     1     1 \n",
              "m_516 m_405 m_517  m_58  m_24 m_223 m_158 m_353  m_83 m_348 m_354 m_433 m_132 \n",
              "    1     3     2     4     2     1     4     0     4     3     1     1     2 \n",
              "m_571  m_17 m_247 m_109 m_550 m_375 m_171   m_5 m_398 m_129  m_37 m_274 m_306 \n",
              "    3     1     1     2     2     2     3     3     2     4     0     4     4 \n",
              "m_264 m_219 m_523 m_149 m_214 m_380 m_491 m_443 m_432 m_453 m_545 m_297 m_131 \n",
              "    1     1     0     1     1     1     2     1     4     1     4     3     0 \n",
              "m_338 m_111 m_139 m_135 m_102 m_295 m_414 m_236  m_39 m_369 m_301 m_446 m_177 \n",
              "    4     2     1     4     3     4     2     4     4     3     0     4     0 \n",
              "m_128 m_479 m_208 m_339 m_286 m_467 m_423 m_198 m_209 m_150  m_29 m_554 m_308 \n",
              "    4     1     4     2     3     2     4     4     4     1     3     3     3 \n",
              "m_114 m_212  m_93  m_79 m_317 m_103 m_539 m_285 m_397  m_76 m_324 m_427 m_510 \n",
              "    3     1     2     0     1     3     1     1     4     4     4     1     2 \n",
              "m_499  m_70 m_136  m_65 m_293 m_340 m_307 m_503  m_80 m_495 m_283 m_105 m_513 \n",
              "    2     2     2     4     0     2     1     4     1     0     2     2     2 \n",
              "m_146 m_305 m_362  m_43 m_284 m_350 m_483 m_210 m_558  m_97 m_393 m_372  m_20 \n",
              "    1     1     4     3     0     2     4     3     2     3     2     2     4 \n",
              "m_207 m_477 m_294 m_482 m_253 m_184  m_35 m_343 m_292 m_218 m_276 m_561 m_420 \n",
              "    4     1     0     4     0     1     1     3     1     3     3     3     3 \n",
              "m_559 m_466 m_556 m_470 m_450 m_536  m_10 m_200 m_364 m_254 m_238 m_468 m_473 \n",
              "    2     3     2     4     1     2     4     3     2     4     0     0     4 \n",
              "m_404   m_3 m_518 m_549 m_387 m_257 m_484 m_156 m_401 m_440 m_418 m_478 m_451 \n",
              "    0     2     2     2     0     4     0     1     1     3     0     3     3 \n",
              "m_349 m_233 m_120 m_142 m_235 m_337 m_316  m_67 m_313 m_172 m_445 m_548 m_137 \n",
              "    0     4     0     2     0     2     1     1     1     0     0     1     2 \n",
              "m_119 m_448 m_224 m_320  m_21 m_203 m_144  m_52 m_471 m_416 m_498 m_486  m_59 \n",
              "    1     3     2     0     3     0     2     0     0     3     4     4     3 \n",
              "m_363 m_259  m_42  m_90 m_220 m_251 m_130 m_267  m_74 m_562 m_572 m_333 m_462 \n",
              "    3     1     0     0     1     0     1     2     1     2     2     1     0 \n",
              "m_481 m_126 m_485 m_429 m_332  m_77 m_231 m_311 m_399 m_514 m_202 m_289 m_204 \n",
              "    2     1     3     0     1     1     3     4     1     4     2     1     1 \n",
              "m_154 m_249 m_512 m_266 m_287 m_417 m_327 m_538 m_407  m_51 m_519  m_72 m_480 \n",
              "    3     0     3     1     0     4     4     1     1     3     2     0     3 \n",
              " m_22  m_32 m_152 m_497 m_508 m_106 m_277 m_384  m_73  m_47 m_124 m_229 m_422 \n",
              "    4     0     3     0     3     4     4     2     1     1     3     1     4 \n",
              " m_87 m_431 m_271 m_215 m_237 m_552 m_535 m_195 m_346  m_53  m_15 m_174  m_92 \n",
              "    4     1     3     1     4     3     0     4     3     3     0     2     3 \n",
              "m_199 m_125 m_454 m_371  m_71 m_457 m_341 m_159 m_239 m_197 m_190 m_216 m_230 \n",
              "    3     4     0     0     2     4     2     2     3     4     4     4     3 \n",
              "m_381  m_69 m_110 m_389 m_101 m_551  m_64 m_504 m_564 m_447 m_173 m_193 m_178 \n",
              "    4     2     0     3     3     1     4     1     1     2     1     3     0 \n",
              "m_201 m_520 m_546 m_180  m_45 m_133  m_36 m_298 m_288 m_569 m_506 m_487 m_386 \n",
              "    1     0     1     2     1     4     1     1     0     0     3     2     3 \n",
              "m_496 m_140 m_206 m_127 m_319 m_378 m_408 m_175  m_81 m_242 m_400 m_325 m_302 \n",
              "    1     0     3     4     3     4     0     4     1     0     3     2     1 \n",
              "m_395 m_296  m_66 m_574 m_557 m_108 m_122 m_500  m_28  m_94 m_225 m_449 m_412 \n",
              "    3     0     0     1     0     3     3     4     1     3     1     2     1 \n",
              " m_89 m_155 m_555 m_428  m_68  m_49 m_494 m_532 m_394  m_62 m_168 m_107 m_164 \n",
              "    4     3     3     4     1     1     0     3     0     1     2     4     1 \n",
              "m_217 m_430 m_542 m_521 m_529 m_460 m_374 m_166  m_23 m_282 m_191 m_567 m_553 \n",
              "    1     1     2     1     2     1     4     0     1     1     1     1     0 \n",
              "m_376   m_7 m_568 m_194 m_244 m_396 m_278 m_273 m_291 m_438 m_189 m_525 m_145 \n",
              "    2     4     3     1     3     4     1     2     4     0     1     3     1 \n",
              "m_544 m_474  m_55 m_192 m_436 m_415 m_403 m_452 \n",
              "    0     1     2     3     4     2     4     0 "
            ]
          },
          "metadata": {}
        }
      ]
    },
    {
      "cell_type": "code",
      "metadata": {
        "trusted": true,
        "id": "ZRPM7KolyrXt",
        "outputId": "55791506-28fc-496d-afb2-8f6ed6710b75",
        "colab": {
          "base_uri": "https://localhost:8080/",
          "height": 34
        }
      },
      "source": [
        "# 1pt por identificarlos \n",
        "sintomas_4 <- which(total_sintomas == 4)\n",
        "\n",
        "#y 1 pt por entregar la cantidad\n",
        "length(sintomas_4)"
      ],
      "execution_count": null,
      "outputs": [
        {
          "output_type": "display_data",
          "data": {
            "text/html": [
              "229"
            ],
            "text/markdown": "229",
            "text/latex": "229",
            "text/plain": [
              "[1] 229"
            ]
          },
          "metadata": {}
        }
      ]
    },
    {
      "cell_type": "code",
      "metadata": {
        "trusted": true,
        "id": "JNhiy0CNyrXu",
        "outputId": "7d891254-37f7-4169-cc66-a6c34f6b88cd",
        "colab": {
          "base_uri": "https://localhost:8080/",
          "height": 68
        }
      },
      "source": [
        "#b)-------------------------------------------------------\n",
        "# opción sin usar colSums\n",
        "sum(sintomas[,\"tiene_tos\"]) # 608 personas\n",
        "# opción usando colSums\n",
        "colSums(sintomas)[\"tiene_tos\"]\n",
        "\n",
        "#c)-------------------------------------------------------\n",
        "# 1 pto por aplicar colSums\n",
        "total_sintomas <- colSums(sintomas[,-1])\n",
        "\n",
        "# 1 pto por identificar el máximo \n",
        "id_max <- which.max(total_sintomas)\n",
        "total_sintomas[id_max] #(dolor dde cabeza)"
      ],
      "execution_count": null,
      "outputs": [
        {
          "output_type": "display_data",
          "data": {
            "text/html": [
              "608"
            ],
            "text/markdown": "608",
            "text/latex": "608",
            "text/plain": [
              "[1] 608"
            ]
          },
          "metadata": {}
        },
        {
          "output_type": "display_data",
          "data": {
            "text/html": [
              "<strong>tiene_tos:</strong> 608"
            ],
            "text/markdown": "**tiene_tos:** 608",
            "text/latex": "\\textbf{tiene\\textbackslash{}\\_tos:} 608",
            "text/plain": [
              "tiene_tos \n",
              "      608 "
            ]
          },
          "metadata": {}
        },
        {
          "output_type": "display_data",
          "data": {
            "text/html": [
              "<strong>tiene_dolor_cabeza:</strong> 750"
            ],
            "text/markdown": "**tiene_dolor_cabeza:** 750",
            "text/latex": "\\textbf{tiene\\textbackslash{}\\_dolor\\textbackslash{}\\_cabeza:} 750",
            "text/plain": [
              "tiene_dolor_cabeza \n",
              "               750 "
            ]
          },
          "metadata": {}
        }
      ]
    },
    {
      "cell_type": "code",
      "metadata": {
        "trusted": true,
        "id": "qpPkal1ayrXw"
      },
      "source": [
        ""
      ],
      "execution_count": null,
      "outputs": []
    },
    {
      "cell_type": "markdown",
      "metadata": {
        "id": "cXozDcP0yrXz"
      },
      "source": [
        "## Pregunta 2.4\n",
        "\n",
        "**4a) (1pt)** La función `as.data.frame()` permite coercionar un objeto de otra clase a `data.frame`.\n",
        "cree una variable llamada `sintomas_df` con la información  de sintomas pero como data.frame.<br>\n",
        "**4b) (1pts)**\n",
        "Se puede observar que los ids solo están disponibles en los nombres de las filas. Sin embargo esútil tener esta información como una columna más de la tabla. Para ello **cree una nueva columna en la tabla sintomas_df** llamada `id` que contenga los ids de cada registro. \n",
        "\n",
        "NOTA: El orden de las filas no ha variado por lo que podemos añadir la columna sin mayores precauciones. <br>\n",
        "\n",
        "**4c) (2pts)** ¿Cuántas personas **sólo** presentaron tos y dolor de cabeza?<br>\n",
        "**4d) (1pt)** Se sabe que una persona tiene fiebre cuando su temperatura es mayor o igual a los 37.2°. **Cree una nueva columna en la tabla sintomas_df** llamada `tiene_fiebre` que contenga `TRUE` cuando tiene fiebre y `FALSE` en caso contrario. \n",
        "\n"
      ]
    },
    {
      "cell_type": "code",
      "metadata": {
        "trusted": true,
        "id": "7AdKQ4y7yrXz",
        "outputId": "cd829966-a9c6-4f27-92b5-9c1a28316e27",
        "colab": {
          "base_uri": "https://localhost:8080/",
          "height": 283
        }
      },
      "source": [
        "# P4\n",
        "#Respuestas:\n",
        "#a)-------------------------------------------------------\n",
        "sintomas_df <- as.data.frame(sintomas)\n",
        "\n",
        "#b)-------------------------------------------------------\n",
        "# cualquiera de las sgtes opciones es correcta\n",
        "sintomas_df$id <- rownames(sintomas_df)\n",
        "sintomas_df[,\"id\"] <- rownames(sintomas_df)\n",
        "#cbind(sintomas_df, id = rownames(sintomas_df))\n",
        "\n",
        "#NOTA con el comando head() puede mostrar los primeros registros de la tabla\n",
        "head(sintomas_df)"
      ],
      "execution_count": null,
      "outputs": [
        {
          "output_type": "display_data",
          "data": {
            "text/html": [
              "<table class=\"dataframe\">\n",
              "<caption>A data.frame: 6 × 6</caption>\n",
              "<thead>\n",
              "\t<tr><th></th><th scope=col>temperatura</th><th scope=col>tiene_tos</th><th scope=col>tiene_dolor_cabeza</th><th scope=col>tiene_perdida_olfato</th><th scope=col>tiene_dolor_pecho</th><th scope=col>id</th></tr>\n",
              "\t<tr><th></th><th scope=col>&lt;dbl&gt;</th><th scope=col>&lt;dbl&gt;</th><th scope=col>&lt;dbl&gt;</th><th scope=col>&lt;dbl&gt;</th><th scope=col>&lt;dbl&gt;</th><th scope=col>&lt;chr&gt;</th></tr>\n",
              "</thead>\n",
              "<tbody>\n",
              "\t<tr><th scope=row>h_377</th><td>39.32619</td><td>0</td><td>0</td><td>0</td><td>1</td><td>h_377</td></tr>\n",
              "\t<tr><th scope=row>h_28</th><td>36.52849</td><td>1</td><td>1</td><td>0</td><td>0</td><td>h_28 </td></tr>\n",
              "\t<tr><th scope=row>h_20</th><td>36.97699</td><td>0</td><td>0</td><td>1</td><td>0</td><td>h_20 </td></tr>\n",
              "\t<tr><th scope=row>h_491</th><td>39.26491</td><td>1</td><td>1</td><td>1</td><td>1</td><td>h_491</td></tr>\n",
              "\t<tr><th scope=row>h_403</th><td>36.19782</td><td>0</td><td>0</td><td>1</td><td>0</td><td>h_403</td></tr>\n",
              "\t<tr><th scope=row>h_128</th><td>36.47809</td><td>1</td><td>1</td><td>1</td><td>0</td><td>h_128</td></tr>\n",
              "</tbody>\n",
              "</table>\n"
            ],
            "text/markdown": "\nA data.frame: 6 × 6\n\n| <!--/--> | temperatura &lt;dbl&gt; | tiene_tos &lt;dbl&gt; | tiene_dolor_cabeza &lt;dbl&gt; | tiene_perdida_olfato &lt;dbl&gt; | tiene_dolor_pecho &lt;dbl&gt; | id &lt;chr&gt; |\n|---|---|---|---|---|---|---|\n| h_377 | 39.32619 | 0 | 0 | 0 | 1 | h_377 |\n| h_28 | 36.52849 | 1 | 1 | 0 | 0 | h_28  |\n| h_20 | 36.97699 | 0 | 0 | 1 | 0 | h_20  |\n| h_491 | 39.26491 | 1 | 1 | 1 | 1 | h_491 |\n| h_403 | 36.19782 | 0 | 0 | 1 | 0 | h_403 |\n| h_128 | 36.47809 | 1 | 1 | 1 | 0 | h_128 |\n\n",
            "text/latex": "A data.frame: 6 × 6\n\\begin{tabular}{r|llllll}\n  & temperatura & tiene\\_tos & tiene\\_dolor\\_cabeza & tiene\\_perdida\\_olfato & tiene\\_dolor\\_pecho & id\\\\\n  & <dbl> & <dbl> & <dbl> & <dbl> & <dbl> & <chr>\\\\\n\\hline\n\th\\_377 & 39.32619 & 0 & 0 & 0 & 1 & h\\_377\\\\\n\th\\_28 & 36.52849 & 1 & 1 & 0 & 0 & h\\_28 \\\\\n\th\\_20 & 36.97699 & 0 & 0 & 1 & 0 & h\\_20 \\\\\n\th\\_491 & 39.26491 & 1 & 1 & 1 & 1 & h\\_491\\\\\n\th\\_403 & 36.19782 & 0 & 0 & 1 & 0 & h\\_403\\\\\n\th\\_128 & 36.47809 & 1 & 1 & 1 & 0 & h\\_128\\\\\n\\end{tabular}\n",
            "text/plain": [
              "      temperatura tiene_tos tiene_dolor_cabeza tiene_perdida_olfato\n",
              "h_377 39.32619    0         0                  0                   \n",
              "h_28  36.52849    1         1                  0                   \n",
              "h_20  36.97699    0         0                  1                   \n",
              "h_491 39.26491    1         1                  1                   \n",
              "h_403 36.19782    0         0                  1                   \n",
              "h_128 36.47809    1         1                  1                   \n",
              "      tiene_dolor_pecho id   \n",
              "h_377 1                 h_377\n",
              "h_28  0                 h_28 \n",
              "h_20  0                 h_20 \n",
              "h_491 1                 h_491\n",
              "h_403 0                 h_403\n",
              "h_128 0                 h_128"
            ]
          },
          "metadata": {}
        }
      ]
    },
    {
      "cell_type": "code",
      "metadata": {
        "trusted": true,
        "id": "Y0T3szHwyrX2",
        "outputId": "bd7999e9-3b0f-4fb8-9fb3-ad21a0de6b32",
        "colab": {
          "base_uri": "https://localhost:8080/",
          "height": 317
        }
      },
      "source": [
        "#c)-------------------------------------------------------\n",
        "\n",
        "#1 pto si generan la consulta parcial\n",
        "dim(sintomas_df[sintomas_df$tiene_tos & sintomas_df$tiene_dolor_cabeza,])[1]  ## 494 casos\n",
        "\n",
        "#2 ptos si generan la consulta correcta y retornan la cantdad de filas ## 51 casos\n",
        "dim(sintomas_df[sintomas_df$tiene_tos == 1\n",
        "            & sintomas_df$tiene_dolor_cabeza == 1 \n",
        "            & sintomas_df$tiene_perdida_olfato == 0 \n",
        "            & sintomas_df$tiene_dolor_pecho == 0,])[1]\n",
        "\n",
        "#d)-------------------------------------------------------\n",
        "# 1 pto por crear el vector con T y F y 1 pto por crear la columna en el dataset\n",
        "sintomas_df$tiene_fiebre <- sintomas_df$temperatura >= 37.2\n",
        "head(sintomas_df)"
      ],
      "execution_count": null,
      "outputs": [
        {
          "output_type": "display_data",
          "data": {
            "text/html": [
              "494"
            ],
            "text/markdown": "494",
            "text/latex": "494",
            "text/plain": [
              "[1] 494"
            ]
          },
          "metadata": {}
        },
        {
          "output_type": "display_data",
          "data": {
            "text/html": [
              "51"
            ],
            "text/markdown": "51",
            "text/latex": "51",
            "text/plain": [
              "[1] 51"
            ]
          },
          "metadata": {}
        },
        {
          "output_type": "display_data",
          "data": {
            "text/html": [
              "<table class=\"dataframe\">\n",
              "<caption>A data.frame: 6 × 7</caption>\n",
              "<thead>\n",
              "\t<tr><th></th><th scope=col>temperatura</th><th scope=col>tiene_tos</th><th scope=col>tiene_dolor_cabeza</th><th scope=col>tiene_perdida_olfato</th><th scope=col>tiene_dolor_pecho</th><th scope=col>id</th><th scope=col>tiene_fiebre</th></tr>\n",
              "\t<tr><th></th><th scope=col>&lt;dbl&gt;</th><th scope=col>&lt;dbl&gt;</th><th scope=col>&lt;dbl&gt;</th><th scope=col>&lt;dbl&gt;</th><th scope=col>&lt;dbl&gt;</th><th scope=col>&lt;chr&gt;</th><th scope=col>&lt;lgl&gt;</th></tr>\n",
              "</thead>\n",
              "<tbody>\n",
              "\t<tr><th scope=row>h_377</th><td>39.32619</td><td>0</td><td>0</td><td>0</td><td>1</td><td>h_377</td><td> TRUE</td></tr>\n",
              "\t<tr><th scope=row>h_28</th><td>36.52849</td><td>1</td><td>1</td><td>0</td><td>0</td><td>h_28 </td><td>FALSE</td></tr>\n",
              "\t<tr><th scope=row>h_20</th><td>36.97699</td><td>0</td><td>0</td><td>1</td><td>0</td><td>h_20 </td><td>FALSE</td></tr>\n",
              "\t<tr><th scope=row>h_491</th><td>39.26491</td><td>1</td><td>1</td><td>1</td><td>1</td><td>h_491</td><td> TRUE</td></tr>\n",
              "\t<tr><th scope=row>h_403</th><td>36.19782</td><td>0</td><td>0</td><td>1</td><td>0</td><td>h_403</td><td>FALSE</td></tr>\n",
              "\t<tr><th scope=row>h_128</th><td>36.47809</td><td>1</td><td>1</td><td>1</td><td>0</td><td>h_128</td><td>FALSE</td></tr>\n",
              "</tbody>\n",
              "</table>\n"
            ],
            "text/markdown": "\nA data.frame: 6 × 7\n\n| <!--/--> | temperatura &lt;dbl&gt; | tiene_tos &lt;dbl&gt; | tiene_dolor_cabeza &lt;dbl&gt; | tiene_perdida_olfato &lt;dbl&gt; | tiene_dolor_pecho &lt;dbl&gt; | id &lt;chr&gt; | tiene_fiebre &lt;lgl&gt; |\n|---|---|---|---|---|---|---|---|\n| h_377 | 39.32619 | 0 | 0 | 0 | 1 | h_377 |  TRUE |\n| h_28 | 36.52849 | 1 | 1 | 0 | 0 | h_28  | FALSE |\n| h_20 | 36.97699 | 0 | 0 | 1 | 0 | h_20  | FALSE |\n| h_491 | 39.26491 | 1 | 1 | 1 | 1 | h_491 |  TRUE |\n| h_403 | 36.19782 | 0 | 0 | 1 | 0 | h_403 | FALSE |\n| h_128 | 36.47809 | 1 | 1 | 1 | 0 | h_128 | FALSE |\n\n",
            "text/latex": "A data.frame: 6 × 7\n\\begin{tabular}{r|lllllll}\n  & temperatura & tiene\\_tos & tiene\\_dolor\\_cabeza & tiene\\_perdida\\_olfato & tiene\\_dolor\\_pecho & id & tiene\\_fiebre\\\\\n  & <dbl> & <dbl> & <dbl> & <dbl> & <dbl> & <chr> & <lgl>\\\\\n\\hline\n\th\\_377 & 39.32619 & 0 & 0 & 0 & 1 & h\\_377 &  TRUE\\\\\n\th\\_28 & 36.52849 & 1 & 1 & 0 & 0 & h\\_28  & FALSE\\\\\n\th\\_20 & 36.97699 & 0 & 0 & 1 & 0 & h\\_20  & FALSE\\\\\n\th\\_491 & 39.26491 & 1 & 1 & 1 & 1 & h\\_491 &  TRUE\\\\\n\th\\_403 & 36.19782 & 0 & 0 & 1 & 0 & h\\_403 & FALSE\\\\\n\th\\_128 & 36.47809 & 1 & 1 & 1 & 0 & h\\_128 & FALSE\\\\\n\\end{tabular}\n",
            "text/plain": [
              "      temperatura tiene_tos tiene_dolor_cabeza tiene_perdida_olfato\n",
              "h_377 39.32619    0         0                  0                   \n",
              "h_28  36.52849    1         1                  0                   \n",
              "h_20  36.97699    0         0                  1                   \n",
              "h_491 39.26491    1         1                  1                   \n",
              "h_403 36.19782    0         0                  1                   \n",
              "h_128 36.47809    1         1                  1                   \n",
              "      tiene_dolor_pecho id    tiene_fiebre\n",
              "h_377 1                 h_377  TRUE       \n",
              "h_28  0                 h_28  FALSE       \n",
              "h_20  0                 h_20  FALSE       \n",
              "h_491 1                 h_491  TRUE       \n",
              "h_403 0                 h_403 FALSE       \n",
              "h_128 0                 h_128 FALSE       "
            ]
          },
          "metadata": {}
        }
      ]
    },
    {
      "cell_type": "code",
      "metadata": {
        "trusted": true,
        "id": "-GDxD6ZQyrX4"
      },
      "source": [
        ""
      ],
      "execution_count": null,
      "outputs": []
    }
  ]
}