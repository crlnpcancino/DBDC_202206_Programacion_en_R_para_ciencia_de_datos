{
  "nbformat": 4,
  "nbformat_minor": 0,
  "metadata": {
    "colab": {
      "name": "Control1_Carolina Peña_Javier Godoy.ipynb",
      "provenance": [],
      "collapsed_sections": [],
      "include_colab_link": true
    },
    "kernelspec": {
      "name": "ir",
      "display_name": "R"
    }
  },
  "cells": [
    {
      "cell_type": "markdown",
      "metadata": {
        "id": "view-in-github",
        "colab_type": "text"
      },
      "source": [
        "<a href=\"https://colab.research.google.com/github/crlnpcancino/DBDC_202206_Programacion_en_R_para_ciencia_de_datos/blob/main/Control1_Carolina_Pe%C3%B1a_Javier_Godoy.ipynb\" target=\"_parent\"><img src=\"https://colab.research.google.com/assets/colab-badge.svg\" alt=\"Open In Colab\"/></a>"
      ]
    },
    {
      "cell_type": "markdown",
      "metadata": {
        "id": "SvIjRoDOw-lT"
      },
      "source": [
        "# Control 1: Sintaxis básica y manipulación de objetos simples en R\n"
      ]
    },
    {
      "cell_type": "markdown",
      "metadata": {
        "trusted": true,
        "id": "wGflY0eCw-lT"
      },
      "source": [
        "Nombre 1: _Puede incluir su nombre acá haciendo doble click_                                                                                                                                      <br> \n",
        "Nombre 2: _Puede incluir su nombre acá haciendo doble click_   \n",
        "\n",
        "# Instrucciones\n",
        "\n",
        "El siguiente test podrá desarrollarlo de manera individual o en pareja con otro(a) de sus compañeros(as).<br>\n",
        "\n",
        "Lea atentamente cada una de las preguntas propuestas y sea claro en los comentarios (si es que los incluye) de los desarrollos de sus respuestas. Para el desarrollo de las mismas, dispone de celdas de código después de cada pregunta. Sin embargo podrá agregar más celdas si así lo estima conveniente.<br>\n",
        "Las preguntas formuladas en este test pueden ser abordadas con las herramientas trabajadas en clases, sin embaro, usted podrá hacer uso de las funcionalidades y/o packages que estime convenientes, a menos que se indique explícitamente lo contrario.\n",
        "\n",
        "## Tiempo y entrega\n",
        "Dispondrán hasta el día lunes **15 de julio** hasta las 23:59 hrs para hacer envío de sus respuestas.\n",
        "Una vez finalizado el desarrollo del test, deberá entregarlo teniendo en cuenta las siguientes consideraciones :\n",
        "\n",
        " * Descargue el notebook en **formato `*.ipynb`** (uno por pareja), e indique en el nombre del archivo los nombres de los integrantes, `Control1_nombres_integrantes.ipynb`. \n",
        " \n",
        " * En caso de trabajar en Rstudio, deberá enviar el script de extensión `*.R` con el siguiente nombre: `Control1_nombres_integrantes.R` , **procurando indicar con comentarios claros, qué pregunta está respondiendo en cada caso**.\n",
        " * Envíe el archivo al correo rumorale1@gmail.com, con copia a majorquev@gmail.com con el asunto \"DBDC-R-C1: 'nombre y apellido de los integrantes' \"\n",
        " \n",
        "**NOTA**: \n",
        "   * Los correos cuyo asunto no comiencen con \"DBDC-R-C1\" no llegarán a destino y por ende no serán calificados.\n",
        "   * Los archivos que no contengan nombre serán calificados con la nota mínima 1.0.\n",
        "   * Los correos enviados posterior a la fecha y hora de entrega indicados tendrán una penalización de 1 punto por día (o fracción) de retraso en la entrega, por ejemplo, si usted envía sus respuestas a las 00:05 hrs del domingo 16 de julio, su nota máxima será un 6.0."
      ]
    },
    {
      "cell_type": "markdown",
      "metadata": {
        "id": "CRurl8ANw-lU"
      },
      "source": [
        "# Sección 1\n",
        "\n",
        "La siguiente línea de código permite cargar en memoria, un objeto de extensión *.rds que está almacenado en el disco de la máquina en la ruta actual de trabajo.\n",
        "\n",
        "Este archivo contiene la información de los contagios por COVID-19 en nuestsro país, según las cifras oficiales entregadas por el ministerio de salud para lo que del año 2022 hasta el 22 de abril. En el archivo encontrará, para cada mes, el total de casos diarios desglosados según:\n",
        "   * 'casos_nuevos_con_sintomas': casos nuevos con síntomas del día.\n",
        "   * 'casos_totales' : casos acumulados a la fecha.\n",
        "   * 'casos_recuperados': casos recuperados acumulados a la fecha.\n",
        "   * 'fallecidos': casos fallecidos acumulados.\n",
        "   * 'casos_activos': casos activos a la fecha.\n",
        "   * 'casos_nuevos_sin_sintomas': casos asintomáticos del día.\n",
        "   * 'casos_nuevos_totales': suma de  casos asintomáticos más casos con síntomas del día, más casos nuevos sin notificar.\n",
        " \n",
        " Si bien no será utilizados en este trabajo, también econtrán nuevos registros de acuerdo a los últimos cambios en la metodología de conteo. Para más info pueden referirse al siguiente link:\n",
        " https://github.com/MinCiencia/Datos-COVID19/tree/master/output/producto5\n",
        " \n",
        "   * 'casos_activos_por_fd'\n",
        "   * 'casos_activos_por_fis'\n",
        "   * 'casos_recuperados_por_fis'\n",
        "   * 'casos_recuperados_por_fd' \n",
        "   * 'casos_confirmados_recuperados'\n",
        "   * 'casos_activos_confirmados'\n",
        "   * 'casos_probables_acumulados'\n",
        "   * 'casos_activos_probables'\n",
        "\n"
      ]
    },
    {
      "cell_type": "code",
      "metadata": {
        "trusted": true,
        "id": "UejLBfGIw-lV"
      },
      "source": [
        "# Carga de casos\n",
        "casos <- readRDS(\"covid.rds\") # Recuerde que el archivo de estar en su directorio de trabajo"
      ],
      "execution_count": null,
      "outputs": []
    },
    {
      "cell_type": "code",
      "source": [
        "getwd()\n",
        "setwd(\"/content/sample_data\")\n",
        "getwd()"
      ],
      "metadata": {
        "colab": {
          "base_uri": "https://localhost:8080/",
          "height": 52
        },
        "id": "LOo-HDi7LN-A",
        "outputId": "288d9699-e8d2-42a5-bc80-a6eedfc814c8"
      },
      "execution_count": 102,
      "outputs": [
        {
          "output_type": "display_data",
          "data": {
            "text/html": [
              "'/content/sample_data'"
            ],
            "text/markdown": "'/content/sample_data'",
            "text/latex": "'/content/sample\\_data'",
            "text/plain": [
              "[1] \"/content/sample_data\""
            ]
          },
          "metadata": {}
        },
        {
          "output_type": "display_data",
          "data": {
            "text/html": [
              "'/content/sample_data'"
            ],
            "text/markdown": "'/content/sample_data'",
            "text/latex": "'/content/sample\\_data'",
            "text/plain": [
              "[1] \"/content/sample_data\""
            ]
          },
          "metadata": {}
        }
      ]
    },
    {
      "cell_type": "markdown",
      "metadata": {
        "id": "ftnV7vyIw-lY"
      },
      "source": [
        "## Pregunta 1.1\n",
        "\n",
        "**1a) (1pt)** ¿Qué clase de objetos es `casos`? <br>\n",
        "**1b) (1pt)** ¿Cuántos elementos posee este objeto?<br>\n",
        "**1c) (1pt)** ¿Cuáles son los nombres de este objeto?<br>\n",
        "**1d) (2pt)** ¿Qué clase de objeto está almacenado en sl _slot_ correspondiente al mes de marzo (\"mar\") y cuántos elementos posee?<br>\n",
        "**1e) (2pt)** Para el mes de marzo, ¿a qué clase de objeto corresponde `casos_totales` y cuántos elementos posee?\n",
        "\n",
        "\n"
      ]
    },
    {
      "cell_type": "code",
      "metadata": {
        "trusted": true,
        "scrolled": false,
        "id": "F73UhWWow-lY",
        "outputId": "e30dd091-1e46-481c-db5d-437728e5808e",
        "colab": {
          "base_uri": "https://localhost:8080/",
          "height": 207
        }
      },
      "source": [
        "# P1.1\n",
        "## Respuestas\n",
        "\n",
        "casos <- readRDS(\"D:/dev/DBDC_202206_Programacion_en_R_para_ciencia_de_datos/Evaluaciones/C1/covid_2022.rds\")\n",
        "# 1a) ¿Qué clase de objetos es casos?\n",
        "class(casos)"
      ],
      "execution_count": 103,
      "outputs": [
        {
          "output_type": "stream",
          "name": "stderr",
          "text": [
            "Warning message in gzfile(file, \"rb\"):\n",
            "“cannot open compressed file 'D:/dev/DBDC_202206_Programacion_en_R_para_ciencia_de_datos/Evaluaciones/C1/covid_2022.rds', probable reason 'No such file or directory'”\n"
          ]
        },
        {
          "output_type": "error",
          "ename": "ERROR",
          "evalue": "ignored",
          "traceback": [
            "Error in gzfile(file, \"rb\"): cannot open the connection\nTraceback:\n",
            "1. readRDS(\"D:/dev/DBDC_202206_Programacion_en_R_para_ciencia_de_datos/Evaluaciones/C1/covid_2022.rds\")",
            "2. gzfile(file, \"rb\")"
          ]
        }
      ]
    },
    {
      "cell_type": "code",
      "source": [
        "# 1b) ¿Cuántos elementos posee este objeto?\n",
        "str(casos)"
      ],
      "metadata": {
        "id": "TTZ6NANrdNO5",
        "colab": {
          "base_uri": "https://localhost:8080/"
        },
        "outputId": "2fe95bba-f0e3-4c84-915c-81b51483a285"
      },
      "execution_count": null,
      "outputs": [
        {
          "output_type": "stream",
          "name": "stdout",
          "text": [
            "List of 4\n",
            " $ ene:List of 21\n",
            "  ..$ casos_activos                                   :'data.frame':\t31 obs. of  2 variables:\n",
            "  .. ..$ dia_del_mes: num [1:31] 1 2 3 4 5 6 7 8 9 10 ...\n",
            "  .. ..$ total      : num [1:31] 9489 10169 9995 9843 10677 ...\n",
            "  ..$ casos_activos_confirmados                       :'data.frame':\t31 obs. of  2 variables:\n",
            "  .. ..$ dia_del_mes: num [1:31] 1 2 3 4 5 6 7 8 9 10 ...\n",
            "  .. ..$ total      : num [1:31] 9489 10169 9995 9843 10677 ...\n",
            "  ..$ casos_activos_por_fd                            :'data.frame':\t31 obs. of  2 variables:\n",
            "  .. ..$ dia_del_mes: num [1:31] 1 2 3 4 5 6 7 8 9 10 ...\n",
            "  .. ..$ total      : num [1:31] 17874 18526 18395 18562 19438 ...\n",
            "  ..$ casos_activos_por_fis                           :'data.frame':\t31 obs. of  2 variables:\n",
            "  .. ..$ dia_del_mes: num [1:31] 1 2 3 4 5 6 7 8 9 10 ...\n",
            "  .. ..$ total      : num [1:31] 9489 10169 9995 9843 10677 ...\n",
            "  ..$ casos_activos_probables                         :'data.frame':\t31 obs. of  2 variables:\n",
            "  .. ..$ dia_del_mes: num [1:31] 1 2 3 4 5 6 7 8 9 10 ...\n",
            "  .. ..$ total      : num [1:31] 25 24 25 23 23 28 33 28 33 42 ...\n",
            "  ..$ casos_con_sospecha_de_reinfeccion               :'data.frame':\t31 obs. of  2 variables:\n",
            "  .. ..$ dia_del_mes: num [1:31] 1 2 3 4 5 6 7 8 9 10 ...\n",
            "  .. ..$ total      : num [1:31] 2257 2263 2275 2280 2295 ...\n",
            "  ..$ casos_confirmados_por_antigeno                  :'data.frame':\t31 obs. of  2 variables:\n",
            "  .. ..$ dia_del_mes: num [1:31] 1 2 3 4 5 6 7 8 9 10 ...\n",
            "  .. ..$ total      : num [1:31] 96684 96869 96995 97235 97696 ...\n",
            "  ..$ casos_confirmados_recuperados                   :'data.frame':\t31 obs. of  2 variables:\n",
            "  .. ..$ dia_del_mes: num [1:31] 1 2 3 4 5 6 7 8 9 10 ...\n",
            "  .. ..$ total      : num [1:31] 1754104 1755273 1756412 1757601 1758607 ...\n",
            "  ..$ casos_nuevos_con_sintomas                       :'data.frame':\t31 obs. of  2 variables:\n",
            "  .. ..$ dia_del_mes: num [1:31] 1 2 3 4 5 6 7 8 9 10 ...\n",
            "  .. ..$ total      : num [1:31] 1059 808 455 593 998 ...\n",
            "  ..$ casos_nuevos_confirmados_por_antigeno           :'data.frame':\t31 obs. of  2 variables:\n",
            "  .. ..$ dia_del_mes: num [1:31] 1 2 3 4 5 6 7 8 9 10 ...\n",
            "  .. ..$ total      : num [1:31] 341 198 135 248 478 641 680 735 665 646 ...\n",
            "  ..$ casos_nuevos_sin_notificar                      :'data.frame':\t31 obs. of  2 variables:\n",
            "  .. ..$ dia_del_mes: num [1:31] 1 2 3 4 5 6 7 8 9 10 ...\n",
            "  .. ..$ total      : num [1:31] 498 604 319 317 581 ...\n",
            "  ..$ casos_nuevos_sin_sintomas                       :'data.frame':\t31 obs. of  2 variables:\n",
            "  .. ..$ dia_del_mes: num [1:31] 1 2 3 4 5 6 7 8 9 10 ...\n",
            "  .. ..$ total      : num [1:31] 373 509 231 148 279 678 893 772 781 763 ...\n",
            "  ..$ casos_nuevos_totales                            :'data.frame':\t31 obs. of  2 variables:\n",
            "  .. ..$ dia_del_mes: num [1:31] 1 2 3 4 5 6 7 8 9 10 ...\n",
            "  .. ..$ total      : num [1:31] 1930 1921 1005 1058 1858 ...\n",
            "  ..$ casos_probables_acumulados                      :'data.frame':\t31 obs. of  2 variables:\n",
            "  .. ..$ dia_del_mes: num [1:31] 1 2 3 4 5 6 7 8 9 10 ...\n",
            "  .. ..$ total      : num [1:31] 353221 353197 353178 353169 353132 ...\n",
            "  ..$ casos_recuperados                               :'data.frame':\t31 obs. of  2 variables:\n",
            "  .. ..$ dia_del_mes: num [1:31] 1 2 3 4 5 6 7 8 9 10 ...\n",
            "  .. ..$ total      : num [1:31] NA NA NA NA NA NA NA NA NA NA ...\n",
            "  ..$ casos_recuperados_por_fd                        :'data.frame':\t31 obs. of  2 variables:\n",
            "  .. ..$ dia_del_mes: num [1:31] 1 2 3 4 5 6 7 8 9 10 ...\n",
            "  .. ..$ total      : num [1:31] 1751384 1752614 1753729 1754612 1755573 ...\n",
            "  ..$ casos_recuperados_por_fis                       :'data.frame':\t31 obs. of  2 variables:\n",
            "  .. ..$ dia_del_mes: num [1:31] 1 2 3 4 5 6 7 8 9 10 ...\n",
            "  .. ..$ total      : num [1:31] 1759769 1760971 1762129 1763331 1764334 ...\n",
            "  ..$ casos_totales                                   :'data.frame':\t31 obs. of  2 variables:\n",
            "  .. ..$ dia_del_mes: num [1:31] 1 2 3 4 5 6 7 8 9 10 ...\n",
            "  .. ..$ total      : num [1:31] 1808398 1810302 1811297 1812348 1814188 ...\n",
            "  ..$ fallecidos                                      :'data.frame':\t31 obs. of  2 variables:\n",
            "  .. ..$ dia_del_mes: num [1:31] 1 2 3 4 5 6 7 8 9 10 ...\n",
            "  .. ..$ total      : num [1:31] 39140 39162 39173 39174 39177 ...\n",
            "  ..$ fallecidos_confirmados_totales                  :'data.frame':\t31 obs. of  2 variables:\n",
            "  .. ..$ dia_del_mes: num [1:31] 1 2 3 4 5 6 7 8 9 10 ...\n",
            "  .. ..$ total      : num [1:31] NA NA NA NA NA NA NA NA NA NA ...\n",
            "  ..$ fallecidos_sospechosos_probables_u_otros_totales:'data.frame':\t31 obs. of  2 variables:\n",
            "  .. ..$ dia_del_mes: num [1:31] 1 2 3 4 5 6 7 8 9 10 ...\n",
            "  .. ..$ total      : num [1:31] NA NA NA NA NA NA NA NA NA NA ...\n",
            " $ feb:List of 21\n",
            "  ..$ casos_activos                                   :'data.frame':\t28 obs. of  2 variables:\n",
            "  .. ..$ dia_del_mes: num [1:28] 1 2 3 4 5 6 7 8 9 10 ...\n",
            "  .. ..$ total      : num [1:28] 113734 112804 118427 125857 131295 ...\n",
            "  ..$ casos_activos_confirmados                       :'data.frame':\t28 obs. of  2 variables:\n",
            "  .. ..$ dia_del_mes: num [1:28] 1 2 3 4 5 6 7 8 9 10 ...\n",
            "  .. ..$ total      : num [1:28] 113734 112804 118427 125857 131295 ...\n",
            "  ..$ casos_activos_por_fd                            :'data.frame':\t28 obs. of  2 variables:\n",
            "  .. ..$ dia_del_mes: num [1:28] 1 2 3 4 5 6 7 8 9 10 ...\n",
            "  .. ..$ total      : num [1:28] 297446 318619 341483 362508 385359 ...\n",
            "  ..$ casos_activos_por_fis                           :'data.frame':\t28 obs. of  2 variables:\n",
            "  .. ..$ dia_del_mes: num [1:28] 1 2 3 4 5 6 7 8 9 10 ...\n",
            "  .. ..$ total      : num [1:28] 113734 112804 118427 125857 131295 ...\n",
            "  ..$ casos_activos_probables                         :'data.frame':\t28 obs. of  2 variables:\n",
            "  .. ..$ dia_del_mes: num [1:28] 1 2 3 4 5 6 7 8 9 10 ...\n",
            "  .. ..$ total      : num [1:28] 64 64 67 49 50 58 54 51 47 32 ...\n",
            "  ..$ casos_con_sospecha_de_reinfeccion               :'data.frame':\t28 obs. of  2 variables:\n",
            "  .. ..$ dia_del_mes: num [1:28] 1 2 3 4 5 6 7 8 9 10 ...\n",
            "  .. ..$ total      : num [1:28] 6675 6944 7278 7614 7965 ...\n",
            "  ..$ casos_confirmados_por_antigeno                  :'data.frame':\t28 obs. of  2 variables:\n",
            "  .. ..$ dia_del_mes: num [1:28] 1 2 3 4 5 6 7 8 9 10 ...\n",
            "  .. ..$ total      : num [1:28] 180644 190765 201328 212462 223162 ...\n",
            "  ..$ casos_confirmados_recuperados                   :'data.frame':\t28 obs. of  2 variables:\n",
            "  .. ..$ dia_del_mes: num [1:28] 1 2 3 4 5 6 7 8 9 10 ...\n",
            "  .. ..$ total      : num [1:28] 2030468 2062092 2093059 2124250 2157039 ...\n",
            "  ..$ casos_nuevos_con_sintomas                       :'data.frame':\t28 obs. of  2 variables:\n",
            "  .. ..$ dia_del_mes: num [1:28] 1 2 3 4 5 6 7 8 9 10 ...\n",
            "  .. ..$ total      : num [1:28] 13374 19192 19439 21103 20700 ...\n",
            "  ..$ casos_nuevos_confirmados_por_antigeno           :'data.frame':\t28 obs. of  2 variables:\n",
            "  .. ..$ dia_del_mes: num [1:28] 1 2 3 4 5 6 7 8 9 10 ...\n",
            "  .. ..$ total      : num [1:28] 5927 10165 10610 11176 10744 ...\n",
            "  ..$ casos_nuevos_sin_notificar                      :'data.frame':\t28 obs. of  2 variables:\n",
            "  .. ..$ dia_del_mes: num [1:28] 1 2 3 4 5 6 7 8 9 10 ...\n",
            "  .. ..$ total      : num [1:28] 6532 7843 11272 11663 10744 ...\n",
            "  ..$ casos_nuevos_sin_sintomas                       :'data.frame':\t28 obs. of  2 variables:\n",
            "  .. ..$ dia_del_mes: num [1:28] 1 2 3 4 5 6 7 8 9 10 ...\n",
            "  .. ..$ total      : num [1:28] 2286 2809 4486 4702 4853 ...\n",
            "  ..$ casos_nuevos_totales                            :'data.frame':\t28 obs. of  2 variables:\n",
            "  .. ..$ dia_del_mes: num [1:28] 1 2 3 4 5 6 7 8 9 10 ...\n",
            "  .. ..$ total      : num [1:28] 22192 29844 35197 37468 36297 ...\n",
            "  ..$ casos_probables_acumulados                      :'data.frame':\t28 obs. of  2 variables:\n",
            "  .. ..$ dia_del_mes: num [1:28] 1 2 3 4 5 6 7 8 9 10 ...\n",
            "  .. ..$ total      : num [1:28] 354240 354244 354265 354251 354254 ...\n",
            "  ..$ casos_recuperados                               :'data.frame':\t28 obs. of  2 variables:\n",
            "  .. ..$ dia_del_mes: num [1:28] 1 2 3 4 5 6 7 8 9 10 ...\n",
            "  .. ..$ total      : num [1:28] NA NA NA NA NA NA NA NA NA NA ...\n",
            "  ..$ casos_recuperados_por_fd                        :'data.frame':\t28 obs. of  2 variables:\n",
            "  .. ..$ dia_del_mes: num [1:28] 1 2 3 4 5 6 7 8 9 10 ...\n",
            "  .. ..$ total      : num [1:28] 1853382 1862915 1876698 1894337 1909745 ...\n",
            "  ..$ casos_recuperados_por_fis                       :'data.frame':\t28 obs. of  2 variables:\n",
            "  .. ..$ dia_del_mes: num [1:28] 1 2 3 4 5 6 7 8 9 10 ...\n",
            "  .. ..$ total      : num [1:28] 2037094 2068730 2099754 2130988 2163809 ...\n",
            "  ..$ casos_totales                                   :'data.frame':\t28 obs. of  2 variables:\n",
            "  .. ..$ dia_del_mes: num [1:28] 1 2 3 4 5 6 7 8 9 10 ...\n",
            "  .. ..$ total      : num [1:28] 2190561 2221276 2258005 2296712 2335034 ...\n",
            "  ..$ fallecidos                                      :'data.frame':\t28 obs. of  2 variables:\n",
            "  .. ..$ dia_del_mes: num [1:28] 1 2 3 4 5 6 7 8 9 10 ...\n",
            "  .. ..$ total      : num [1:28] 39733 39742 39824 39867 39930 ...\n",
            "  ..$ fallecidos_confirmados_totales                  :'data.frame':\t28 obs. of  2 variables:\n",
            "  .. ..$ dia_del_mes: num [1:28] 1 2 3 4 5 6 7 8 9 10 ...\n",
            "  .. ..$ total      : num [1:28] NA NA NA NA NA NA NA NA NA NA ...\n",
            "  ..$ fallecidos_sospechosos_probables_u_otros_totales:'data.frame':\t28 obs. of  2 variables:\n",
            "  .. ..$ dia_del_mes: num [1:28] 1 2 3 4 5 6 7 8 9 10 ...\n",
            "  .. ..$ total      : num [1:28] NA NA NA NA NA NA NA NA NA NA ...\n",
            " $ mar:List of 21\n",
            "  ..$ casos_activos                                   :'data.frame':\t31 obs. of  2 variables:\n",
            "  .. ..$ dia_del_mes: num [1:31] 1 2 3 4 5 6 7 8 9 10 ...\n",
            "  .. ..$ total      : num [1:31] 98421 91717 91035 90479 88933 ...\n",
            "  ..$ casos_activos_confirmados                       :'data.frame':\t31 obs. of  2 variables:\n",
            "  .. ..$ dia_del_mes: num [1:31] 1 2 3 4 5 6 7 8 9 10 ...\n",
            "  .. ..$ total      : num [1:31] 98421 91717 91035 90479 88933 ...\n",
            "  ..$ casos_activos_por_fd                            :'data.frame':\t31 obs. of  2 variables:\n",
            "  .. ..$ dia_del_mes: num [1:31] 1 2 3 4 5 6 7 8 9 10 ...\n",
            "  .. ..$ total      : num [1:31] 398599 388256 375250 363976 349089 ...\n",
            "  ..$ casos_activos_por_fis                           :'data.frame':\t31 obs. of  2 variables:\n",
            "  .. ..$ dia_del_mes: num [1:31] 1 2 3 4 5 6 7 8 9 10 ...\n",
            "  .. ..$ total      : num [1:31] 98421 91717 91035 90479 88933 ...\n",
            "  ..$ casos_activos_probables                         :'data.frame':\t31 obs. of  2 variables:\n",
            "  .. ..$ dia_del_mes: num [1:31] 1 2 3 4 5 6 7 8 9 10 ...\n",
            "  .. ..$ total      : num [1:31] 30 33 27 32 26 24 23 23 22 21 ...\n",
            "  ..$ casos_con_sospecha_de_reinfeccion               :'data.frame':\t31 obs. of  2 variables:\n",
            "  .. ..$ dia_del_mes: num [1:31] 1 2 3 4 5 6 7 8 9 10 ...\n",
            "  .. ..$ total      : num [1:31] 14307 14793 15008 15231 15463 ...\n",
            "  ..$ casos_confirmados_por_antigeno                  :'data.frame':\t31 obs. of  2 variables:\n",
            "  .. ..$ dia_del_mes: num [1:31] 1 2 3 4 5 6 7 8 9 10 ...\n",
            "  .. ..$ total      : num [1:31] 428341 437844 445594 453136 460150 ...\n",
            "  ..$ casos_confirmados_recuperados                   :'data.frame':\t31 obs. of  2 variables:\n",
            "  .. ..$ dia_del_mes: num [1:31] 1 2 3 4 5 6 7 8 9 10 ...\n",
            "  .. ..$ total      : num [1:31] 2927793 2956270 2981315 3006337 3028599 ...\n",
            "  ..$ casos_nuevos_con_sintomas                       :'data.frame':\t31 obs. of  2 variables:\n",
            "  .. ..$ dia_del_mes: num [1:31] 1 2 3 4 5 6 7 8 9 10 ...\n",
            "  .. ..$ total      : num [1:31] 9239 13074 13531 13195 11882 ...\n",
            "  ..$ casos_nuevos_confirmados_por_antigeno           :'data.frame':\t31 obs. of  2 variables:\n",
            "  .. ..$ dia_del_mes: num [1:31] 1 2 3 4 5 6 7 8 9 10 ...\n",
            "  .. ..$ total      : num [1:31] 4583 9508 7754 7553 7018 ...\n",
            "  ..$ casos_nuevos_sin_notificar                      :'data.frame':\t31 obs. of  2 variables:\n",
            "  .. ..$ dia_del_mes: num [1:31] 1 2 3 4 5 6 7 8 9 10 ...\n",
            "  .. ..$ total      : num [1:31] 3517 4908 6258 6692 5774 ...\n",
            "  ..$ casos_nuevos_sin_sintomas                       :'data.frame':\t31 obs. of  2 variables:\n",
            "  .. ..$ dia_del_mes: num [1:31] 1 2 3 4 5 6 7 8 9 10 ...\n",
            "  .. ..$ total      : num [1:31] 1172 2418 3606 3245 2847 ...\n",
            "  ..$ casos_nuevos_totales                            :'data.frame':\t31 obs. of  2 variables:\n",
            "  .. ..$ dia_del_mes: num [1:31] 1 2 3 4 5 6 7 8 9 10 ...\n",
            "  .. ..$ total      : num [1:31] 13928 20400 23395 23132 20503 ...\n",
            "  ..$ casos_probables_acumulados                      :'data.frame':\t31 obs. of  2 variables:\n",
            "  .. ..$ dia_del_mes: num [1:31] 1 2 3 4 5 6 7 8 9 10 ...\n",
            "  .. ..$ total      : num [1:31] 354106 354110 354105 354099 354100 ...\n",
            "  ..$ casos_recuperados                               :'data.frame':\t31 obs. of  2 variables:\n",
            "  .. ..$ dia_del_mes: num [1:31] 1 2 3 4 5 6 7 8 9 10 ...\n",
            "  .. ..$ total      : num [1:31] NA NA NA NA NA NA NA NA NA NA ...\n",
            "  ..$ casos_recuperados_por_fd                        :'data.frame':\t31 obs. of  2 variables:\n",
            "  .. ..$ dia_del_mes: num [1:31] 1 2 3 4 5 6 7 8 9 10 ...\n",
            "  .. ..$ total      : num [1:31] 2635311 2667443 2704869 2740649 2776291 ...\n",
            "  ..$ casos_recuperados_por_fis                       :'data.frame':\t31 obs. of  2 variables:\n",
            "  .. ..$ dia_del_mes: num [1:31] 1 2 3 4 5 6 7 8 9 10 ...\n",
            "  .. ..$ total      : num [1:31] 2935489 2963982 2989084 3014146 3036447 ...\n",
            "  ..$ casos_totales                                   :'data.frame':\t31 obs. of  2 variables:\n",
            "  .. ..$ dia_del_mes: num [1:31] 1 2 3 4 5 6 7 8 9 10 ...\n",
            "  .. ..$ total      : num [1:31] 3076291 3098110 3122802 3147434 3168335 ...\n",
            "  ..$ fallecidos                                      :'data.frame':\t31 obs. of  2 variables:\n",
            "  .. ..$ dia_del_mes: num [1:31] 1 2 3 4 5 6 7 8 9 10 ...\n",
            "  .. ..$ total      : num [1:31] 42381 42411 42683 42809 42955 ...\n",
            "  ..$ fallecidos_confirmados_totales                  :'data.frame':\t31 obs. of  2 variables:\n",
            "  .. ..$ dia_del_mes: num [1:31] 1 2 3 4 5 6 7 8 9 10 ...\n",
            "  .. ..$ total      : num [1:31] NA NA NA NA NA NA NA NA NA NA ...\n",
            "  ..$ fallecidos_sospechosos_probables_u_otros_totales:'data.frame':\t31 obs. of  2 variables:\n",
            "  .. ..$ dia_del_mes: num [1:31] 1 2 3 4 5 6 7 8 9 10 ...\n",
            "  .. ..$ total      : num [1:31] NA NA NA NA NA NA NA NA NA NA ...\n",
            " $ abr:List of 21\n",
            "  ..$ casos_activos                                   :'data.frame':\t22 obs. of  2 variables:\n",
            "  .. ..$ dia_del_mes: num [1:22] 1 2 3 4 5 6 7 8 9 10 ...\n",
            "  .. ..$ total      : num [1:22] 23823 23031 22802 21830 17451 ...\n",
            "  ..$ casos_activos_confirmados                       :'data.frame':\t22 obs. of  2 variables:\n",
            "  .. ..$ dia_del_mes: num [1:22] 1 2 3 4 5 6 7 8 9 10 ...\n",
            "  .. ..$ total      : num [1:22] 23823 23031 22802 21830 17451 ...\n",
            "  ..$ casos_activos_por_fd                            :'data.frame':\t22 obs. of  2 variables:\n",
            "  .. ..$ dia_del_mes: num [1:22] 1 2 3 4 5 6 7 8 9 10 ...\n",
            "  .. ..$ total      : num [1:22] 108210 100494 93675 88768 85422 ...\n",
            "  ..$ casos_activos_por_fis                           :'data.frame':\t22 obs. of  2 variables:\n",
            "  .. ..$ dia_del_mes: num [1:22] 1 2 3 4 5 6 7 8 9 10 ...\n",
            "  .. ..$ total      : num [1:22] 23823 23031 22802 21830 17451 ...\n",
            "  ..$ casos_activos_probables                         :'data.frame':\t22 obs. of  2 variables:\n",
            "  .. ..$ dia_del_mes: num [1:22] 1 2 3 4 5 6 7 8 9 10 ...\n",
            "  .. ..$ total      : num [1:22] 44 24 18 22 25 20 18 15 13 11 ...\n",
            "  ..$ casos_con_sospecha_de_reinfeccion               :'data.frame':\t22 obs. of  2 variables:\n",
            "  .. ..$ dia_del_mes: num [1:22] 1 2 3 4 5 6 7 8 9 10 ...\n",
            "  .. ..$ total      : num [1:22] 18450 18489 18548 18589 18600 ...\n",
            "  ..$ casos_confirmados_por_antigeno                  :'data.frame':\t22 obs. of  2 variables:\n",
            "  .. ..$ dia_del_mes: num [1:22] 1 2 3 4 5 6 7 8 9 10 ...\n",
            "  .. ..$ total      : num [1:22] 566014 567516 568832 569567 570269 ...\n",
            "  ..$ casos_confirmados_recuperados                   :'data.frame':\t22 obs. of  2 variables:\n",
            "  .. ..$ dia_del_mes: num [1:22] 1 2 3 4 5 6 7 8 9 10 ...\n",
            "  .. ..$ total      : num [1:22] 3398749 3404695 3409277 3413395 3419823 ...\n",
            "  ..$ casos_nuevos_con_sintomas                       :'data.frame':\t22 obs. of  2 variables:\n",
            "  .. ..$ dia_del_mes: num [1:22] 1 2 3 4 5 6 7 8 9 10 ...\n",
            "  .. ..$ total      : num [1:22] 3157 2721 2499 1505 1309 ...\n",
            "  ..$ casos_nuevos_confirmados_por_antigeno           :'data.frame':\t22 obs. of  2 variables:\n",
            "  .. ..$ dia_del_mes: num [1:22] 1 2 3 4 5 6 7 8 9 10 ...\n",
            "  .. ..$ total      : num [1:22] 1723 1512 1313 736 703 ...\n",
            "  ..$ casos_nuevos_sin_notificar                      :'data.frame':\t22 obs. of  2 variables:\n",
            "  .. ..$ dia_del_mes: num [1:22] 1 2 3 4 5 6 7 8 9 10 ...\n",
            "  .. ..$ total      : num [1:22] 1539 1166 960 873 402 ...\n",
            "  ..$ casos_nuevos_sin_sintomas                       :'data.frame':\t22 obs. of  2 variables:\n",
            "  .. ..$ dia_del_mes: num [1:22] 1 2 3 4 5 6 7 8 9 10 ...\n",
            "  .. ..$ total      : num [1:22] 868 936 689 333 221 474 800 597 585 567 ...\n",
            "  ..$ casos_nuevos_totales                            :'data.frame':\t22 obs. of  2 variables:\n",
            "  .. ..$ dia_del_mes: num [1:22] 1 2 3 4 5 6 7 8 9 10 ...\n",
            "  .. ..$ total      : num [1:22] 5564 4823 4148 2711 1932 ...\n",
            "  ..$ casos_probables_acumulados                      :'data.frame':\t22 obs. of  2 variables:\n",
            "  .. ..$ dia_del_mes: num [1:22] 1 2 3 4 5 6 7 8 9 10 ...\n",
            "  .. ..$ total      : num [1:22] 353916 353888 353890 353898 353907 ...\n",
            "  ..$ casos_recuperados                               :'data.frame':\t22 obs. of  2 variables:\n",
            "  .. ..$ dia_del_mes: num [1:22] 1 2 3 4 5 6 7 8 9 10 ...\n",
            "  .. ..$ total      : num [1:22] NA NA NA NA NA NA NA NA NA NA ...\n",
            "  ..$ casos_recuperados_por_fd                        :'data.frame':\t22 obs. of  2 variables:\n",
            "  .. ..$ dia_del_mes: num [1:22] 1 2 3 4 5 6 7 8 9 10 ...\n",
            "  .. ..$ total      : num [1:22] 3312067 3324992 3336228 3344347 3349731 ...\n",
            "  ..$ casos_recuperados_por_fis                       :'data.frame':\t22 obs. of  2 variables:\n",
            "  .. ..$ dia_del_mes: num [1:22] 1 2 3 4 5 6 7 8 9 10 ...\n",
            "  .. ..$ total      : num [1:22] 3396454 3402455 3407101 3411285 3417702 ...\n",
            "  ..$ casos_totales                                   :'data.frame':\t22 obs. of  2 variables:\n",
            "  .. ..$ dia_del_mes: num [1:22] 1 2 3 4 5 6 7 8 9 10 ...\n",
            "  .. ..$ total      : num [1:22] 3476914 3482175 3486653 3489913 3491962 ...\n",
            "  ..$ fallecidos                                      :'data.frame':\t22 obs. of  2 variables:\n",
            "  .. ..$ dia_del_mes: num [1:22] 1 2 3 4 5 6 7 8 9 10 ...\n",
            "  .. ..$ total      : num [1:22] 56637 56689 56750 56798 56809 ...\n",
            "  ..$ fallecidos_confirmados_totales                  :'data.frame':\t22 obs. of  2 variables:\n",
            "  .. ..$ dia_del_mes: num [1:22] 1 2 3 4 5 6 7 8 9 10 ...\n",
            "  .. ..$ total      : num [1:22] 45254 45302 45363 45410 45420 ...\n",
            "  ..$ fallecidos_sospechosos_probables_u_otros_totales:'data.frame':\t22 obs. of  2 variables:\n",
            "  .. ..$ dia_del_mes: num [1:22] 1 2 3 4 5 6 7 8 9 10 ...\n",
            "  .. ..$ total      : num [1:22] 11383 11387 11387 11388 11389 ...\n"
          ]
        }
      ]
    },
    {
      "cell_type": "code",
      "source": [
        "# 1c) ¿Cuáles son los nombres de este objeto?\n",
        "names(casos)"
      ],
      "metadata": {
        "id": "mMISc9VhcmRI",
        "outputId": "5f305dc8-b3bd-4155-9674-fa532605b600",
        "colab": {
          "base_uri": "https://localhost:8080/",
          "height": 34
        }
      },
      "execution_count": null,
      "outputs": [
        {
          "output_type": "display_data",
          "data": {
            "text/html": [
              "<style>\n",
              ".list-inline {list-style: none; margin:0; padding: 0}\n",
              ".list-inline>li {display: inline-block}\n",
              ".list-inline>li:not(:last-child)::after {content: \"\\00b7\"; padding: 0 .5ex}\n",
              "</style>\n",
              "<ol class=list-inline><li>'ene'</li><li>'feb'</li><li>'mar'</li><li>'abr'</li></ol>\n"
            ],
            "text/markdown": "1. 'ene'\n2. 'feb'\n3. 'mar'\n4. 'abr'\n\n\n",
            "text/latex": "\\begin{enumerate*}\n\\item 'ene'\n\\item 'feb'\n\\item 'mar'\n\\item 'abr'\n\\end{enumerate*}\n",
            "text/plain": [
              "[1] \"ene\" \"feb\" \"mar\" \"abr\""
            ]
          },
          "metadata": {}
        }
      ]
    },
    {
      "cell_type": "code",
      "source": [
        "# 1d) ¿Qué clase de objeto está almacenado en slot correspondiente al mes de marzo (\"mar\") y cuántos elementos posee?\n",
        "class(casos$mar)\n",
        "str(casos$mar)"
      ],
      "metadata": {
        "colab": {
          "base_uri": "https://localhost:8080/",
          "height": 1000
        },
        "id": "mfBoDJPNzwZ-",
        "outputId": "5e7208a3-157f-40f6-a777-d776375ac68d"
      },
      "execution_count": null,
      "outputs": [
        {
          "output_type": "display_data",
          "data": {
            "text/html": [
              "'list'"
            ],
            "text/markdown": "'list'",
            "text/latex": "'list'",
            "text/plain": [
              "[1] \"list\""
            ]
          },
          "metadata": {}
        },
        {
          "output_type": "stream",
          "name": "stdout",
          "text": [
            "List of 21\n",
            " $ casos_activos                                   :'data.frame':\t31 obs. of  2 variables:\n",
            "  ..$ dia_del_mes: num [1:31] 1 2 3 4 5 6 7 8 9 10 ...\n",
            "  ..$ total      : num [1:31] 98421 91717 91035 90479 88933 ...\n",
            " $ casos_activos_confirmados                       :'data.frame':\t31 obs. of  2 variables:\n",
            "  ..$ dia_del_mes: num [1:31] 1 2 3 4 5 6 7 8 9 10 ...\n",
            "  ..$ total      : num [1:31] 98421 91717 91035 90479 88933 ...\n",
            " $ casos_activos_por_fd                            :'data.frame':\t31 obs. of  2 variables:\n",
            "  ..$ dia_del_mes: num [1:31] 1 2 3 4 5 6 7 8 9 10 ...\n",
            "  ..$ total      : num [1:31] 398599 388256 375250 363976 349089 ...\n",
            " $ casos_activos_por_fis                           :'data.frame':\t31 obs. of  2 variables:\n",
            "  ..$ dia_del_mes: num [1:31] 1 2 3 4 5 6 7 8 9 10 ...\n",
            "  ..$ total      : num [1:31] 98421 91717 91035 90479 88933 ...\n",
            " $ casos_activos_probables                         :'data.frame':\t31 obs. of  2 variables:\n",
            "  ..$ dia_del_mes: num [1:31] 1 2 3 4 5 6 7 8 9 10 ...\n",
            "  ..$ total      : num [1:31] 30 33 27 32 26 24 23 23 22 21 ...\n",
            " $ casos_con_sospecha_de_reinfeccion               :'data.frame':\t31 obs. of  2 variables:\n",
            "  ..$ dia_del_mes: num [1:31] 1 2 3 4 5 6 7 8 9 10 ...\n",
            "  ..$ total      : num [1:31] 14307 14793 15008 15231 15463 ...\n",
            " $ casos_confirmados_por_antigeno                  :'data.frame':\t31 obs. of  2 variables:\n",
            "  ..$ dia_del_mes: num [1:31] 1 2 3 4 5 6 7 8 9 10 ...\n",
            "  ..$ total      : num [1:31] 428341 437844 445594 453136 460150 ...\n",
            " $ casos_confirmados_recuperados                   :'data.frame':\t31 obs. of  2 variables:\n",
            "  ..$ dia_del_mes: num [1:31] 1 2 3 4 5 6 7 8 9 10 ...\n",
            "  ..$ total      : num [1:31] 2927793 2956270 2981315 3006337 3028599 ...\n",
            " $ casos_nuevos_con_sintomas                       :'data.frame':\t31 obs. of  2 variables:\n",
            "  ..$ dia_del_mes: num [1:31] 1 2 3 4 5 6 7 8 9 10 ...\n",
            "  ..$ total      : num [1:31] 9239 13074 13531 13195 11882 ...\n",
            " $ casos_nuevos_confirmados_por_antigeno           :'data.frame':\t31 obs. of  2 variables:\n",
            "  ..$ dia_del_mes: num [1:31] 1 2 3 4 5 6 7 8 9 10 ...\n",
            "  ..$ total      : num [1:31] 4583 9508 7754 7553 7018 ...\n",
            " $ casos_nuevos_sin_notificar                      :'data.frame':\t31 obs. of  2 variables:\n",
            "  ..$ dia_del_mes: num [1:31] 1 2 3 4 5 6 7 8 9 10 ...\n",
            "  ..$ total      : num [1:31] 3517 4908 6258 6692 5774 ...\n",
            " $ casos_nuevos_sin_sintomas                       :'data.frame':\t31 obs. of  2 variables:\n",
            "  ..$ dia_del_mes: num [1:31] 1 2 3 4 5 6 7 8 9 10 ...\n",
            "  ..$ total      : num [1:31] 1172 2418 3606 3245 2847 ...\n",
            " $ casos_nuevos_totales                            :'data.frame':\t31 obs. of  2 variables:\n",
            "  ..$ dia_del_mes: num [1:31] 1 2 3 4 5 6 7 8 9 10 ...\n",
            "  ..$ total      : num [1:31] 13928 20400 23395 23132 20503 ...\n",
            " $ casos_probables_acumulados                      :'data.frame':\t31 obs. of  2 variables:\n",
            "  ..$ dia_del_mes: num [1:31] 1 2 3 4 5 6 7 8 9 10 ...\n",
            "  ..$ total      : num [1:31] 354106 354110 354105 354099 354100 ...\n",
            " $ casos_recuperados                               :'data.frame':\t31 obs. of  2 variables:\n",
            "  ..$ dia_del_mes: num [1:31] 1 2 3 4 5 6 7 8 9 10 ...\n",
            "  ..$ total      : num [1:31] NA NA NA NA NA NA NA NA NA NA ...\n",
            " $ casos_recuperados_por_fd                        :'data.frame':\t31 obs. of  2 variables:\n",
            "  ..$ dia_del_mes: num [1:31] 1 2 3 4 5 6 7 8 9 10 ...\n",
            "  ..$ total      : num [1:31] 2635311 2667443 2704869 2740649 2776291 ...\n",
            " $ casos_recuperados_por_fis                       :'data.frame':\t31 obs. of  2 variables:\n",
            "  ..$ dia_del_mes: num [1:31] 1 2 3 4 5 6 7 8 9 10 ...\n",
            "  ..$ total      : num [1:31] 2935489 2963982 2989084 3014146 3036447 ...\n",
            " $ casos_totales                                   :'data.frame':\t31 obs. of  2 variables:\n",
            "  ..$ dia_del_mes: num [1:31] 1 2 3 4 5 6 7 8 9 10 ...\n",
            "  ..$ total      : num [1:31] 3076291 3098110 3122802 3147434 3168335 ...\n",
            " $ fallecidos                                      :'data.frame':\t31 obs. of  2 variables:\n",
            "  ..$ dia_del_mes: num [1:31] 1 2 3 4 5 6 7 8 9 10 ...\n",
            "  ..$ total      : num [1:31] 42381 42411 42683 42809 42955 ...\n",
            " $ fallecidos_confirmados_totales                  :'data.frame':\t31 obs. of  2 variables:\n",
            "  ..$ dia_del_mes: num [1:31] 1 2 3 4 5 6 7 8 9 10 ...\n",
            "  ..$ total      : num [1:31] NA NA NA NA NA NA NA NA NA NA ...\n",
            " $ fallecidos_sospechosos_probables_u_otros_totales:'data.frame':\t31 obs. of  2 variables:\n",
            "  ..$ dia_del_mes: num [1:31] 1 2 3 4 5 6 7 8 9 10 ...\n",
            "  ..$ total      : num [1:31] NA NA NA NA NA NA NA NA NA NA ...\n"
          ]
        }
      ]
    },
    {
      "cell_type": "code",
      "source": [
        "# 1e) Para el mes de marzo, ¿a qué clase de objeto corresponde casos_totales y cuántos elementos posee?\n",
        "class(casos$mar$casos_totales)\n",
        "str(casos$mar$casos_totales)"
      ],
      "metadata": {
        "colab": {
          "base_uri": "https://localhost:8080/",
          "height": 88
        },
        "id": "dUKNNur3z768",
        "outputId": "7fdc0674-2f6a-4cfb-e361-de622f4ed4fd"
      },
      "execution_count": null,
      "outputs": [
        {
          "output_type": "display_data",
          "data": {
            "text/html": [
              "'data.frame'"
            ],
            "text/markdown": "'data.frame'",
            "text/latex": "'data.frame'",
            "text/plain": [
              "[1] \"data.frame\""
            ]
          },
          "metadata": {}
        },
        {
          "output_type": "stream",
          "name": "stdout",
          "text": [
            "'data.frame':\t31 obs. of  2 variables:\n",
            " $ dia_del_mes: num  1 2 3 4 5 6 7 8 9 10 ...\n",
            " $ total      : num  3076291 3098110 3122802 3147434 3168335 ...\n"
          ]
        }
      ]
    },
    {
      "cell_type": "markdown",
      "metadata": {
        "id": "y-VJ9lcnw-lb"
      },
      "source": [
        "## Pregunta 1.2\n",
        "\n",
        "**2a) (2pts)** ¿Cuántos casos activos existían al 25 de marzo? (indique claramente la expresión de R para obtener el valor solicitado) .<br>\n",
        "**2b) (1pts)** Genere cuatro nuevas variables llamadas `totales_enero`,`totales_febrero` , `totales_marzo` y `totales_abril`, que contengan los dataframes correspondientes al slot `casos_totales` del mes respectivo, (por ejemplo, la variable `totales_marzo` debe contener una dataframe de dimensión $31\\times2$.<br>\n",
        "**2c) (2pts)** Para cada dataframe del paso anterior, genere una nueva columna llamada `mes`, que repita el nombre del mes correspondiente por cada fila.<br>\n",
        "**2d) (3pts)** En cada data.frame, agregue una nueva columna llamada `casos_diarios` que contenga la información correspontiende al total de casos nuevos diarios(`casos_nuevos_totales`).\n",
        "**NOTA:** Note que el orden de los registros está dado por dia_del_mes por lo que no debe preocuparse de reordnar, sólo agregue el vector tal cual está.\n"
      ]
    },
    {
      "cell_type": "code",
      "metadata": {
        "trusted": true,
        "id": "tF3DCzGew-lc",
        "colab": {
          "base_uri": "https://localhost:8080/",
          "height": 34
        },
        "outputId": "d8705208-dd53-492c-b49c-eb6ea8bd8610"
      },
      "source": [
        "# P1.2\n",
        "## Respuestas \n",
        " \n",
        " # 2a) ¿Cuántos casos activos existían al 25 de marzo? (indique claramente la expresión de R para obtener el valor solicitado) \n",
        " casos$mar$casos_activos[[2]][25]"
      ],
      "execution_count": null,
      "outputs": [
        {
          "output_type": "display_data",
          "data": {
            "text/html": [
              "35824"
            ],
            "text/markdown": "35824",
            "text/latex": "35824",
            "text/plain": [
              "[1] 35824"
            ]
          },
          "metadata": {}
        }
      ]
    },
    {
      "cell_type": "code",
      "source": [
        "# 2b) Genere cuatro nuevas variables llamadas totales_enero,totales_febrero , totales_marzo y totales_abril\n",
        "totales_enero <- data.frame(casos$ene$casos_totales)\n",
        "totales_febrero <- data.frame(casos$feb$casos_totales)\n",
        "totales_marzo <- data.frame(casos$mar$casos_totales)\n",
        "totales_abril <- data.frame(casos$abr$casos_totales)\n",
        "\n",
        "totales_enero\n",
        "totales_febrero\n",
        "totales_marzo\n",
        "totales_abril"
      ],
      "metadata": {
        "colab": {
          "base_uri": "https://localhost:8080/",
          "height": 1000
        },
        "id": "gWcdIKor4OFO",
        "outputId": "884b4544-515d-4c40-968e-264ea8f84bc2"
      },
      "execution_count": null,
      "outputs": [
        {
          "output_type": "display_data",
          "data": {
            "text/html": [
              "<table class=\"dataframe\">\n",
              "<caption>A data.frame: 31 × 2</caption>\n",
              "<thead>\n",
              "\t<tr><th scope=col>dia_del_mes</th><th scope=col>total</th></tr>\n",
              "\t<tr><th scope=col>&lt;dbl&gt;</th><th scope=col>&lt;dbl&gt;</th></tr>\n",
              "</thead>\n",
              "<tbody>\n",
              "\t<tr><td> 1</td><td>1808398</td></tr>\n",
              "\t<tr><td> 2</td><td>1810302</td></tr>\n",
              "\t<tr><td> 3</td><td>1811297</td></tr>\n",
              "\t<tr><td> 4</td><td>1812348</td></tr>\n",
              "\t<tr><td> 5</td><td>1814188</td></tr>\n",
              "\t<tr><td> 6</td><td>1817300</td></tr>\n",
              "\t<tr><td> 7</td><td>1821071</td></tr>\n",
              "\t<tr><td> 8</td><td>1825417</td></tr>\n",
              "\t<tr><td> 9</td><td>1829437</td></tr>\n",
              "\t<tr><td>10</td><td>1833478</td></tr>\n",
              "\t<tr><td>11</td><td>1837390</td></tr>\n",
              "\t<tr><td>12</td><td>1842218</td></tr>\n",
              "\t<tr><td>13</td><td>1849465</td></tr>\n",
              "\t<tr><td>14</td><td>1857764</td></tr>\n",
              "\t<tr><td>15</td><td>1867101</td></tr>\n",
              "\t<tr><td>16</td><td>1876610</td></tr>\n",
              "\t<tr><td>17</td><td>1885540</td></tr>\n",
              "\t<tr><td>18</td><td>1893115</td></tr>\n",
              "\t<tr><td>19</td><td>1902657</td></tr>\n",
              "\t<tr><td>20</td><td>1916522</td></tr>\n",
              "\t<tr><td>21</td><td>1934204</td></tr>\n",
              "\t<tr><td>22</td><td>1949675</td></tr>\n",
              "\t<tr><td>23</td><td>1965393</td></tr>\n",
              "\t<tr><td>24</td><td>1984190</td></tr>\n",
              "\t<tr><td>25</td><td>2001346</td></tr>\n",
              "\t<tr><td>26</td><td>2020082</td></tr>\n",
              "\t<tr><td>27</td><td>2045874</td></tr>\n",
              "\t<tr><td>28</td><td>2075703</td></tr>\n",
              "\t<tr><td>29</td><td>2107612</td></tr>\n",
              "\t<tr><td>30</td><td>2137743</td></tr>\n",
              "\t<tr><td>31</td><td>2165984</td></tr>\n",
              "</tbody>\n",
              "</table>\n"
            ],
            "text/markdown": "\nA data.frame: 31 × 2\n\n| dia_del_mes &lt;dbl&gt; | total &lt;dbl&gt; |\n|---|---|\n|  1 | 1808398 |\n|  2 | 1810302 |\n|  3 | 1811297 |\n|  4 | 1812348 |\n|  5 | 1814188 |\n|  6 | 1817300 |\n|  7 | 1821071 |\n|  8 | 1825417 |\n|  9 | 1829437 |\n| 10 | 1833478 |\n| 11 | 1837390 |\n| 12 | 1842218 |\n| 13 | 1849465 |\n| 14 | 1857764 |\n| 15 | 1867101 |\n| 16 | 1876610 |\n| 17 | 1885540 |\n| 18 | 1893115 |\n| 19 | 1902657 |\n| 20 | 1916522 |\n| 21 | 1934204 |\n| 22 | 1949675 |\n| 23 | 1965393 |\n| 24 | 1984190 |\n| 25 | 2001346 |\n| 26 | 2020082 |\n| 27 | 2045874 |\n| 28 | 2075703 |\n| 29 | 2107612 |\n| 30 | 2137743 |\n| 31 | 2165984 |\n\n",
            "text/latex": "A data.frame: 31 × 2\n\\begin{tabular}{ll}\n dia\\_del\\_mes & total\\\\\n <dbl> & <dbl>\\\\\n\\hline\n\t  1 & 1808398\\\\\n\t  2 & 1810302\\\\\n\t  3 & 1811297\\\\\n\t  4 & 1812348\\\\\n\t  5 & 1814188\\\\\n\t  6 & 1817300\\\\\n\t  7 & 1821071\\\\\n\t  8 & 1825417\\\\\n\t  9 & 1829437\\\\\n\t 10 & 1833478\\\\\n\t 11 & 1837390\\\\\n\t 12 & 1842218\\\\\n\t 13 & 1849465\\\\\n\t 14 & 1857764\\\\\n\t 15 & 1867101\\\\\n\t 16 & 1876610\\\\\n\t 17 & 1885540\\\\\n\t 18 & 1893115\\\\\n\t 19 & 1902657\\\\\n\t 20 & 1916522\\\\\n\t 21 & 1934204\\\\\n\t 22 & 1949675\\\\\n\t 23 & 1965393\\\\\n\t 24 & 1984190\\\\\n\t 25 & 2001346\\\\\n\t 26 & 2020082\\\\\n\t 27 & 2045874\\\\\n\t 28 & 2075703\\\\\n\t 29 & 2107612\\\\\n\t 30 & 2137743\\\\\n\t 31 & 2165984\\\\\n\\end{tabular}\n",
            "text/plain": [
              "   dia_del_mes total  \n",
              "1   1          1808398\n",
              "2   2          1810302\n",
              "3   3          1811297\n",
              "4   4          1812348\n",
              "5   5          1814188\n",
              "6   6          1817300\n",
              "7   7          1821071\n",
              "8   8          1825417\n",
              "9   9          1829437\n",
              "10 10          1833478\n",
              "11 11          1837390\n",
              "12 12          1842218\n",
              "13 13          1849465\n",
              "14 14          1857764\n",
              "15 15          1867101\n",
              "16 16          1876610\n",
              "17 17          1885540\n",
              "18 18          1893115\n",
              "19 19          1902657\n",
              "20 20          1916522\n",
              "21 21          1934204\n",
              "22 22          1949675\n",
              "23 23          1965393\n",
              "24 24          1984190\n",
              "25 25          2001346\n",
              "26 26          2020082\n",
              "27 27          2045874\n",
              "28 28          2075703\n",
              "29 29          2107612\n",
              "30 30          2137743\n",
              "31 31          2165984"
            ]
          },
          "metadata": {}
        },
        {
          "output_type": "display_data",
          "data": {
            "text/html": [
              "<table class=\"dataframe\">\n",
              "<caption>A data.frame: 28 × 2</caption>\n",
              "<thead>\n",
              "\t<tr><th scope=col>dia_del_mes</th><th scope=col>total</th></tr>\n",
              "\t<tr><th scope=col>&lt;dbl&gt;</th><th scope=col>&lt;dbl&gt;</th></tr>\n",
              "</thead>\n",
              "<tbody>\n",
              "\t<tr><td> 1</td><td>2190561</td></tr>\n",
              "\t<tr><td> 2</td><td>2221276</td></tr>\n",
              "\t<tr><td> 3</td><td>2258005</td></tr>\n",
              "\t<tr><td> 4</td><td>2296712</td></tr>\n",
              "\t<tr><td> 5</td><td>2335034</td></tr>\n",
              "\t<tr><td> 6</td><td>2371833</td></tr>\n",
              "\t<tr><td> 7</td><td>2405672</td></tr>\n",
              "\t<tr><td> 8</td><td>2431845</td></tr>\n",
              "\t<tr><td> 9</td><td>2466098</td></tr>\n",
              "\t<tr><td>10</td><td>2504168</td></tr>\n",
              "\t<tr><td>11</td><td>2545819</td></tr>\n",
              "\t<tr><td>12</td><td>2582934</td></tr>\n",
              "\t<tr><td>13</td><td>2621427</td></tr>\n",
              "\t<tr><td>14</td><td>2652713</td></tr>\n",
              "\t<tr><td>15</td><td>2677692</td></tr>\n",
              "\t<tr><td>16</td><td>2709854</td></tr>\n",
              "\t<tr><td>17</td><td>2747552</td></tr>\n",
              "\t<tr><td>18</td><td>2783458</td></tr>\n",
              "\t<tr><td>19</td><td>2819246</td></tr>\n",
              "\t<tr><td>20</td><td>2851382</td></tr>\n",
              "\t<tr><td>21</td><td>2876455</td></tr>\n",
              "\t<tr><td>22</td><td>2895931</td></tr>\n",
              "\t<tr><td>23</td><td>2921131</td></tr>\n",
              "\t<tr><td>24</td><td>2953895</td></tr>\n",
              "\t<tr><td>25</td><td>2985873</td></tr>\n",
              "\t<tr><td>26</td><td>3015630</td></tr>\n",
              "\t<tr><td>27</td><td>3041400</td></tr>\n",
              "\t<tr><td>28</td><td>3061019</td></tr>\n",
              "</tbody>\n",
              "</table>\n"
            ],
            "text/markdown": "\nA data.frame: 28 × 2\n\n| dia_del_mes &lt;dbl&gt; | total &lt;dbl&gt; |\n|---|---|\n|  1 | 2190561 |\n|  2 | 2221276 |\n|  3 | 2258005 |\n|  4 | 2296712 |\n|  5 | 2335034 |\n|  6 | 2371833 |\n|  7 | 2405672 |\n|  8 | 2431845 |\n|  9 | 2466098 |\n| 10 | 2504168 |\n| 11 | 2545819 |\n| 12 | 2582934 |\n| 13 | 2621427 |\n| 14 | 2652713 |\n| 15 | 2677692 |\n| 16 | 2709854 |\n| 17 | 2747552 |\n| 18 | 2783458 |\n| 19 | 2819246 |\n| 20 | 2851382 |\n| 21 | 2876455 |\n| 22 | 2895931 |\n| 23 | 2921131 |\n| 24 | 2953895 |\n| 25 | 2985873 |\n| 26 | 3015630 |\n| 27 | 3041400 |\n| 28 | 3061019 |\n\n",
            "text/latex": "A data.frame: 28 × 2\n\\begin{tabular}{ll}\n dia\\_del\\_mes & total\\\\\n <dbl> & <dbl>\\\\\n\\hline\n\t  1 & 2190561\\\\\n\t  2 & 2221276\\\\\n\t  3 & 2258005\\\\\n\t  4 & 2296712\\\\\n\t  5 & 2335034\\\\\n\t  6 & 2371833\\\\\n\t  7 & 2405672\\\\\n\t  8 & 2431845\\\\\n\t  9 & 2466098\\\\\n\t 10 & 2504168\\\\\n\t 11 & 2545819\\\\\n\t 12 & 2582934\\\\\n\t 13 & 2621427\\\\\n\t 14 & 2652713\\\\\n\t 15 & 2677692\\\\\n\t 16 & 2709854\\\\\n\t 17 & 2747552\\\\\n\t 18 & 2783458\\\\\n\t 19 & 2819246\\\\\n\t 20 & 2851382\\\\\n\t 21 & 2876455\\\\\n\t 22 & 2895931\\\\\n\t 23 & 2921131\\\\\n\t 24 & 2953895\\\\\n\t 25 & 2985873\\\\\n\t 26 & 3015630\\\\\n\t 27 & 3041400\\\\\n\t 28 & 3061019\\\\\n\\end{tabular}\n",
            "text/plain": [
              "   dia_del_mes total  \n",
              "1   1          2190561\n",
              "2   2          2221276\n",
              "3   3          2258005\n",
              "4   4          2296712\n",
              "5   5          2335034\n",
              "6   6          2371833\n",
              "7   7          2405672\n",
              "8   8          2431845\n",
              "9   9          2466098\n",
              "10 10          2504168\n",
              "11 11          2545819\n",
              "12 12          2582934\n",
              "13 13          2621427\n",
              "14 14          2652713\n",
              "15 15          2677692\n",
              "16 16          2709854\n",
              "17 17          2747552\n",
              "18 18          2783458\n",
              "19 19          2819246\n",
              "20 20          2851382\n",
              "21 21          2876455\n",
              "22 22          2895931\n",
              "23 23          2921131\n",
              "24 24          2953895\n",
              "25 25          2985873\n",
              "26 26          3015630\n",
              "27 27          3041400\n",
              "28 28          3061019"
            ]
          },
          "metadata": {}
        },
        {
          "output_type": "display_data",
          "data": {
            "text/html": [
              "<table class=\"dataframe\">\n",
              "<caption>A data.frame: 31 × 2</caption>\n",
              "<thead>\n",
              "\t<tr><th scope=col>dia_del_mes</th><th scope=col>total</th></tr>\n",
              "\t<tr><th scope=col>&lt;dbl&gt;</th><th scope=col>&lt;dbl&gt;</th></tr>\n",
              "</thead>\n",
              "<tbody>\n",
              "\t<tr><td> 1</td><td>3076291</td></tr>\n",
              "\t<tr><td> 2</td><td>3098110</td></tr>\n",
              "\t<tr><td> 3</td><td>3122802</td></tr>\n",
              "\t<tr><td> 4</td><td>3147434</td></tr>\n",
              "\t<tr><td> 5</td><td>3168335</td></tr>\n",
              "\t<tr><td> 6</td><td>3188448</td></tr>\n",
              "\t<tr><td> 7</td><td>3202562</td></tr>\n",
              "\t<tr><td> 8</td><td>3214326</td></tr>\n",
              "\t<tr><td> 9</td><td>3230793</td></tr>\n",
              "\t<tr><td>10</td><td>3249890</td></tr>\n",
              "\t<tr><td>11</td><td>3269062</td></tr>\n",
              "\t<tr><td>12</td><td>3286476</td></tr>\n",
              "\t<tr><td>13</td><td>3301747</td></tr>\n",
              "\t<tr><td>14</td><td>3313242</td></tr>\n",
              "\t<tr><td>15</td><td>3323324</td></tr>\n",
              "\t<tr><td>16</td><td>3336614</td></tr>\n",
              "\t<tr><td>17</td><td>3353259</td></tr>\n",
              "\t<tr><td>18</td><td>3368704</td></tr>\n",
              "\t<tr><td>19</td><td>3381681</td></tr>\n",
              "\t<tr><td>20</td><td>3392978</td></tr>\n",
              "\t<tr><td>21</td><td>3401145</td></tr>\n",
              "\t<tr><td>22</td><td>3406540</td></tr>\n",
              "\t<tr><td>23</td><td>3415989</td></tr>\n",
              "\t<tr><td>24</td><td>3426147</td></tr>\n",
              "\t<tr><td>25</td><td>3434908</td></tr>\n",
              "\t<tr><td>26</td><td>3443018</td></tr>\n",
              "\t<tr><td>27</td><td>3450094</td></tr>\n",
              "\t<tr><td>28</td><td>3455060</td></tr>\n",
              "\t<tr><td>29</td><td>3458499</td></tr>\n",
              "\t<tr><td>30</td><td>3464425</td></tr>\n",
              "\t<tr><td>31</td><td>3470936</td></tr>\n",
              "</tbody>\n",
              "</table>\n"
            ],
            "text/markdown": "\nA data.frame: 31 × 2\n\n| dia_del_mes &lt;dbl&gt; | total &lt;dbl&gt; |\n|---|---|\n|  1 | 3076291 |\n|  2 | 3098110 |\n|  3 | 3122802 |\n|  4 | 3147434 |\n|  5 | 3168335 |\n|  6 | 3188448 |\n|  7 | 3202562 |\n|  8 | 3214326 |\n|  9 | 3230793 |\n| 10 | 3249890 |\n| 11 | 3269062 |\n| 12 | 3286476 |\n| 13 | 3301747 |\n| 14 | 3313242 |\n| 15 | 3323324 |\n| 16 | 3336614 |\n| 17 | 3353259 |\n| 18 | 3368704 |\n| 19 | 3381681 |\n| 20 | 3392978 |\n| 21 | 3401145 |\n| 22 | 3406540 |\n| 23 | 3415989 |\n| 24 | 3426147 |\n| 25 | 3434908 |\n| 26 | 3443018 |\n| 27 | 3450094 |\n| 28 | 3455060 |\n| 29 | 3458499 |\n| 30 | 3464425 |\n| 31 | 3470936 |\n\n",
            "text/latex": "A data.frame: 31 × 2\n\\begin{tabular}{ll}\n dia\\_del\\_mes & total\\\\\n <dbl> & <dbl>\\\\\n\\hline\n\t  1 & 3076291\\\\\n\t  2 & 3098110\\\\\n\t  3 & 3122802\\\\\n\t  4 & 3147434\\\\\n\t  5 & 3168335\\\\\n\t  6 & 3188448\\\\\n\t  7 & 3202562\\\\\n\t  8 & 3214326\\\\\n\t  9 & 3230793\\\\\n\t 10 & 3249890\\\\\n\t 11 & 3269062\\\\\n\t 12 & 3286476\\\\\n\t 13 & 3301747\\\\\n\t 14 & 3313242\\\\\n\t 15 & 3323324\\\\\n\t 16 & 3336614\\\\\n\t 17 & 3353259\\\\\n\t 18 & 3368704\\\\\n\t 19 & 3381681\\\\\n\t 20 & 3392978\\\\\n\t 21 & 3401145\\\\\n\t 22 & 3406540\\\\\n\t 23 & 3415989\\\\\n\t 24 & 3426147\\\\\n\t 25 & 3434908\\\\\n\t 26 & 3443018\\\\\n\t 27 & 3450094\\\\\n\t 28 & 3455060\\\\\n\t 29 & 3458499\\\\\n\t 30 & 3464425\\\\\n\t 31 & 3470936\\\\\n\\end{tabular}\n",
            "text/plain": [
              "   dia_del_mes total  \n",
              "1   1          3076291\n",
              "2   2          3098110\n",
              "3   3          3122802\n",
              "4   4          3147434\n",
              "5   5          3168335\n",
              "6   6          3188448\n",
              "7   7          3202562\n",
              "8   8          3214326\n",
              "9   9          3230793\n",
              "10 10          3249890\n",
              "11 11          3269062\n",
              "12 12          3286476\n",
              "13 13          3301747\n",
              "14 14          3313242\n",
              "15 15          3323324\n",
              "16 16          3336614\n",
              "17 17          3353259\n",
              "18 18          3368704\n",
              "19 19          3381681\n",
              "20 20          3392978\n",
              "21 21          3401145\n",
              "22 22          3406540\n",
              "23 23          3415989\n",
              "24 24          3426147\n",
              "25 25          3434908\n",
              "26 26          3443018\n",
              "27 27          3450094\n",
              "28 28          3455060\n",
              "29 29          3458499\n",
              "30 30          3464425\n",
              "31 31          3470936"
            ]
          },
          "metadata": {}
        },
        {
          "output_type": "display_data",
          "data": {
            "text/html": [
              "<table class=\"dataframe\">\n",
              "<caption>A data.frame: 22 × 2</caption>\n",
              "<thead>\n",
              "\t<tr><th scope=col>dia_del_mes</th><th scope=col>total</th></tr>\n",
              "\t<tr><th scope=col>&lt;dbl&gt;</th><th scope=col>&lt;dbl&gt;</th></tr>\n",
              "</thead>\n",
              "<tbody>\n",
              "\t<tr><td> 1</td><td>3476914</td></tr>\n",
              "\t<tr><td> 2</td><td>3482175</td></tr>\n",
              "\t<tr><td> 3</td><td>3486653</td></tr>\n",
              "\t<tr><td> 4</td><td>3489913</td></tr>\n",
              "\t<tr><td> 5</td><td>3491962</td></tr>\n",
              "\t<tr><td> 6</td><td>3495889</td></tr>\n",
              "\t<tr><td> 7</td><td>3500670</td></tr>\n",
              "\t<tr><td> 8</td><td>3504783</td></tr>\n",
              "\t<tr><td> 9</td><td>3508556</td></tr>\n",
              "\t<tr><td>10</td><td>3512020</td></tr>\n",
              "\t<tr><td>11</td><td>3514291</td></tr>\n",
              "\t<tr><td>12</td><td>3515878</td></tr>\n",
              "\t<tr><td>13</td><td>3518800</td></tr>\n",
              "\t<tr><td>14</td><td>3522422</td></tr>\n",
              "\t<tr><td>15</td><td>3525845</td></tr>\n",
              "\t<tr><td>16</td><td>3528626</td></tr>\n",
              "\t<tr><td>17</td><td>3530258</td></tr>\n",
              "\t<tr><td>18</td><td>3531529</td></tr>\n",
              "\t<tr><td>19</td><td>3532649</td></tr>\n",
              "\t<tr><td>20</td><td>3535534</td></tr>\n",
              "\t<tr><td>21</td><td>3538843</td></tr>\n",
              "\t<tr><td>22</td><td>3541792</td></tr>\n",
              "</tbody>\n",
              "</table>\n"
            ],
            "text/markdown": "\nA data.frame: 22 × 2\n\n| dia_del_mes &lt;dbl&gt; | total &lt;dbl&gt; |\n|---|---|\n|  1 | 3476914 |\n|  2 | 3482175 |\n|  3 | 3486653 |\n|  4 | 3489913 |\n|  5 | 3491962 |\n|  6 | 3495889 |\n|  7 | 3500670 |\n|  8 | 3504783 |\n|  9 | 3508556 |\n| 10 | 3512020 |\n| 11 | 3514291 |\n| 12 | 3515878 |\n| 13 | 3518800 |\n| 14 | 3522422 |\n| 15 | 3525845 |\n| 16 | 3528626 |\n| 17 | 3530258 |\n| 18 | 3531529 |\n| 19 | 3532649 |\n| 20 | 3535534 |\n| 21 | 3538843 |\n| 22 | 3541792 |\n\n",
            "text/latex": "A data.frame: 22 × 2\n\\begin{tabular}{ll}\n dia\\_del\\_mes & total\\\\\n <dbl> & <dbl>\\\\\n\\hline\n\t  1 & 3476914\\\\\n\t  2 & 3482175\\\\\n\t  3 & 3486653\\\\\n\t  4 & 3489913\\\\\n\t  5 & 3491962\\\\\n\t  6 & 3495889\\\\\n\t  7 & 3500670\\\\\n\t  8 & 3504783\\\\\n\t  9 & 3508556\\\\\n\t 10 & 3512020\\\\\n\t 11 & 3514291\\\\\n\t 12 & 3515878\\\\\n\t 13 & 3518800\\\\\n\t 14 & 3522422\\\\\n\t 15 & 3525845\\\\\n\t 16 & 3528626\\\\\n\t 17 & 3530258\\\\\n\t 18 & 3531529\\\\\n\t 19 & 3532649\\\\\n\t 20 & 3535534\\\\\n\t 21 & 3538843\\\\\n\t 22 & 3541792\\\\\n\\end{tabular}\n",
            "text/plain": [
              "   dia_del_mes total  \n",
              "1   1          3476914\n",
              "2   2          3482175\n",
              "3   3          3486653\n",
              "4   4          3489913\n",
              "5   5          3491962\n",
              "6   6          3495889\n",
              "7   7          3500670\n",
              "8   8          3504783\n",
              "9   9          3508556\n",
              "10 10          3512020\n",
              "11 11          3514291\n",
              "12 12          3515878\n",
              "13 13          3518800\n",
              "14 14          3522422\n",
              "15 15          3525845\n",
              "16 16          3528626\n",
              "17 17          3530258\n",
              "18 18          3531529\n",
              "19 19          3532649\n",
              "20 20          3535534\n",
              "21 21          3538843\n",
              "22 22          3541792"
            ]
          },
          "metadata": {}
        }
      ]
    },
    {
      "cell_type": "code",
      "source": [
        "# 2c) Para cada dataframe del paso anterior, genere una nueva columna llamada mes, que repita el nombre del mes correspondiente por cada fila.\n",
        "totales_enero [[3]] <- \"enero\"\n",
        "names(totales_enero)[3] <- \"mes\"\n",
        "\n",
        "totales_febrero [[3]] <- \"febrero\"\n",
        "names(totales_febrero)[3] <- \"mes\"\n",
        "\n",
        "totales_marzo [[3]] <- \"marzo\"\n",
        "names(totales_marzo)[3] <- \"mes\"\n",
        "\n",
        "totales_abril [[3]] <- \"abril\"\n",
        "names(totales_abril)[3] <- \"mes\"\n",
        "\n",
        "totales_enero\n",
        "totales_febrero\n",
        "totales_marzo\n",
        "totales_abril"
      ],
      "metadata": {
        "colab": {
          "base_uri": "https://localhost:8080/",
          "height": 1000
        },
        "id": "lt9b4TXj6bkJ",
        "outputId": "7fffe664-eb8f-4cb5-f2e3-184645350762"
      },
      "execution_count": null,
      "outputs": [
        {
          "output_type": "display_data",
          "data": {
            "text/html": [
              "<table class=\"dataframe\">\n",
              "<caption>A data.frame: 31 × 3</caption>\n",
              "<thead>\n",
              "\t<tr><th scope=col>dia_del_mes</th><th scope=col>total</th><th scope=col>mes</th></tr>\n",
              "\t<tr><th scope=col>&lt;dbl&gt;</th><th scope=col>&lt;dbl&gt;</th><th scope=col>&lt;chr&gt;</th></tr>\n",
              "</thead>\n",
              "<tbody>\n",
              "\t<tr><td> 1</td><td>1808398</td><td>enero</td></tr>\n",
              "\t<tr><td> 2</td><td>1810302</td><td>enero</td></tr>\n",
              "\t<tr><td> 3</td><td>1811297</td><td>enero</td></tr>\n",
              "\t<tr><td> 4</td><td>1812348</td><td>enero</td></tr>\n",
              "\t<tr><td> 5</td><td>1814188</td><td>enero</td></tr>\n",
              "\t<tr><td> 6</td><td>1817300</td><td>enero</td></tr>\n",
              "\t<tr><td> 7</td><td>1821071</td><td>enero</td></tr>\n",
              "\t<tr><td> 8</td><td>1825417</td><td>enero</td></tr>\n",
              "\t<tr><td> 9</td><td>1829437</td><td>enero</td></tr>\n",
              "\t<tr><td>10</td><td>1833478</td><td>enero</td></tr>\n",
              "\t<tr><td>11</td><td>1837390</td><td>enero</td></tr>\n",
              "\t<tr><td>12</td><td>1842218</td><td>enero</td></tr>\n",
              "\t<tr><td>13</td><td>1849465</td><td>enero</td></tr>\n",
              "\t<tr><td>14</td><td>1857764</td><td>enero</td></tr>\n",
              "\t<tr><td>15</td><td>1867101</td><td>enero</td></tr>\n",
              "\t<tr><td>16</td><td>1876610</td><td>enero</td></tr>\n",
              "\t<tr><td>17</td><td>1885540</td><td>enero</td></tr>\n",
              "\t<tr><td>18</td><td>1893115</td><td>enero</td></tr>\n",
              "\t<tr><td>19</td><td>1902657</td><td>enero</td></tr>\n",
              "\t<tr><td>20</td><td>1916522</td><td>enero</td></tr>\n",
              "\t<tr><td>21</td><td>1934204</td><td>enero</td></tr>\n",
              "\t<tr><td>22</td><td>1949675</td><td>enero</td></tr>\n",
              "\t<tr><td>23</td><td>1965393</td><td>enero</td></tr>\n",
              "\t<tr><td>24</td><td>1984190</td><td>enero</td></tr>\n",
              "\t<tr><td>25</td><td>2001346</td><td>enero</td></tr>\n",
              "\t<tr><td>26</td><td>2020082</td><td>enero</td></tr>\n",
              "\t<tr><td>27</td><td>2045874</td><td>enero</td></tr>\n",
              "\t<tr><td>28</td><td>2075703</td><td>enero</td></tr>\n",
              "\t<tr><td>29</td><td>2107612</td><td>enero</td></tr>\n",
              "\t<tr><td>30</td><td>2137743</td><td>enero</td></tr>\n",
              "\t<tr><td>31</td><td>2165984</td><td>enero</td></tr>\n",
              "</tbody>\n",
              "</table>\n"
            ],
            "text/markdown": "\nA data.frame: 31 × 3\n\n| dia_del_mes &lt;dbl&gt; | total &lt;dbl&gt; | mes &lt;chr&gt; |\n|---|---|---|\n|  1 | 1808398 | enero |\n|  2 | 1810302 | enero |\n|  3 | 1811297 | enero |\n|  4 | 1812348 | enero |\n|  5 | 1814188 | enero |\n|  6 | 1817300 | enero |\n|  7 | 1821071 | enero |\n|  8 | 1825417 | enero |\n|  9 | 1829437 | enero |\n| 10 | 1833478 | enero |\n| 11 | 1837390 | enero |\n| 12 | 1842218 | enero |\n| 13 | 1849465 | enero |\n| 14 | 1857764 | enero |\n| 15 | 1867101 | enero |\n| 16 | 1876610 | enero |\n| 17 | 1885540 | enero |\n| 18 | 1893115 | enero |\n| 19 | 1902657 | enero |\n| 20 | 1916522 | enero |\n| 21 | 1934204 | enero |\n| 22 | 1949675 | enero |\n| 23 | 1965393 | enero |\n| 24 | 1984190 | enero |\n| 25 | 2001346 | enero |\n| 26 | 2020082 | enero |\n| 27 | 2045874 | enero |\n| 28 | 2075703 | enero |\n| 29 | 2107612 | enero |\n| 30 | 2137743 | enero |\n| 31 | 2165984 | enero |\n\n",
            "text/latex": "A data.frame: 31 × 3\n\\begin{tabular}{lll}\n dia\\_del\\_mes & total & mes\\\\\n <dbl> & <dbl> & <chr>\\\\\n\\hline\n\t  1 & 1808398 & enero\\\\\n\t  2 & 1810302 & enero\\\\\n\t  3 & 1811297 & enero\\\\\n\t  4 & 1812348 & enero\\\\\n\t  5 & 1814188 & enero\\\\\n\t  6 & 1817300 & enero\\\\\n\t  7 & 1821071 & enero\\\\\n\t  8 & 1825417 & enero\\\\\n\t  9 & 1829437 & enero\\\\\n\t 10 & 1833478 & enero\\\\\n\t 11 & 1837390 & enero\\\\\n\t 12 & 1842218 & enero\\\\\n\t 13 & 1849465 & enero\\\\\n\t 14 & 1857764 & enero\\\\\n\t 15 & 1867101 & enero\\\\\n\t 16 & 1876610 & enero\\\\\n\t 17 & 1885540 & enero\\\\\n\t 18 & 1893115 & enero\\\\\n\t 19 & 1902657 & enero\\\\\n\t 20 & 1916522 & enero\\\\\n\t 21 & 1934204 & enero\\\\\n\t 22 & 1949675 & enero\\\\\n\t 23 & 1965393 & enero\\\\\n\t 24 & 1984190 & enero\\\\\n\t 25 & 2001346 & enero\\\\\n\t 26 & 2020082 & enero\\\\\n\t 27 & 2045874 & enero\\\\\n\t 28 & 2075703 & enero\\\\\n\t 29 & 2107612 & enero\\\\\n\t 30 & 2137743 & enero\\\\\n\t 31 & 2165984 & enero\\\\\n\\end{tabular}\n",
            "text/plain": [
              "   dia_del_mes total   mes  \n",
              "1   1          1808398 enero\n",
              "2   2          1810302 enero\n",
              "3   3          1811297 enero\n",
              "4   4          1812348 enero\n",
              "5   5          1814188 enero\n",
              "6   6          1817300 enero\n",
              "7   7          1821071 enero\n",
              "8   8          1825417 enero\n",
              "9   9          1829437 enero\n",
              "10 10          1833478 enero\n",
              "11 11          1837390 enero\n",
              "12 12          1842218 enero\n",
              "13 13          1849465 enero\n",
              "14 14          1857764 enero\n",
              "15 15          1867101 enero\n",
              "16 16          1876610 enero\n",
              "17 17          1885540 enero\n",
              "18 18          1893115 enero\n",
              "19 19          1902657 enero\n",
              "20 20          1916522 enero\n",
              "21 21          1934204 enero\n",
              "22 22          1949675 enero\n",
              "23 23          1965393 enero\n",
              "24 24          1984190 enero\n",
              "25 25          2001346 enero\n",
              "26 26          2020082 enero\n",
              "27 27          2045874 enero\n",
              "28 28          2075703 enero\n",
              "29 29          2107612 enero\n",
              "30 30          2137743 enero\n",
              "31 31          2165984 enero"
            ]
          },
          "metadata": {}
        },
        {
          "output_type": "display_data",
          "data": {
            "text/html": [
              "<table class=\"dataframe\">\n",
              "<caption>A data.frame: 28 × 3</caption>\n",
              "<thead>\n",
              "\t<tr><th scope=col>dia_del_mes</th><th scope=col>total</th><th scope=col>mes</th></tr>\n",
              "\t<tr><th scope=col>&lt;dbl&gt;</th><th scope=col>&lt;dbl&gt;</th><th scope=col>&lt;chr&gt;</th></tr>\n",
              "</thead>\n",
              "<tbody>\n",
              "\t<tr><td> 1</td><td>2190561</td><td>febrero</td></tr>\n",
              "\t<tr><td> 2</td><td>2221276</td><td>febrero</td></tr>\n",
              "\t<tr><td> 3</td><td>2258005</td><td>febrero</td></tr>\n",
              "\t<tr><td> 4</td><td>2296712</td><td>febrero</td></tr>\n",
              "\t<tr><td> 5</td><td>2335034</td><td>febrero</td></tr>\n",
              "\t<tr><td> 6</td><td>2371833</td><td>febrero</td></tr>\n",
              "\t<tr><td> 7</td><td>2405672</td><td>febrero</td></tr>\n",
              "\t<tr><td> 8</td><td>2431845</td><td>febrero</td></tr>\n",
              "\t<tr><td> 9</td><td>2466098</td><td>febrero</td></tr>\n",
              "\t<tr><td>10</td><td>2504168</td><td>febrero</td></tr>\n",
              "\t<tr><td>11</td><td>2545819</td><td>febrero</td></tr>\n",
              "\t<tr><td>12</td><td>2582934</td><td>febrero</td></tr>\n",
              "\t<tr><td>13</td><td>2621427</td><td>febrero</td></tr>\n",
              "\t<tr><td>14</td><td>2652713</td><td>febrero</td></tr>\n",
              "\t<tr><td>15</td><td>2677692</td><td>febrero</td></tr>\n",
              "\t<tr><td>16</td><td>2709854</td><td>febrero</td></tr>\n",
              "\t<tr><td>17</td><td>2747552</td><td>febrero</td></tr>\n",
              "\t<tr><td>18</td><td>2783458</td><td>febrero</td></tr>\n",
              "\t<tr><td>19</td><td>2819246</td><td>febrero</td></tr>\n",
              "\t<tr><td>20</td><td>2851382</td><td>febrero</td></tr>\n",
              "\t<tr><td>21</td><td>2876455</td><td>febrero</td></tr>\n",
              "\t<tr><td>22</td><td>2895931</td><td>febrero</td></tr>\n",
              "\t<tr><td>23</td><td>2921131</td><td>febrero</td></tr>\n",
              "\t<tr><td>24</td><td>2953895</td><td>febrero</td></tr>\n",
              "\t<tr><td>25</td><td>2985873</td><td>febrero</td></tr>\n",
              "\t<tr><td>26</td><td>3015630</td><td>febrero</td></tr>\n",
              "\t<tr><td>27</td><td>3041400</td><td>febrero</td></tr>\n",
              "\t<tr><td>28</td><td>3061019</td><td>febrero</td></tr>\n",
              "</tbody>\n",
              "</table>\n"
            ],
            "text/markdown": "\nA data.frame: 28 × 3\n\n| dia_del_mes &lt;dbl&gt; | total &lt;dbl&gt; | mes &lt;chr&gt; |\n|---|---|---|\n|  1 | 2190561 | febrero |\n|  2 | 2221276 | febrero |\n|  3 | 2258005 | febrero |\n|  4 | 2296712 | febrero |\n|  5 | 2335034 | febrero |\n|  6 | 2371833 | febrero |\n|  7 | 2405672 | febrero |\n|  8 | 2431845 | febrero |\n|  9 | 2466098 | febrero |\n| 10 | 2504168 | febrero |\n| 11 | 2545819 | febrero |\n| 12 | 2582934 | febrero |\n| 13 | 2621427 | febrero |\n| 14 | 2652713 | febrero |\n| 15 | 2677692 | febrero |\n| 16 | 2709854 | febrero |\n| 17 | 2747552 | febrero |\n| 18 | 2783458 | febrero |\n| 19 | 2819246 | febrero |\n| 20 | 2851382 | febrero |\n| 21 | 2876455 | febrero |\n| 22 | 2895931 | febrero |\n| 23 | 2921131 | febrero |\n| 24 | 2953895 | febrero |\n| 25 | 2985873 | febrero |\n| 26 | 3015630 | febrero |\n| 27 | 3041400 | febrero |\n| 28 | 3061019 | febrero |\n\n",
            "text/latex": "A data.frame: 28 × 3\n\\begin{tabular}{lll}\n dia\\_del\\_mes & total & mes\\\\\n <dbl> & <dbl> & <chr>\\\\\n\\hline\n\t  1 & 2190561 & febrero\\\\\n\t  2 & 2221276 & febrero\\\\\n\t  3 & 2258005 & febrero\\\\\n\t  4 & 2296712 & febrero\\\\\n\t  5 & 2335034 & febrero\\\\\n\t  6 & 2371833 & febrero\\\\\n\t  7 & 2405672 & febrero\\\\\n\t  8 & 2431845 & febrero\\\\\n\t  9 & 2466098 & febrero\\\\\n\t 10 & 2504168 & febrero\\\\\n\t 11 & 2545819 & febrero\\\\\n\t 12 & 2582934 & febrero\\\\\n\t 13 & 2621427 & febrero\\\\\n\t 14 & 2652713 & febrero\\\\\n\t 15 & 2677692 & febrero\\\\\n\t 16 & 2709854 & febrero\\\\\n\t 17 & 2747552 & febrero\\\\\n\t 18 & 2783458 & febrero\\\\\n\t 19 & 2819246 & febrero\\\\\n\t 20 & 2851382 & febrero\\\\\n\t 21 & 2876455 & febrero\\\\\n\t 22 & 2895931 & febrero\\\\\n\t 23 & 2921131 & febrero\\\\\n\t 24 & 2953895 & febrero\\\\\n\t 25 & 2985873 & febrero\\\\\n\t 26 & 3015630 & febrero\\\\\n\t 27 & 3041400 & febrero\\\\\n\t 28 & 3061019 & febrero\\\\\n\\end{tabular}\n",
            "text/plain": [
              "   dia_del_mes total   mes    \n",
              "1   1          2190561 febrero\n",
              "2   2          2221276 febrero\n",
              "3   3          2258005 febrero\n",
              "4   4          2296712 febrero\n",
              "5   5          2335034 febrero\n",
              "6   6          2371833 febrero\n",
              "7   7          2405672 febrero\n",
              "8   8          2431845 febrero\n",
              "9   9          2466098 febrero\n",
              "10 10          2504168 febrero\n",
              "11 11          2545819 febrero\n",
              "12 12          2582934 febrero\n",
              "13 13          2621427 febrero\n",
              "14 14          2652713 febrero\n",
              "15 15          2677692 febrero\n",
              "16 16          2709854 febrero\n",
              "17 17          2747552 febrero\n",
              "18 18          2783458 febrero\n",
              "19 19          2819246 febrero\n",
              "20 20          2851382 febrero\n",
              "21 21          2876455 febrero\n",
              "22 22          2895931 febrero\n",
              "23 23          2921131 febrero\n",
              "24 24          2953895 febrero\n",
              "25 25          2985873 febrero\n",
              "26 26          3015630 febrero\n",
              "27 27          3041400 febrero\n",
              "28 28          3061019 febrero"
            ]
          },
          "metadata": {}
        },
        {
          "output_type": "display_data",
          "data": {
            "text/html": [
              "<table class=\"dataframe\">\n",
              "<caption>A data.frame: 31 × 3</caption>\n",
              "<thead>\n",
              "\t<tr><th scope=col>dia_del_mes</th><th scope=col>total</th><th scope=col>mes</th></tr>\n",
              "\t<tr><th scope=col>&lt;dbl&gt;</th><th scope=col>&lt;dbl&gt;</th><th scope=col>&lt;chr&gt;</th></tr>\n",
              "</thead>\n",
              "<tbody>\n",
              "\t<tr><td> 1</td><td>3076291</td><td>marzo</td></tr>\n",
              "\t<tr><td> 2</td><td>3098110</td><td>marzo</td></tr>\n",
              "\t<tr><td> 3</td><td>3122802</td><td>marzo</td></tr>\n",
              "\t<tr><td> 4</td><td>3147434</td><td>marzo</td></tr>\n",
              "\t<tr><td> 5</td><td>3168335</td><td>marzo</td></tr>\n",
              "\t<tr><td> 6</td><td>3188448</td><td>marzo</td></tr>\n",
              "\t<tr><td> 7</td><td>3202562</td><td>marzo</td></tr>\n",
              "\t<tr><td> 8</td><td>3214326</td><td>marzo</td></tr>\n",
              "\t<tr><td> 9</td><td>3230793</td><td>marzo</td></tr>\n",
              "\t<tr><td>10</td><td>3249890</td><td>marzo</td></tr>\n",
              "\t<tr><td>11</td><td>3269062</td><td>marzo</td></tr>\n",
              "\t<tr><td>12</td><td>3286476</td><td>marzo</td></tr>\n",
              "\t<tr><td>13</td><td>3301747</td><td>marzo</td></tr>\n",
              "\t<tr><td>14</td><td>3313242</td><td>marzo</td></tr>\n",
              "\t<tr><td>15</td><td>3323324</td><td>marzo</td></tr>\n",
              "\t<tr><td>16</td><td>3336614</td><td>marzo</td></tr>\n",
              "\t<tr><td>17</td><td>3353259</td><td>marzo</td></tr>\n",
              "\t<tr><td>18</td><td>3368704</td><td>marzo</td></tr>\n",
              "\t<tr><td>19</td><td>3381681</td><td>marzo</td></tr>\n",
              "\t<tr><td>20</td><td>3392978</td><td>marzo</td></tr>\n",
              "\t<tr><td>21</td><td>3401145</td><td>marzo</td></tr>\n",
              "\t<tr><td>22</td><td>3406540</td><td>marzo</td></tr>\n",
              "\t<tr><td>23</td><td>3415989</td><td>marzo</td></tr>\n",
              "\t<tr><td>24</td><td>3426147</td><td>marzo</td></tr>\n",
              "\t<tr><td>25</td><td>3434908</td><td>marzo</td></tr>\n",
              "\t<tr><td>26</td><td>3443018</td><td>marzo</td></tr>\n",
              "\t<tr><td>27</td><td>3450094</td><td>marzo</td></tr>\n",
              "\t<tr><td>28</td><td>3455060</td><td>marzo</td></tr>\n",
              "\t<tr><td>29</td><td>3458499</td><td>marzo</td></tr>\n",
              "\t<tr><td>30</td><td>3464425</td><td>marzo</td></tr>\n",
              "\t<tr><td>31</td><td>3470936</td><td>marzo</td></tr>\n",
              "</tbody>\n",
              "</table>\n"
            ],
            "text/markdown": "\nA data.frame: 31 × 3\n\n| dia_del_mes &lt;dbl&gt; | total &lt;dbl&gt; | mes &lt;chr&gt; |\n|---|---|---|\n|  1 | 3076291 | marzo |\n|  2 | 3098110 | marzo |\n|  3 | 3122802 | marzo |\n|  4 | 3147434 | marzo |\n|  5 | 3168335 | marzo |\n|  6 | 3188448 | marzo |\n|  7 | 3202562 | marzo |\n|  8 | 3214326 | marzo |\n|  9 | 3230793 | marzo |\n| 10 | 3249890 | marzo |\n| 11 | 3269062 | marzo |\n| 12 | 3286476 | marzo |\n| 13 | 3301747 | marzo |\n| 14 | 3313242 | marzo |\n| 15 | 3323324 | marzo |\n| 16 | 3336614 | marzo |\n| 17 | 3353259 | marzo |\n| 18 | 3368704 | marzo |\n| 19 | 3381681 | marzo |\n| 20 | 3392978 | marzo |\n| 21 | 3401145 | marzo |\n| 22 | 3406540 | marzo |\n| 23 | 3415989 | marzo |\n| 24 | 3426147 | marzo |\n| 25 | 3434908 | marzo |\n| 26 | 3443018 | marzo |\n| 27 | 3450094 | marzo |\n| 28 | 3455060 | marzo |\n| 29 | 3458499 | marzo |\n| 30 | 3464425 | marzo |\n| 31 | 3470936 | marzo |\n\n",
            "text/latex": "A data.frame: 31 × 3\n\\begin{tabular}{lll}\n dia\\_del\\_mes & total & mes\\\\\n <dbl> & <dbl> & <chr>\\\\\n\\hline\n\t  1 & 3076291 & marzo\\\\\n\t  2 & 3098110 & marzo\\\\\n\t  3 & 3122802 & marzo\\\\\n\t  4 & 3147434 & marzo\\\\\n\t  5 & 3168335 & marzo\\\\\n\t  6 & 3188448 & marzo\\\\\n\t  7 & 3202562 & marzo\\\\\n\t  8 & 3214326 & marzo\\\\\n\t  9 & 3230793 & marzo\\\\\n\t 10 & 3249890 & marzo\\\\\n\t 11 & 3269062 & marzo\\\\\n\t 12 & 3286476 & marzo\\\\\n\t 13 & 3301747 & marzo\\\\\n\t 14 & 3313242 & marzo\\\\\n\t 15 & 3323324 & marzo\\\\\n\t 16 & 3336614 & marzo\\\\\n\t 17 & 3353259 & marzo\\\\\n\t 18 & 3368704 & marzo\\\\\n\t 19 & 3381681 & marzo\\\\\n\t 20 & 3392978 & marzo\\\\\n\t 21 & 3401145 & marzo\\\\\n\t 22 & 3406540 & marzo\\\\\n\t 23 & 3415989 & marzo\\\\\n\t 24 & 3426147 & marzo\\\\\n\t 25 & 3434908 & marzo\\\\\n\t 26 & 3443018 & marzo\\\\\n\t 27 & 3450094 & marzo\\\\\n\t 28 & 3455060 & marzo\\\\\n\t 29 & 3458499 & marzo\\\\\n\t 30 & 3464425 & marzo\\\\\n\t 31 & 3470936 & marzo\\\\\n\\end{tabular}\n",
            "text/plain": [
              "   dia_del_mes total   mes  \n",
              "1   1          3076291 marzo\n",
              "2   2          3098110 marzo\n",
              "3   3          3122802 marzo\n",
              "4   4          3147434 marzo\n",
              "5   5          3168335 marzo\n",
              "6   6          3188448 marzo\n",
              "7   7          3202562 marzo\n",
              "8   8          3214326 marzo\n",
              "9   9          3230793 marzo\n",
              "10 10          3249890 marzo\n",
              "11 11          3269062 marzo\n",
              "12 12          3286476 marzo\n",
              "13 13          3301747 marzo\n",
              "14 14          3313242 marzo\n",
              "15 15          3323324 marzo\n",
              "16 16          3336614 marzo\n",
              "17 17          3353259 marzo\n",
              "18 18          3368704 marzo\n",
              "19 19          3381681 marzo\n",
              "20 20          3392978 marzo\n",
              "21 21          3401145 marzo\n",
              "22 22          3406540 marzo\n",
              "23 23          3415989 marzo\n",
              "24 24          3426147 marzo\n",
              "25 25          3434908 marzo\n",
              "26 26          3443018 marzo\n",
              "27 27          3450094 marzo\n",
              "28 28          3455060 marzo\n",
              "29 29          3458499 marzo\n",
              "30 30          3464425 marzo\n",
              "31 31          3470936 marzo"
            ]
          },
          "metadata": {}
        },
        {
          "output_type": "display_data",
          "data": {
            "text/html": [
              "<table class=\"dataframe\">\n",
              "<caption>A data.frame: 22 × 3</caption>\n",
              "<thead>\n",
              "\t<tr><th scope=col>dia_del_mes</th><th scope=col>total</th><th scope=col>mes</th></tr>\n",
              "\t<tr><th scope=col>&lt;dbl&gt;</th><th scope=col>&lt;dbl&gt;</th><th scope=col>&lt;chr&gt;</th></tr>\n",
              "</thead>\n",
              "<tbody>\n",
              "\t<tr><td> 1</td><td>3476914</td><td>abril</td></tr>\n",
              "\t<tr><td> 2</td><td>3482175</td><td>abril</td></tr>\n",
              "\t<tr><td> 3</td><td>3486653</td><td>abril</td></tr>\n",
              "\t<tr><td> 4</td><td>3489913</td><td>abril</td></tr>\n",
              "\t<tr><td> 5</td><td>3491962</td><td>abril</td></tr>\n",
              "\t<tr><td> 6</td><td>3495889</td><td>abril</td></tr>\n",
              "\t<tr><td> 7</td><td>3500670</td><td>abril</td></tr>\n",
              "\t<tr><td> 8</td><td>3504783</td><td>abril</td></tr>\n",
              "\t<tr><td> 9</td><td>3508556</td><td>abril</td></tr>\n",
              "\t<tr><td>10</td><td>3512020</td><td>abril</td></tr>\n",
              "\t<tr><td>11</td><td>3514291</td><td>abril</td></tr>\n",
              "\t<tr><td>12</td><td>3515878</td><td>abril</td></tr>\n",
              "\t<tr><td>13</td><td>3518800</td><td>abril</td></tr>\n",
              "\t<tr><td>14</td><td>3522422</td><td>abril</td></tr>\n",
              "\t<tr><td>15</td><td>3525845</td><td>abril</td></tr>\n",
              "\t<tr><td>16</td><td>3528626</td><td>abril</td></tr>\n",
              "\t<tr><td>17</td><td>3530258</td><td>abril</td></tr>\n",
              "\t<tr><td>18</td><td>3531529</td><td>abril</td></tr>\n",
              "\t<tr><td>19</td><td>3532649</td><td>abril</td></tr>\n",
              "\t<tr><td>20</td><td>3535534</td><td>abril</td></tr>\n",
              "\t<tr><td>21</td><td>3538843</td><td>abril</td></tr>\n",
              "\t<tr><td>22</td><td>3541792</td><td>abril</td></tr>\n",
              "</tbody>\n",
              "</table>\n"
            ],
            "text/markdown": "\nA data.frame: 22 × 3\n\n| dia_del_mes &lt;dbl&gt; | total &lt;dbl&gt; | mes &lt;chr&gt; |\n|---|---|---|\n|  1 | 3476914 | abril |\n|  2 | 3482175 | abril |\n|  3 | 3486653 | abril |\n|  4 | 3489913 | abril |\n|  5 | 3491962 | abril |\n|  6 | 3495889 | abril |\n|  7 | 3500670 | abril |\n|  8 | 3504783 | abril |\n|  9 | 3508556 | abril |\n| 10 | 3512020 | abril |\n| 11 | 3514291 | abril |\n| 12 | 3515878 | abril |\n| 13 | 3518800 | abril |\n| 14 | 3522422 | abril |\n| 15 | 3525845 | abril |\n| 16 | 3528626 | abril |\n| 17 | 3530258 | abril |\n| 18 | 3531529 | abril |\n| 19 | 3532649 | abril |\n| 20 | 3535534 | abril |\n| 21 | 3538843 | abril |\n| 22 | 3541792 | abril |\n\n",
            "text/latex": "A data.frame: 22 × 3\n\\begin{tabular}{lll}\n dia\\_del\\_mes & total & mes\\\\\n <dbl> & <dbl> & <chr>\\\\\n\\hline\n\t  1 & 3476914 & abril\\\\\n\t  2 & 3482175 & abril\\\\\n\t  3 & 3486653 & abril\\\\\n\t  4 & 3489913 & abril\\\\\n\t  5 & 3491962 & abril\\\\\n\t  6 & 3495889 & abril\\\\\n\t  7 & 3500670 & abril\\\\\n\t  8 & 3504783 & abril\\\\\n\t  9 & 3508556 & abril\\\\\n\t 10 & 3512020 & abril\\\\\n\t 11 & 3514291 & abril\\\\\n\t 12 & 3515878 & abril\\\\\n\t 13 & 3518800 & abril\\\\\n\t 14 & 3522422 & abril\\\\\n\t 15 & 3525845 & abril\\\\\n\t 16 & 3528626 & abril\\\\\n\t 17 & 3530258 & abril\\\\\n\t 18 & 3531529 & abril\\\\\n\t 19 & 3532649 & abril\\\\\n\t 20 & 3535534 & abril\\\\\n\t 21 & 3538843 & abril\\\\\n\t 22 & 3541792 & abril\\\\\n\\end{tabular}\n",
            "text/plain": [
              "   dia_del_mes total   mes  \n",
              "1   1          3476914 abril\n",
              "2   2          3482175 abril\n",
              "3   3          3486653 abril\n",
              "4   4          3489913 abril\n",
              "5   5          3491962 abril\n",
              "6   6          3495889 abril\n",
              "7   7          3500670 abril\n",
              "8   8          3504783 abril\n",
              "9   9          3508556 abril\n",
              "10 10          3512020 abril\n",
              "11 11          3514291 abril\n",
              "12 12          3515878 abril\n",
              "13 13          3518800 abril\n",
              "14 14          3522422 abril\n",
              "15 15          3525845 abril\n",
              "16 16          3528626 abril\n",
              "17 17          3530258 abril\n",
              "18 18          3531529 abril\n",
              "19 19          3532649 abril\n",
              "20 20          3535534 abril\n",
              "21 21          3538843 abril\n",
              "22 22          3541792 abril"
            ]
          },
          "metadata": {}
        }
      ]
    },
    {
      "cell_type": "code",
      "source": [
        "# 2d) En cada data.frame, agregue una nueva columna llamada casos_diarios que contenga la información correspontiende al total de casos nuevos diarios(casos_nuevos_totales).\n",
        "\n",
        "#Opción 1\n",
        "totales_enero [[4]] <- casos$ene$casos_nuevos_totales [[2]]\n",
        "names(totales_enero)[4] <- \"casos_diarios\"\n",
        "\n",
        "totales_febrero [[4]] <- casos$feb$casos_nuevos_totales [[2]]\n",
        "names(totales_febrero)[4] <- \"casos_diarios\"\n",
        "\n",
        "totales_marzo [[4]] <- casos$mar$casos_nuevos_totales [[2]]\n",
        "names(totales_marzo)[4] <- \"casos_diarios\"\n",
        "\n",
        "totales_abril [[4]] <- casos$abr$casos_nuevos_totales [[2]]\n",
        "names(totales_abril)[4] <- \"casos_diarios\"\n",
        "\n",
        "totales_enero\n",
        "totales_febrero\n",
        "totales_marzo\n",
        "totales_abril\n",
        "\n",
        "#Opción 2\n",
        "\n",
        "# mutate(totales_enero, casos diarios = casos$ene$casos_nuevos_totales [[2]])\n",
        "# mutate(totales_febrero, casos diarios = casos$feb$casos_nuevos_totales [[2]])\n",
        "# mutate(totales_marzo, casos diarios = casos$mar$casos_nuevos_totales [[2]])\n",
        "# mutate(totales_abril, casos diarios = casos$abr$casos_nuevos_totales [[2]])\n"
      ],
      "metadata": {
        "colab": {
          "base_uri": "https://localhost:8080/",
          "height": 1000
        },
        "id": "SAyHkedE6r3p",
        "outputId": "bc598ac1-656a-409d-f32d-6ad58f81748b"
      },
      "execution_count": null,
      "outputs": [
        {
          "output_type": "display_data",
          "data": {
            "text/html": [
              "<table class=\"dataframe\">\n",
              "<caption>A data.frame: 31 × 4</caption>\n",
              "<thead>\n",
              "\t<tr><th scope=col>dia_del_mes</th><th scope=col>total</th><th scope=col>mes</th><th scope=col>casos_diarios</th></tr>\n",
              "\t<tr><th scope=col>&lt;dbl&gt;</th><th scope=col>&lt;dbl&gt;</th><th scope=col>&lt;chr&gt;</th><th scope=col>&lt;dbl&gt;</th></tr>\n",
              "</thead>\n",
              "<tbody>\n",
              "\t<tr><td> 1</td><td>1808398</td><td>enero</td><td> 1930</td></tr>\n",
              "\t<tr><td> 2</td><td>1810302</td><td>enero</td><td> 1921</td></tr>\n",
              "\t<tr><td> 3</td><td>1811297</td><td>enero</td><td> 1005</td></tr>\n",
              "\t<tr><td> 4</td><td>1812348</td><td>enero</td><td> 1058</td></tr>\n",
              "\t<tr><td> 5</td><td>1814188</td><td>enero</td><td> 1858</td></tr>\n",
              "\t<tr><td> 6</td><td>1817300</td><td>enero</td><td> 3134</td></tr>\n",
              "\t<tr><td> 7</td><td>1821071</td><td>enero</td><td> 3799</td></tr>\n",
              "\t<tr><td> 8</td><td>1825417</td><td>enero</td><td> 4380</td></tr>\n",
              "\t<tr><td> 9</td><td>1829437</td><td>enero</td><td> 4064</td></tr>\n",
              "\t<tr><td>10</td><td>1833478</td><td>enero</td><td> 4069</td></tr>\n",
              "\t<tr><td>11</td><td>1837390</td><td>enero</td><td> 3922</td></tr>\n",
              "\t<tr><td>12</td><td>1842218</td><td>enero</td><td> 4847</td></tr>\n",
              "\t<tr><td>13</td><td>1849465</td><td>enero</td><td> 7291</td></tr>\n",
              "\t<tr><td>14</td><td>1857764</td><td>enero</td><td> 8270</td></tr>\n",
              "\t<tr><td>15</td><td>1867101</td><td>enero</td><td> 9284</td></tr>\n",
              "\t<tr><td>16</td><td>1876610</td><td>enero</td><td> 9454</td></tr>\n",
              "\t<tr><td>17</td><td>1885540</td><td>enero</td><td> 8904</td></tr>\n",
              "\t<tr><td>18</td><td>1893115</td><td>enero</td><td> 7533</td></tr>\n",
              "\t<tr><td>19</td><td>1902657</td><td>enero</td><td> 9509</td></tr>\n",
              "\t<tr><td>20</td><td>1916522</td><td>enero</td><td>12500</td></tr>\n",
              "\t<tr><td>21</td><td>1934204</td><td>enero</td><td>14757</td></tr>\n",
              "\t<tr><td>22</td><td>1949675</td><td>enero</td><td>14449</td></tr>\n",
              "\t<tr><td>23</td><td>1965393</td><td>enero</td><td>13674</td></tr>\n",
              "\t<tr><td>24</td><td>1984190</td><td>enero</td><td>14780</td></tr>\n",
              "\t<tr><td>25</td><td>2001346</td><td>enero</td><td>14291</td></tr>\n",
              "\t<tr><td>26</td><td>2020082</td><td>enero</td><td>18446</td></tr>\n",
              "\t<tr><td>27</td><td>2045874</td><td>enero</td><td>24037</td></tr>\n",
              "\t<tr><td>28</td><td>2075703</td><td>enero</td><td>26727</td></tr>\n",
              "\t<tr><td>29</td><td>2107612</td><td>enero</td><td>29175</td></tr>\n",
              "\t<tr><td>30</td><td>2137743</td><td>enero</td><td>28480</td></tr>\n",
              "\t<tr><td>31</td><td>2165984</td><td>enero</td><td>26244</td></tr>\n",
              "</tbody>\n",
              "</table>\n"
            ],
            "text/markdown": "\nA data.frame: 31 × 4\n\n| dia_del_mes &lt;dbl&gt; | total &lt;dbl&gt; | mes &lt;chr&gt; | casos_diarios &lt;dbl&gt; |\n|---|---|---|---|\n|  1 | 1808398 | enero |  1930 |\n|  2 | 1810302 | enero |  1921 |\n|  3 | 1811297 | enero |  1005 |\n|  4 | 1812348 | enero |  1058 |\n|  5 | 1814188 | enero |  1858 |\n|  6 | 1817300 | enero |  3134 |\n|  7 | 1821071 | enero |  3799 |\n|  8 | 1825417 | enero |  4380 |\n|  9 | 1829437 | enero |  4064 |\n| 10 | 1833478 | enero |  4069 |\n| 11 | 1837390 | enero |  3922 |\n| 12 | 1842218 | enero |  4847 |\n| 13 | 1849465 | enero |  7291 |\n| 14 | 1857764 | enero |  8270 |\n| 15 | 1867101 | enero |  9284 |\n| 16 | 1876610 | enero |  9454 |\n| 17 | 1885540 | enero |  8904 |\n| 18 | 1893115 | enero |  7533 |\n| 19 | 1902657 | enero |  9509 |\n| 20 | 1916522 | enero | 12500 |\n| 21 | 1934204 | enero | 14757 |\n| 22 | 1949675 | enero | 14449 |\n| 23 | 1965393 | enero | 13674 |\n| 24 | 1984190 | enero | 14780 |\n| 25 | 2001346 | enero | 14291 |\n| 26 | 2020082 | enero | 18446 |\n| 27 | 2045874 | enero | 24037 |\n| 28 | 2075703 | enero | 26727 |\n| 29 | 2107612 | enero | 29175 |\n| 30 | 2137743 | enero | 28480 |\n| 31 | 2165984 | enero | 26244 |\n\n",
            "text/latex": "A data.frame: 31 × 4\n\\begin{tabular}{llll}\n dia\\_del\\_mes & total & mes & casos\\_diarios\\\\\n <dbl> & <dbl> & <chr> & <dbl>\\\\\n\\hline\n\t  1 & 1808398 & enero &  1930\\\\\n\t  2 & 1810302 & enero &  1921\\\\\n\t  3 & 1811297 & enero &  1005\\\\\n\t  4 & 1812348 & enero &  1058\\\\\n\t  5 & 1814188 & enero &  1858\\\\\n\t  6 & 1817300 & enero &  3134\\\\\n\t  7 & 1821071 & enero &  3799\\\\\n\t  8 & 1825417 & enero &  4380\\\\\n\t  9 & 1829437 & enero &  4064\\\\\n\t 10 & 1833478 & enero &  4069\\\\\n\t 11 & 1837390 & enero &  3922\\\\\n\t 12 & 1842218 & enero &  4847\\\\\n\t 13 & 1849465 & enero &  7291\\\\\n\t 14 & 1857764 & enero &  8270\\\\\n\t 15 & 1867101 & enero &  9284\\\\\n\t 16 & 1876610 & enero &  9454\\\\\n\t 17 & 1885540 & enero &  8904\\\\\n\t 18 & 1893115 & enero &  7533\\\\\n\t 19 & 1902657 & enero &  9509\\\\\n\t 20 & 1916522 & enero & 12500\\\\\n\t 21 & 1934204 & enero & 14757\\\\\n\t 22 & 1949675 & enero & 14449\\\\\n\t 23 & 1965393 & enero & 13674\\\\\n\t 24 & 1984190 & enero & 14780\\\\\n\t 25 & 2001346 & enero & 14291\\\\\n\t 26 & 2020082 & enero & 18446\\\\\n\t 27 & 2045874 & enero & 24037\\\\\n\t 28 & 2075703 & enero & 26727\\\\\n\t 29 & 2107612 & enero & 29175\\\\\n\t 30 & 2137743 & enero & 28480\\\\\n\t 31 & 2165984 & enero & 26244\\\\\n\\end{tabular}\n",
            "text/plain": [
              "   dia_del_mes total   mes   casos_diarios\n",
              "1   1          1808398 enero  1930        \n",
              "2   2          1810302 enero  1921        \n",
              "3   3          1811297 enero  1005        \n",
              "4   4          1812348 enero  1058        \n",
              "5   5          1814188 enero  1858        \n",
              "6   6          1817300 enero  3134        \n",
              "7   7          1821071 enero  3799        \n",
              "8   8          1825417 enero  4380        \n",
              "9   9          1829437 enero  4064        \n",
              "10 10          1833478 enero  4069        \n",
              "11 11          1837390 enero  3922        \n",
              "12 12          1842218 enero  4847        \n",
              "13 13          1849465 enero  7291        \n",
              "14 14          1857764 enero  8270        \n",
              "15 15          1867101 enero  9284        \n",
              "16 16          1876610 enero  9454        \n",
              "17 17          1885540 enero  8904        \n",
              "18 18          1893115 enero  7533        \n",
              "19 19          1902657 enero  9509        \n",
              "20 20          1916522 enero 12500        \n",
              "21 21          1934204 enero 14757        \n",
              "22 22          1949675 enero 14449        \n",
              "23 23          1965393 enero 13674        \n",
              "24 24          1984190 enero 14780        \n",
              "25 25          2001346 enero 14291        \n",
              "26 26          2020082 enero 18446        \n",
              "27 27          2045874 enero 24037        \n",
              "28 28          2075703 enero 26727        \n",
              "29 29          2107612 enero 29175        \n",
              "30 30          2137743 enero 28480        \n",
              "31 31          2165984 enero 26244        "
            ]
          },
          "metadata": {}
        },
        {
          "output_type": "display_data",
          "data": {
            "text/html": [
              "<table class=\"dataframe\">\n",
              "<caption>A data.frame: 28 × 4</caption>\n",
              "<thead>\n",
              "\t<tr><th scope=col>dia_del_mes</th><th scope=col>total</th><th scope=col>mes</th><th scope=col>casos_diarios</th></tr>\n",
              "\t<tr><th scope=col>&lt;dbl&gt;</th><th scope=col>&lt;dbl&gt;</th><th scope=col>&lt;chr&gt;</th><th scope=col>&lt;dbl&gt;</th></tr>\n",
              "</thead>\n",
              "<tbody>\n",
              "\t<tr><td> 1</td><td>2190561</td><td>febrero</td><td>22192</td></tr>\n",
              "\t<tr><td> 2</td><td>2221276</td><td>febrero</td><td>29844</td></tr>\n",
              "\t<tr><td> 3</td><td>2258005</td><td>febrero</td><td>35197</td></tr>\n",
              "\t<tr><td> 4</td><td>2296712</td><td>febrero</td><td>37468</td></tr>\n",
              "\t<tr><td> 5</td><td>2335034</td><td>febrero</td><td>36297</td></tr>\n",
              "\t<tr><td> 6</td><td>2371833</td><td>febrero</td><td>34328</td></tr>\n",
              "\t<tr><td> 7</td><td>2405672</td><td>febrero</td><td>31063</td></tr>\n",
              "\t<tr><td> 8</td><td>2431845</td><td>febrero</td><td>24970</td></tr>\n",
              "\t<tr><td> 9</td><td>2466098</td><td>febrero</td><td>33362</td></tr>\n",
              "\t<tr><td>10</td><td>2504168</td><td>febrero</td><td>36635</td></tr>\n",
              "\t<tr><td>11</td><td>2545819</td><td>febrero</td><td>38446</td></tr>\n",
              "\t<tr><td>12</td><td>2582934</td><td>febrero</td><td>35841</td></tr>\n",
              "\t<tr><td>13</td><td>2621427</td><td>febrero</td><td>35038</td></tr>\n",
              "\t<tr><td>14</td><td>2652713</td><td>febrero</td><td>28076</td></tr>\n",
              "\t<tr><td>15</td><td>2677692</td><td>febrero</td><td>22845</td></tr>\n",
              "\t<tr><td>16</td><td>2709854</td><td>febrero</td><td>30971</td></tr>\n",
              "\t<tr><td>17</td><td>2747552</td><td>febrero</td><td>35789</td></tr>\n",
              "\t<tr><td>18</td><td>2783458</td><td>febrero</td><td>34117</td></tr>\n",
              "\t<tr><td>19</td><td>2819246</td><td>febrero</td><td>33769</td></tr>\n",
              "\t<tr><td>20</td><td>2851382</td><td>febrero</td><td>30398</td></tr>\n",
              "\t<tr><td>21</td><td>2876455</td><td>febrero</td><td>23254</td></tr>\n",
              "\t<tr><td>22</td><td>2895931</td><td>febrero</td><td>18380</td></tr>\n",
              "\t<tr><td>23</td><td>2921131</td><td>febrero</td><td>24700</td></tr>\n",
              "\t<tr><td>24</td><td>2953895</td><td>febrero</td><td>30675</td></tr>\n",
              "\t<tr><td>25</td><td>2985873</td><td>febrero</td><td>29135</td></tr>\n",
              "\t<tr><td>26</td><td>3015630</td><td>febrero</td><td>27739</td></tr>\n",
              "\t<tr><td>27</td><td>3041400</td><td>febrero</td><td>23821</td></tr>\n",
              "\t<tr><td>28</td><td>3061019</td><td>febrero</td><td>18148</td></tr>\n",
              "</tbody>\n",
              "</table>\n"
            ],
            "text/markdown": "\nA data.frame: 28 × 4\n\n| dia_del_mes &lt;dbl&gt; | total &lt;dbl&gt; | mes &lt;chr&gt; | casos_diarios &lt;dbl&gt; |\n|---|---|---|---|\n|  1 | 2190561 | febrero | 22192 |\n|  2 | 2221276 | febrero | 29844 |\n|  3 | 2258005 | febrero | 35197 |\n|  4 | 2296712 | febrero | 37468 |\n|  5 | 2335034 | febrero | 36297 |\n|  6 | 2371833 | febrero | 34328 |\n|  7 | 2405672 | febrero | 31063 |\n|  8 | 2431845 | febrero | 24970 |\n|  9 | 2466098 | febrero | 33362 |\n| 10 | 2504168 | febrero | 36635 |\n| 11 | 2545819 | febrero | 38446 |\n| 12 | 2582934 | febrero | 35841 |\n| 13 | 2621427 | febrero | 35038 |\n| 14 | 2652713 | febrero | 28076 |\n| 15 | 2677692 | febrero | 22845 |\n| 16 | 2709854 | febrero | 30971 |\n| 17 | 2747552 | febrero | 35789 |\n| 18 | 2783458 | febrero | 34117 |\n| 19 | 2819246 | febrero | 33769 |\n| 20 | 2851382 | febrero | 30398 |\n| 21 | 2876455 | febrero | 23254 |\n| 22 | 2895931 | febrero | 18380 |\n| 23 | 2921131 | febrero | 24700 |\n| 24 | 2953895 | febrero | 30675 |\n| 25 | 2985873 | febrero | 29135 |\n| 26 | 3015630 | febrero | 27739 |\n| 27 | 3041400 | febrero | 23821 |\n| 28 | 3061019 | febrero | 18148 |\n\n",
            "text/latex": "A data.frame: 28 × 4\n\\begin{tabular}{llll}\n dia\\_del\\_mes & total & mes & casos\\_diarios\\\\\n <dbl> & <dbl> & <chr> & <dbl>\\\\\n\\hline\n\t  1 & 2190561 & febrero & 22192\\\\\n\t  2 & 2221276 & febrero & 29844\\\\\n\t  3 & 2258005 & febrero & 35197\\\\\n\t  4 & 2296712 & febrero & 37468\\\\\n\t  5 & 2335034 & febrero & 36297\\\\\n\t  6 & 2371833 & febrero & 34328\\\\\n\t  7 & 2405672 & febrero & 31063\\\\\n\t  8 & 2431845 & febrero & 24970\\\\\n\t  9 & 2466098 & febrero & 33362\\\\\n\t 10 & 2504168 & febrero & 36635\\\\\n\t 11 & 2545819 & febrero & 38446\\\\\n\t 12 & 2582934 & febrero & 35841\\\\\n\t 13 & 2621427 & febrero & 35038\\\\\n\t 14 & 2652713 & febrero & 28076\\\\\n\t 15 & 2677692 & febrero & 22845\\\\\n\t 16 & 2709854 & febrero & 30971\\\\\n\t 17 & 2747552 & febrero & 35789\\\\\n\t 18 & 2783458 & febrero & 34117\\\\\n\t 19 & 2819246 & febrero & 33769\\\\\n\t 20 & 2851382 & febrero & 30398\\\\\n\t 21 & 2876455 & febrero & 23254\\\\\n\t 22 & 2895931 & febrero & 18380\\\\\n\t 23 & 2921131 & febrero & 24700\\\\\n\t 24 & 2953895 & febrero & 30675\\\\\n\t 25 & 2985873 & febrero & 29135\\\\\n\t 26 & 3015630 & febrero & 27739\\\\\n\t 27 & 3041400 & febrero & 23821\\\\\n\t 28 & 3061019 & febrero & 18148\\\\\n\\end{tabular}\n",
            "text/plain": [
              "   dia_del_mes total   mes     casos_diarios\n",
              "1   1          2190561 febrero 22192        \n",
              "2   2          2221276 febrero 29844        \n",
              "3   3          2258005 febrero 35197        \n",
              "4   4          2296712 febrero 37468        \n",
              "5   5          2335034 febrero 36297        \n",
              "6   6          2371833 febrero 34328        \n",
              "7   7          2405672 febrero 31063        \n",
              "8   8          2431845 febrero 24970        \n",
              "9   9          2466098 febrero 33362        \n",
              "10 10          2504168 febrero 36635        \n",
              "11 11          2545819 febrero 38446        \n",
              "12 12          2582934 febrero 35841        \n",
              "13 13          2621427 febrero 35038        \n",
              "14 14          2652713 febrero 28076        \n",
              "15 15          2677692 febrero 22845        \n",
              "16 16          2709854 febrero 30971        \n",
              "17 17          2747552 febrero 35789        \n",
              "18 18          2783458 febrero 34117        \n",
              "19 19          2819246 febrero 33769        \n",
              "20 20          2851382 febrero 30398        \n",
              "21 21          2876455 febrero 23254        \n",
              "22 22          2895931 febrero 18380        \n",
              "23 23          2921131 febrero 24700        \n",
              "24 24          2953895 febrero 30675        \n",
              "25 25          2985873 febrero 29135        \n",
              "26 26          3015630 febrero 27739        \n",
              "27 27          3041400 febrero 23821        \n",
              "28 28          3061019 febrero 18148        "
            ]
          },
          "metadata": {}
        },
        {
          "output_type": "display_data",
          "data": {
            "text/html": [
              "<table class=\"dataframe\">\n",
              "<caption>A data.frame: 31 × 4</caption>\n",
              "<thead>\n",
              "\t<tr><th scope=col>dia_del_mes</th><th scope=col>total</th><th scope=col>mes</th><th scope=col>casos_diarios</th></tr>\n",
              "\t<tr><th scope=col>&lt;dbl&gt;</th><th scope=col>&lt;dbl&gt;</th><th scope=col>&lt;chr&gt;</th><th scope=col>&lt;dbl&gt;</th></tr>\n",
              "</thead>\n",
              "<tbody>\n",
              "\t<tr><td> 1</td><td>3076291</td><td>marzo</td><td>13928</td></tr>\n",
              "\t<tr><td> 2</td><td>3098110</td><td>marzo</td><td>20400</td></tr>\n",
              "\t<tr><td> 3</td><td>3122802</td><td>marzo</td><td>23395</td></tr>\n",
              "\t<tr><td> 4</td><td>3147434</td><td>marzo</td><td>23132</td></tr>\n",
              "\t<tr><td> 5</td><td>3168335</td><td>marzo</td><td>20503</td></tr>\n",
              "\t<tr><td> 6</td><td>3188448</td><td>marzo</td><td>19353</td></tr>\n",
              "\t<tr><td> 7</td><td>3202562</td><td>marzo</td><td>13820</td></tr>\n",
              "\t<tr><td> 8</td><td>3214326</td><td>marzo</td><td>10815</td></tr>\n",
              "\t<tr><td> 9</td><td>3230793</td><td>marzo</td><td>16341</td></tr>\n",
              "\t<tr><td>10</td><td>3249890</td><td>marzo</td><td>18995</td></tr>\n",
              "\t<tr><td>11</td><td>3269062</td><td>marzo</td><td>18326</td></tr>\n",
              "\t<tr><td>12</td><td>3286476</td><td>marzo</td><td>17371</td></tr>\n",
              "\t<tr><td>13</td><td>3301747</td><td>marzo</td><td>15136</td></tr>\n",
              "\t<tr><td>14</td><td>3313242</td><td>marzo</td><td>10650</td></tr>\n",
              "\t<tr><td>15</td><td>3323324</td><td>marzo</td><td> 8716</td></tr>\n",
              "\t<tr><td>16</td><td>3336614</td><td>marzo</td><td>12566</td></tr>\n",
              "\t<tr><td>17</td><td>3353259</td><td>marzo</td><td>15735</td></tr>\n",
              "\t<tr><td>18</td><td>3368704</td><td>marzo</td><td>14525</td></tr>\n",
              "\t<tr><td>19</td><td>3381681</td><td>marzo</td><td>12357</td></tr>\n",
              "\t<tr><td>20</td><td>3392978</td><td>marzo</td><td>10472</td></tr>\n",
              "\t<tr><td>21</td><td>3401145</td><td>marzo</td><td> 7555</td></tr>\n",
              "\t<tr><td>22</td><td>3406540</td><td>marzo</td><td> 5045</td></tr>\n",
              "\t<tr><td>23</td><td>3415989</td><td>marzo</td><td> 8025</td></tr>\n",
              "\t<tr><td>24</td><td>3426147</td><td>marzo</td><td> 9414</td></tr>\n",
              "\t<tr><td>25</td><td>3434908</td><td>marzo</td><td> 8247</td></tr>\n",
              "\t<tr><td>26</td><td>3443018</td><td>marzo</td><td> 7448</td></tr>\n",
              "\t<tr><td>27</td><td>3450094</td><td>marzo</td><td> 6480</td></tr>\n",
              "\t<tr><td>28</td><td>3455060</td><td>marzo</td><td> 4463</td></tr>\n",
              "\t<tr><td>29</td><td>3458499</td><td>marzo</td><td> 3017</td></tr>\n",
              "\t<tr><td>30</td><td>3464425</td><td>marzo</td><td> 5603</td></tr>\n",
              "\t<tr><td>31</td><td>3470936</td><td>marzo</td><td> 6074</td></tr>\n",
              "</tbody>\n",
              "</table>\n"
            ],
            "text/markdown": "\nA data.frame: 31 × 4\n\n| dia_del_mes &lt;dbl&gt; | total &lt;dbl&gt; | mes &lt;chr&gt; | casos_diarios &lt;dbl&gt; |\n|---|---|---|---|\n|  1 | 3076291 | marzo | 13928 |\n|  2 | 3098110 | marzo | 20400 |\n|  3 | 3122802 | marzo | 23395 |\n|  4 | 3147434 | marzo | 23132 |\n|  5 | 3168335 | marzo | 20503 |\n|  6 | 3188448 | marzo | 19353 |\n|  7 | 3202562 | marzo | 13820 |\n|  8 | 3214326 | marzo | 10815 |\n|  9 | 3230793 | marzo | 16341 |\n| 10 | 3249890 | marzo | 18995 |\n| 11 | 3269062 | marzo | 18326 |\n| 12 | 3286476 | marzo | 17371 |\n| 13 | 3301747 | marzo | 15136 |\n| 14 | 3313242 | marzo | 10650 |\n| 15 | 3323324 | marzo |  8716 |\n| 16 | 3336614 | marzo | 12566 |\n| 17 | 3353259 | marzo | 15735 |\n| 18 | 3368704 | marzo | 14525 |\n| 19 | 3381681 | marzo | 12357 |\n| 20 | 3392978 | marzo | 10472 |\n| 21 | 3401145 | marzo |  7555 |\n| 22 | 3406540 | marzo |  5045 |\n| 23 | 3415989 | marzo |  8025 |\n| 24 | 3426147 | marzo |  9414 |\n| 25 | 3434908 | marzo |  8247 |\n| 26 | 3443018 | marzo |  7448 |\n| 27 | 3450094 | marzo |  6480 |\n| 28 | 3455060 | marzo |  4463 |\n| 29 | 3458499 | marzo |  3017 |\n| 30 | 3464425 | marzo |  5603 |\n| 31 | 3470936 | marzo |  6074 |\n\n",
            "text/latex": "A data.frame: 31 × 4\n\\begin{tabular}{llll}\n dia\\_del\\_mes & total & mes & casos\\_diarios\\\\\n <dbl> & <dbl> & <chr> & <dbl>\\\\\n\\hline\n\t  1 & 3076291 & marzo & 13928\\\\\n\t  2 & 3098110 & marzo & 20400\\\\\n\t  3 & 3122802 & marzo & 23395\\\\\n\t  4 & 3147434 & marzo & 23132\\\\\n\t  5 & 3168335 & marzo & 20503\\\\\n\t  6 & 3188448 & marzo & 19353\\\\\n\t  7 & 3202562 & marzo & 13820\\\\\n\t  8 & 3214326 & marzo & 10815\\\\\n\t  9 & 3230793 & marzo & 16341\\\\\n\t 10 & 3249890 & marzo & 18995\\\\\n\t 11 & 3269062 & marzo & 18326\\\\\n\t 12 & 3286476 & marzo & 17371\\\\\n\t 13 & 3301747 & marzo & 15136\\\\\n\t 14 & 3313242 & marzo & 10650\\\\\n\t 15 & 3323324 & marzo &  8716\\\\\n\t 16 & 3336614 & marzo & 12566\\\\\n\t 17 & 3353259 & marzo & 15735\\\\\n\t 18 & 3368704 & marzo & 14525\\\\\n\t 19 & 3381681 & marzo & 12357\\\\\n\t 20 & 3392978 & marzo & 10472\\\\\n\t 21 & 3401145 & marzo &  7555\\\\\n\t 22 & 3406540 & marzo &  5045\\\\\n\t 23 & 3415989 & marzo &  8025\\\\\n\t 24 & 3426147 & marzo &  9414\\\\\n\t 25 & 3434908 & marzo &  8247\\\\\n\t 26 & 3443018 & marzo &  7448\\\\\n\t 27 & 3450094 & marzo &  6480\\\\\n\t 28 & 3455060 & marzo &  4463\\\\\n\t 29 & 3458499 & marzo &  3017\\\\\n\t 30 & 3464425 & marzo &  5603\\\\\n\t 31 & 3470936 & marzo &  6074\\\\\n\\end{tabular}\n",
            "text/plain": [
              "   dia_del_mes total   mes   casos_diarios\n",
              "1   1          3076291 marzo 13928        \n",
              "2   2          3098110 marzo 20400        \n",
              "3   3          3122802 marzo 23395        \n",
              "4   4          3147434 marzo 23132        \n",
              "5   5          3168335 marzo 20503        \n",
              "6   6          3188448 marzo 19353        \n",
              "7   7          3202562 marzo 13820        \n",
              "8   8          3214326 marzo 10815        \n",
              "9   9          3230793 marzo 16341        \n",
              "10 10          3249890 marzo 18995        \n",
              "11 11          3269062 marzo 18326        \n",
              "12 12          3286476 marzo 17371        \n",
              "13 13          3301747 marzo 15136        \n",
              "14 14          3313242 marzo 10650        \n",
              "15 15          3323324 marzo  8716        \n",
              "16 16          3336614 marzo 12566        \n",
              "17 17          3353259 marzo 15735        \n",
              "18 18          3368704 marzo 14525        \n",
              "19 19          3381681 marzo 12357        \n",
              "20 20          3392978 marzo 10472        \n",
              "21 21          3401145 marzo  7555        \n",
              "22 22          3406540 marzo  5045        \n",
              "23 23          3415989 marzo  8025        \n",
              "24 24          3426147 marzo  9414        \n",
              "25 25          3434908 marzo  8247        \n",
              "26 26          3443018 marzo  7448        \n",
              "27 27          3450094 marzo  6480        \n",
              "28 28          3455060 marzo  4463        \n",
              "29 29          3458499 marzo  3017        \n",
              "30 30          3464425 marzo  5603        \n",
              "31 31          3470936 marzo  6074        "
            ]
          },
          "metadata": {}
        },
        {
          "output_type": "display_data",
          "data": {
            "text/html": [
              "<table class=\"dataframe\">\n",
              "<caption>A data.frame: 22 × 4</caption>\n",
              "<thead>\n",
              "\t<tr><th scope=col>dia_del_mes</th><th scope=col>total</th><th scope=col>mes</th><th scope=col>casos_diarios</th></tr>\n",
              "\t<tr><th scope=col>&lt;dbl&gt;</th><th scope=col>&lt;dbl&gt;</th><th scope=col>&lt;chr&gt;</th><th scope=col>&lt;dbl&gt;</th></tr>\n",
              "</thead>\n",
              "<tbody>\n",
              "\t<tr><td> 1</td><td>3476914</td><td>abril</td><td>5564</td></tr>\n",
              "\t<tr><td> 2</td><td>3482175</td><td>abril</td><td>4823</td></tr>\n",
              "\t<tr><td> 3</td><td>3486653</td><td>abril</td><td>4148</td></tr>\n",
              "\t<tr><td> 4</td><td>3489913</td><td>abril</td><td>2711</td></tr>\n",
              "\t<tr><td> 5</td><td>3491962</td><td>abril</td><td>1932</td></tr>\n",
              "\t<tr><td> 6</td><td>3495889</td><td>abril</td><td>3689</td></tr>\n",
              "\t<tr><td> 7</td><td>3500670</td><td>abril</td><td>4432</td></tr>\n",
              "\t<tr><td> 8</td><td>3504783</td><td>abril</td><td>3820</td></tr>\n",
              "\t<tr><td> 9</td><td>3508556</td><td>abril</td><td>3368</td></tr>\n",
              "\t<tr><td>10</td><td>3512020</td><td>abril</td><td>3057</td></tr>\n",
              "\t<tr><td>11</td><td>3514291</td><td>abril</td><td>2209</td></tr>\n",
              "\t<tr><td>12</td><td>3515878</td><td>abril</td><td>1478</td></tr>\n",
              "\t<tr><td>13</td><td>3518800</td><td>abril</td><td>2742</td></tr>\n",
              "\t<tr><td>14</td><td>3522422</td><td>abril</td><td>2937</td></tr>\n",
              "\t<tr><td>15</td><td>3525845</td><td>abril</td><td>2771</td></tr>\n",
              "\t<tr><td>16</td><td>3528626</td><td>abril</td><td>2516</td></tr>\n",
              "\t<tr><td>17</td><td>3530258</td><td>abril</td><td>1424</td></tr>\n",
              "\t<tr><td>18</td><td>3531529</td><td>abril</td><td>1172</td></tr>\n",
              "\t<tr><td>19</td><td>3532649</td><td>abril</td><td>1102</td></tr>\n",
              "\t<tr><td>20</td><td>3535534</td><td>abril</td><td>2515</td></tr>\n",
              "\t<tr><td>21</td><td>3538843</td><td>abril</td><td>2897</td></tr>\n",
              "\t<tr><td>22</td><td>3541792</td><td>abril</td><td>2669</td></tr>\n",
              "</tbody>\n",
              "</table>\n"
            ],
            "text/markdown": "\nA data.frame: 22 × 4\n\n| dia_del_mes &lt;dbl&gt; | total &lt;dbl&gt; | mes &lt;chr&gt; | casos_diarios &lt;dbl&gt; |\n|---|---|---|---|\n|  1 | 3476914 | abril | 5564 |\n|  2 | 3482175 | abril | 4823 |\n|  3 | 3486653 | abril | 4148 |\n|  4 | 3489913 | abril | 2711 |\n|  5 | 3491962 | abril | 1932 |\n|  6 | 3495889 | abril | 3689 |\n|  7 | 3500670 | abril | 4432 |\n|  8 | 3504783 | abril | 3820 |\n|  9 | 3508556 | abril | 3368 |\n| 10 | 3512020 | abril | 3057 |\n| 11 | 3514291 | abril | 2209 |\n| 12 | 3515878 | abril | 1478 |\n| 13 | 3518800 | abril | 2742 |\n| 14 | 3522422 | abril | 2937 |\n| 15 | 3525845 | abril | 2771 |\n| 16 | 3528626 | abril | 2516 |\n| 17 | 3530258 | abril | 1424 |\n| 18 | 3531529 | abril | 1172 |\n| 19 | 3532649 | abril | 1102 |\n| 20 | 3535534 | abril | 2515 |\n| 21 | 3538843 | abril | 2897 |\n| 22 | 3541792 | abril | 2669 |\n\n",
            "text/latex": "A data.frame: 22 × 4\n\\begin{tabular}{llll}\n dia\\_del\\_mes & total & mes & casos\\_diarios\\\\\n <dbl> & <dbl> & <chr> & <dbl>\\\\\n\\hline\n\t  1 & 3476914 & abril & 5564\\\\\n\t  2 & 3482175 & abril & 4823\\\\\n\t  3 & 3486653 & abril & 4148\\\\\n\t  4 & 3489913 & abril & 2711\\\\\n\t  5 & 3491962 & abril & 1932\\\\\n\t  6 & 3495889 & abril & 3689\\\\\n\t  7 & 3500670 & abril & 4432\\\\\n\t  8 & 3504783 & abril & 3820\\\\\n\t  9 & 3508556 & abril & 3368\\\\\n\t 10 & 3512020 & abril & 3057\\\\\n\t 11 & 3514291 & abril & 2209\\\\\n\t 12 & 3515878 & abril & 1478\\\\\n\t 13 & 3518800 & abril & 2742\\\\\n\t 14 & 3522422 & abril & 2937\\\\\n\t 15 & 3525845 & abril & 2771\\\\\n\t 16 & 3528626 & abril & 2516\\\\\n\t 17 & 3530258 & abril & 1424\\\\\n\t 18 & 3531529 & abril & 1172\\\\\n\t 19 & 3532649 & abril & 1102\\\\\n\t 20 & 3535534 & abril & 2515\\\\\n\t 21 & 3538843 & abril & 2897\\\\\n\t 22 & 3541792 & abril & 2669\\\\\n\\end{tabular}\n",
            "text/plain": [
              "   dia_del_mes total   mes   casos_diarios\n",
              "1   1          3476914 abril 5564         \n",
              "2   2          3482175 abril 4823         \n",
              "3   3          3486653 abril 4148         \n",
              "4   4          3489913 abril 2711         \n",
              "5   5          3491962 abril 1932         \n",
              "6   6          3495889 abril 3689         \n",
              "7   7          3500670 abril 4432         \n",
              "8   8          3504783 abril 3820         \n",
              "9   9          3508556 abril 3368         \n",
              "10 10          3512020 abril 3057         \n",
              "11 11          3514291 abril 2209         \n",
              "12 12          3515878 abril 1478         \n",
              "13 13          3518800 abril 2742         \n",
              "14 14          3522422 abril 2937         \n",
              "15 15          3525845 abril 2771         \n",
              "16 16          3528626 abril 2516         \n",
              "17 17          3530258 abril 1424         \n",
              "18 18          3531529 abril 1172         \n",
              "19 19          3532649 abril 1102         \n",
              "20 20          3535534 abril 2515         \n",
              "21 21          3538843 abril 2897         \n",
              "22 22          3541792 abril 2669         "
            ]
          },
          "metadata": {}
        }
      ]
    },
    {
      "cell_type": "markdown",
      "metadata": {
        "id": "PImL58HIw-le"
      },
      "source": [
        "## Pregunta 1.3\n",
        "\n",
        "**3a) (1pts)** Con la ayuda de la función rbind() (también puede usar bind_rows()) , una las filas de las 4 tablas generadas en la pregunta anterior y guarde la tabla resultante en una variable llamada `casos_hist`.<br>\n",
        "**3b) (1pt)** En promedio, ¿Cuántos casos hay diariamente desde el 01 de enero hasta el 22 de abril del 2022?<br>\n",
        "**3c) (2pts)** En promedio, ¿Cuántos casos hay diariamente **en cada mes** ?.<br>\n",
        "\n",
        "\n"
      ]
    },
    {
      "cell_type": "code",
      "metadata": {
        "trusted": true,
        "id": "TnNTW_oUw-le",
        "colab": {
          "base_uri": "https://localhost:8080/",
          "height": 1000
        },
        "outputId": "7af4ad23-94e1-4b7c-b248-757eb67b080d"
      },
      "source": [
        "# P1.3\n",
        "## Respuesta \n",
        "\n",
        " # 3a) Una las filas de las 4 tablas generadas en la pregunta anterior y guarde la tabla resultante en una variable llamada casos_hist.\n",
        "\n",
        " casos_hist <- rbind(totales_enero, totales_febrero, totales_marzo, totales_abril)\n",
        " casos_hist"
      ],
      "execution_count": null,
      "outputs": [
        {
          "output_type": "display_data",
          "data": {
            "text/html": [
              "<table class=\"dataframe\">\n",
              "<caption>A data.frame: 112 × 4</caption>\n",
              "<thead>\n",
              "\t<tr><th scope=col>dia_del_mes</th><th scope=col>total</th><th scope=col>mes</th><th scope=col>casos_diarios</th></tr>\n",
              "\t<tr><th scope=col>&lt;dbl&gt;</th><th scope=col>&lt;dbl&gt;</th><th scope=col>&lt;chr&gt;</th><th scope=col>&lt;dbl&gt;</th></tr>\n",
              "</thead>\n",
              "<tbody>\n",
              "\t<tr><td> 1</td><td>1808398</td><td>enero</td><td> 1930</td></tr>\n",
              "\t<tr><td> 2</td><td>1810302</td><td>enero</td><td> 1921</td></tr>\n",
              "\t<tr><td> 3</td><td>1811297</td><td>enero</td><td> 1005</td></tr>\n",
              "\t<tr><td> 4</td><td>1812348</td><td>enero</td><td> 1058</td></tr>\n",
              "\t<tr><td> 5</td><td>1814188</td><td>enero</td><td> 1858</td></tr>\n",
              "\t<tr><td> 6</td><td>1817300</td><td>enero</td><td> 3134</td></tr>\n",
              "\t<tr><td> 7</td><td>1821071</td><td>enero</td><td> 3799</td></tr>\n",
              "\t<tr><td> 8</td><td>1825417</td><td>enero</td><td> 4380</td></tr>\n",
              "\t<tr><td> 9</td><td>1829437</td><td>enero</td><td> 4064</td></tr>\n",
              "\t<tr><td>10</td><td>1833478</td><td>enero</td><td> 4069</td></tr>\n",
              "\t<tr><td>11</td><td>1837390</td><td>enero</td><td> 3922</td></tr>\n",
              "\t<tr><td>12</td><td>1842218</td><td>enero</td><td> 4847</td></tr>\n",
              "\t<tr><td>13</td><td>1849465</td><td>enero</td><td> 7291</td></tr>\n",
              "\t<tr><td>14</td><td>1857764</td><td>enero</td><td> 8270</td></tr>\n",
              "\t<tr><td>15</td><td>1867101</td><td>enero</td><td> 9284</td></tr>\n",
              "\t<tr><td>16</td><td>1876610</td><td>enero</td><td> 9454</td></tr>\n",
              "\t<tr><td>17</td><td>1885540</td><td>enero</td><td> 8904</td></tr>\n",
              "\t<tr><td>18</td><td>1893115</td><td>enero</td><td> 7533</td></tr>\n",
              "\t<tr><td>19</td><td>1902657</td><td>enero</td><td> 9509</td></tr>\n",
              "\t<tr><td>20</td><td>1916522</td><td>enero</td><td>12500</td></tr>\n",
              "\t<tr><td>21</td><td>1934204</td><td>enero</td><td>14757</td></tr>\n",
              "\t<tr><td>22</td><td>1949675</td><td>enero</td><td>14449</td></tr>\n",
              "\t<tr><td>23</td><td>1965393</td><td>enero</td><td>13674</td></tr>\n",
              "\t<tr><td>24</td><td>1984190</td><td>enero</td><td>14780</td></tr>\n",
              "\t<tr><td>25</td><td>2001346</td><td>enero</td><td>14291</td></tr>\n",
              "\t<tr><td>26</td><td>2020082</td><td>enero</td><td>18446</td></tr>\n",
              "\t<tr><td>27</td><td>2045874</td><td>enero</td><td>24037</td></tr>\n",
              "\t<tr><td>28</td><td>2075703</td><td>enero</td><td>26727</td></tr>\n",
              "\t<tr><td>29</td><td>2107612</td><td>enero</td><td>29175</td></tr>\n",
              "\t<tr><td>30</td><td>2137743</td><td>enero</td><td>28480</td></tr>\n",
              "\t<tr><td>⋮</td><td>⋮</td><td>⋮</td><td>⋮</td></tr>\n",
              "\t<tr><td>24</td><td>3426147</td><td>marzo</td><td>9414</td></tr>\n",
              "\t<tr><td>25</td><td>3434908</td><td>marzo</td><td>8247</td></tr>\n",
              "\t<tr><td>26</td><td>3443018</td><td>marzo</td><td>7448</td></tr>\n",
              "\t<tr><td>27</td><td>3450094</td><td>marzo</td><td>6480</td></tr>\n",
              "\t<tr><td>28</td><td>3455060</td><td>marzo</td><td>4463</td></tr>\n",
              "\t<tr><td>29</td><td>3458499</td><td>marzo</td><td>3017</td></tr>\n",
              "\t<tr><td>30</td><td>3464425</td><td>marzo</td><td>5603</td></tr>\n",
              "\t<tr><td>31</td><td>3470936</td><td>marzo</td><td>6074</td></tr>\n",
              "\t<tr><td> 1</td><td>3476914</td><td>abril</td><td>5564</td></tr>\n",
              "\t<tr><td> 2</td><td>3482175</td><td>abril</td><td>4823</td></tr>\n",
              "\t<tr><td> 3</td><td>3486653</td><td>abril</td><td>4148</td></tr>\n",
              "\t<tr><td> 4</td><td>3489913</td><td>abril</td><td>2711</td></tr>\n",
              "\t<tr><td> 5</td><td>3491962</td><td>abril</td><td>1932</td></tr>\n",
              "\t<tr><td> 6</td><td>3495889</td><td>abril</td><td>3689</td></tr>\n",
              "\t<tr><td> 7</td><td>3500670</td><td>abril</td><td>4432</td></tr>\n",
              "\t<tr><td> 8</td><td>3504783</td><td>abril</td><td>3820</td></tr>\n",
              "\t<tr><td> 9</td><td>3508556</td><td>abril</td><td>3368</td></tr>\n",
              "\t<tr><td>10</td><td>3512020</td><td>abril</td><td>3057</td></tr>\n",
              "\t<tr><td>11</td><td>3514291</td><td>abril</td><td>2209</td></tr>\n",
              "\t<tr><td>12</td><td>3515878</td><td>abril</td><td>1478</td></tr>\n",
              "\t<tr><td>13</td><td>3518800</td><td>abril</td><td>2742</td></tr>\n",
              "\t<tr><td>14</td><td>3522422</td><td>abril</td><td>2937</td></tr>\n",
              "\t<tr><td>15</td><td>3525845</td><td>abril</td><td>2771</td></tr>\n",
              "\t<tr><td>16</td><td>3528626</td><td>abril</td><td>2516</td></tr>\n",
              "\t<tr><td>17</td><td>3530258</td><td>abril</td><td>1424</td></tr>\n",
              "\t<tr><td>18</td><td>3531529</td><td>abril</td><td>1172</td></tr>\n",
              "\t<tr><td>19</td><td>3532649</td><td>abril</td><td>1102</td></tr>\n",
              "\t<tr><td>20</td><td>3535534</td><td>abril</td><td>2515</td></tr>\n",
              "\t<tr><td>21</td><td>3538843</td><td>abril</td><td>2897</td></tr>\n",
              "\t<tr><td>22</td><td>3541792</td><td>abril</td><td>2669</td></tr>\n",
              "</tbody>\n",
              "</table>\n"
            ],
            "text/markdown": "\nA data.frame: 112 × 4\n\n| dia_del_mes &lt;dbl&gt; | total &lt;dbl&gt; | mes &lt;chr&gt; | casos_diarios &lt;dbl&gt; |\n|---|---|---|---|\n|  1 | 1808398 | enero |  1930 |\n|  2 | 1810302 | enero |  1921 |\n|  3 | 1811297 | enero |  1005 |\n|  4 | 1812348 | enero |  1058 |\n|  5 | 1814188 | enero |  1858 |\n|  6 | 1817300 | enero |  3134 |\n|  7 | 1821071 | enero |  3799 |\n|  8 | 1825417 | enero |  4380 |\n|  9 | 1829437 | enero |  4064 |\n| 10 | 1833478 | enero |  4069 |\n| 11 | 1837390 | enero |  3922 |\n| 12 | 1842218 | enero |  4847 |\n| 13 | 1849465 | enero |  7291 |\n| 14 | 1857764 | enero |  8270 |\n| 15 | 1867101 | enero |  9284 |\n| 16 | 1876610 | enero |  9454 |\n| 17 | 1885540 | enero |  8904 |\n| 18 | 1893115 | enero |  7533 |\n| 19 | 1902657 | enero |  9509 |\n| 20 | 1916522 | enero | 12500 |\n| 21 | 1934204 | enero | 14757 |\n| 22 | 1949675 | enero | 14449 |\n| 23 | 1965393 | enero | 13674 |\n| 24 | 1984190 | enero | 14780 |\n| 25 | 2001346 | enero | 14291 |\n| 26 | 2020082 | enero | 18446 |\n| 27 | 2045874 | enero | 24037 |\n| 28 | 2075703 | enero | 26727 |\n| 29 | 2107612 | enero | 29175 |\n| 30 | 2137743 | enero | 28480 |\n| ⋮ | ⋮ | ⋮ | ⋮ |\n| 24 | 3426147 | marzo | 9414 |\n| 25 | 3434908 | marzo | 8247 |\n| 26 | 3443018 | marzo | 7448 |\n| 27 | 3450094 | marzo | 6480 |\n| 28 | 3455060 | marzo | 4463 |\n| 29 | 3458499 | marzo | 3017 |\n| 30 | 3464425 | marzo | 5603 |\n| 31 | 3470936 | marzo | 6074 |\n|  1 | 3476914 | abril | 5564 |\n|  2 | 3482175 | abril | 4823 |\n|  3 | 3486653 | abril | 4148 |\n|  4 | 3489913 | abril | 2711 |\n|  5 | 3491962 | abril | 1932 |\n|  6 | 3495889 | abril | 3689 |\n|  7 | 3500670 | abril | 4432 |\n|  8 | 3504783 | abril | 3820 |\n|  9 | 3508556 | abril | 3368 |\n| 10 | 3512020 | abril | 3057 |\n| 11 | 3514291 | abril | 2209 |\n| 12 | 3515878 | abril | 1478 |\n| 13 | 3518800 | abril | 2742 |\n| 14 | 3522422 | abril | 2937 |\n| 15 | 3525845 | abril | 2771 |\n| 16 | 3528626 | abril | 2516 |\n| 17 | 3530258 | abril | 1424 |\n| 18 | 3531529 | abril | 1172 |\n| 19 | 3532649 | abril | 1102 |\n| 20 | 3535534 | abril | 2515 |\n| 21 | 3538843 | abril | 2897 |\n| 22 | 3541792 | abril | 2669 |\n\n",
            "text/latex": "A data.frame: 112 × 4\n\\begin{tabular}{llll}\n dia\\_del\\_mes & total & mes & casos\\_diarios\\\\\n <dbl> & <dbl> & <chr> & <dbl>\\\\\n\\hline\n\t  1 & 1808398 & enero &  1930\\\\\n\t  2 & 1810302 & enero &  1921\\\\\n\t  3 & 1811297 & enero &  1005\\\\\n\t  4 & 1812348 & enero &  1058\\\\\n\t  5 & 1814188 & enero &  1858\\\\\n\t  6 & 1817300 & enero &  3134\\\\\n\t  7 & 1821071 & enero &  3799\\\\\n\t  8 & 1825417 & enero &  4380\\\\\n\t  9 & 1829437 & enero &  4064\\\\\n\t 10 & 1833478 & enero &  4069\\\\\n\t 11 & 1837390 & enero &  3922\\\\\n\t 12 & 1842218 & enero &  4847\\\\\n\t 13 & 1849465 & enero &  7291\\\\\n\t 14 & 1857764 & enero &  8270\\\\\n\t 15 & 1867101 & enero &  9284\\\\\n\t 16 & 1876610 & enero &  9454\\\\\n\t 17 & 1885540 & enero &  8904\\\\\n\t 18 & 1893115 & enero &  7533\\\\\n\t 19 & 1902657 & enero &  9509\\\\\n\t 20 & 1916522 & enero & 12500\\\\\n\t 21 & 1934204 & enero & 14757\\\\\n\t 22 & 1949675 & enero & 14449\\\\\n\t 23 & 1965393 & enero & 13674\\\\\n\t 24 & 1984190 & enero & 14780\\\\\n\t 25 & 2001346 & enero & 14291\\\\\n\t 26 & 2020082 & enero & 18446\\\\\n\t 27 & 2045874 & enero & 24037\\\\\n\t 28 & 2075703 & enero & 26727\\\\\n\t 29 & 2107612 & enero & 29175\\\\\n\t 30 & 2137743 & enero & 28480\\\\\n\t ⋮ & ⋮ & ⋮ & ⋮\\\\\n\t 24 & 3426147 & marzo & 9414\\\\\n\t 25 & 3434908 & marzo & 8247\\\\\n\t 26 & 3443018 & marzo & 7448\\\\\n\t 27 & 3450094 & marzo & 6480\\\\\n\t 28 & 3455060 & marzo & 4463\\\\\n\t 29 & 3458499 & marzo & 3017\\\\\n\t 30 & 3464425 & marzo & 5603\\\\\n\t 31 & 3470936 & marzo & 6074\\\\\n\t  1 & 3476914 & abril & 5564\\\\\n\t  2 & 3482175 & abril & 4823\\\\\n\t  3 & 3486653 & abril & 4148\\\\\n\t  4 & 3489913 & abril & 2711\\\\\n\t  5 & 3491962 & abril & 1932\\\\\n\t  6 & 3495889 & abril & 3689\\\\\n\t  7 & 3500670 & abril & 4432\\\\\n\t  8 & 3504783 & abril & 3820\\\\\n\t  9 & 3508556 & abril & 3368\\\\\n\t 10 & 3512020 & abril & 3057\\\\\n\t 11 & 3514291 & abril & 2209\\\\\n\t 12 & 3515878 & abril & 1478\\\\\n\t 13 & 3518800 & abril & 2742\\\\\n\t 14 & 3522422 & abril & 2937\\\\\n\t 15 & 3525845 & abril & 2771\\\\\n\t 16 & 3528626 & abril & 2516\\\\\n\t 17 & 3530258 & abril & 1424\\\\\n\t 18 & 3531529 & abril & 1172\\\\\n\t 19 & 3532649 & abril & 1102\\\\\n\t 20 & 3535534 & abril & 2515\\\\\n\t 21 & 3538843 & abril & 2897\\\\\n\t 22 & 3541792 & abril & 2669\\\\\n\\end{tabular}\n",
            "text/plain": [
              "    dia_del_mes total   mes   casos_diarios\n",
              "1    1          1808398 enero  1930        \n",
              "2    2          1810302 enero  1921        \n",
              "3    3          1811297 enero  1005        \n",
              "4    4          1812348 enero  1058        \n",
              "5    5          1814188 enero  1858        \n",
              "6    6          1817300 enero  3134        \n",
              "7    7          1821071 enero  3799        \n",
              "8    8          1825417 enero  4380        \n",
              "9    9          1829437 enero  4064        \n",
              "10  10          1833478 enero  4069        \n",
              "11  11          1837390 enero  3922        \n",
              "12  12          1842218 enero  4847        \n",
              "13  13          1849465 enero  7291        \n",
              "14  14          1857764 enero  8270        \n",
              "15  15          1867101 enero  9284        \n",
              "16  16          1876610 enero  9454        \n",
              "17  17          1885540 enero  8904        \n",
              "18  18          1893115 enero  7533        \n",
              "19  19          1902657 enero  9509        \n",
              "20  20          1916522 enero 12500        \n",
              "21  21          1934204 enero 14757        \n",
              "22  22          1949675 enero 14449        \n",
              "23  23          1965393 enero 13674        \n",
              "24  24          1984190 enero 14780        \n",
              "25  25          2001346 enero 14291        \n",
              "26  26          2020082 enero 18446        \n",
              "27  27          2045874 enero 24037        \n",
              "28  28          2075703 enero 26727        \n",
              "29  29          2107612 enero 29175        \n",
              "30  30          2137743 enero 28480        \n",
              "⋮   ⋮           ⋮       ⋮     ⋮            \n",
              "83  24          3426147 marzo 9414         \n",
              "84  25          3434908 marzo 8247         \n",
              "85  26          3443018 marzo 7448         \n",
              "86  27          3450094 marzo 6480         \n",
              "87  28          3455060 marzo 4463         \n",
              "88  29          3458499 marzo 3017         \n",
              "89  30          3464425 marzo 5603         \n",
              "90  31          3470936 marzo 6074         \n",
              "91   1          3476914 abril 5564         \n",
              "92   2          3482175 abril 4823         \n",
              "93   3          3486653 abril 4148         \n",
              "94   4          3489913 abril 2711         \n",
              "95   5          3491962 abril 1932         \n",
              "96   6          3495889 abril 3689         \n",
              "97   7          3500670 abril 4432         \n",
              "98   8          3504783 abril 3820         \n",
              "99   9          3508556 abril 3368         \n",
              "100 10          3512020 abril 3057         \n",
              "101 11          3514291 abril 2209         \n",
              "102 12          3515878 abril 1478         \n",
              "103 13          3518800 abril 2742         \n",
              "104 14          3522422 abril 2937         \n",
              "105 15          3525845 abril 2771         \n",
              "106 16          3528626 abril 2516         \n",
              "107 17          3530258 abril 1424         \n",
              "108 18          3531529 abril 1172         \n",
              "109 19          3532649 abril 1102         \n",
              "110 20          3535534 abril 2515         \n",
              "111 21          3538843 abril 2897         \n",
              "112 22          3541792 abril 2669         "
            ]
          },
          "metadata": {}
        }
      ]
    },
    {
      "cell_type": "code",
      "source": [
        "# 3b) En promedio, ¿Cuántos casos hay diariamente desde el 01 de enero hasta el 22 de abril del 2022?\n",
        "\n",
        "#Opción 1\n",
        "mean(casos_hist$casos_diarios) \n",
        "\n",
        "#Opción 2\n",
        "sum(casos_hist$casos_diarios)/nrow(casos_hist)"
      ],
      "metadata": {
        "colab": {
          "base_uri": "https://localhost:8080/",
          "height": 52
        },
        "id": "ifxwHpdLZfZ4",
        "outputId": "a5863f0e-498d-42d8-bb71-a45d947e8ee6"
      },
      "execution_count": null,
      "outputs": [
        {
          "output_type": "display_data",
          "data": {
            "text/html": [
              "14537.2589285714"
            ],
            "text/markdown": "14537.2589285714",
            "text/latex": "14537.2589285714",
            "text/plain": [
              "[1] 14537.26"
            ]
          },
          "metadata": {}
        },
        {
          "output_type": "display_data",
          "data": {
            "text/html": [
              "14537.2589285714"
            ],
            "text/markdown": "14537.2589285714",
            "text/latex": "14537.2589285714",
            "text/plain": [
              "[1] 14537.26"
            ]
          },
          "metadata": {}
        }
      ]
    },
    {
      "cell_type": "code",
      "source": [
        "# 3c) En promedio, ¿Cuántos casos hay diariamente en cada mes?\n",
        "\n",
        "list(promedio_enero = mean(totales_enero$casos_diarios),\n",
        "  promedio_febrero = mean(totales_febrero$casos_diarios),\n",
        "  promedio_marzo = mean(totales_marzo$casos_diarios),\n",
        "  promedio_abril = mean(totales_abril$casos_diarios))"
      ],
      "metadata": {
        "colab": {
          "base_uri": "https://localhost:8080/",
          "height": 184
        },
        "id": "Kv6bDGSBZwWe",
        "outputId": "cbf30d7d-37ff-4a2d-b887-8c3b19f166b9"
      },
      "execution_count": null,
      "outputs": [
        {
          "output_type": "display_data",
          "data": {
            "text/html": [
              "<dl>\n",
              "\t<dt>$promedio_enero</dt>\n",
              "\t\t<dd>10767.4838709677</dd>\n",
              "\t<dt>$promedio_febrero</dt>\n",
              "\t\t<dd>30089.2142857143</dd>\n",
              "\t<dt>$promedio_marzo</dt>\n",
              "\t\t<dd>12513.1290322581</dd>\n",
              "\t<dt>$promedio_abril</dt>\n",
              "\t\t<dd>2908</dd>\n",
              "</dl>\n"
            ],
            "text/markdown": "$promedio_enero\n:   10767.4838709677\n$promedio_febrero\n:   30089.2142857143\n$promedio_marzo\n:   12513.1290322581\n$promedio_abril\n:   2908\n\n\n",
            "text/latex": "\\begin{description}\n\\item[\\$promedio\\_enero] 10767.4838709677\n\\item[\\$promedio\\_febrero] 30089.2142857143\n\\item[\\$promedio\\_marzo] 12513.1290322581\n\\item[\\$promedio\\_abril] 2908\n\\end{description}\n",
            "text/plain": [
              "$promedio_enero\n",
              "[1] 10767.48\n",
              "\n",
              "$promedio_febrero\n",
              "[1] 30089.21\n",
              "\n",
              "$promedio_marzo\n",
              "[1] 12513.13\n",
              "\n",
              "$promedio_abril\n",
              "[1] 2908\n"
            ]
          },
          "metadata": {}
        }
      ]
    },
    {
      "cell_type": "markdown",
      "metadata": {
        "id": "NE8I2vkrw-lg"
      },
      "source": [
        "# Sección 2\n",
        "\n",
        "La siguiente celda de código permitirá cargar en su sesión de trabajo los siguientes vectores:\n",
        "* `temp_h`: Contiene el registro de la temperatura para una muestra de 650 hombres escogidos al azar.\n",
        "* `temp_m`: Contiene el registro de la temperatura para una muestra de 580 mujeres escogidas al azar.\n",
        "\n",
        "\n",
        "En ambos vectores, **los identificadores (id) de cada persona están contenidos en el atributo `names()`** del vector respectivo."
      ]
    },
    {
      "cell_type": "markdown",
      "metadata": {
        "id": "VsA3r8thw-lj"
      },
      "source": [
        "##  Pregunta 2.1\n",
        "\n",
        "**P1) (4pts)** A partir de los dos vectores cargados `temp_h` y `temp_m` ustred deberá crear un data.frame llamado **`casos`** con tres columnas y un total de 1230 filas. Las columnas deben ser las siguientes; una con el id del registro, otra con el género y otra con la temperatura registrada. A modo de ejemplo, a continuación se muestra como debería quedar el data.frame:\n",
        "\n",
        "\n",
        "|id | genero | temperatura|\n",
        "|---|---|---|\n",
        "| h_162 | hombre | 36.8 |\n",
        "| h_140 | hombre | 38.7 |\n",
        "| h_13  | hombre | 36.1 |\n",
        "| $\\vdots$| $\\vdots$ | $\\vdots$|\n",
        "| m_16  | mujer | 39.1 |\n",
        "| m_502 | mujer | 40.1 |\n",
        "| m_189 | mujer | 36.8 |"
      ]
    },
    {
      "cell_type": "code",
      "metadata": {
        "trusted": true,
        "id": "61hbP6XZw-lk",
        "colab": {
          "base_uri": "https://localhost:8080/",
          "height": 1000
        },
        "outputId": "a6beae86-f090-42e0-d019-c4081d5017b9"
      },
      "source": [
        "# P2.1. ---------------------------------------------------------------------\n",
        "## Respuesta:\n",
        "\n",
        "temp_h <- readRDS(\"/content/temp_h.rds\")\n",
        "temp_m <- readRDS(\"/content/temp_m.rds\")\n",
        "\n",
        "temp_hmb <- data.frame(id = names(temp_h), genero = \"hombre\", temperatura = temp_h)\n",
        "temp_mjr <- data.frame(id = names(temp_m), genero = \"mujer\", temperatura = temp_m)\n",
        "\n",
        "\n",
        "casos <- rbind(temp_hmb, temp_mjr)\n",
        "rownames(casos) <- paste0(\"caso_\",1:1230) #No fue solicitado, pero da un plus en el data frame\n",
        "\n",
        "casos"
      ],
      "execution_count": null,
      "outputs": [
        {
          "output_type": "display_data",
          "data": {
            "text/html": [
              "<table class=\"dataframe\">\n",
              "<caption>A data.frame: 1230 × 3</caption>\n",
              "<thead>\n",
              "\t<tr><th></th><th scope=col>id</th><th scope=col>genero</th><th scope=col>temperatura</th></tr>\n",
              "\t<tr><th></th><th scope=col>&lt;chr&gt;</th><th scope=col>&lt;chr&gt;</th><th scope=col>&lt;dbl&gt;</th></tr>\n",
              "</thead>\n",
              "<tbody>\n",
              "\t<tr><th scope=row>caso_1</th><td>h_377</td><td>hombre</td><td>39.32619</td></tr>\n",
              "\t<tr><th scope=row>caso_2</th><td>h_28 </td><td>hombre</td><td>36.52849</td></tr>\n",
              "\t<tr><th scope=row>caso_3</th><td>h_20 </td><td>hombre</td><td>36.97699</td></tr>\n",
              "\t<tr><th scope=row>caso_4</th><td>h_491</td><td>hombre</td><td>39.26491</td></tr>\n",
              "\t<tr><th scope=row>caso_5</th><td>h_403</td><td>hombre</td><td>36.19782</td></tr>\n",
              "\t<tr><th scope=row>caso_6</th><td>h_128</td><td>hombre</td><td>36.47809</td></tr>\n",
              "\t<tr><th scope=row>caso_7</th><td>h_600</td><td>hombre</td><td>35.85077</td></tr>\n",
              "\t<tr><th scope=row>caso_8</th><td>h_402</td><td>hombre</td><td>35.77059</td></tr>\n",
              "\t<tr><th scope=row>caso_9</th><td>h_64 </td><td>hombre</td><td>38.39027</td></tr>\n",
              "\t<tr><th scope=row>caso_10</th><td>h_473</td><td>hombre</td><td>36.94031</td></tr>\n",
              "\t<tr><th scope=row>caso_11</th><td>h_633</td><td>hombre</td><td>36.29565</td></tr>\n",
              "\t<tr><th scope=row>caso_12</th><td>h_540</td><td>hombre</td><td>38.18633</td></tr>\n",
              "\t<tr><th scope=row>caso_13</th><td>h_429</td><td>hombre</td><td>36.05868</td></tr>\n",
              "\t<tr><th scope=row>caso_14</th><td>h_253</td><td>hombre</td><td>38.06187</td></tr>\n",
              "\t<tr><th scope=row>caso_15</th><td>h_75 </td><td>hombre</td><td>36.95333</td></tr>\n",
              "\t<tr><th scope=row>caso_16</th><td>h_514</td><td>hombre</td><td>38.52378</td></tr>\n",
              "\t<tr><th scope=row>caso_17</th><td>h_231</td><td>hombre</td><td>35.74277</td></tr>\n",
              "\t<tr><th scope=row>caso_18</th><td>h_16 </td><td>hombre</td><td>41.06936</td></tr>\n",
              "\t<tr><th scope=row>caso_19</th><td>h_84 </td><td>hombre</td><td>38.62839</td></tr>\n",
              "\t<tr><th scope=row>caso_20</th><td>h_348</td><td>hombre</td><td>35.82393</td></tr>\n",
              "\t<tr><th scope=row>caso_21</th><td>h_338</td><td>hombre</td><td>35.65520</td></tr>\n",
              "\t<tr><th scope=row>caso_22</th><td>h_60 </td><td>hombre</td><td>37.79450</td></tr>\n",
              "\t<tr><th scope=row>caso_23</th><td>h_415</td><td>hombre</td><td>38.00586</td></tr>\n",
              "\t<tr><th scope=row>caso_24</th><td>h_344</td><td>hombre</td><td>36.71711</td></tr>\n",
              "\t<tr><th scope=row>caso_25</th><td>h_115</td><td>hombre</td><td>35.70526</td></tr>\n",
              "\t<tr><th scope=row>caso_26</th><td>h_355</td><td>hombre</td><td>35.64720</td></tr>\n",
              "\t<tr><th scope=row>caso_27</th><td>h_523</td><td>hombre</td><td>36.39534</td></tr>\n",
              "\t<tr><th scope=row>caso_28</th><td>h_189</td><td>hombre</td><td>37.45506</td></tr>\n",
              "\t<tr><th scope=row>caso_29</th><td>h_143</td><td>hombre</td><td>37.64950</td></tr>\n",
              "\t<tr><th scope=row>caso_30</th><td>h_468</td><td>hombre</td><td>36.89740</td></tr>\n",
              "\t<tr><th scope=row>⋮</th><td>⋮</td><td>⋮</td><td>⋮</td></tr>\n",
              "\t<tr><th scope=row>caso_1201</th><td>m_529</td><td>mujer</td><td>38.48144</td></tr>\n",
              "\t<tr><th scope=row>caso_1202</th><td>m_460</td><td>mujer</td><td>36.17130</td></tr>\n",
              "\t<tr><th scope=row>caso_1203</th><td>m_374</td><td>mujer</td><td>37.56965</td></tr>\n",
              "\t<tr><th scope=row>caso_1204</th><td>m_166</td><td>mujer</td><td>36.56824</td></tr>\n",
              "\t<tr><th scope=row>caso_1205</th><td>m_23 </td><td>mujer</td><td>36.22640</td></tr>\n",
              "\t<tr><th scope=row>caso_1206</th><td>m_282</td><td>mujer</td><td>36.89106</td></tr>\n",
              "\t<tr><th scope=row>caso_1207</th><td>m_191</td><td>mujer</td><td>36.85213</td></tr>\n",
              "\t<tr><th scope=row>caso_1208</th><td>m_567</td><td>mujer</td><td>35.66216</td></tr>\n",
              "\t<tr><th scope=row>caso_1209</th><td>m_553</td><td>mujer</td><td>36.67180</td></tr>\n",
              "\t<tr><th scope=row>caso_1210</th><td>m_376</td><td>mujer</td><td>36.72666</td></tr>\n",
              "\t<tr><th scope=row>caso_1211</th><td>m_7  </td><td>mujer</td><td>37.83369</td></tr>\n",
              "\t<tr><th scope=row>caso_1212</th><td>m_568</td><td>mujer</td><td>36.52582</td></tr>\n",
              "\t<tr><th scope=row>caso_1213</th><td>m_194</td><td>mujer</td><td>36.75482</td></tr>\n",
              "\t<tr><th scope=row>caso_1214</th><td>m_244</td><td>mujer</td><td>37.88480</td></tr>\n",
              "\t<tr><th scope=row>caso_1215</th><td>m_396</td><td>mujer</td><td>37.78936</td></tr>\n",
              "\t<tr><th scope=row>caso_1216</th><td>m_278</td><td>mujer</td><td>37.15172</td></tr>\n",
              "\t<tr><th scope=row>caso_1217</th><td>m_273</td><td>mujer</td><td>35.61317</td></tr>\n",
              "\t<tr><th scope=row>caso_1218</th><td>m_291</td><td>mujer</td><td>38.68882</td></tr>\n",
              "\t<tr><th scope=row>caso_1219</th><td>m_438</td><td>mujer</td><td>36.87731</td></tr>\n",
              "\t<tr><th scope=row>caso_1220</th><td>m_189</td><td>mujer</td><td>37.18911</td></tr>\n",
              "\t<tr><th scope=row>caso_1221</th><td>m_525</td><td>mujer</td><td>38.15172</td></tr>\n",
              "\t<tr><th scope=row>caso_1222</th><td>m_145</td><td>mujer</td><td>36.41734</td></tr>\n",
              "\t<tr><th scope=row>caso_1223</th><td>m_544</td><td>mujer</td><td>36.15553</td></tr>\n",
              "\t<tr><th scope=row>caso_1224</th><td>m_474</td><td>mujer</td><td>37.09358</td></tr>\n",
              "\t<tr><th scope=row>caso_1225</th><td>m_55 </td><td>mujer</td><td>35.96110</td></tr>\n",
              "\t<tr><th scope=row>caso_1226</th><td>m_192</td><td>mujer</td><td>39.17966</td></tr>\n",
              "\t<tr><th scope=row>caso_1227</th><td>m_436</td><td>mujer</td><td>38.47477</td></tr>\n",
              "\t<tr><th scope=row>caso_1228</th><td>m_415</td><td>mujer</td><td>36.80741</td></tr>\n",
              "\t<tr><th scope=row>caso_1229</th><td>m_403</td><td>mujer</td><td>37.40099</td></tr>\n",
              "\t<tr><th scope=row>caso_1230</th><td>m_452</td><td>mujer</td><td>35.69154</td></tr>\n",
              "</tbody>\n",
              "</table>\n"
            ],
            "text/markdown": "\nA data.frame: 1230 × 3\n\n| <!--/--> | id &lt;chr&gt; | genero &lt;chr&gt; | temperatura &lt;dbl&gt; |\n|---|---|---|---|\n| caso_1 | h_377 | hombre | 39.32619 |\n| caso_2 | h_28  | hombre | 36.52849 |\n| caso_3 | h_20  | hombre | 36.97699 |\n| caso_4 | h_491 | hombre | 39.26491 |\n| caso_5 | h_403 | hombre | 36.19782 |\n| caso_6 | h_128 | hombre | 36.47809 |\n| caso_7 | h_600 | hombre | 35.85077 |\n| caso_8 | h_402 | hombre | 35.77059 |\n| caso_9 | h_64  | hombre | 38.39027 |\n| caso_10 | h_473 | hombre | 36.94031 |\n| caso_11 | h_633 | hombre | 36.29565 |\n| caso_12 | h_540 | hombre | 38.18633 |\n| caso_13 | h_429 | hombre | 36.05868 |\n| caso_14 | h_253 | hombre | 38.06187 |\n| caso_15 | h_75  | hombre | 36.95333 |\n| caso_16 | h_514 | hombre | 38.52378 |\n| caso_17 | h_231 | hombre | 35.74277 |\n| caso_18 | h_16  | hombre | 41.06936 |\n| caso_19 | h_84  | hombre | 38.62839 |\n| caso_20 | h_348 | hombre | 35.82393 |\n| caso_21 | h_338 | hombre | 35.65520 |\n| caso_22 | h_60  | hombre | 37.79450 |\n| caso_23 | h_415 | hombre | 38.00586 |\n| caso_24 | h_344 | hombre | 36.71711 |\n| caso_25 | h_115 | hombre | 35.70526 |\n| caso_26 | h_355 | hombre | 35.64720 |\n| caso_27 | h_523 | hombre | 36.39534 |\n| caso_28 | h_189 | hombre | 37.45506 |\n| caso_29 | h_143 | hombre | 37.64950 |\n| caso_30 | h_468 | hombre | 36.89740 |\n| ⋮ | ⋮ | ⋮ | ⋮ |\n| caso_1201 | m_529 | mujer | 38.48144 |\n| caso_1202 | m_460 | mujer | 36.17130 |\n| caso_1203 | m_374 | mujer | 37.56965 |\n| caso_1204 | m_166 | mujer | 36.56824 |\n| caso_1205 | m_23  | mujer | 36.22640 |\n| caso_1206 | m_282 | mujer | 36.89106 |\n| caso_1207 | m_191 | mujer | 36.85213 |\n| caso_1208 | m_567 | mujer | 35.66216 |\n| caso_1209 | m_553 | mujer | 36.67180 |\n| caso_1210 | m_376 | mujer | 36.72666 |\n| caso_1211 | m_7   | mujer | 37.83369 |\n| caso_1212 | m_568 | mujer | 36.52582 |\n| caso_1213 | m_194 | mujer | 36.75482 |\n| caso_1214 | m_244 | mujer | 37.88480 |\n| caso_1215 | m_396 | mujer | 37.78936 |\n| caso_1216 | m_278 | mujer | 37.15172 |\n| caso_1217 | m_273 | mujer | 35.61317 |\n| caso_1218 | m_291 | mujer | 38.68882 |\n| caso_1219 | m_438 | mujer | 36.87731 |\n| caso_1220 | m_189 | mujer | 37.18911 |\n| caso_1221 | m_525 | mujer | 38.15172 |\n| caso_1222 | m_145 | mujer | 36.41734 |\n| caso_1223 | m_544 | mujer | 36.15553 |\n| caso_1224 | m_474 | mujer | 37.09358 |\n| caso_1225 | m_55  | mujer | 35.96110 |\n| caso_1226 | m_192 | mujer | 39.17966 |\n| caso_1227 | m_436 | mujer | 38.47477 |\n| caso_1228 | m_415 | mujer | 36.80741 |\n| caso_1229 | m_403 | mujer | 37.40099 |\n| caso_1230 | m_452 | mujer | 35.69154 |\n\n",
            "text/latex": "A data.frame: 1230 × 3\n\\begin{tabular}{r|lll}\n  & id & genero & temperatura\\\\\n  & <chr> & <chr> & <dbl>\\\\\n\\hline\n\tcaso\\_1 & h\\_377 & hombre & 39.32619\\\\\n\tcaso\\_2 & h\\_28  & hombre & 36.52849\\\\\n\tcaso\\_3 & h\\_20  & hombre & 36.97699\\\\\n\tcaso\\_4 & h\\_491 & hombre & 39.26491\\\\\n\tcaso\\_5 & h\\_403 & hombre & 36.19782\\\\\n\tcaso\\_6 & h\\_128 & hombre & 36.47809\\\\\n\tcaso\\_7 & h\\_600 & hombre & 35.85077\\\\\n\tcaso\\_8 & h\\_402 & hombre & 35.77059\\\\\n\tcaso\\_9 & h\\_64  & hombre & 38.39027\\\\\n\tcaso\\_10 & h\\_473 & hombre & 36.94031\\\\\n\tcaso\\_11 & h\\_633 & hombre & 36.29565\\\\\n\tcaso\\_12 & h\\_540 & hombre & 38.18633\\\\\n\tcaso\\_13 & h\\_429 & hombre & 36.05868\\\\\n\tcaso\\_14 & h\\_253 & hombre & 38.06187\\\\\n\tcaso\\_15 & h\\_75  & hombre & 36.95333\\\\\n\tcaso\\_16 & h\\_514 & hombre & 38.52378\\\\\n\tcaso\\_17 & h\\_231 & hombre & 35.74277\\\\\n\tcaso\\_18 & h\\_16  & hombre & 41.06936\\\\\n\tcaso\\_19 & h\\_84  & hombre & 38.62839\\\\\n\tcaso\\_20 & h\\_348 & hombre & 35.82393\\\\\n\tcaso\\_21 & h\\_338 & hombre & 35.65520\\\\\n\tcaso\\_22 & h\\_60  & hombre & 37.79450\\\\\n\tcaso\\_23 & h\\_415 & hombre & 38.00586\\\\\n\tcaso\\_24 & h\\_344 & hombre & 36.71711\\\\\n\tcaso\\_25 & h\\_115 & hombre & 35.70526\\\\\n\tcaso\\_26 & h\\_355 & hombre & 35.64720\\\\\n\tcaso\\_27 & h\\_523 & hombre & 36.39534\\\\\n\tcaso\\_28 & h\\_189 & hombre & 37.45506\\\\\n\tcaso\\_29 & h\\_143 & hombre & 37.64950\\\\\n\tcaso\\_30 & h\\_468 & hombre & 36.89740\\\\\n\t⋮ & ⋮ & ⋮ & ⋮\\\\\n\tcaso\\_1201 & m\\_529 & mujer & 38.48144\\\\\n\tcaso\\_1202 & m\\_460 & mujer & 36.17130\\\\\n\tcaso\\_1203 & m\\_374 & mujer & 37.56965\\\\\n\tcaso\\_1204 & m\\_166 & mujer & 36.56824\\\\\n\tcaso\\_1205 & m\\_23  & mujer & 36.22640\\\\\n\tcaso\\_1206 & m\\_282 & mujer & 36.89106\\\\\n\tcaso\\_1207 & m\\_191 & mujer & 36.85213\\\\\n\tcaso\\_1208 & m\\_567 & mujer & 35.66216\\\\\n\tcaso\\_1209 & m\\_553 & mujer & 36.67180\\\\\n\tcaso\\_1210 & m\\_376 & mujer & 36.72666\\\\\n\tcaso\\_1211 & m\\_7   & mujer & 37.83369\\\\\n\tcaso\\_1212 & m\\_568 & mujer & 36.52582\\\\\n\tcaso\\_1213 & m\\_194 & mujer & 36.75482\\\\\n\tcaso\\_1214 & m\\_244 & mujer & 37.88480\\\\\n\tcaso\\_1215 & m\\_396 & mujer & 37.78936\\\\\n\tcaso\\_1216 & m\\_278 & mujer & 37.15172\\\\\n\tcaso\\_1217 & m\\_273 & mujer & 35.61317\\\\\n\tcaso\\_1218 & m\\_291 & mujer & 38.68882\\\\\n\tcaso\\_1219 & m\\_438 & mujer & 36.87731\\\\\n\tcaso\\_1220 & m\\_189 & mujer & 37.18911\\\\\n\tcaso\\_1221 & m\\_525 & mujer & 38.15172\\\\\n\tcaso\\_1222 & m\\_145 & mujer & 36.41734\\\\\n\tcaso\\_1223 & m\\_544 & mujer & 36.15553\\\\\n\tcaso\\_1224 & m\\_474 & mujer & 37.09358\\\\\n\tcaso\\_1225 & m\\_55  & mujer & 35.96110\\\\\n\tcaso\\_1226 & m\\_192 & mujer & 39.17966\\\\\n\tcaso\\_1227 & m\\_436 & mujer & 38.47477\\\\\n\tcaso\\_1228 & m\\_415 & mujer & 36.80741\\\\\n\tcaso\\_1229 & m\\_403 & mujer & 37.40099\\\\\n\tcaso\\_1230 & m\\_452 & mujer & 35.69154\\\\\n\\end{tabular}\n",
            "text/plain": [
              "          id    genero temperatura\n",
              "caso_1    h_377 hombre 39.32619   \n",
              "caso_2    h_28  hombre 36.52849   \n",
              "caso_3    h_20  hombre 36.97699   \n",
              "caso_4    h_491 hombre 39.26491   \n",
              "caso_5    h_403 hombre 36.19782   \n",
              "caso_6    h_128 hombre 36.47809   \n",
              "caso_7    h_600 hombre 35.85077   \n",
              "caso_8    h_402 hombre 35.77059   \n",
              "caso_9    h_64  hombre 38.39027   \n",
              "caso_10   h_473 hombre 36.94031   \n",
              "caso_11   h_633 hombre 36.29565   \n",
              "caso_12   h_540 hombre 38.18633   \n",
              "caso_13   h_429 hombre 36.05868   \n",
              "caso_14   h_253 hombre 38.06187   \n",
              "caso_15   h_75  hombre 36.95333   \n",
              "caso_16   h_514 hombre 38.52378   \n",
              "caso_17   h_231 hombre 35.74277   \n",
              "caso_18   h_16  hombre 41.06936   \n",
              "caso_19   h_84  hombre 38.62839   \n",
              "caso_20   h_348 hombre 35.82393   \n",
              "caso_21   h_338 hombre 35.65520   \n",
              "caso_22   h_60  hombre 37.79450   \n",
              "caso_23   h_415 hombre 38.00586   \n",
              "caso_24   h_344 hombre 36.71711   \n",
              "caso_25   h_115 hombre 35.70526   \n",
              "caso_26   h_355 hombre 35.64720   \n",
              "caso_27   h_523 hombre 36.39534   \n",
              "caso_28   h_189 hombre 37.45506   \n",
              "caso_29   h_143 hombre 37.64950   \n",
              "caso_30   h_468 hombre 36.89740   \n",
              "⋮         ⋮     ⋮      ⋮          \n",
              "caso_1201 m_529 mujer  38.48144   \n",
              "caso_1202 m_460 mujer  36.17130   \n",
              "caso_1203 m_374 mujer  37.56965   \n",
              "caso_1204 m_166 mujer  36.56824   \n",
              "caso_1205 m_23  mujer  36.22640   \n",
              "caso_1206 m_282 mujer  36.89106   \n",
              "caso_1207 m_191 mujer  36.85213   \n",
              "caso_1208 m_567 mujer  35.66216   \n",
              "caso_1209 m_553 mujer  36.67180   \n",
              "caso_1210 m_376 mujer  36.72666   \n",
              "caso_1211 m_7   mujer  37.83369   \n",
              "caso_1212 m_568 mujer  36.52582   \n",
              "caso_1213 m_194 mujer  36.75482   \n",
              "caso_1214 m_244 mujer  37.88480   \n",
              "caso_1215 m_396 mujer  37.78936   \n",
              "caso_1216 m_278 mujer  37.15172   \n",
              "caso_1217 m_273 mujer  35.61317   \n",
              "caso_1218 m_291 mujer  38.68882   \n",
              "caso_1219 m_438 mujer  36.87731   \n",
              "caso_1220 m_189 mujer  37.18911   \n",
              "caso_1221 m_525 mujer  38.15172   \n",
              "caso_1222 m_145 mujer  36.41734   \n",
              "caso_1223 m_544 mujer  36.15553   \n",
              "caso_1224 m_474 mujer  37.09358   \n",
              "caso_1225 m_55  mujer  35.96110   \n",
              "caso_1226 m_192 mujer  39.17966   \n",
              "caso_1227 m_436 mujer  38.47477   \n",
              "caso_1228 m_415 mujer  36.80741   \n",
              "caso_1229 m_403 mujer  37.40099   \n",
              "caso_1230 m_452 mujer  35.69154   "
            ]
          },
          "metadata": {}
        }
      ]
    },
    {
      "cell_type": "markdown",
      "metadata": {
        "id": "8E8M86XJw-lm"
      },
      "source": [
        "## Pregunta 2.2\n",
        "\n",
        "Adicionalmente, se cuenta con la información de síntomas presentados por cada presona registrada. Esta información se encuentra disponible en el archivo `sintomas.rds`.\n",
        "\n",
        "**2a) (1pt)** Cargue el archivo `sintomas.rds` en una variable llamada _sintomas_.<br>\n",
        "**2b) (1pt)** ¿Cuál es la clase de este objeto?.<br>\n",
        "**2c) (1pt)** Note que cada fila undica con un 1 si la persona presentó el respectivo síntoma y 0 si no. ¿Qué sintomas presentó la persona ubicada en el registro 450?.<br>\n",
        "**2d) (2pts)** ¿Qué síntomas y qué temperatura presentó la persona con id \"h_537\"?. Si es le es de utilidad puede utilizar la función `rownames()`, la cual permite obtener los nombres (id) de las filas de una matriz.<br>\n",
        "\n"
      ]
    },
    {
      "cell_type": "code",
      "metadata": {
        "trusted": true,
        "id": "k6PDfNW-w-ln"
      },
      "source": [
        "# P2 .2\n",
        "## Respuestas:\n",
        "\n",
        "# 2a) Cargue el archivo sintomas.rds en una variable llamada sintomas.\n",
        "sintomas <- readRDS(\"/content/sintomas.rds\")"
      ],
      "execution_count": null,
      "outputs": []
    },
    {
      "cell_type": "code",
      "source": [
        "# 2b) ¿Cuál es la clase de este objeto?\n",
        "class(sintomas)"
      ],
      "metadata": {
        "colab": {
          "base_uri": "https://localhost:8080/",
          "height": 34
        },
        "id": "wCslRQZqnTcH",
        "outputId": "e5efeb3c-0b49-4f45-e507-79a409a025b4"
      },
      "execution_count": null,
      "outputs": [
        {
          "output_type": "display_data",
          "data": {
            "text/html": [
              "<style>\n",
              ".list-inline {list-style: none; margin:0; padding: 0}\n",
              ".list-inline>li {display: inline-block}\n",
              ".list-inline>li:not(:last-child)::after {content: \"\\00b7\"; padding: 0 .5ex}\n",
              "</style>\n",
              "<ol class=list-inline><li>'matrix'</li><li>'array'</li></ol>\n"
            ],
            "text/markdown": "1. 'matrix'\n2. 'array'\n\n\n",
            "text/latex": "\\begin{enumerate*}\n\\item 'matrix'\n\\item 'array'\n\\end{enumerate*}\n",
            "text/plain": [
              "[1] \"matrix\" \"array\" "
            ]
          },
          "metadata": {}
        }
      ]
    },
    {
      "cell_type": "code",
      "source": [
        "# 2c) ¿Qué sintomas presentó la persona ubicada en el registro 450?\n",
        "\n",
        "sintomas[450,2:5]\n"
      ],
      "metadata": {
        "colab": {
          "base_uri": "https://localhost:8080/",
          "height": 34
        },
        "id": "MjHmMixJvcR7",
        "outputId": "ed0f2c3c-b7f9-4e68-bce3-8211e241a3ee"
      },
      "execution_count": null,
      "outputs": [
        {
          "output_type": "display_data",
          "data": {
            "text/html": [
              "<style>\n",
              ".dl-inline {width: auto; margin:0; padding: 0}\n",
              ".dl-inline>dt, .dl-inline>dd {float: none; width: auto; display: inline-block}\n",
              ".dl-inline>dt::after {content: \":\\0020\"; padding-right: .5ex}\n",
              ".dl-inline>dt:not(:first-of-type) {padding-left: .5ex}\n",
              "</style><dl class=dl-inline><dt>tiene_tos</dt><dd>1</dd><dt>tiene_dolor_cabeza</dt><dd>1</dd><dt>tiene_perdida_olfato</dt><dd>1</dd><dt>tiene_dolor_pecho</dt><dd>1</dd></dl>\n"
            ],
            "text/markdown": "tiene_tos\n:   1tiene_dolor_cabeza\n:   1tiene_perdida_olfato\n:   1tiene_dolor_pecho\n:   1\n\n",
            "text/latex": "\\begin{description*}\n\\item[tiene\\textbackslash{}\\_tos] 1\n\\item[tiene\\textbackslash{}\\_dolor\\textbackslash{}\\_cabeza] 1\n\\item[tiene\\textbackslash{}\\_perdida\\textbackslash{}\\_olfato] 1\n\\item[tiene\\textbackslash{}\\_dolor\\textbackslash{}\\_pecho] 1\n\\end{description*}\n",
            "text/plain": [
              "           tiene_tos   tiene_dolor_cabeza tiene_perdida_olfato \n",
              "                   1                    1                    1 \n",
              "   tiene_dolor_pecho \n",
              "                   1 "
            ]
          },
          "metadata": {}
        }
      ]
    },
    {
      "cell_type": "code",
      "source": [
        "# 2d) ¿Qué síntomas y qué temperatura presentó la persona con id \"h_537\"?\n",
        "\n",
        "sintomas[\"h_537\",]"
      ],
      "metadata": {
        "colab": {
          "base_uri": "https://localhost:8080/",
          "height": 34
        },
        "id": "4HIPHNn1xAGu",
        "outputId": "f1edbf67-6b4a-4c62-951a-c5db9b819abb"
      },
      "execution_count": null,
      "outputs": [
        {
          "output_type": "display_data",
          "data": {
            "text/html": [
              "<style>\n",
              ".dl-inline {width: auto; margin:0; padding: 0}\n",
              ".dl-inline>dt, .dl-inline>dd {float: none; width: auto; display: inline-block}\n",
              ".dl-inline>dt::after {content: \":\\0020\"; padding-right: .5ex}\n",
              ".dl-inline>dt:not(:first-of-type) {padding-left: .5ex}\n",
              "</style><dl class=dl-inline><dt>temperatura</dt><dd>36.6998022307605</dd><dt>tiene_tos</dt><dd>0</dd><dt>tiene_dolor_cabeza</dt><dd>0</dd><dt>tiene_perdida_olfato</dt><dd>0</dd><dt>tiene_dolor_pecho</dt><dd>1</dd></dl>\n"
            ],
            "text/markdown": "temperatura\n:   36.6998022307605tiene_tos\n:   0tiene_dolor_cabeza\n:   0tiene_perdida_olfato\n:   0tiene_dolor_pecho\n:   1\n\n",
            "text/latex": "\\begin{description*}\n\\item[temperatura] 36.6998022307605\n\\item[tiene\\textbackslash{}\\_tos] 0\n\\item[tiene\\textbackslash{}\\_dolor\\textbackslash{}\\_cabeza] 0\n\\item[tiene\\textbackslash{}\\_perdida\\textbackslash{}\\_olfato] 0\n\\item[tiene\\textbackslash{}\\_dolor\\textbackslash{}\\_pecho] 1\n\\end{description*}\n",
            "text/plain": [
              "         temperatura            tiene_tos   tiene_dolor_cabeza \n",
              "             36.6998               0.0000               0.0000 \n",
              "tiene_perdida_olfato    tiene_dolor_pecho \n",
              "              0.0000               1.0000 "
            ]
          },
          "metadata": {}
        }
      ]
    },
    {
      "cell_type": "markdown",
      "metadata": {
        "id": "D9wwbbDiw-lp"
      },
      "source": [
        "## Nota de utilidad\n",
        "\n",
        "Ya sea trabajando con un vector, matriz, data.frame o lista, es posible omitir la selección de alguna(s) de sus posiciones (filas/columnas o slots). Esto se puede llevar a cabo de diversas maneras, por ejemplo:"
      ]
    },
    {
      "cell_type": "code",
      "metadata": {
        "trusted": true,
        "id": "XMx7FDhuw-lp"
      },
      "source": [
        "# Primero creamos un vector, una matriz, un data.frame  y una lista \n",
        "\n",
        "vec <- c(v1 = 1, v2 = 2, v3 = 3,v4 = 4)\n",
        "mat <- cbind(c(1,1),c(2,2),c(3,3),c(4,4) ) ; rownames(mat) <- c(\"f1\",\"f2\"); colnames(mat) <- c(\"c1\",\"c2\",\"c3\",\"c4\")\n",
        "dat <- as.data.frame(mat)\n",
        "lis <- list(s1 = c(1,1), s2 = c(2,2), s3 = c(3,3) , s4 = c(4,4))\n",
        "\n",
        "library (dplyr)"
      ],
      "execution_count": null,
      "outputs": []
    },
    {
      "cell_type": "markdown",
      "metadata": {
        "id": "3GKLXdU6w-lr"
      },
      "source": [
        "### Omisión por posición"
      ]
    },
    {
      "cell_type": "code",
      "metadata": {
        "trusted": true,
        "id": "TEdJr4A2w-lr",
        "colab": {
          "base_uri": "https://localhost:8080/",
          "height": 405
        },
        "outputId": "efb58eb9-abe9-4a87-f7d3-0a969f5ad777"
      },
      "source": [
        "#Si queremos omitir el primer y tercer elmento del vector y la lista\n",
        "vec[-c(1,3)]\n",
        "lis[-c(1,3)]\n",
        "\n",
        "# Misma idea si queremos omitir columnas de una matriz (o data.frame)\n",
        "mat[,-c(1,3)]\n",
        "dat[,-c(1,3)]"
      ],
      "execution_count": null,
      "outputs": [
        {
          "output_type": "display_data",
          "data": {
            "text/html": [
              "<style>\n",
              ".dl-inline {width: auto; margin:0; padding: 0}\n",
              ".dl-inline>dt, .dl-inline>dd {float: none; width: auto; display: inline-block}\n",
              ".dl-inline>dt::after {content: \":\\0020\"; padding-right: .5ex}\n",
              ".dl-inline>dt:not(:first-of-type) {padding-left: .5ex}\n",
              "</style><dl class=dl-inline><dt>v2</dt><dd>2</dd><dt>v4</dt><dd>4</dd></dl>\n"
            ],
            "text/markdown": "v2\n:   2v4\n:   4\n\n",
            "text/latex": "\\begin{description*}\n\\item[v2] 2\n\\item[v4] 4\n\\end{description*}\n",
            "text/plain": [
              "v2 v4 \n",
              " 2  4 "
            ]
          },
          "metadata": {}
        },
        {
          "output_type": "display_data",
          "data": {
            "text/html": [
              "<dl>\n",
              "\t<dt>$s2</dt>\n",
              "\t\t<dd><style>\n",
              ".list-inline {list-style: none; margin:0; padding: 0}\n",
              ".list-inline>li {display: inline-block}\n",
              ".list-inline>li:not(:last-child)::after {content: \"\\00b7\"; padding: 0 .5ex}\n",
              "</style>\n",
              "<ol class=list-inline><li>2</li><li>2</li></ol>\n",
              "</dd>\n",
              "\t<dt>$s4</dt>\n",
              "\t\t<dd><style>\n",
              ".list-inline {list-style: none; margin:0; padding: 0}\n",
              ".list-inline>li {display: inline-block}\n",
              ".list-inline>li:not(:last-child)::after {content: \"\\00b7\"; padding: 0 .5ex}\n",
              "</style>\n",
              "<ol class=list-inline><li>4</li><li>4</li></ol>\n",
              "</dd>\n",
              "</dl>\n"
            ],
            "text/markdown": "$s2\n:   1. 2\n2. 2\n\n\n\n$s4\n:   1. 4\n2. 4\n\n\n\n\n\n",
            "text/latex": "\\begin{description}\n\\item[\\$s2] \\begin{enumerate*}\n\\item 2\n\\item 2\n\\end{enumerate*}\n\n\\item[\\$s4] \\begin{enumerate*}\n\\item 4\n\\item 4\n\\end{enumerate*}\n\n\\end{description}\n",
            "text/plain": [
              "$s2\n",
              "[1] 2 2\n",
              "\n",
              "$s4\n",
              "[1] 4 4\n"
            ]
          },
          "metadata": {}
        },
        {
          "output_type": "display_data",
          "data": {
            "text/html": [
              "<table class=\"dataframe\">\n",
              "<caption>A matrix: 2 × 2 of type dbl</caption>\n",
              "<thead>\n",
              "\t<tr><th></th><th scope=col>c2</th><th scope=col>c4</th></tr>\n",
              "</thead>\n",
              "<tbody>\n",
              "\t<tr><th scope=row>f1</th><td>2</td><td>4</td></tr>\n",
              "\t<tr><th scope=row>f2</th><td>2</td><td>4</td></tr>\n",
              "</tbody>\n",
              "</table>\n"
            ],
            "text/markdown": "\nA matrix: 2 × 2 of type dbl\n\n| <!--/--> | c2 | c4 |\n|---|---|---|\n| f1 | 2 | 4 |\n| f2 | 2 | 4 |\n\n",
            "text/latex": "A matrix: 2 × 2 of type dbl\n\\begin{tabular}{r|ll}\n  & c2 & c4\\\\\n\\hline\n\tf1 & 2 & 4\\\\\n\tf2 & 2 & 4\\\\\n\\end{tabular}\n",
            "text/plain": [
              "   c2 c4\n",
              "f1 2  4 \n",
              "f2 2  4 "
            ]
          },
          "metadata": {}
        },
        {
          "output_type": "display_data",
          "data": {
            "text/html": [
              "<table class=\"dataframe\">\n",
              "<caption>A data.frame: 2 × 2</caption>\n",
              "<thead>\n",
              "\t<tr><th></th><th scope=col>c2</th><th scope=col>c4</th></tr>\n",
              "\t<tr><th></th><th scope=col>&lt;dbl&gt;</th><th scope=col>&lt;dbl&gt;</th></tr>\n",
              "</thead>\n",
              "<tbody>\n",
              "\t<tr><th scope=row>f1</th><td>2</td><td>4</td></tr>\n",
              "\t<tr><th scope=row>f2</th><td>2</td><td>4</td></tr>\n",
              "</tbody>\n",
              "</table>\n"
            ],
            "text/markdown": "\nA data.frame: 2 × 2\n\n| <!--/--> | c2 &lt;dbl&gt; | c4 &lt;dbl&gt; |\n|---|---|---|\n| f1 | 2 | 4 |\n| f2 | 2 | 4 |\n\n",
            "text/latex": "A data.frame: 2 × 2\n\\begin{tabular}{r|ll}\n  & c2 & c4\\\\\n  & <dbl> & <dbl>\\\\\n\\hline\n\tf1 & 2 & 4\\\\\n\tf2 & 2 & 4\\\\\n\\end{tabular}\n",
            "text/plain": [
              "   c2 c4\n",
              "f1 2  4 \n",
              "f2 2  4 "
            ]
          },
          "metadata": {}
        }
      ]
    },
    {
      "cell_type": "markdown",
      "metadata": {
        "id": "R1-ir6Utw-lt"
      },
      "source": [
        "### Omisión por nombres"
      ]
    },
    {
      "cell_type": "code",
      "metadata": {
        "trusted": true,
        "id": "5JOWR5Isw-lu",
        "colab": {
          "base_uri": "https://localhost:8080/",
          "height": 405
        },
        "outputId": "978ffe5f-403e-4871-e00a-59f0569008aa"
      },
      "source": [
        "# Por ahora tendremos que ubicar las posiciones de los nombres deseados.\n",
        "\n",
        "pos_vec <- which(names(vec) %in% c(\"v1\",\"v3\"))\n",
        "pos_lis <- which(names(lis) %in% c(\"s1\",\"s3\"))\n",
        "pos_mat <- which(colnames(mat) %in% c(\"c1\",\"c3\"))\n",
        "pos_dat <- which(names(dat) %in% c(\"c1\",\"c3\"))\n",
        "\n",
        "vec[-pos_vec]\n",
        "lis[-pos_lis]\n",
        "\n",
        "# Misma idea si queremos omitir columnas de una matriz (o data.frame)\n",
        "mat[,-pos_mat]\n",
        "dat[,-pos_dat]"
      ],
      "execution_count": null,
      "outputs": [
        {
          "output_type": "display_data",
          "data": {
            "text/html": [
              "<style>\n",
              ".dl-inline {width: auto; margin:0; padding: 0}\n",
              ".dl-inline>dt, .dl-inline>dd {float: none; width: auto; display: inline-block}\n",
              ".dl-inline>dt::after {content: \":\\0020\"; padding-right: .5ex}\n",
              ".dl-inline>dt:not(:first-of-type) {padding-left: .5ex}\n",
              "</style><dl class=dl-inline><dt>v2</dt><dd>2</dd><dt>v4</dt><dd>4</dd></dl>\n"
            ],
            "text/markdown": "v2\n:   2v4\n:   4\n\n",
            "text/latex": "\\begin{description*}\n\\item[v2] 2\n\\item[v4] 4\n\\end{description*}\n",
            "text/plain": [
              "v2 v4 \n",
              " 2  4 "
            ]
          },
          "metadata": {}
        },
        {
          "output_type": "display_data",
          "data": {
            "text/html": [
              "<dl>\n",
              "\t<dt>$s2</dt>\n",
              "\t\t<dd><style>\n",
              ".list-inline {list-style: none; margin:0; padding: 0}\n",
              ".list-inline>li {display: inline-block}\n",
              ".list-inline>li:not(:last-child)::after {content: \"\\00b7\"; padding: 0 .5ex}\n",
              "</style>\n",
              "<ol class=list-inline><li>2</li><li>2</li></ol>\n",
              "</dd>\n",
              "\t<dt>$s4</dt>\n",
              "\t\t<dd><style>\n",
              ".list-inline {list-style: none; margin:0; padding: 0}\n",
              ".list-inline>li {display: inline-block}\n",
              ".list-inline>li:not(:last-child)::after {content: \"\\00b7\"; padding: 0 .5ex}\n",
              "</style>\n",
              "<ol class=list-inline><li>4</li><li>4</li></ol>\n",
              "</dd>\n",
              "</dl>\n"
            ],
            "text/markdown": "$s2\n:   1. 2\n2. 2\n\n\n\n$s4\n:   1. 4\n2. 4\n\n\n\n\n\n",
            "text/latex": "\\begin{description}\n\\item[\\$s2] \\begin{enumerate*}\n\\item 2\n\\item 2\n\\end{enumerate*}\n\n\\item[\\$s4] \\begin{enumerate*}\n\\item 4\n\\item 4\n\\end{enumerate*}\n\n\\end{description}\n",
            "text/plain": [
              "$s2\n",
              "[1] 2 2\n",
              "\n",
              "$s4\n",
              "[1] 4 4\n"
            ]
          },
          "metadata": {}
        },
        {
          "output_type": "display_data",
          "data": {
            "text/html": [
              "<table class=\"dataframe\">\n",
              "<caption>A matrix: 2 × 2 of type dbl</caption>\n",
              "<thead>\n",
              "\t<tr><th></th><th scope=col>c2</th><th scope=col>c4</th></tr>\n",
              "</thead>\n",
              "<tbody>\n",
              "\t<tr><th scope=row>f1</th><td>2</td><td>4</td></tr>\n",
              "\t<tr><th scope=row>f2</th><td>2</td><td>4</td></tr>\n",
              "</tbody>\n",
              "</table>\n"
            ],
            "text/markdown": "\nA matrix: 2 × 2 of type dbl\n\n| <!--/--> | c2 | c4 |\n|---|---|---|\n| f1 | 2 | 4 |\n| f2 | 2 | 4 |\n\n",
            "text/latex": "A matrix: 2 × 2 of type dbl\n\\begin{tabular}{r|ll}\n  & c2 & c4\\\\\n\\hline\n\tf1 & 2 & 4\\\\\n\tf2 & 2 & 4\\\\\n\\end{tabular}\n",
            "text/plain": [
              "   c2 c4\n",
              "f1 2  4 \n",
              "f2 2  4 "
            ]
          },
          "metadata": {}
        },
        {
          "output_type": "display_data",
          "data": {
            "text/html": [
              "<table class=\"dataframe\">\n",
              "<caption>A data.frame: 2 × 2</caption>\n",
              "<thead>\n",
              "\t<tr><th></th><th scope=col>c2</th><th scope=col>c4</th></tr>\n",
              "\t<tr><th></th><th scope=col>&lt;dbl&gt;</th><th scope=col>&lt;dbl&gt;</th></tr>\n",
              "</thead>\n",
              "<tbody>\n",
              "\t<tr><th scope=row>f1</th><td>2</td><td>4</td></tr>\n",
              "\t<tr><th scope=row>f2</th><td>2</td><td>4</td></tr>\n",
              "</tbody>\n",
              "</table>\n"
            ],
            "text/markdown": "\nA data.frame: 2 × 2\n\n| <!--/--> | c2 &lt;dbl&gt; | c4 &lt;dbl&gt; |\n|---|---|---|\n| f1 | 2 | 4 |\n| f2 | 2 | 4 |\n\n",
            "text/latex": "A data.frame: 2 × 2\n\\begin{tabular}{r|ll}\n  & c2 & c4\\\\\n  & <dbl> & <dbl>\\\\\n\\hline\n\tf1 & 2 & 4\\\\\n\tf2 & 2 & 4\\\\\n\\end{tabular}\n",
            "text/plain": [
              "   c2 c4\n",
              "f1 2  4 \n",
              "f2 2  4 "
            ]
          },
          "metadata": {}
        }
      ]
    },
    {
      "cell_type": "markdown",
      "metadata": {
        "id": "yMUBRR53w-lw"
      },
      "source": [
        "Más adelante veremos otras alternivas, como por ejemplo, utilizando funciones del package `dplyr`.\n",
        "\n",
        "## Pregunta 2.3\n",
        "\n",
        "Con la ayuda de las funciones `rowSums()` y `colSums()`, identifique lo siguiente.\n",
        "\n",
        "  **3a) (3pt)** ¿Cuántos registros presentaron exactamente los 4 síntomas?<br>\n",
        "  **3b) (1pt)** ¿Cúantas personas presentaron tos? <br>\n",
        "  **3c) (2pt)** ¿Cuál es el síntoma más frecuente?<br>\n",
        "  "
      ]
    },
    {
      "cell_type": "code",
      "metadata": {
        "trusted": true,
        "id": "-2-rqq3mw-lw",
        "colab": {
          "base_uri": "https://localhost:8080/",
          "height": 129
        },
        "outputId": "cba2bac6-cb7b-4614-d6fa-4c0d3cef7e16"
      },
      "source": [
        "# P3\n",
        "##Respuestas:\n",
        "\n",
        "# 3a) ¿Cuántos registros presentaron exactamente los 4 síntomas?\n",
        "\n",
        "cant_sint <- data.frame(id = names(rowSums(sintomas[ ,2:5])), total_sint = rowSums(sintomas[ ,2:5]))\n",
        "filter(count(cant_sint, total_sint), total_sint == 4)"
      ],
      "execution_count": null,
      "outputs": [
        {
          "output_type": "display_data",
          "data": {
            "text/html": [
              "<table class=\"dataframe\">\n",
              "<caption>A data.frame: 1 × 2</caption>\n",
              "<thead>\n",
              "\t<tr><th scope=col>total_sint</th><th scope=col>n</th></tr>\n",
              "\t<tr><th scope=col>&lt;dbl&gt;</th><th scope=col>&lt;int&gt;</th></tr>\n",
              "</thead>\n",
              "<tbody>\n",
              "\t<tr><td>4</td><td>229</td></tr>\n",
              "</tbody>\n",
              "</table>\n"
            ],
            "text/markdown": "\nA data.frame: 1 × 2\n\n| total_sint &lt;dbl&gt; | n &lt;int&gt; |\n|---|---|\n| 4 | 229 |\n\n",
            "text/latex": "A data.frame: 1 × 2\n\\begin{tabular}{ll}\n total\\_sint & n\\\\\n <dbl> & <int>\\\\\n\\hline\n\t 4 & 229\\\\\n\\end{tabular}\n",
            "text/plain": [
              "  total_sint n  \n",
              "1 4          229"
            ]
          },
          "metadata": {}
        }
      ]
    },
    {
      "cell_type": "code",
      "source": [
        "# 3b) ¿Cúantas personas presentaron tos?\n",
        "\n",
        "filter(count(sintomas, tiene_tos), tiene_tos == 1)"
      ],
      "metadata": {
        "colab": {
          "base_uri": "https://localhost:8080/",
          "height": 151
        },
        "id": "VPlUMSJ5MlbL",
        "outputId": "353c98ea-ec05-41b9-bca6-28e89ff578ad"
      },
      "execution_count": null,
      "outputs": [
        {
          "output_type": "error",
          "ename": "ERROR",
          "evalue": "ignored",
          "traceback": [
            "Error in UseMethod(\"count\"): no applicable method for 'count' applied to an object of class \"c('matrix', 'array', 'double', 'numeric')\"\nTraceback:\n",
            "1. filter(count(sintomas, tiene_tos), tiene_tos == 1)",
            "2. count(sintomas, tiene_tos)"
          ]
        }
      ]
    },
    {
      "cell_type": "code",
      "source": [
        "# 3c) ¿Cuál es el síntoma más frecuente?\n",
        "\n",
        "data.frame(colSums (sintomas[ , 2:5]), colnames(sintomas[ , 2:5]))\n",
        "max(colSums (sintomas[ , 2:5]))\n"
      ],
      "metadata": {
        "id": "UPTbRWl7MrEp"
      },
      "execution_count": null,
      "outputs": []
    },
    {
      "cell_type": "markdown",
      "metadata": {
        "id": "faytFSoKw-ly"
      },
      "source": [
        "## Pregunta 2.4\n",
        "\n",
        "**4a) (1pt)** La función `as.data.frame()` permite coercionar un objeto de otra clase a `data.frame`.\n",
        "cree una variable llamada `sintomas_df` con la información  de sintomas pero como data.frame.<br>\n",
        "**4b) (1pts)**\n",
        "Se puede observar que los ids solo están disponibles en los nombres de las filas. Sin embargo esútil tener esta información como una columna más de la tabla. Para ello **cree una nueva columna en la tabla sintomas_df** llamada `id` que contenga los ids de cada registro. \n",
        "\n",
        "NOTA: El orden de las filas no ha variado por lo que podemos añadir la columna sin mayores precauciones.<br>\n",
        "**4c) (2pts)** ¿Cuántas personas **sólo** presentaron tos y dolor de cabeza?<br>\n",
        "**4d) (1pt)** Se sabe que una persona tiene fiebre cuando su temperatura es mayor o igual a los 37.2°. **Cree una nueva columna en la tabla sintomas_df** llamada `tiene_fiebre` que contenga `TRUE` cuando tiene fiebre y `FALSE` en caso contrario. \n",
        "\n"
      ]
    },
    {
      "cell_type": "code",
      "metadata": {
        "trusted": true,
        "id": "HKt66rfow-lz"
      },
      "source": [
        "# P4\n",
        "#Respuestas\n",
        "\n",
        "# 4a) Cree una variable llamada sintomas_df con la información de sintomas pero como data.frame.\n",
        "\n",
        "sintomas_df <- as.data.frame(sintomas)\n",
        "class(sintomas_df)\n"
      ],
      "execution_count": null,
      "outputs": []
    },
    {
      "cell_type": "code",
      "source": [
        "# 4b) Para ello cree una nueva columna en la tabla sintomas_df llamada id que contenga los ids de cada registro.\n",
        "\n",
        "sintomas_df <- mutate(sintomas_df, id = row.names.data.frame(sintomas_df))\n",
        "sintomas_df"
      ],
      "metadata": {
        "id": "oDnQDj4xdb4I"
      },
      "execution_count": null,
      "outputs": []
    },
    {
      "cell_type": "code",
      "source": [
        "# 4c) ¿Cuántas personas sólo presentaron tos y dolor de cabeza?\n",
        "\n",
        "amb_sint <- data.frame(id = names(rowSums(sintomas_df[ ,2:3])), total_sint = rowSums(sintomas_df[ ,2:3]))\n",
        "filter(count(amb_sint, total_sint), total_sint == 2)"
      ],
      "metadata": {
        "id": "Ttf7oyg8dl2q"
      },
      "execution_count": null,
      "outputs": []
    },
    {
      "cell_type": "code",
      "source": [
        "# 4d) Cree una nueva columna en la tabla sintomas_df llamada tiene_fiebre que contenga TRUE cuando tiene fiebre y FALSE en caso contrario.\n",
        "\n",
        "temp <- sintomas_df$temperatura >= 37.2\n",
        "sintomas_df <- mutate(sintomas_df, tiene_fiebre = temp)\n",
        "\n",
        "sintomas_df"
      ],
      "metadata": {
        "id": "OieVqeqCdqOE"
      },
      "execution_count": null,
      "outputs": []
    }
  ]
}